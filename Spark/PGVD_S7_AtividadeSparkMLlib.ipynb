{
  "cells": [
    {
      "cell_type": "markdown",
      "metadata": {
        "id": "yP3YzSka-Y5X"
      },
      "source": [
        "#Disciplina: Processamento de Grandes Volumes de Dados\n",
        "\n",
        "Prof. Francisco Pereira Junior\n",
        "\n",
        "Profa. Rosangela Marquesone"
      ]
    },
    {
      "cell_type": "markdown",
      "metadata": {
        "id": "3Px8TMS76VlS"
      },
      "source": [
        "O objetivo desse notebook é apresentar exemplos de aplicação do MLLib, para o processamento de modelos de aprendizado de máquina.\n",
        "\n",
        "Para isso, os seguintes exemplos serão apresentados:\n",
        "\n",
        "- Instalação e configuração do Apache Spark\n",
        "- Utilização do MLLib para algoritmos de regressão logística\n",
        "- Utilização do MLLib para algoritmos de clusterização com K-Means"
      ]
    },
    {
      "cell_type": "markdown",
      "metadata": {
        "id": "oIT11nS83ssp"
      },
      "source": [
        "## Parte I - Instalando o Spark"
      ]
    },
    {
      "cell_type": "markdown",
      "metadata": {
        "id": "NXF9a3O8-sUG"
      },
      "source": [
        "### Fazendo o download do Java"
      ]
    },
    {
      "cell_type": "code",
      "execution_count": null,
      "metadata": {
        "id": "L4TQ97HY-wD7"
      },
      "outputs": [],
      "source": [
        "#download do Java\n",
        "!apt-get install openjdk-8-jdk-headless -qq > /dev/null"
      ]
    },
    {
      "cell_type": "markdown",
      "metadata": {
        "id": "x9wXoNSL-zQX"
      },
      "source": [
        "### Fazendo o download do spark"
      ]
    },
    {
      "cell_type": "code",
      "execution_count": null,
      "metadata": {
        "colab": {
          "base_uri": "https://localhost:8080/"
        },
        "id": "-pt1bFdP_Lxc",
        "outputId": "7f59061f-c852-4244-946b-8ffc15b46afa"
      },
      "outputs": [
        {
          "output_type": "stream",
          "name": "stdout",
          "text": [
            "--2022-05-13 14:10:13--  https://archive.apache.org/dist/spark/spark-2.4.7/spark-2.4.7-bin-hadoop2.7.tgz\n",
            "Resolving archive.apache.org (archive.apache.org)... 138.201.131.134, 2a01:4f8:172:2ec5::2\n",
            "Connecting to archive.apache.org (archive.apache.org)|138.201.131.134|:443... connected.\n",
            "HTTP request sent, awaiting response... 200 OK\n",
            "Length: 233333392 (223M) [application/x-gzip]\n",
            "Saving to: ‘spark-2.4.7-bin-hadoop2.7.tgz’\n",
            "\n",
            "spark-2.4.7-bin-had 100%[===================>] 222.52M  24.0MB/s    in 21s     \n",
            "\n",
            "2022-05-13 14:10:35 (10.4 MB/s) - ‘spark-2.4.7-bin-hadoop2.7.tgz’ saved [233333392/233333392]\n",
            "\n"
          ]
        }
      ],
      "source": [
        "#download do spark\n",
        "!wget https://archive.apache.org/dist/spark/spark-2.4.7/spark-2.4.7-bin-hadoop2.7.tgz"
      ]
    },
    {
      "cell_type": "markdown",
      "metadata": {
        "id": "ijArQo9V1eVM"
      },
      "source": [
        "### Descompactando o Spark"
      ]
    },
    {
      "cell_type": "code",
      "execution_count": null,
      "metadata": {
        "id": "BDxdYpQD-9Aq"
      },
      "outputs": [],
      "source": [
        "#descompactando o spark\n",
        "!tar -xf /content/spark-2.4.7-bin-hadoop2.7.tgz"
      ]
    },
    {
      "cell_type": "markdown",
      "metadata": {
        "id": "v7_MTSE9-2pb"
      },
      "source": [
        "### Instalando o findspark"
      ]
    },
    {
      "cell_type": "markdown",
      "metadata": {
        "id": "E0p28Svu26re"
      },
      "source": [
        "A biblioteca findspark é utilizada para realizar a configuração do pyspark."
      ]
    },
    {
      "cell_type": "code",
      "execution_count": null,
      "metadata": {
        "id": "ZCDv5VEE-65T"
      },
      "outputs": [],
      "source": [
        "#instalando o findspark\n",
        "!pip install -q findspark"
      ]
    },
    {
      "cell_type": "code",
      "execution_count": null,
      "metadata": {
        "id": "s0x9pFsxBCDu"
      },
      "outputs": [],
      "source": [
        "#importando as bilbiotecas\n",
        "import findspark\n",
        "import os"
      ]
    },
    {
      "cell_type": "code",
      "execution_count": null,
      "metadata": {
        "id": "ZXrAKeIQ_oEv"
      },
      "outputs": [],
      "source": [
        "#configurando a variável de ambiente do Java\n",
        "os.environ[\"JAVA_HOME\"] = \"/usr/lib/jvm/java-8-openjdk-amd64\"\n",
        "os.environ[\"SPARK_HOME\"] = \"/content/spark-2.4.7-bin-hadoop2.7\""
      ]
    },
    {
      "cell_type": "code",
      "execution_count": null,
      "metadata": {
        "id": "UJzNfSBa3L8U"
      },
      "outputs": [],
      "source": [
        "#configurando a variável de ambiente do Spark\n",
        "os.environ[\"SPARK_HOME\"] = \"/content/spark-2.4.7-bin-hadoop2.7\""
      ]
    },
    {
      "cell_type": "code",
      "execution_count": null,
      "metadata": {
        "id": "u4u78je3_4dS"
      },
      "outputs": [],
      "source": [
        "#informando a pasta raíz do spark\n",
        "findspark.init(\"spark-2.4.7-bin-hadoop2.7\")"
      ]
    },
    {
      "cell_type": "markdown",
      "metadata": {
        "id": "76oTn8lF3Y_j"
      },
      "source": [
        "### Iniciando uma sessão do spark em modo local"
      ]
    },
    {
      "cell_type": "code",
      "execution_count": null,
      "metadata": {
        "id": "8u7o0fidBKsi"
      },
      "outputs": [],
      "source": [
        "#iniciando uma sessão do Spark\n",
        "from pyspark.sql import SparkSession\n",
        "spark = SparkSession.builder.master(\"local[*]\").getOrCreate()"
      ]
    },
    {
      "cell_type": "code",
      "execution_count": null,
      "metadata": {
        "id": "tChEokHfriAw"
      },
      "outputs": [],
      "source": [
        "#importando as bibliotecas do spark e do pandas\n",
        "from pyspark import SparkContext\n",
        "from pyspark.sql import SQLContext\n",
        "import pandas as pd"
      ]
    },
    {
      "cell_type": "code",
      "execution_count": null,
      "metadata": {
        "id": "kNZVVCCFBRai"
      },
      "outputs": [],
      "source": [
        "#iniciando o objeto SQLContext\n",
        "sc = SparkContext.getOrCreate()\n",
        "sqlContext = SQLContext(sc)"
      ]
    },
    {
      "cell_type": "markdown",
      "metadata": {
        "id": "4frG3F7z3zxC"
      },
      "source": [
        "## Parte II - Utilizando o Spark MLLib para Regressão Logística"
      ]
    },
    {
      "cell_type": "markdown",
      "metadata": {
        "id": "LXPTaKxUMpWA"
      },
      "source": [
        "Nesse exemplo utilizaremos uma base de dados de uma operadora de telecomunicação, com o objetivo de prever o churn, ou seja, a desistência do usuário em um serviço.\n",
        "\n",
        "Para essa atividade, utilizaremos o algoritmo de regressão logística, disponibilizado pelo Spark MLLib."
      ]
    },
    {
      "cell_type": "markdown",
      "metadata": {
        "id": "jMGH6CGg347C"
      },
      "source": [
        "### Fazendo o download de dados"
      ]
    },
    {
      "cell_type": "markdown",
      "metadata": {
        "id": "tAtQJfKnCv2a"
      },
      "source": [
        "Link para download do dataset: https://raw.githubusercontent.com/bensadeghi/pyspark-churn-prediction/master/data/churn-bigml-80.csv"
      ]
    },
    {
      "cell_type": "markdown",
      "metadata": {
        "id": "LqRvEfYNdLl-"
      },
      "source": [
        "### Carregando o dataset"
      ]
    },
    {
      "cell_type": "code",
      "execution_count": null,
      "metadata": {
        "colab": {
          "base_uri": "https://localhost:8080/"
        },
        "id": "0_BNY1vcB8_B",
        "outputId": "d7886dc6-339d-47eb-aa09-6fb85524c9f2"
      },
      "outputs": [
        {
          "output_type": "stream",
          "name": "stdout",
          "text": [
            "--2022-05-13 13:44:17--  https://raw.githubusercontent.com/bensadeghi/pyspark-churn-prediction/master/data/churn-bigml-80.csv\n",
            "Resolving raw.githubusercontent.com (raw.githubusercontent.com)... 185.199.108.133, 185.199.109.133, 185.199.110.133, ...\n",
            "Connecting to raw.githubusercontent.com (raw.githubusercontent.com)|185.199.108.133|:443... connected.\n",
            "HTTP request sent, awaiting response... 200 OK\n",
            "Length: 223998 (219K) [text/plain]\n",
            "Saving to: ‘churn-bigml-80.csv’\n",
            "\n",
            "\rchurn-bigml-80.csv    0%[                    ]       0  --.-KB/s               \rchurn-bigml-80.csv  100%[===================>] 218.75K  --.-KB/s    in 0.03s   \n",
            "\n",
            "2022-05-13 13:44:17 (8.24 MB/s) - ‘churn-bigml-80.csv’ saved [223998/223998]\n",
            "\n"
          ]
        }
      ],
      "source": [
        "#realizando o download dos dados\n",
        "!wget https://raw.githubusercontent.com/bensadeghi/pyspark-churn-prediction/master/data/churn-bigml-80.csv"
      ]
    },
    {
      "cell_type": "code",
      "execution_count": null,
      "metadata": {
        "id": "d1gV5e2OqqKs"
      },
      "outputs": [],
      "source": [
        "#carregando o dataset\n",
        "df_train = sqlContext.read.load('churn-bigml-80.csv',\n",
        "                               format='csv',\n",
        "                               header='true',\n",
        "                               inferSchema='true')"
      ]
    },
    {
      "cell_type": "markdown",
      "metadata": {
        "id": "Rwf13TteNwKL"
      },
      "source": [
        "Uma das estratégias ofertadas pelo Spark, com foco em aumentar o desempenho da execução de operações sobre os dados é o método cache(), que permite guardar em memória os resultados dos dados obtidos por operações, para serem utilizados em consultas posteriores."
      ]
    },
    {
      "cell_type": "code",
      "execution_count": null,
      "metadata": {
        "colab": {
          "base_uri": "https://localhost:8080/"
        },
        "id": "fJSgy4N7fwC0",
        "outputId": "787eb4e0-bac1-4727-fe76-1da69072562b"
      },
      "outputs": [
        {
          "data": {
            "text/plain": [
              "DataFrame[State: string, Account length: int, Area code: int, International plan: string, Voice mail plan: string, Number vmail messages: int, Total day minutes: double, Total day calls: int, Total day charge: double, Total eve minutes: double, Total eve calls: int, Total eve charge: double, Total night minutes: double, Total night calls: int, Total night charge: double, Total intl minutes: double, Total intl calls: int, Total intl charge: double, Customer service calls: int, Churn: boolean]"
            ]
          },
          "execution_count": 27,
          "metadata": {
            "tags": []
          },
          "output_type": "execute_result"
        }
      ],
      "source": [
        "#criando um cache dos dados\n",
        "df_train.cache()"
      ]
    },
    {
      "cell_type": "markdown",
      "metadata": {
        "id": "KRJoyoLl4OsG"
      },
      "source": [
        "### Análise exploratória dos dados"
      ]
    },
    {
      "cell_type": "code",
      "execution_count": null,
      "metadata": {
        "colab": {
          "base_uri": "https://localhost:8080/"
        },
        "id": "6yzXoe1Otjp6",
        "outputId": "f7073599-6647-4d0e-8f67-1ac34f07bdb5"
      },
      "outputs": [
        {
          "name": "stdout",
          "output_type": "stream",
          "text": [
            "root\n",
            " |-- State: string (nullable = true)\n",
            " |-- Account length: integer (nullable = true)\n",
            " |-- Area code: integer (nullable = true)\n",
            " |-- International plan: string (nullable = true)\n",
            " |-- Voice mail plan: string (nullable = true)\n",
            " |-- Number vmail messages: integer (nullable = true)\n",
            " |-- Total day minutes: double (nullable = true)\n",
            " |-- Total day calls: integer (nullable = true)\n",
            " |-- Total day charge: double (nullable = true)\n",
            " |-- Total eve minutes: double (nullable = true)\n",
            " |-- Total eve calls: integer (nullable = true)\n",
            " |-- Total eve charge: double (nullable = true)\n",
            " |-- Total night minutes: double (nullable = true)\n",
            " |-- Total night calls: integer (nullable = true)\n",
            " |-- Total night charge: double (nullable = true)\n",
            " |-- Total intl minutes: double (nullable = true)\n",
            " |-- Total intl calls: integer (nullable = true)\n",
            " |-- Total intl charge: double (nullable = true)\n",
            " |-- Customer service calls: integer (nullable = true)\n",
            " |-- Churn: boolean (nullable = true)\n",
            "\n"
          ]
        }
      ],
      "source": [
        "#visualizando o schema dos dados\n",
        "df_train.printSchema()"
      ]
    },
    {
      "cell_type": "code",
      "execution_count": null,
      "metadata": {
        "colab": {
          "base_uri": "https://localhost:8080/",
          "height": 261
        },
        "id": "-12hx2gjt94v",
        "outputId": "30e8c176-23e7-4498-8685-b15e44256e99"
      },
      "outputs": [
        {
          "data": {
            "text/html": [
              "<div>\n",
              "<style scoped>\n",
              "    .dataframe tbody tr th:only-of-type {\n",
              "        vertical-align: middle;\n",
              "    }\n",
              "\n",
              "    .dataframe tbody tr th {\n",
              "        vertical-align: top;\n",
              "    }\n",
              "\n",
              "    .dataframe thead th {\n",
              "        text-align: right;\n",
              "    }\n",
              "</style>\n",
              "<table border=\"1\" class=\"dataframe\">\n",
              "  <thead>\n",
              "    <tr style=\"text-align: right;\">\n",
              "      <th></th>\n",
              "      <th>State</th>\n",
              "      <th>Account length</th>\n",
              "      <th>Area code</th>\n",
              "      <th>International plan</th>\n",
              "      <th>Voice mail plan</th>\n",
              "      <th>Number vmail messages</th>\n",
              "      <th>Total day minutes</th>\n",
              "      <th>Total day calls</th>\n",
              "      <th>Total day charge</th>\n",
              "      <th>Total eve minutes</th>\n",
              "      <th>Total eve calls</th>\n",
              "      <th>Total eve charge</th>\n",
              "      <th>Total night minutes</th>\n",
              "      <th>Total night calls</th>\n",
              "      <th>Total night charge</th>\n",
              "      <th>Total intl minutes</th>\n",
              "      <th>Total intl calls</th>\n",
              "      <th>Total intl charge</th>\n",
              "      <th>Customer service calls</th>\n",
              "      <th>Churn</th>\n",
              "    </tr>\n",
              "  </thead>\n",
              "  <tbody>\n",
              "    <tr>\n",
              "      <th>0</th>\n",
              "      <td>KS</td>\n",
              "      <td>128</td>\n",
              "      <td>415</td>\n",
              "      <td>No</td>\n",
              "      <td>Yes</td>\n",
              "      <td>25</td>\n",
              "      <td>265.1</td>\n",
              "      <td>110</td>\n",
              "      <td>45.07</td>\n",
              "      <td>197.4</td>\n",
              "      <td>99</td>\n",
              "      <td>16.78</td>\n",
              "      <td>244.7</td>\n",
              "      <td>91</td>\n",
              "      <td>11.01</td>\n",
              "      <td>10.0</td>\n",
              "      <td>3</td>\n",
              "      <td>2.70</td>\n",
              "      <td>1</td>\n",
              "      <td>False</td>\n",
              "    </tr>\n",
              "    <tr>\n",
              "      <th>1</th>\n",
              "      <td>OH</td>\n",
              "      <td>107</td>\n",
              "      <td>415</td>\n",
              "      <td>No</td>\n",
              "      <td>Yes</td>\n",
              "      <td>26</td>\n",
              "      <td>161.6</td>\n",
              "      <td>123</td>\n",
              "      <td>27.47</td>\n",
              "      <td>195.5</td>\n",
              "      <td>103</td>\n",
              "      <td>16.62</td>\n",
              "      <td>254.4</td>\n",
              "      <td>103</td>\n",
              "      <td>11.45</td>\n",
              "      <td>13.7</td>\n",
              "      <td>3</td>\n",
              "      <td>3.70</td>\n",
              "      <td>1</td>\n",
              "      <td>False</td>\n",
              "    </tr>\n",
              "    <tr>\n",
              "      <th>2</th>\n",
              "      <td>NJ</td>\n",
              "      <td>137</td>\n",
              "      <td>415</td>\n",
              "      <td>No</td>\n",
              "      <td>No</td>\n",
              "      <td>0</td>\n",
              "      <td>243.4</td>\n",
              "      <td>114</td>\n",
              "      <td>41.38</td>\n",
              "      <td>121.2</td>\n",
              "      <td>110</td>\n",
              "      <td>10.30</td>\n",
              "      <td>162.6</td>\n",
              "      <td>104</td>\n",
              "      <td>7.32</td>\n",
              "      <td>12.2</td>\n",
              "      <td>5</td>\n",
              "      <td>3.29</td>\n",
              "      <td>0</td>\n",
              "      <td>False</td>\n",
              "    </tr>\n",
              "    <tr>\n",
              "      <th>3</th>\n",
              "      <td>OH</td>\n",
              "      <td>84</td>\n",
              "      <td>408</td>\n",
              "      <td>Yes</td>\n",
              "      <td>No</td>\n",
              "      <td>0</td>\n",
              "      <td>299.4</td>\n",
              "      <td>71</td>\n",
              "      <td>50.90</td>\n",
              "      <td>61.9</td>\n",
              "      <td>88</td>\n",
              "      <td>5.26</td>\n",
              "      <td>196.9</td>\n",
              "      <td>89</td>\n",
              "      <td>8.86</td>\n",
              "      <td>6.6</td>\n",
              "      <td>7</td>\n",
              "      <td>1.78</td>\n",
              "      <td>2</td>\n",
              "      <td>False</td>\n",
              "    </tr>\n",
              "    <tr>\n",
              "      <th>4</th>\n",
              "      <td>OK</td>\n",
              "      <td>75</td>\n",
              "      <td>415</td>\n",
              "      <td>Yes</td>\n",
              "      <td>No</td>\n",
              "      <td>0</td>\n",
              "      <td>166.7</td>\n",
              "      <td>113</td>\n",
              "      <td>28.34</td>\n",
              "      <td>148.3</td>\n",
              "      <td>122</td>\n",
              "      <td>12.61</td>\n",
              "      <td>186.9</td>\n",
              "      <td>121</td>\n",
              "      <td>8.41</td>\n",
              "      <td>10.1</td>\n",
              "      <td>3</td>\n",
              "      <td>2.73</td>\n",
              "      <td>3</td>\n",
              "      <td>False</td>\n",
              "    </tr>\n",
              "  </tbody>\n",
              "</table>\n",
              "</div>"
            ],
            "text/plain": [
              "  State  Account length  ...  Customer service calls  Churn\n",
              "0    KS             128  ...                       1  False\n",
              "1    OH             107  ...                       1  False\n",
              "2    NJ             137  ...                       0  False\n",
              "3    OH              84  ...                       2  False\n",
              "4    OK              75  ...                       3  False\n",
              "\n",
              "[5 rows x 20 columns]"
            ]
          },
          "execution_count": 29,
          "metadata": {
            "tags": []
          },
          "output_type": "execute_result"
        }
      ],
      "source": [
        "#visualizando os top n registros utilizando o Pandas\n",
        "pd.DataFrame(df_train.take(5), columns=df_train.columns)"
      ]
    },
    {
      "cell_type": "markdown",
      "metadata": {
        "id": "sjIo2RpSgmDI"
      },
      "source": [
        "### Verificando quantas observações existem em cada categoria"
      ]
    },
    {
      "cell_type": "code",
      "execution_count": null,
      "metadata": {
        "colab": {
          "base_uri": "https://localhost:8080/"
        },
        "id": "cgeH4GBqgh8q",
        "outputId": "118c494d-953d-4aab-edac-9da06b62c7e9"
      },
      "outputs": [
        {
          "name": "stdout",
          "output_type": "stream",
          "text": [
            "+-----+-----+\n",
            "|Churn|count|\n",
            "+-----+-----+\n",
            "| true|  388|\n",
            "|false| 2278|\n",
            "+-----+-----+\n",
            "\n"
          ]
        }
      ],
      "source": [
        "#verificando a quantidade de observações em cada amostra\n",
        "df_train.groupBy('Churn').count().show()"
      ]
    },
    {
      "cell_type": "markdown",
      "metadata": {
        "id": "-D87a1H0g1Qb"
      },
      "source": [
        "### Verificando as estatísticas das colunas"
      ]
    },
    {
      "cell_type": "code",
      "execution_count": null,
      "metadata": {
        "colab": {
          "base_uri": "https://localhost:8080/",
          "height": 676
        },
        "id": "a-kkxue8uGOw",
        "outputId": "dc8a0d17-60fc-4c24-cfd0-ee77e261498e"
      },
      "outputs": [
        {
          "data": {
            "text/html": [
              "<div>\n",
              "<style scoped>\n",
              "    .dataframe tbody tr th:only-of-type {\n",
              "        vertical-align: middle;\n",
              "    }\n",
              "\n",
              "    .dataframe tbody tr th {\n",
              "        vertical-align: top;\n",
              "    }\n",
              "\n",
              "    .dataframe thead th {\n",
              "        text-align: right;\n",
              "    }\n",
              "</style>\n",
              "<table border=\"1\" class=\"dataframe\">\n",
              "  <thead>\n",
              "    <tr style=\"text-align: right;\">\n",
              "      <th></th>\n",
              "      <th>0</th>\n",
              "      <th>1</th>\n",
              "      <th>2</th>\n",
              "      <th>3</th>\n",
              "      <th>4</th>\n",
              "    </tr>\n",
              "  </thead>\n",
              "  <tbody>\n",
              "    <tr>\n",
              "      <th>summary</th>\n",
              "      <td>count</td>\n",
              "      <td>mean</td>\n",
              "      <td>stddev</td>\n",
              "      <td>min</td>\n",
              "      <td>max</td>\n",
              "    </tr>\n",
              "    <tr>\n",
              "      <th>State</th>\n",
              "      <td>2666</td>\n",
              "      <td>None</td>\n",
              "      <td>None</td>\n",
              "      <td>AK</td>\n",
              "      <td>WY</td>\n",
              "    </tr>\n",
              "    <tr>\n",
              "      <th>Account length</th>\n",
              "      <td>2666</td>\n",
              "      <td>100.62040510127532</td>\n",
              "      <td>39.56397365334985</td>\n",
              "      <td>1</td>\n",
              "      <td>243</td>\n",
              "    </tr>\n",
              "    <tr>\n",
              "      <th>Area code</th>\n",
              "      <td>2666</td>\n",
              "      <td>437.43885971492875</td>\n",
              "      <td>42.521018019427174</td>\n",
              "      <td>408</td>\n",
              "      <td>510</td>\n",
              "    </tr>\n",
              "    <tr>\n",
              "      <th>International plan</th>\n",
              "      <td>2666</td>\n",
              "      <td>None</td>\n",
              "      <td>None</td>\n",
              "      <td>No</td>\n",
              "      <td>Yes</td>\n",
              "    </tr>\n",
              "    <tr>\n",
              "      <th>Voice mail plan</th>\n",
              "      <td>2666</td>\n",
              "      <td>None</td>\n",
              "      <td>None</td>\n",
              "      <td>No</td>\n",
              "      <td>Yes</td>\n",
              "    </tr>\n",
              "    <tr>\n",
              "      <th>Number vmail messages</th>\n",
              "      <td>2666</td>\n",
              "      <td>8.021755438859715</td>\n",
              "      <td>13.61227701829193</td>\n",
              "      <td>0</td>\n",
              "      <td>50</td>\n",
              "    </tr>\n",
              "    <tr>\n",
              "      <th>Total day minutes</th>\n",
              "      <td>2666</td>\n",
              "      <td>179.48162040510135</td>\n",
              "      <td>54.21035022086982</td>\n",
              "      <td>0.0</td>\n",
              "      <td>350.8</td>\n",
              "    </tr>\n",
              "    <tr>\n",
              "      <th>Total day calls</th>\n",
              "      <td>2666</td>\n",
              "      <td>100.31020255063765</td>\n",
              "      <td>19.988162186059512</td>\n",
              "      <td>0</td>\n",
              "      <td>160</td>\n",
              "    </tr>\n",
              "    <tr>\n",
              "      <th>Total day charge</th>\n",
              "      <td>2666</td>\n",
              "      <td>30.512404351087813</td>\n",
              "      <td>9.215732907163497</td>\n",
              "      <td>0.0</td>\n",
              "      <td>59.64</td>\n",
              "    </tr>\n",
              "    <tr>\n",
              "      <th>Total eve minutes</th>\n",
              "      <td>2666</td>\n",
              "      <td>200.38615903976006</td>\n",
              "      <td>50.95151511764598</td>\n",
              "      <td>0.0</td>\n",
              "      <td>363.7</td>\n",
              "    </tr>\n",
              "    <tr>\n",
              "      <th>Total eve calls</th>\n",
              "      <td>2666</td>\n",
              "      <td>100.02363090772693</td>\n",
              "      <td>20.16144511531889</td>\n",
              "      <td>0</td>\n",
              "      <td>170</td>\n",
              "    </tr>\n",
              "    <tr>\n",
              "      <th>Total eve charge</th>\n",
              "      <td>2666</td>\n",
              "      <td>17.033072018004518</td>\n",
              "      <td>4.330864176799864</td>\n",
              "      <td>0.0</td>\n",
              "      <td>30.91</td>\n",
              "    </tr>\n",
              "    <tr>\n",
              "      <th>Total night minutes</th>\n",
              "      <td>2666</td>\n",
              "      <td>201.16894223555968</td>\n",
              "      <td>50.780323368725206</td>\n",
              "      <td>43.7</td>\n",
              "      <td>395.0</td>\n",
              "    </tr>\n",
              "    <tr>\n",
              "      <th>Total night calls</th>\n",
              "      <td>2666</td>\n",
              "      <td>100.10615153788447</td>\n",
              "      <td>19.418458551101697</td>\n",
              "      <td>33</td>\n",
              "      <td>166</td>\n",
              "    </tr>\n",
              "    <tr>\n",
              "      <th>Total night charge</th>\n",
              "      <td>2666</td>\n",
              "      <td>9.052689422355604</td>\n",
              "      <td>2.2851195129157564</td>\n",
              "      <td>1.97</td>\n",
              "      <td>17.77</td>\n",
              "    </tr>\n",
              "    <tr>\n",
              "      <th>Total intl minutes</th>\n",
              "      <td>2666</td>\n",
              "      <td>10.23702175543886</td>\n",
              "      <td>2.7883485770512566</td>\n",
              "      <td>0.0</td>\n",
              "      <td>20.0</td>\n",
              "    </tr>\n",
              "    <tr>\n",
              "      <th>Total intl calls</th>\n",
              "      <td>2666</td>\n",
              "      <td>4.467366841710428</td>\n",
              "      <td>2.4561949030129466</td>\n",
              "      <td>0</td>\n",
              "      <td>20</td>\n",
              "    </tr>\n",
              "    <tr>\n",
              "      <th>Total intl charge</th>\n",
              "      <td>2666</td>\n",
              "      <td>2.764489872468112</td>\n",
              "      <td>0.7528120531228477</td>\n",
              "      <td>0.0</td>\n",
              "      <td>5.4</td>\n",
              "    </tr>\n",
              "    <tr>\n",
              "      <th>Customer service calls</th>\n",
              "      <td>2666</td>\n",
              "      <td>1.5626406601650413</td>\n",
              "      <td>1.3112357589949093</td>\n",
              "      <td>0</td>\n",
              "      <td>9</td>\n",
              "    </tr>\n",
              "  </tbody>\n",
              "</table>\n",
              "</div>"
            ],
            "text/plain": [
              "                            0                   1  ...     3      4\n",
              "summary                 count                mean  ...   min    max\n",
              "State                    2666                None  ...    AK     WY\n",
              "Account length           2666  100.62040510127532  ...     1    243\n",
              "Area code                2666  437.43885971492875  ...   408    510\n",
              "International plan       2666                None  ...    No    Yes\n",
              "Voice mail plan          2666                None  ...    No    Yes\n",
              "Number vmail messages    2666   8.021755438859715  ...     0     50\n",
              "Total day minutes        2666  179.48162040510135  ...   0.0  350.8\n",
              "Total day calls          2666  100.31020255063765  ...     0    160\n",
              "Total day charge         2666  30.512404351087813  ...   0.0  59.64\n",
              "Total eve minutes        2666  200.38615903976006  ...   0.0  363.7\n",
              "Total eve calls          2666  100.02363090772693  ...     0    170\n",
              "Total eve charge         2666  17.033072018004518  ...   0.0  30.91\n",
              "Total night minutes      2666  201.16894223555968  ...  43.7  395.0\n",
              "Total night calls        2666  100.10615153788447  ...    33    166\n",
              "Total night charge       2666   9.052689422355604  ...  1.97  17.77\n",
              "Total intl minutes       2666   10.23702175543886  ...   0.0   20.0\n",
              "Total intl calls         2666   4.467366841710428  ...     0     20\n",
              "Total intl charge        2666   2.764489872468112  ...   0.0    5.4\n",
              "Customer service calls   2666  1.5626406601650413  ...     0      9\n",
              "\n",
              "[20 rows x 5 columns]"
            ]
          },
          "execution_count": 31,
          "metadata": {
            "tags": []
          },
          "output_type": "execute_result"
        }
      ],
      "source": [
        "#visualizando as estatísticas básicas das colunas\n",
        "df_train.describe().toPandas().transpose()"
      ]
    },
    {
      "cell_type": "markdown",
      "metadata": {
        "id": "4b2m_TF3hhFv"
      },
      "source": [
        "### Construindo um modelo de regressão logística"
      ]
    },
    {
      "cell_type": "markdown",
      "metadata": {
        "id": "GWh1UD1xhnqT"
      },
      "source": [
        "### Preparação dos dados"
      ]
    },
    {
      "cell_type": "code",
      "execution_count": null,
      "metadata": {
        "id": "f8ZE-Yz7hkxK"
      },
      "outputs": [],
      "source": [
        "#importando as bibliotecas\n",
        "from pyspark.ml.feature import StringIndexer\n",
        "from pyspark.ml.feature import OneHotEncoder\n",
        "from pyspark.ml.feature import VectorAssembler\n",
        "from pyspark.ml.classification import LogisticRegression\n",
        "from pyspark.sql.types import DoubleType\n",
        "from pyspark.sql.functions import udf\n",
        "from pyspark.ml import Pipeline\n",
        "from pyspark.ml.evaluation import MulticlassClassificationEvaluator\n",
        "from sklearn.metrics import confusion_matrix\n",
        "import seaborn as sns\n",
        "import matplotlib.pyplot as plt\n",
        "from sklearn.metrics import confusion_matrix, ConfusionMatrixDisplay"
      ]
    },
    {
      "cell_type": "markdown",
      "metadata": {
        "id": "YXX_n6kLUxGt"
      },
      "source": [
        "As diversas transformções de features que o Spark oferece pode ser vista no seguinte link:\n",
        "\n",
        "https://spark.apache.org/docs/latest/ml-features"
      ]
    },
    {
      "cell_type": "code",
      "execution_count": null,
      "metadata": {
        "id": "kSJOKuUUhpf6"
      },
      "outputs": [],
      "source": [
        "#aplicando a técnica OneHoteEncoder no atributo International plan\n",
        "ipIndexer = StringIndexer(inputCol = 'International plan', \n",
        "                          outputCol = 'ipIndex')\n",
        "ipEncoder = OneHotEncoder(inputCol = 'ipIndex', \n",
        "                          outputCol = 'ipVector')"
      ]
    },
    {
      "cell_type": "code",
      "execution_count": null,
      "metadata": {
        "id": "g_NkvAVUh6jg"
      },
      "outputs": [],
      "source": [
        "#selecionado as features que serão utilizadas\n",
        "featureCols = ['Account length', 'ipVector', \n",
        "               'Number vmail messages', 'Total day minutes',\n",
        "               'Total day calls', 'Total eve minutes', \n",
        "               'Total eve calls', 'Total night minutes', \n",
        "               'Total night calls', 'Total intl minutes', \n",
        "               'Total intl calls', 'Customer service calls']"
      ]
    },
    {
      "cell_type": "code",
      "execution_count": null,
      "metadata": {
        "id": "I9iyfhkLiE_t"
      },
      "outputs": [],
      "source": [
        "#criando o vetor de features\n",
        "assembler = VectorAssembler(inputCols = featureCols, \n",
        "                            outputCol = 'features')"
      ]
    },
    {
      "cell_type": "code",
      "execution_count": null,
      "metadata": {
        "id": "21yed6ddiIqy"
      },
      "outputs": [],
      "source": [
        "#construindo o objeto de regressão logística\n",
        "lre = LogisticRegression(maxIter = 20)"
      ]
    },
    {
      "cell_type": "code",
      "execution_count": null,
      "metadata": {
        "id": "56TdImc2ihqW"
      },
      "outputs": [],
      "source": [
        "#convertendo os dados para numérico\n",
        "toNum = udf(lambda v: float(v), DoubleType())\n",
        "df_train = df_train.withColumn('label', toNum(df_train['Churn'])).cache()"
      ]
    },
    {
      "cell_type": "code",
      "execution_count": null,
      "metadata": {
        "colab": {
          "base_uri": "https://localhost:8080/",
          "height": 417
        },
        "id": "MBf3OTDJivbK",
        "outputId": "6f39cca8-2794-436c-a70b-5da8fd533715"
      },
      "outputs": [
        {
          "data": {
            "text/html": [
              "<div>\n",
              "<style scoped>\n",
              "    .dataframe tbody tr th:only-of-type {\n",
              "        vertical-align: middle;\n",
              "    }\n",
              "\n",
              "    .dataframe tbody tr th {\n",
              "        vertical-align: top;\n",
              "    }\n",
              "\n",
              "    .dataframe thead th {\n",
              "        text-align: right;\n",
              "    }\n",
              "</style>\n",
              "<table border=\"1\" class=\"dataframe\">\n",
              "  <thead>\n",
              "    <tr style=\"text-align: right;\">\n",
              "      <th></th>\n",
              "      <th>State</th>\n",
              "      <th>Account length</th>\n",
              "      <th>Area code</th>\n",
              "      <th>International plan</th>\n",
              "      <th>Voice mail plan</th>\n",
              "      <th>Number vmail messages</th>\n",
              "      <th>Total day minutes</th>\n",
              "      <th>Total day calls</th>\n",
              "      <th>Total day charge</th>\n",
              "      <th>Total eve minutes</th>\n",
              "      <th>Total eve calls</th>\n",
              "      <th>Total eve charge</th>\n",
              "      <th>Total night minutes</th>\n",
              "      <th>Total night calls</th>\n",
              "      <th>Total night charge</th>\n",
              "      <th>Total intl minutes</th>\n",
              "      <th>Total intl calls</th>\n",
              "      <th>Total intl charge</th>\n",
              "      <th>Customer service calls</th>\n",
              "      <th>Churn</th>\n",
              "      <th>label</th>\n",
              "    </tr>\n",
              "  </thead>\n",
              "  <tbody>\n",
              "    <tr>\n",
              "      <th>0</th>\n",
              "      <td>KS</td>\n",
              "      <td>128</td>\n",
              "      <td>415</td>\n",
              "      <td>No</td>\n",
              "      <td>Yes</td>\n",
              "      <td>25</td>\n",
              "      <td>265.1</td>\n",
              "      <td>110</td>\n",
              "      <td>45.07</td>\n",
              "      <td>197.4</td>\n",
              "      <td>99</td>\n",
              "      <td>16.78</td>\n",
              "      <td>244.7</td>\n",
              "      <td>91</td>\n",
              "      <td>11.01</td>\n",
              "      <td>10.0</td>\n",
              "      <td>3</td>\n",
              "      <td>2.70</td>\n",
              "      <td>1</td>\n",
              "      <td>False</td>\n",
              "      <td>0.0</td>\n",
              "    </tr>\n",
              "    <tr>\n",
              "      <th>1</th>\n",
              "      <td>OH</td>\n",
              "      <td>107</td>\n",
              "      <td>415</td>\n",
              "      <td>No</td>\n",
              "      <td>Yes</td>\n",
              "      <td>26</td>\n",
              "      <td>161.6</td>\n",
              "      <td>123</td>\n",
              "      <td>27.47</td>\n",
              "      <td>195.5</td>\n",
              "      <td>103</td>\n",
              "      <td>16.62</td>\n",
              "      <td>254.4</td>\n",
              "      <td>103</td>\n",
              "      <td>11.45</td>\n",
              "      <td>13.7</td>\n",
              "      <td>3</td>\n",
              "      <td>3.70</td>\n",
              "      <td>1</td>\n",
              "      <td>False</td>\n",
              "      <td>0.0</td>\n",
              "    </tr>\n",
              "    <tr>\n",
              "      <th>2</th>\n",
              "      <td>NJ</td>\n",
              "      <td>137</td>\n",
              "      <td>415</td>\n",
              "      <td>No</td>\n",
              "      <td>No</td>\n",
              "      <td>0</td>\n",
              "      <td>243.4</td>\n",
              "      <td>114</td>\n",
              "      <td>41.38</td>\n",
              "      <td>121.2</td>\n",
              "      <td>110</td>\n",
              "      <td>10.30</td>\n",
              "      <td>162.6</td>\n",
              "      <td>104</td>\n",
              "      <td>7.32</td>\n",
              "      <td>12.2</td>\n",
              "      <td>5</td>\n",
              "      <td>3.29</td>\n",
              "      <td>0</td>\n",
              "      <td>False</td>\n",
              "      <td>0.0</td>\n",
              "    </tr>\n",
              "    <tr>\n",
              "      <th>3</th>\n",
              "      <td>OH</td>\n",
              "      <td>84</td>\n",
              "      <td>408</td>\n",
              "      <td>Yes</td>\n",
              "      <td>No</td>\n",
              "      <td>0</td>\n",
              "      <td>299.4</td>\n",
              "      <td>71</td>\n",
              "      <td>50.90</td>\n",
              "      <td>61.9</td>\n",
              "      <td>88</td>\n",
              "      <td>5.26</td>\n",
              "      <td>196.9</td>\n",
              "      <td>89</td>\n",
              "      <td>8.86</td>\n",
              "      <td>6.6</td>\n",
              "      <td>7</td>\n",
              "      <td>1.78</td>\n",
              "      <td>2</td>\n",
              "      <td>False</td>\n",
              "      <td>0.0</td>\n",
              "    </tr>\n",
              "    <tr>\n",
              "      <th>4</th>\n",
              "      <td>OK</td>\n",
              "      <td>75</td>\n",
              "      <td>415</td>\n",
              "      <td>Yes</td>\n",
              "      <td>No</td>\n",
              "      <td>0</td>\n",
              "      <td>166.7</td>\n",
              "      <td>113</td>\n",
              "      <td>28.34</td>\n",
              "      <td>148.3</td>\n",
              "      <td>122</td>\n",
              "      <td>12.61</td>\n",
              "      <td>186.9</td>\n",
              "      <td>121</td>\n",
              "      <td>8.41</td>\n",
              "      <td>10.1</td>\n",
              "      <td>3</td>\n",
              "      <td>2.73</td>\n",
              "      <td>3</td>\n",
              "      <td>False</td>\n",
              "      <td>0.0</td>\n",
              "    </tr>\n",
              "    <tr>\n",
              "      <th>5</th>\n",
              "      <td>AL</td>\n",
              "      <td>118</td>\n",
              "      <td>510</td>\n",
              "      <td>Yes</td>\n",
              "      <td>No</td>\n",
              "      <td>0</td>\n",
              "      <td>223.4</td>\n",
              "      <td>98</td>\n",
              "      <td>37.98</td>\n",
              "      <td>220.6</td>\n",
              "      <td>101</td>\n",
              "      <td>18.75</td>\n",
              "      <td>203.9</td>\n",
              "      <td>118</td>\n",
              "      <td>9.18</td>\n",
              "      <td>6.3</td>\n",
              "      <td>6</td>\n",
              "      <td>1.70</td>\n",
              "      <td>0</td>\n",
              "      <td>False</td>\n",
              "      <td>0.0</td>\n",
              "    </tr>\n",
              "    <tr>\n",
              "      <th>6</th>\n",
              "      <td>MA</td>\n",
              "      <td>121</td>\n",
              "      <td>510</td>\n",
              "      <td>No</td>\n",
              "      <td>Yes</td>\n",
              "      <td>24</td>\n",
              "      <td>218.2</td>\n",
              "      <td>88</td>\n",
              "      <td>37.09</td>\n",
              "      <td>348.5</td>\n",
              "      <td>108</td>\n",
              "      <td>29.62</td>\n",
              "      <td>212.6</td>\n",
              "      <td>118</td>\n",
              "      <td>9.57</td>\n",
              "      <td>7.5</td>\n",
              "      <td>7</td>\n",
              "      <td>2.03</td>\n",
              "      <td>3</td>\n",
              "      <td>False</td>\n",
              "      <td>0.0</td>\n",
              "    </tr>\n",
              "    <tr>\n",
              "      <th>7</th>\n",
              "      <td>MO</td>\n",
              "      <td>147</td>\n",
              "      <td>415</td>\n",
              "      <td>Yes</td>\n",
              "      <td>No</td>\n",
              "      <td>0</td>\n",
              "      <td>157.0</td>\n",
              "      <td>79</td>\n",
              "      <td>26.69</td>\n",
              "      <td>103.1</td>\n",
              "      <td>94</td>\n",
              "      <td>8.76</td>\n",
              "      <td>211.8</td>\n",
              "      <td>96</td>\n",
              "      <td>9.53</td>\n",
              "      <td>7.1</td>\n",
              "      <td>6</td>\n",
              "      <td>1.92</td>\n",
              "      <td>0</td>\n",
              "      <td>False</td>\n",
              "      <td>0.0</td>\n",
              "    </tr>\n",
              "    <tr>\n",
              "      <th>8</th>\n",
              "      <td>WV</td>\n",
              "      <td>141</td>\n",
              "      <td>415</td>\n",
              "      <td>Yes</td>\n",
              "      <td>Yes</td>\n",
              "      <td>37</td>\n",
              "      <td>258.6</td>\n",
              "      <td>84</td>\n",
              "      <td>43.96</td>\n",
              "      <td>222.0</td>\n",
              "      <td>111</td>\n",
              "      <td>18.87</td>\n",
              "      <td>326.4</td>\n",
              "      <td>97</td>\n",
              "      <td>14.69</td>\n",
              "      <td>11.2</td>\n",
              "      <td>5</td>\n",
              "      <td>3.02</td>\n",
              "      <td>0</td>\n",
              "      <td>False</td>\n",
              "      <td>0.0</td>\n",
              "    </tr>\n",
              "    <tr>\n",
              "      <th>9</th>\n",
              "      <td>RI</td>\n",
              "      <td>74</td>\n",
              "      <td>415</td>\n",
              "      <td>No</td>\n",
              "      <td>No</td>\n",
              "      <td>0</td>\n",
              "      <td>187.7</td>\n",
              "      <td>127</td>\n",
              "      <td>31.91</td>\n",
              "      <td>163.4</td>\n",
              "      <td>148</td>\n",
              "      <td>13.89</td>\n",
              "      <td>196.0</td>\n",
              "      <td>94</td>\n",
              "      <td>8.82</td>\n",
              "      <td>9.1</td>\n",
              "      <td>5</td>\n",
              "      <td>2.46</td>\n",
              "      <td>0</td>\n",
              "      <td>False</td>\n",
              "      <td>0.0</td>\n",
              "    </tr>\n",
              "  </tbody>\n",
              "</table>\n",
              "</div>"
            ],
            "text/plain": [
              "  State  Account length  Area code  ... Customer service calls  Churn  label\n",
              "0    KS             128        415  ...                      1  False    0.0\n",
              "1    OH             107        415  ...                      1  False    0.0\n",
              "2    NJ             137        415  ...                      0  False    0.0\n",
              "3    OH              84        408  ...                      2  False    0.0\n",
              "4    OK              75        415  ...                      3  False    0.0\n",
              "5    AL             118        510  ...                      0  False    0.0\n",
              "6    MA             121        510  ...                      3  False    0.0\n",
              "7    MO             147        415  ...                      0  False    0.0\n",
              "8    WV             141        415  ...                      0  False    0.0\n",
              "9    RI              74        415  ...                      0  False    0.0\n",
              "\n",
              "[10 rows x 21 columns]"
            ]
          },
          "execution_count": 38,
          "metadata": {
            "tags": []
          },
          "output_type": "execute_result"
        }
      ],
      "source": [
        "#visualizando a coluna label\n",
        "pd.DataFrame(df_train.take(10), columns=df_train.columns)"
      ]
    },
    {
      "cell_type": "markdown",
      "metadata": {
        "id": "rdJp9y-kmWbm"
      },
      "source": [
        "### Treinando o modelo"
      ]
    },
    {
      "cell_type": "code",
      "execution_count": null,
      "metadata": {
        "id": "iE0tdWyLlSm2"
      },
      "outputs": [],
      "source": [
        "#construindo um pipeline e treinando o modelo\n",
        "pipeline = Pipeline(stages=[ipIndexer, ipEncoder, assembler, lre])\n",
        "model = pipeline.fit(df_train)"
      ]
    },
    {
      "cell_type": "markdown",
      "metadata": {
        "id": "rzP-hrmHmbSS"
      },
      "source": [
        "### Testando o modelo"
      ]
    },
    {
      "cell_type": "markdown",
      "metadata": {
        "id": "lrkZF6r0PhAv"
      },
      "source": [
        "O dataset utilizado para o teste está disponível no seguinte link:\n",
        "\n",
        "https://raw.githubusercontent.com/bensadeghi/pyspark-churn-prediction/master/data/churn-bigml-20.csv"
      ]
    },
    {
      "cell_type": "code",
      "execution_count": null,
      "metadata": {
        "colab": {
          "base_uri": "https://localhost:8080/"
        },
        "id": "mxHVV2TEm2zM",
        "outputId": "5b49cd86-c154-4aec-e8b5-455db24ad3c1"
      },
      "outputs": [
        {
          "name": "stdout",
          "output_type": "stream",
          "text": [
            "--2021-06-14 14:29:44--  https://raw.githubusercontent.com/bensadeghi/pyspark-churn-prediction/master/data/churn-bigml-20.csv\n",
            "Resolving raw.githubusercontent.com (raw.githubusercontent.com)... 185.199.108.133, 185.199.109.133, 185.199.110.133, ...\n",
            "Connecting to raw.githubusercontent.com (raw.githubusercontent.com)|185.199.108.133|:443... connected.\n",
            "HTTP request sent, awaiting response... 200 OK\n",
            "Length: 56329 (55K) [text/plain]\n",
            "Saving to: ‘churn-bigml-20.csv’\n",
            "\n",
            "\r",
            "churn-bigml-20.csv    0%[                    ]       0  --.-KB/s               \r",
            "churn-bigml-20.csv  100%[===================>]  55.01K  --.-KB/s    in 0.01s   \n",
            "\n",
            "2021-06-14 14:29:44 (5.16 MB/s) - ‘churn-bigml-20.csv’ saved [56329/56329]\n",
            "\n"
          ]
        }
      ],
      "source": [
        "#realizando o download dos dados\n",
        "!wget https://raw.githubusercontent.com/bensadeghi/pyspark-churn-prediction/master/data/churn-bigml-20.csv"
      ]
    },
    {
      "cell_type": "code",
      "execution_count": null,
      "metadata": {
        "id": "Q7WOAdqYm_jb"
      },
      "outputs": [],
      "source": [
        "#carregando o dataset\n",
        "df_test = sqlContext.read.load('churn-bigml-20.csv',\n",
        "                               format='csv',\n",
        "                               header='true',\n",
        "                               inferSchema='true')"
      ]
    },
    {
      "cell_type": "code",
      "execution_count": null,
      "metadata": {
        "id": "i4qqR2AYnFUt"
      },
      "outputs": [],
      "source": [
        "#criando a coluna label\n",
        "df_test.cache()\n",
        "df_test = df_test.withColumn('label', toNum(df_test['Churn'])).cache()\n"
      ]
    },
    {
      "cell_type": "code",
      "execution_count": null,
      "metadata": {
        "id": "dVXkxGVynM8A"
      },
      "outputs": [],
      "source": [
        "#testando o modelo\n",
        "predictions = model.transform(df_test)"
      ]
    },
    {
      "cell_type": "code",
      "execution_count": null,
      "metadata": {
        "colab": {
          "base_uri": "https://localhost:8080/"
        },
        "id": "8st7LESGoOc0",
        "outputId": "52463aad-6613-455f-f8c2-1d8e24d67ad3"
      },
      "outputs": [
        {
          "name": "stdout",
          "output_type": "stream",
          "text": [
            "+----------+-----+--------------------+\n",
            "|prediction|label|            features|\n",
            "+----------+-----+--------------------+\n",
            "|       0.0|  0.0|[117.0,1.0,0.0,18...|\n",
            "|       0.0|  1.0|[65.0,1.0,0.0,129...|\n",
            "|       0.0|  1.0|[161.0,1.0,0.0,33...|\n",
            "|       0.0|  0.0|[111.0,1.0,0.0,11...|\n",
            "|       0.0|  0.0|[49.0,1.0,0.0,119...|\n",
            "|       0.0|  0.0|[36.0,1.0,30.0,14...|\n",
            "|       0.0|  0.0|[65.0,1.0,0.0,211...|\n",
            "|       0.0|  1.0|[119.0,1.0,0.0,15...|\n",
            "|       0.0|  0.0|[10.0,1.0,0.0,186...|\n",
            "|       0.0|  0.0|[68.0,1.0,0.0,148...|\n",
            "|       0.0|  0.0|[74.0,1.0,33.0,19...|\n",
            "|       0.0|  0.0|[85.0,1.0,0.0,235...|\n",
            "|       0.0|  0.0|[46.0,1.0,0.0,214...|\n",
            "|       0.0|  0.0|[128.0,1.0,29.0,1...|\n",
            "|       0.0|  1.0|[155.0,1.0,0.0,20...|\n",
            "|       0.0|  0.0|[73.0,1.0,0.0,160...|\n",
            "|       0.0|  1.0|[77.0,1.0,0.0,251...|\n",
            "|       0.0|  0.0|[108.0,1.0,0.0,17...|\n",
            "|       0.0|  0.0|[95.0,1.0,0.0,135...|\n",
            "|       0.0|  0.0|[36.0,1.0,29.0,28...|\n",
            "|       0.0|  0.0|[141.0,1.0,32.0,1...|\n",
            "|       0.0|  0.0|[63.0,1.0,0.0,58....|\n",
            "|       0.0|  0.0|[97.0,1.0,0.0,239...|\n",
            "|       0.0|  0.0|[75.0,1.0,0.0,166...|\n",
            "|       0.0|  0.0|[127.0,1.0,0.0,14...|\n",
            "|       0.0|  0.0|[121.0,1.0,0.0,18...|\n",
            "|       0.0|  0.0|[117.0,1.0,0.0,10...|\n",
            "|       0.0|  0.0|[65.0,1.0,0.0,187...|\n",
            "|       0.0|  0.0|[6.0,1.0,0.0,183....|\n",
            "|       0.0|  0.0|[32.0,1.0,0.0,230...|\n",
            "|       0.0|  0.0|[64.0,1.0,27.0,18...|\n",
            "|       0.0|  0.0|[25.0,1.0,0.0,119...|\n",
            "|       0.0|  0.0|[65.0,1.0,0.0,116...|\n",
            "|       0.0|  0.0|[127.0,1.0,0.0,20...|\n",
            "|       0.0|  0.0|[93.0,1.0,0.0,271...|\n",
            "|       0.0|  1.0|[208.0,1.0,0.0,32...|\n",
            "|       0.0|  0.0|[122.0,1.0,0.0,24...|\n",
            "|       0.0|  0.0|[99.0,1.0,0.0,241...|\n",
            "|       0.0|  0.0|[65.0,1.0,0.0,136...|\n",
            "|       0.0|  0.0|[65.0,1.0,0.0,213...|\n",
            "|       0.0|  0.0|[45.0,1.0,22.0,19...|\n",
            "|       0.0|  1.0|[139.0,1.0,0.0,13...|\n",
            "|       0.0|  0.0|[215.0,1.0,0.0,83...|\n",
            "|       0.0|  0.0|[94.0,1.0,0.0,181...|\n",
            "|       0.0|  0.0|[119.0,1.0,23.0,1...|\n",
            "|       0.0|  0.0|[86.0,1.0,41.0,11...|\n",
            "|       0.0|  0.0|[106.0,1.0,32.0,1...|\n",
            "|       0.0|  1.0|[92.0,0.0,0.0,62....|\n",
            "|       0.0|  0.0|[78.0,1.0,0.0,168...|\n",
            "|       0.0|  0.0|[155.0,1.0,0.0,26...|\n",
            "|       0.0|  0.0|[64.0,1.0,48.0,94...|\n",
            "|       0.0|  0.0|[83.0,1.0,0.0,221...|\n",
            "|       0.0|  1.0|[144.0,1.0,48.0,1...|\n",
            "|       0.0|  0.0|[143.0,1.0,0.0,17...|\n",
            "|       0.0|  0.0|[81.0,1.0,0.0,198...|\n",
            "|       0.0|  0.0|[145.0,1.0,24.0,1...|\n",
            "|       0.0|  1.0|[89.0,1.0,0.0,303...|\n",
            "|       0.0|  0.0|[199.0,1.0,34.0,2...|\n",
            "|       0.0|  1.0|[96.0,1.0,37.0,17...|\n",
            "|       0.0|  0.0|[94.0,1.0,0.0,181...|\n",
            "|       0.0|  1.0|[127.0,1.0,0.0,26...|\n",
            "|       0.0|  1.0|[121.0,1.0,0.0,17...|\n",
            "|       1.0|  1.0|[122.0,1.0,0.0,29...|\n",
            "|       0.0|  0.0|[121.0,1.0,35.0,6...|\n",
            "|       0.0|  0.0|[77.0,1.0,0.0,233...|\n",
            "|       1.0|  1.0|[64.0,0.0,0.0,236...|\n",
            "|       1.0|  0.0|[124.0,0.0,0.0,24...|\n",
            "|       0.0|  0.0|[148.0,1.0,0.0,12...|\n",
            "|       0.0|  0.0|[77.0,1.0,0.0,230...|\n",
            "|       0.0|  0.0|[135.0,1.0,0.0,20...|\n",
            "|       0.0|  0.0|[87.0,1.0,21.0,21...|\n",
            "|       0.0|  0.0|[54.0,1.0,0.0,210...|\n",
            "|       0.0|  0.0|[35.0,1.0,0.0,105...|\n",
            "|       0.0|  0.0|[84.0,1.0,0.0,138...|\n",
            "|       0.0|  1.0|[94.0,1.0,0.0,234...|\n",
            "|       0.0|  0.0|[96.0,1.0,26.0,14...|\n",
            "|       0.0|  0.0|[64.0,1.0,0.0,97....|\n",
            "|       0.0|  0.0|[85.0,1.0,0.0,259...|\n",
            "|       0.0|  0.0|[117.0,1.0,0.0,23...|\n",
            "|       0.0|  0.0|[112.0,1.0,16.0,2...|\n",
            "|       0.0|  0.0|[129.0,0.0,0.0,19...|\n",
            "|       0.0|  0.0|[140.0,1.0,0.0,17...|\n",
            "|       0.0|  0.0|[81.0,1.0,0.0,153...|\n",
            "|       0.0|  0.0|[70.0,1.0,0.0,59....|\n",
            "|       0.0|  0.0|[79.0,1.0,21.0,26...|\n",
            "|       0.0|  0.0|[85.0,1.0,0.0,127...|\n",
            "|       0.0|  0.0|[91.0,1.0,0.0,149...|\n",
            "|       0.0|  0.0|[149.0,1.0,20.0,1...|\n",
            "|       0.0|  0.0|[60.0,1.0,0.0,98....|\n",
            "|       0.0|  0.0|[115.0,1.0,0.0,14...|\n",
            "|       0.0|  0.0|[144.0,1.0,18.0,1...|\n",
            "|       0.0|  0.0|[86.0,1.0,32.0,70...|\n",
            "|       0.0|  0.0|[139.0,1.0,20.0,2...|\n",
            "|       0.0|  0.0|[124.0,1.0,0.0,15...|\n",
            "|       0.0|  0.0|[102.0,0.0,0.0,23...|\n",
            "|       0.0|  0.0|[78.0,1.0,0.0,208...|\n",
            "|       0.0|  1.0|[55.0,0.0,0.0,191...|\n",
            "|       0.0|  0.0|[129.0,1.0,33.0,1...|\n",
            "|       1.0|  1.0|[75.0,0.0,0.0,211...|\n",
            "|       0.0|  0.0|[126.0,1.0,23.0,1...|\n",
            "|       0.0|  1.0|[92.0,1.0,0.0,154...|\n",
            "|       0.0|  0.0|[52.0,1.0,0.0,214...|\n",
            "|       0.0|  0.0|[87.0,1.0,0.0,231...|\n",
            "|       0.0|  0.0|[95.0,1.0,22.0,40...|\n",
            "|       0.0|  0.0|[67.0,1.0,0.0,310...|\n",
            "|       0.0|  0.0|[165.0,1.0,0.0,21...|\n",
            "|       0.0|  0.0|[150.0,1.0,29.0,2...|\n",
            "|       0.0|  0.0|[26.0,1.0,0.0,234...|\n",
            "|       0.0|  0.0|[79.0,1.0,31.0,10...|\n",
            "|       1.0|  1.0|[69.0,0.0,0.0,279...|\n",
            "|       0.0|  1.0|[95.0,0.0,41.0,13...|\n",
            "|       0.0|  0.0|[157.0,1.0,0.0,22...|\n",
            "|       0.0|  0.0|[80.0,1.0,0.0,160...|\n",
            "|       0.0|  0.0|[75.0,1.0,37.0,12...|\n",
            "|       0.0|  1.0|[44.0,1.0,0.0,228...|\n",
            "|       0.0|  1.0|[101.0,1.0,0.0,89...|\n",
            "|       0.0|  0.0|[117.0,1.0,14.0,8...|\n",
            "|       0.0|  0.0|[82.0,1.0,0.0,125...|\n",
            "|       0.0|  0.0|[39.0,1.0,0.0,160...|\n",
            "|       0.0|  0.0|[30.0,1.0,0.0,169...|\n",
            "|       0.0|  0.0|[63.0,1.0,29.0,14...|\n",
            "|       0.0|  0.0|[111.0,1.0,0.0,14...|\n",
            "|       0.0|  0.0|[91.0,1.0,0.0,231...|\n",
            "|       0.0|  1.0|[105.0,0.0,29.0,2...|\n",
            "|       0.0|  0.0|[166.0,0.0,35.0,1...|\n",
            "|       0.0|  0.0|[79.0,1.0,0.0,130...|\n",
            "|       0.0|  0.0|[105.0,1.0,33.0,2...|\n",
            "|       0.0|  0.0|[172.0,1.0,0.0,21...|\n",
            "|       0.0|  0.0|[121.0,1.0,0.0,15...|\n",
            "|       0.0|  0.0|[88.0,1.0,0.0,161...|\n",
            "|       0.0|  0.0|[153.0,1.0,28.0,2...|\n",
            "|       0.0|  0.0|[54.0,1.0,39.0,20...|\n",
            "|       0.0|  1.0|[79.0,1.0,0.0,157...|\n",
            "|       0.0|  0.0|[55.0,1.0,0.0,175...|\n",
            "|       0.0|  1.0|[109.0,1.0,0.0,26...|\n",
            "|       0.0|  0.0|[65.0,1.0,31.0,28...|\n",
            "|       0.0|  0.0|[27.0,1.0,0.0,193...|\n",
            "|       0.0|  0.0|[32.0,1.0,26.0,26...|\n",
            "|       0.0|  0.0|[3.0,1.0,36.0,118...|\n",
            "|       0.0|  0.0|[119.0,1.0,0.0,17...|\n",
            "|       0.0|  0.0|[43.0,1.0,0.0,241...|\n",
            "|       0.0|  0.0|[116.0,1.0,0.0,18...|\n",
            "|       0.0|  0.0|[107.0,1.0,0.0,12...|\n",
            "|       0.0|  0.0|[123.0,1.0,0.0,15...|\n",
            "|       0.0|  0.0|[110.0,1.0,0.0,10...|\n",
            "|       0.0|  0.0|[176.0,1.0,0.0,22...|\n",
            "|       0.0|  0.0|[13.0,1.0,21.0,31...|\n",
            "|       0.0|  0.0|[88.0,1.0,0.0,189...|\n",
            "|       0.0|  0.0|[92.0,1.0,29.0,15...|\n",
            "|       0.0|  0.0|[165.0,1.0,0.0,15...|\n",
            "+----------+-----+--------------------+\n",
            "only showing top 150 rows\n",
            "\n"
          ]
        }
      ],
      "source": [
        "#visualizando as predições\n",
        "predictions.select(\"prediction\", \"label\", \"features\").show(150)"
      ]
    },
    {
      "cell_type": "code",
      "execution_count": null,
      "metadata": {
        "id": "IhDHzsSunw_d"
      },
      "outputs": [],
      "source": [
        "#avaliando a acurácia\n",
        "multi = MulticlassClassificationEvaluator(labelCol='label', \n",
        "                                          predictionCol='prediction', \n",
        "                                          metricName=\"accuracy\")\n",
        "accuracy = multi.evaluate(predictions)"
      ]
    },
    {
      "cell_type": "code",
      "execution_count": null,
      "metadata": {
        "colab": {
          "base_uri": "https://localhost:8080/"
        },
        "id": "QQtX0Z05n8aE",
        "outputId": "6de28fdd-a74d-4a6a-8100-a08c108cac75"
      },
      "outputs": [
        {
          "name": "stdout",
          "output_type": "stream",
          "text": [
            "Acurácia = 0.85\n"
          ]
        }
      ],
      "source": [
        "#apresentando a acurácia\n",
        "print(\"Acurácia = %3.2f\" % accuracy)"
      ]
    },
    {
      "cell_type": "code",
      "execution_count": null,
      "metadata": {
        "colab": {
          "base_uri": "https://localhost:8080/"
        },
        "id": "eeR7tJfgoBtl",
        "outputId": "6046af14-6ce4-4be2-f921-fb4fb0050e15"
      },
      "outputs": [
        {
          "name": "stdout",
          "output_type": "stream",
          "text": [
            "   label  count\n",
            "0    0.0    572\n",
            "1    1.0     95\n"
          ]
        }
      ],
      "source": [
        "#visualizando a quantidade de registros\n",
        "count = predictions.select(\"label\").groupBy(\"label\").count().toPandas()\n",
        "print(count)"
      ]
    },
    {
      "cell_type": "code",
      "execution_count": null,
      "metadata": {
        "id": "8yUcxLNIsvKZ"
      },
      "outputs": [],
      "source": [
        "#preparando os dados para a matriz de confusão\n",
        "y_true = predictions.select(\"label\")\n",
        "y_true = y_true.toPandas()\n",
        "y_pred = predictions.select(\"prediction\")\n",
        "y_pred = y_pred.toPandas()"
      ]
    },
    {
      "cell_type": "code",
      "execution_count": null,
      "metadata": {
        "colab": {
          "base_uri": "https://localhost:8080/"
        },
        "id": "lvBizTBHttwM",
        "outputId": "a974ea08-6729-47ad-b3a6-430fcbb74221"
      },
      "outputs": [
        {
          "data": {
            "text/plain": [
              "array([[0.97202797, 0.02797203],\n",
              "       [0.86315789, 0.13684211]])"
            ]
          },
          "execution_count": 49,
          "metadata": {
            "tags": []
          },
          "output_type": "execute_result"
        }
      ],
      "source": [
        "#construindo a matriz de confusão\n",
        "cm = confusion_matrix(y_true, y_pred, normalize=\"true\")\n",
        "cm"
      ]
    },
    {
      "cell_type": "code",
      "execution_count": null,
      "metadata": {
        "colab": {
          "base_uri": "https://localhost:8080/",
          "height": 297
        },
        "id": "Sb5976QMvP-C",
        "outputId": "3fe34d9e-f8b0-40e7-fb29-952f70c908ee"
      },
      "outputs": [
        {
          "data": {
            "text/plain": [
              "<sklearn.metrics._plot.confusion_matrix.ConfusionMatrixDisplay at 0x7f5cf85b9090>"
            ]
          },
          "execution_count": 50,
          "metadata": {
            "tags": []
          },
          "output_type": "execute_result"
        },
        {
          "data": {
            "image/png": "[encoded data removed]",
            "text/plain": [
              "<Figure size 432x288 with 2 Axes>"
            ]
          },
          "metadata": {
            "needs_background": "light",
            "tags": []
          },
          "output_type": "display_data"
        }
      ],
      "source": [
        "#criando uma visualização da matriz de confusão\n",
        "cmd = ConfusionMatrixDisplay(cm, display_labels=[\"0\", \"1\"])\n",
        "cmd.plot()"
      ]
    },
    {
      "cell_type": "markdown",
      "metadata": {
        "id": "UIrhNse2YNsW"
      },
      "source": [
        "## Parte III - Utilizando o K-Means no MLLib"
      ]
    },
    {
      "cell_type": "markdown",
      "metadata": {
        "id": "a1yqdkXvYqTq"
      },
      "source": [
        "Descrição: um sistema da empresa foi invadido e muitos dados foram roubados. Porém, os metadados de cada sessão que os hackers usavam para se conectar foram registrados e estão disponíveis para análise. \n",
        "\n",
        "Observação: uma prática comum entre hackers é o tradeoff do job, de forma que os hackers realizam aproximadamente a mesma quantidade de ataques. \n",
        "\n",
        "Objetivo: Usar o algoritmo K-Means para identificar o número de hackers na invasão.\n",
        "\n",
        "Base de dados: hack_data.csv\n"
      ]
    },
    {
      "cell_type": "markdown",
      "metadata": {
        "id": "myThBkrQakaR"
      },
      "source": [
        "### Carregando e preparando os dados"
      ]
    },
    {
      "cell_type": "code",
      "execution_count": null,
      "metadata": {
        "id": "NRMZjCXxYsxG"
      },
      "outputs": [],
      "source": [
        "#importando as biliotecas\n",
        "from pyspark.ml.feature import VectorAssembler\n",
        "from pyspark.ml.feature import StandardScaler\n",
        "from pyspark.ml.clustering import KMeans"
      ]
    },
    {
      "cell_type": "code",
      "execution_count": null,
      "metadata": {
        "colab": {
          "base_uri": "https://localhost:8080/"
        },
        "id": "cOjCpIfJ531d",
        "outputId": "dcabeccd-9637-401d-bc52-f6031a612433"
      },
      "outputs": [
        {
          "name": "stdout",
          "output_type": "stream",
          "text": [
            "--2021-06-14 14:29:49--  https://raw.githubusercontent.com/farhanafayez/PySpark-K-means-Clustering-ML/master/hack_data.csv\n",
            "Resolving raw.githubusercontent.com (raw.githubusercontent.com)... 185.199.108.133, 185.199.109.133, 185.199.110.133, ...\n",
            "Connecting to raw.githubusercontent.com (raw.githubusercontent.com)|185.199.108.133|:443... connected.\n",
            "HTTP request sent, awaiting response... 200 OK\n",
            "Length: 14268 (14K) [text/plain]\n",
            "Saving to: ‘hack_data.csv.1’\n",
            "\n",
            "hack_data.csv.1     100%[===================>]  13.93K  --.-KB/s    in 0s      \n",
            "\n",
            "2021-06-14 14:29:49 (53.3 MB/s) - ‘hack_data.csv.1’ saved [14268/14268]\n",
            "\n"
          ]
        }
      ],
      "source": [
        "#realizando o download dos dados\n",
        "!wget https://raw.githubusercontent.com/farhanafayez/PySpark-K-means-Clustering-ML/master/hack_data.csv"
      ]
    },
    {
      "cell_type": "code",
      "execution_count": null,
      "metadata": {
        "colab": {
          "base_uri": "https://localhost:8080/"
        },
        "id": "_zUYQBEfYR8H",
        "outputId": "d3d767f8-32f9-445f-a707-549999b6ea16"
      },
      "outputs": [
        {
          "name": "stdout",
          "output_type": "stream",
          "text": [
            "root\n",
            " |-- Session_Connection_Time: double (nullable = true)\n",
            " |-- Bytes Transferred: double (nullable = true)\n",
            " |-- Kali_Trace_Used: integer (nullable = true)\n",
            " |-- Servers_Corrupted: double (nullable = true)\n",
            " |-- Pages_Corrupted: double (nullable = true)\n",
            " |-- Location: string (nullable = true)\n",
            " |-- WPM_Typing_Speed: double (nullable = true)\n",
            "\n"
          ]
        }
      ],
      "source": [
        "#carregando o dataset\n",
        "df = spark.read.csv('hack_data.csv', inferSchema=True, header=True)\n",
        "df.printSchema()"
      ]
    },
    {
      "cell_type": "markdown",
      "metadata": {
        "id": "kCYQGZN8atOe"
      },
      "source": [
        "Descrição dos atributos:\n",
        "\n",
        "* Session_Connection_Time: quanto tempo durou a sessão em minutos\n",
        "* Bytes_Transferred: megabytes transferidos durante a sessão\n",
        "* Kali_Trace_Used: se o hacker estava usando o Kali Linux\n",
        "* Servers_Corrupted: número de servidores corrompidos durante o ataque\n",
        "* Pages_Corrupted: número de páginas acessadas ilegalmente\n",
        "* Localização: localização do ataque\n",
        "* WPM_Typing_Speed: (words per minute) velocidade de digitação estimada com base nos logs da sessão\n"
      ]
    },
    {
      "cell_type": "code",
      "execution_count": null,
      "metadata": {
        "colab": {
          "base_uri": "https://localhost:8080/"
        },
        "id": "eNNrKqWRYdjB",
        "outputId": "5c5a05f3-16fe-449c-b7ea-84e47b0e5c83"
      },
      "outputs": [
        {
          "name": "stdout",
          "output_type": "stream",
          "text": [
            "(334, 7)\n"
          ]
        }
      ],
      "source": [
        "#visualizando a qtd de linhas e colunas\n",
        "print((df.count(),len(df.columns)))"
      ]
    },
    {
      "cell_type": "code",
      "execution_count": null,
      "metadata": {
        "colab": {
          "base_uri": "https://localhost:8080/"
        },
        "id": "P8Zw7PJfYgpl",
        "outputId": "e1944ade-bf91-470d-f33e-b39160fab2bd"
      },
      "outputs": [
        {
          "name": "stdout",
          "output_type": "stream",
          "text": [
            "+-------+-----------------------+------------------+------------------+-----------------+------------------+-----------+------------------+\n",
            "|summary|Session_Connection_Time| Bytes Transferred|   Kali_Trace_Used|Servers_Corrupted|   Pages_Corrupted|   Location|  WPM_Typing_Speed|\n",
            "+-------+-----------------------+------------------+------------------+-----------------+------------------+-----------+------------------+\n",
            "|  count|                    334|               334|               334|              334|               334|        334|               334|\n",
            "|   mean|     30.008982035928145| 607.2452694610777|0.5119760479041916|5.258502994011977|10.838323353293413|       null|57.342395209580864|\n",
            "| stddev|     14.088200614636158|286.33593163576757|0.5006065264451406| 2.30190693339697|  3.06352633036022|       null| 13.41106336843464|\n",
            "|    min|                    1.0|              10.0|                 0|              1.0|               6.0|Afghanistan|              40.0|\n",
            "|    max|                   60.0|            1330.5|                 1|             10.0|              15.0|   Zimbabwe|              75.0|\n",
            "+-------+-----------------------+------------------+------------------+-----------------+------------------+-----------+------------------+\n",
            "\n"
          ]
        }
      ],
      "source": [
        "#visualizando as estatísticas básicas\n",
        "df.describe().show()"
      ]
    },
    {
      "cell_type": "code",
      "execution_count": null,
      "metadata": {
        "colab": {
          "base_uri": "https://localhost:8080/"
        },
        "id": "c3hFGKp1Yjan",
        "outputId": "0d644147-f605-4bec-fbc4-e1d506723631"
      },
      "outputs": [
        {
          "name": "stdout",
          "output_type": "stream",
          "text": [
            "+-----------------------+-----------------+---------------+-----------------+---------------+--------------------+----------------+\n",
            "|Session_Connection_Time|Bytes Transferred|Kali_Trace_Used|Servers_Corrupted|Pages_Corrupted|            Location|WPM_Typing_Speed|\n",
            "+-----------------------+-----------------+---------------+-----------------+---------------+--------------------+----------------+\n",
            "|                    8.0|           391.09|              1|             2.96|            7.0|            Slovenia|           72.37|\n",
            "|                   20.0|           720.99|              0|             3.04|            9.0|British Virgin Is...|           69.08|\n",
            "|                   31.0|           356.32|              1|             3.71|            8.0|             Tokelau|           70.58|\n",
            "|                    2.0|           228.08|              1|             2.48|            8.0|             Bolivia|            70.8|\n",
            "|                   20.0|            408.5|              0|             3.57|            8.0|                Iraq|           71.28|\n",
            "|                    1.0|           390.69|              1|             2.79|            9.0|    Marshall Islands|           71.57|\n",
            "|                   18.0|           342.97|              1|              5.1|            7.0|             Georgia|           72.32|\n",
            "|                   22.0|           101.61|              1|             3.03|            7.0|         Timor-Leste|           72.03|\n",
            "|                   15.0|           275.53|              1|             3.53|            8.0|Palestinian Terri...|           70.17|\n",
            "|                   12.0|           424.83|              1|             2.53|            8.0|          Bangladesh|           69.99|\n",
            "+-----------------------+-----------------+---------------+-----------------+---------------+--------------------+----------------+\n",
            "only showing top 10 rows\n",
            "\n"
          ]
        }
      ],
      "source": [
        "#visualizando os primeiros 10 registros\n",
        "df.show(10)"
      ]
    },
    {
      "cell_type": "code",
      "execution_count": null,
      "metadata": {
        "id": "zi_uZh0jYmC2"
      },
      "outputs": [],
      "source": [
        "#criando o vetor de features\n",
        "assembler = VectorAssembler(inputCols = ['Session_Connection_Time', \n",
        " 'Bytes Transferred',\n",
        " 'Kali_Trace_Used',\n",
        " 'Servers_Corrupted',\n",
        " 'Pages_Corrupted',\n",
        " 'WPM_Typing_Speed'], outputCol = 'features')"
      ]
    },
    {
      "cell_type": "code",
      "execution_count": null,
      "metadata": {
        "colab": {
          "base_uri": "https://localhost:8080/"
        },
        "id": "jVQXwMVcYzx_",
        "outputId": "0895e030-a048-4e35-860a-0d6bef101a16"
      },
      "outputs": [
        {
          "name": "stdout",
          "output_type": "stream",
          "text": [
            "root\n",
            " |-- Session_Connection_Time: double (nullable = true)\n",
            " |-- Bytes Transferred: double (nullable = true)\n",
            " |-- Kali_Trace_Used: integer (nullable = true)\n",
            " |-- Servers_Corrupted: double (nullable = true)\n",
            " |-- Pages_Corrupted: double (nullable = true)\n",
            " |-- Location: string (nullable = true)\n",
            " |-- WPM_Typing_Speed: double (nullable = true)\n",
            " |-- features: vector (nullable = true)\n",
            "\n"
          ]
        }
      ],
      "source": [
        "#visualizando como ficou o dataframe\n",
        "final_df = assembler.transform(df)\n",
        "final_df.printSchema()"
      ]
    },
    {
      "cell_type": "code",
      "execution_count": null,
      "metadata": {
        "id": "Xj3p4qhYY0jq"
      },
      "outputs": [],
      "source": [
        "#aplicando a normalização dos dados\n",
        "scaler = StandardScaler(inputCol = 'features', outputCol = 'scaledFeatures')\n",
        "scaler_model = scaler.fit(final_df)"
      ]
    },
    {
      "cell_type": "code",
      "execution_count": null,
      "metadata": {
        "colab": {
          "base_uri": "https://localhost:8080/"
        },
        "id": "EHmM6P0RZFN8",
        "outputId": "d9999d0a-8445-4e5f-ca0f-ea08a01ab0cc"
      },
      "outputs": [
        {
          "name": "stdout",
          "output_type": "stream",
          "text": [
            "root\n",
            " |-- Session_Connection_Time: double (nullable = true)\n",
            " |-- Bytes Transferred: double (nullable = true)\n",
            " |-- Kali_Trace_Used: integer (nullable = true)\n",
            " |-- Servers_Corrupted: double (nullable = true)\n",
            " |-- Pages_Corrupted: double (nullable = true)\n",
            " |-- Location: string (nullable = true)\n",
            " |-- WPM_Typing_Speed: double (nullable = true)\n",
            " |-- features: vector (nullable = true)\n",
            " |-- scaledFeatures: vector (nullable = true)\n",
            "\n"
          ]
        }
      ],
      "source": [
        "#visualizando como ficou o dataframe\n",
        "final_df = scaler_model.transform(final_df)\n",
        "final_df.printSchema()"
      ]
    },
    {
      "cell_type": "code",
      "execution_count": null,
      "metadata": {
        "colab": {
          "base_uri": "https://localhost:8080/"
        },
        "id": "Xu8eyVd2ZF1M",
        "outputId": "dcff91dc-01de-4d1e-c81e-a0080293fe7b"
      },
      "outputs": [
        {
          "name": "stdout",
          "output_type": "stream",
          "text": [
            "+--------------------------------+------------------------------------------------------------------------------------------------------------------+\n",
            "|features                        |scaledFeatures                                                                                                    |\n",
            "+--------------------------------+------------------------------------------------------------------------------------------------------------------+\n",
            "|[8.0,391.09,1.0,2.96,7.0,72.37] |[0.5678510846650524,1.3658432518957642,1.9975768336483841,1.2858903881191532,2.2849485348398866,5.396290958577967]|\n",
            "|[20.0,720.99,0.0,3.04,9.0,69.08]|[1.419627711662631,2.517986463945197,0.0,1.320644182392644,2.9377909733655687,5.150971112595909]                  |\n",
            "|[31.0,356.32,1.0,3.71,8.0,70.58]|[2.2004229530770782,1.2444124562517545,1.9975768336483841,1.611707209433128,2.6113697541027276,5.262819066691072] |\n",
            "|[2.0,228.08,1.0,2.48,8.0,70.8]  |[0.1419627711662631,0.7965469045293562,1.9975768336483841,1.0773676224782096,2.6113697541027276,5.279223433291696]|\n",
            "|[20.0,408.5,0.0,3.57,8.0,71.28] |[1.419627711662631,1.4266459597520256,0.0,1.5508880694545193,2.6113697541027276,5.315014778602148]                |\n",
            "+--------------------------------+------------------------------------------------------------------------------------------------------------------+\n",
            "only showing top 5 rows\n",
            "\n"
          ]
        }
      ],
      "source": [
        "#visualizando o vetor normalizado\n",
        "final_df.select('features','scaledFeatures').show(5, False)"
      ]
    },
    {
      "cell_type": "code",
      "execution_count": null,
      "metadata": {
        "colab": {
          "base_uri": "https://localhost:8080/"
        },
        "id": "Tls0jvtJZKq7",
        "outputId": "421989be-9293-418b-d152-16ca8f2218ab"
      },
      "outputs": [
        {
          "name": "stdout",
          "output_type": "stream",
          "text": [
            "+-----------------------+-----------------+---------------+-----------------+---------------+--------------------+----------------+--------------------+--------------------+\n",
            "|Session_Connection_Time|Bytes Transferred|Kali_Trace_Used|Servers_Corrupted|Pages_Corrupted|            Location|WPM_Typing_Speed|            features|      scaledFeatures|\n",
            "+-----------------------+-----------------+---------------+-----------------+---------------+--------------------+----------------+--------------------+--------------------+\n",
            "|                    8.0|           391.09|              1|             2.96|            7.0|            Slovenia|           72.37|[8.0,391.09,1.0,2...|[0.56785108466505...|\n",
            "|                   20.0|           720.99|              0|             3.04|            9.0|British Virgin Is...|           69.08|[20.0,720.99,0.0,...|[1.41962771166263...|\n",
            "|                   31.0|           356.32|              1|             3.71|            8.0|             Tokelau|           70.58|[31.0,356.32,1.0,...|[2.20042295307707...|\n",
            "|                    2.0|           228.08|              1|             2.48|            8.0|             Bolivia|            70.8|[2.0,228.08,1.0,2...|[0.14196277116626...|\n",
            "|                   20.0|            408.5|              0|             3.57|            8.0|                Iraq|           71.28|[20.0,408.5,0.0,3...|[1.41962771166263...|\n",
            "+-----------------------+-----------------+---------------+-----------------+---------------+--------------------+----------------+--------------------+--------------------+\n",
            "only showing top 5 rows\n",
            "\n"
          ]
        }
      ],
      "source": [
        "#visualizando todo o dataframe\n",
        "final_df.show(5)"
      ]
    },
    {
      "cell_type": "markdown",
      "metadata": {
        "id": "mNSPVTxscCfa"
      },
      "source": [
        "### Aplicando o K-Means sobre os dados preparados"
      ]
    },
    {
      "cell_type": "markdown",
      "metadata": {
        "id": "cEbxnkQUbonE"
      },
      "source": [
        "Para avaliar a suspeita de que tenha havido dois ou três hackers envolvidos, podemos criar dois modelos K-Means:\n",
        "\n",
        "* Um modelo será inicializado com dois clusters (k = 2),\n",
        "* Outro será inicializado com três grupos (k = 3).\n"
      ]
    },
    {
      "cell_type": "code",
      "execution_count": null,
      "metadata": {
        "id": "15NDJqyrZTQ5"
      },
      "outputs": [],
      "source": [
        "#construindo o objeto para clusterização com k = 2\n",
        "kmeans2 = KMeans(featuresCol = 'scaledFeatures', k=2)"
      ]
    },
    {
      "cell_type": "code",
      "execution_count": null,
      "metadata": {
        "id": "ahOVtzetZb6j"
      },
      "outputs": [],
      "source": [
        "#construindo o objeto para clusterização com k = 3\n",
        "kmeans3 = KMeans(featuresCol = 'scaledFeatures', k=3)"
      ]
    },
    {
      "cell_type": "code",
      "execution_count": null,
      "metadata": {
        "id": "Un7-OjtBZcaF"
      },
      "outputs": [],
      "source": [
        "#construindo o modelo k2\n",
        "model_k2 = kmeans2.fit(final_df)"
      ]
    },
    {
      "cell_type": "code",
      "execution_count": null,
      "metadata": {
        "id": "mciDUuunZfIx"
      },
      "outputs": [],
      "source": [
        "#construindo o modelo k3\n",
        "model_k3 = kmeans3.fit(final_df)"
      ]
    },
    {
      "cell_type": "markdown",
      "metadata": {
        "id": "n_eQBRh6ca1Q"
      },
      "source": [
        "O método computeCost() retorna o custo das médias K (soma dos quadrados das distâncias dos pontos ao centroide mais próximo).\n",
        "\n",
        "O melhor número para a quantidade de clusters é quando a adição de um novo cluster não muda significativamente a função de custo (método elbow)\n"
      ]
    },
    {
      "cell_type": "code",
      "execution_count": null,
      "metadata": {
        "colab": {
          "base_uri": "https://localhost:8080/"
        },
        "id": "qRail6PYZgEF",
        "outputId": "5561bbfe-5a21-4a56-f752-fccf6743386d"
      },
      "outputs": [
        {
          "name": "stdout",
          "output_type": "stream",
          "text": [
            "Soma do quadrado das distâncias - K2: 601.7707512676716\n",
            "Soma do quadrado das distâncias - K3: 434.1492898715845\n"
          ]
        }
      ],
      "source": [
        "#visualizando o custo computacional\n",
        "print('Soma do quadrado das distâncias - K2:', \n",
        "      model_k2.computeCost(final_df))\n",
        "print('Soma do quadrado das distâncias - K3:', \n",
        "      model_k3.computeCost(final_df))"
      ]
    },
    {
      "cell_type": "code",
      "execution_count": null,
      "metadata": {
        "colab": {
          "base_uri": "https://localhost:8080/"
        },
        "id": "ABJ2foUYZuMm",
        "outputId": "8600fb89-f079-4f48-c410-616fcc44ab7f"
      },
      "outputs": [
        {
          "name": "stdout",
          "output_type": "stream",
          "text": [
            "Com K=2\n",
            "Soma do quadrado das distâncias = 601.7707512676716\n",
            "------------------------------------------------------------\n",
            "Com K=3\n",
            "Soma do quadrado das distâncias = 434.1492898715845\n",
            "------------------------------------------------------------\n",
            "Com K=4\n",
            "Soma do quadrado das distâncias = 267.1336116887891\n",
            "------------------------------------------------------------\n",
            "Com K=5\n",
            "Soma do quadrado das distâncias = 250.79688411563797\n",
            "------------------------------------------------------------\n",
            "Com K=6\n",
            "Soma do quadrado das distâncias = 232.62054194167905\n",
            "------------------------------------------------------------\n",
            "Com K=7\n",
            "Soma do quadrado das distâncias = 216.47738554068349\n",
            "------------------------------------------------------------\n",
            "Com K=8\n",
            "Soma do quadrado das distâncias = 196.57053361253577\n",
            "------------------------------------------------------------\n"
          ]
        }
      ],
      "source": [
        "#visualizando com outros valores atribuídos ao k\n",
        "for k in range(2,9):\n",
        "  kmeans = KMeans(featuresCol='scaledFeatures',k=k)\n",
        "  model = kmeans.fit(final_df)\n",
        "  cost = model.computeCost(final_df)\n",
        "  print(\"Com K={}\".format(k))\n",
        "  print(\"Soma do quadrado das distâncias = \" + str(cost))\n",
        "  print('--'*30)"
      ]
    },
    {
      "cell_type": "code",
      "execution_count": null,
      "metadata": {
        "colab": {
          "base_uri": "https://localhost:8080/"
        },
        "id": "eeAsLpCxaA7p",
        "outputId": "633396da-f9fe-48ca-d0f0-d3b976dde026"
      },
      "outputs": [
        {
          "name": "stdout",
          "output_type": "stream",
          "text": [
            "+----------+-----+\n",
            "|prediction|count|\n",
            "+----------+-----+\n",
            "|         1|  167|\n",
            "|         2|   83|\n",
            "|         0|   84|\n",
            "+----------+-----+\n",
            "\n"
          ]
        }
      ],
      "source": [
        "#visualizando os resultados do modelo com k=3\n",
        "model_k3.transform(final_df).groupBy('prediction').count().show()"
      ]
    },
    {
      "cell_type": "markdown",
      "metadata": {
        "id": "YaBwcTCWc1t2"
      },
      "source": [
        "ANÁLISE: \n",
        "\n",
        "* Percebe-se que o número de instâncias não é semelhante entre os três clusters.\n",
        "* Como isso contraria as informações básicas de que os hackers negociam os ataques, parece improvável a participação de três hackers.\n",
        "\n",
        "Portanto, vamos verificar as classificações no caso de dois clusters."
      ]
    },
    {
      "cell_type": "code",
      "execution_count": null,
      "metadata": {
        "colab": {
          "base_uri": "https://localhost:8080/"
        },
        "id": "z2DqhBm8aKSz",
        "outputId": "68cc1fb9-f771-417b-868b-71c5eca2a654"
      },
      "outputs": [
        {
          "name": "stdout",
          "output_type": "stream",
          "text": [
            "+----------+-----+\n",
            "|prediction|count|\n",
            "+----------+-----+\n",
            "|         1|  167|\n",
            "|         0|  167|\n",
            "+----------+-----+\n",
            "\n"
          ]
        }
      ],
      "source": [
        "#visualizando os resultados do modelo com k=3\n",
        "model_k2.transform(final_df).groupBy('prediction').count().show()"
      ]
    },
    {
      "cell_type": "markdown",
      "metadata": {
        "id": "WuYHRN2Wc_N8"
      },
      "source": [
        "ANÁLISE: \n",
        "* Os dois clusters aqui têm exatamente o mesmo número de instâncias atribuídos a eles.\n",
        "* Isso se alinha perfeitamente à ideia de hackers negociando ataques.\n",
        "Portanto, é altamente provável que apenas dois hackers tenham se envolvido nos ataques.\n"
      ]
    },
    {
      "cell_type": "markdown",
      "metadata": {
        "id": "EL1Y6JW-8UeB"
      },
      "source": [
        "Parabéns! Ao chegar até aqui, você conseguiu executar exemplos de algoritmos de aprendizado de máquina utilizando o Apache Spark MLLib."
      ]
    }
  ],
  "metadata": {
    "colab": {
      "name": "PGVD.S7-AtividadeSparkMLlib.ipynb",
      "provenance": []
    },
    "kernelspec": {
      "display_name": "Python 3",
      "language": "python",
      "name": "python3"
    },
    "language_info": {
      "codemirror_mode": {
        "name": "ipython",
        "version": 3
      },
      "file_extension": ".py",
      "mimetype": "text/x-python",
      "name": "python",
      "nbconvert_exporter": "python",
      "pygments_lexer": "ipython3",
      "version": "3.8.5"
    }
  },
  "nbformat": 4,
  "nbformat_minor": 0
}