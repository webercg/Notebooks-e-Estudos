{
  "nbformat": 4,
  "nbformat_minor": 0,
  "metadata": {
    "colab": {
      "name": "PGVD.S6-AtividadeSpark.ipynb",
      "provenance": []
    },
    "kernelspec": {
      "display_name": "Python 3",
      "language": "python",
      "name": "python3"
    },
    "language_info": {
      "codemirror_mode": {
        "name": "ipython",
        "version": 3
      },
      "file_extension": ".py",
      "mimetype": "text/x-python",
      "name": "python",
      "nbconvert_exporter": "python",
      "pygments_lexer": "ipython3",
      "version": "3.8.5"
    }
  },
  "cells": [
    {
      "cell_type": "markdown",
      "metadata": {
        "id": "yP3YzSka-Y5X"
      },
      "source": [
        "#Disciplina: Processamento de Grande Volume de Dados\n",
        "\n",
        "Prof. Francisco Pereira Junior\n",
        "\n",
        "Profa. Rosangela Marquesone"
      ]
    },
    {
      "cell_type": "markdown",
      "metadata": {
        "id": "vutm_EfckEaA"
      },
      "source": [
        "Nesse notebook, as seguintes atividades serão realizadas:\n",
        "\n",
        "* Instalação do Spark\n",
        "* Criação de um SparkContext\n",
        "* Funcionalidades do Spark SQL"
      ]
    },
    {
      "cell_type": "markdown",
      "metadata": {
        "id": "NXF9a3O8-sUG"
      },
      "source": [
        "### Download do Java"
      ]
    },
    {
      "cell_type": "markdown",
      "metadata": {
        "id": "208kuSLHJlIh"
      },
      "source": [
        ""
      ]
    },
    {
      "cell_type": "code",
      "metadata": {
        "id": "L4TQ97HY-wD7"
      },
      "source": [
        "#download do Java\n",
        "!apt-get install openjdk-8-jdk-headless -qq > /dev/null"
      ],
      "execution_count": null,
      "outputs": []
    },
    {
      "cell_type": "markdown",
      "metadata": {
        "id": "x9wXoNSL-zQX"
      },
      "source": [
        "### Download do spark"
      ]
    },
    {
      "cell_type": "markdown",
      "metadata": {
        "id": "vuG77F6ckZrE"
      },
      "source": [
        "O download será feito a partir do seguinte link: https://archive.apache.org/dist/spark/spark-2.4.7/spark-2.4.7-bin-hadoop2.7.tgz"
      ]
    },
    {
      "cell_type": "code",
      "metadata": {
        "id": "-pt1bFdP_Lxc",
        "colab": {
          "base_uri": "https://localhost:8080/"
        },
        "outputId": "d5e5d96d-92b4-4e4b-d167-3d3878db23f1"
      },
      "source": [
        "#download do spark\n",
        "!wget https://archive.apache.org/dist/spark/spark-2.4.7/spark-2.4.7-bin-hadoop2.7.tgz"
      ],
      "execution_count": null,
      "outputs": [
        {
          "output_type": "stream",
          "name": "stdout",
          "text": [
            "--2022-05-02 01:20:51--  https://archive.apache.org/dist/spark/spark-2.4.7/spark-2.4.7-bin-hadoop2.7.tgz\n",
            "Resolving archive.apache.org (archive.apache.org)... 138.201.131.134, 2a01:4f8:172:2ec5::2\n",
            "Connecting to archive.apache.org (archive.apache.org)|138.201.131.134|:443... connected.\n",
            "HTTP request sent, awaiting response... 200 OK\n",
            "Length: 233333392 (223M) [application/x-gzip]\n",
            "Saving to: ‘spark-2.4.7-bin-hadoop2.7.tgz’\n",
            "\n",
            "spark-2.4.7-bin-had 100%[===================>] 222.52M  31.9MB/s    in 7.6s    \n",
            "\n",
            "2022-05-02 01:20:59 (29.2 MB/s) - ‘spark-2.4.7-bin-hadoop2.7.tgz’ saved [233333392/233333392]\n",
            "\n"
          ]
        }
      ]
    },
    {
      "cell_type": "markdown",
      "metadata": {
        "id": "ijArQo9V1eVM"
      },
      "source": [
        "### Descompatando o Spark"
      ]
    },
    {
      "cell_type": "code",
      "metadata": {
        "id": "BDxdYpQD-9Aq"
      },
      "source": [
        "#descompactando o spark\n",
        "!tar -xf /content/spark-2.4.7-bin-hadoop2.7.tgz"
      ],
      "execution_count": null,
      "outputs": []
    },
    {
      "cell_type": "markdown",
      "metadata": {
        "id": "v7_MTSE9-2pb"
      },
      "source": [
        "### Instalando o findspark"
      ]
    },
    {
      "cell_type": "markdown",
      "metadata": {
        "id": "E0p28Svu26re"
      },
      "source": [
        "A biblioteca findspark é utilizada para realizar a configuração do pyspark em um notebook, para não ser necessário a inicialização via linha de comando."
      ]
    },
    {
      "cell_type": "code",
      "metadata": {
        "id": "ZCDv5VEE-65T"
      },
      "source": [
        "#instalando o findspark\n",
        "!pip install -q findspark"
      ],
      "execution_count": null,
      "outputs": []
    },
    {
      "cell_type": "code",
      "metadata": {
        "id": "s0x9pFsxBCDu"
      },
      "source": [
        "#importando as bilbiotecas\n",
        "import findspark\n",
        "import os"
      ],
      "execution_count": null,
      "outputs": []
    },
    {
      "cell_type": "code",
      "metadata": {
        "id": "ZXrAKeIQ_oEv"
      },
      "source": [
        "#configurando a variável de ambiente do Java\n",
        "os.environ[\"JAVA_HOME\"] = \"/usr/lib/jvm/java-8-openjdk-amd64\"\n",
        "os.environ[\"SPARK_HOME\"] = \"/content/spark-2.4.7-bin-hadoop2.7\""
      ],
      "execution_count": null,
      "outputs": []
    },
    {
      "cell_type": "code",
      "metadata": {
        "id": "UJzNfSBa3L8U"
      },
      "source": [
        "#configurando a variável de ambiente do Spark\n",
        "os.environ[\"SPARK_HOME\"] = \"/content/spark-2.4.7-bin-hadoop2.7\""
      ],
      "execution_count": null,
      "outputs": []
    },
    {
      "cell_type": "code",
      "metadata": {
        "id": "u4u78je3_4dS"
      },
      "source": [
        "#informando a pasta raíz do Spark\n",
        "findspark.init(\"spark-2.4.7-bin-hadoop2.7\")"
      ],
      "execution_count": null,
      "outputs": []
    },
    {
      "cell_type": "markdown",
      "metadata": {
        "id": "76oTn8lF3Y_j"
      },
      "source": [
        "### Iniciando uma sessão do Spark em modo local"
      ]
    },
    {
      "cell_type": "markdown",
      "metadata": {
        "id": "umiWharKkysP"
      },
      "source": [
        "Conforme vimos em sala de aula, o Spark pode ser inicializado de diversos modos. Nesse exemplo utilizaremos o modo local, com a quantidade de threads de acordo com o número de cores do sistema."
      ]
    },
    {
      "cell_type": "code",
      "metadata": {
        "id": "8u7o0fidBKsi"
      },
      "source": [
        "#iniciando uma sessão do Spark\n",
        "from pyspark.sql import SparkSession\n",
        "spark = SparkSession.builder.master(\"local[*]\").getOrCreate()"
      ],
      "execution_count": null,
      "outputs": []
    },
    {
      "cell_type": "code",
      "metadata": {
        "colab": {
          "base_uri": "https://localhost:8080/",
          "height": 34
        },
        "id": "snqdk_ai5SiN",
        "outputId": "7dc5b818-9468-4288-8015-eade4f24f56e"
      },
      "source": [
        "#visualizando a versão do Spark\n",
        "spark.version"
      ],
      "execution_count": null,
      "outputs": [
        {
          "output_type": "execute_result",
          "data": {
            "text/plain": [
              "'2.4.7'"
            ],
            "application/vnd.google.colaboratory.intrinsic+json": {
              "type": "string"
            }
          },
          "metadata": {},
          "execution_count": 10
        }
      ]
    },
    {
      "cell_type": "code",
      "metadata": {
        "id": "tChEokHfriAw"
      },
      "source": [
        "#importando as bibliotecas do Spark e do Pandas\n",
        "from pyspark import SparkContext\n",
        "from pyspark.sql import SQLContext\n",
        "import pandas as pd"
      ],
      "execution_count": null,
      "outputs": []
    },
    {
      "cell_type": "markdown",
      "metadata": {
        "id": "qHD_5K-olDFf"
      },
      "source": [
        "Para essa atividade, iremos criar um objeto SQLContext, que requer como argumento um objeto SparkContext."
      ]
    },
    {
      "cell_type": "code",
      "metadata": {
        "id": "kNZVVCCFBRai"
      },
      "source": [
        "#iniciando o objeto SQLContext\n",
        "sc = SparkContext.getOrCreate()\n",
        "sqlContext = SQLContext(sc)"
      ],
      "execution_count": null,
      "outputs": []
    },
    {
      "cell_type": "markdown",
      "metadata": {
        "id": "4frG3F7z3zxC"
      },
      "source": [
        "## Parte II - Utilizando o Spark SQL"
      ]
    },
    {
      "cell_type": "markdown",
      "metadata": {
        "id": "COaxJUh-lQ8P"
      },
      "source": [
        "Para essa atividade, utilizaremos uma base de dados de teste utilizada para a construção de modelos para predição de churn."
      ]
    },
    {
      "cell_type": "markdown",
      "metadata": {
        "id": "jMGH6CGg347C"
      },
      "source": [
        "### Fazendo o download de dados"
      ]
    },
    {
      "cell_type": "markdown",
      "metadata": {
        "id": "tAtQJfKnCv2a"
      },
      "source": [
        "Link para download do dataset: https://raw.githubusercontent.com/bensadeghi/pyspark-churn-prediction/master/data/churn-bigml-20.csv"
      ]
    },
    {
      "cell_type": "markdown",
      "metadata": {
        "id": "utFxwKnAlcqk"
      },
      "source": [
        "### Carregando o dataset"
      ]
    },
    {
      "cell_type": "code",
      "metadata": {
        "colab": {
          "base_uri": "https://localhost:8080/"
        },
        "id": "0_BNY1vcB8_B",
        "outputId": "749a4180-7da1-4ad3-cb96-d5f465388964"
      },
      "source": [
        "#realizando o download dos dados\n",
        "!wget https://raw.githubusercontent.com/bensadeghi/pyspark-churn-prediction/master/data/churn-bigml-20.csv"
      ],
      "execution_count": null,
      "outputs": [
        {
          "output_type": "stream",
          "name": "stdout",
          "text": [
            "--2022-05-02 01:22:15--  https://raw.githubusercontent.com/bensadeghi/pyspark-churn-prediction/master/data/churn-bigml-20.csv\n",
            "Resolving raw.githubusercontent.com (raw.githubusercontent.com)... 185.199.109.133, 185.199.108.133, 185.199.111.133, ...\n",
            "Connecting to raw.githubusercontent.com (raw.githubusercontent.com)|185.199.109.133|:443... connected.\n",
            "HTTP request sent, awaiting response... 200 OK\n",
            "Length: 56329 (55K) [text/plain]\n",
            "Saving to: ‘churn-bigml-20.csv’\n",
            "\n",
            "\rchurn-bigml-20.csv    0%[                    ]       0  --.-KB/s               \rchurn-bigml-20.csv  100%[===================>]  55.01K  --.-KB/s    in 0.003s  \n",
            "\n",
            "2022-05-02 01:22:15 (16.1 MB/s) - ‘churn-bigml-20.csv’ saved [56329/56329]\n",
            "\n"
          ]
        }
      ]
    },
    {
      "cell_type": "code",
      "metadata": {
        "colab": {
          "base_uri": "https://localhost:8080/"
        },
        "id": "UGBGIJi7panK",
        "outputId": "64cfebf0-d07f-41a6-a588-d1f0d68285e8"
      },
      "source": [
        "#visualizando se o arquivo foi salvo\n",
        "!ls"
      ],
      "execution_count": null,
      "outputs": [
        {
          "output_type": "stream",
          "name": "stdout",
          "text": [
            "churn-bigml-20.csv  spark-2.4.7-bin-hadoop2.7\n",
            "sample_data\t    spark-2.4.7-bin-hadoop2.7.tgz\n"
          ]
        }
      ]
    },
    {
      "cell_type": "code",
      "metadata": {
        "id": "d1gV5e2OqqKs"
      },
      "source": [
        "#carregando o dataset\n",
        "df = sqlContext.read.load('churn-bigml-20.csv',\n",
        "                               format='csv',\n",
        "                               header='true',\n",
        "                              inferSchema='true')"
      ],
      "execution_count": null,
      "outputs": []
    },
    {
      "cell_type": "markdown",
      "metadata": {
        "id": "KRJoyoLl4OsG"
      },
      "source": [
        "### Análise exploratória dos dados"
      ]
    },
    {
      "cell_type": "markdown",
      "metadata": {
        "id": "Hn2G_BAElg1D"
      },
      "source": [
        "Na sequência, visualizaremos algumas funções do Spark e do SparkSQL para análise exploratória dos dados."
      ]
    },
    {
      "cell_type": "code",
      "metadata": {
        "colab": {
          "base_uri": "https://localhost:8080/"
        },
        "id": "ExCjW-gp46rY",
        "outputId": "64bc647c-2f9d-4369-dfd9-ed365c4fe182"
      },
      "source": [
        "#visualizando a estrutura do dataset\n",
        "print(type(df))"
      ],
      "execution_count": null,
      "outputs": [
        {
          "output_type": "stream",
          "name": "stdout",
          "text": [
            "<class 'pyspark.sql.dataframe.DataFrame'>\n"
          ]
        }
      ]
    },
    {
      "cell_type": "code",
      "metadata": {
        "colab": {
          "base_uri": "https://localhost:8080/"
        },
        "id": "JYV5L_8d8mV5",
        "outputId": "40947515-73b5-4b9d-fd1b-c3086439ce26"
      },
      "source": [
        "#visualizando as colunas do dataset\n",
        "df.columns"
      ],
      "execution_count": null,
      "outputs": [
        {
          "output_type": "execute_result",
          "data": {
            "text/plain": [
              "['State',\n",
              " 'Account length',\n",
              " 'Area code',\n",
              " 'International plan',\n",
              " 'Voice mail plan',\n",
              " 'Number vmail messages',\n",
              " 'Total day minutes',\n",
              " 'Total day calls',\n",
              " 'Total day charge',\n",
              " 'Total eve minutes',\n",
              " 'Total eve calls',\n",
              " 'Total eve charge',\n",
              " 'Total night minutes',\n",
              " 'Total night calls',\n",
              " 'Total night charge',\n",
              " 'Total intl minutes',\n",
              " 'Total intl calls',\n",
              " 'Total intl charge',\n",
              " 'Customer service calls',\n",
              " 'Churn']"
            ]
          },
          "metadata": {},
          "execution_count": 17
        }
      ]
    },
    {
      "cell_type": "code",
      "metadata": {
        "colab": {
          "base_uri": "https://localhost:8080/"
        },
        "id": "0-P-eExlpHw7",
        "outputId": "e12635d7-3f91-45df-98f4-1437c25fcef8"
      },
      "source": [
        "#visualizando os tipos de dados dos atributos\n",
        "df.dtypes"
      ],
      "execution_count": null,
      "outputs": [
        {
          "output_type": "execute_result",
          "data": {
            "text/plain": [
              "[('State', 'string'),\n",
              " ('Account length', 'int'),\n",
              " ('Area code', 'int'),\n",
              " ('International plan', 'string'),\n",
              " ('Voice mail plan', 'string'),\n",
              " ('Number vmail messages', 'int'),\n",
              " ('Total day minutes', 'double'),\n",
              " ('Total day calls', 'int'),\n",
              " ('Total day charge', 'double'),\n",
              " ('Total eve minutes', 'double'),\n",
              " ('Total eve calls', 'int'),\n",
              " ('Total eve charge', 'double'),\n",
              " ('Total night minutes', 'double'),\n",
              " ('Total night calls', 'int'),\n",
              " ('Total night charge', 'double'),\n",
              " ('Total intl minutes', 'double'),\n",
              " ('Total intl calls', 'int'),\n",
              " ('Total intl charge', 'double'),\n",
              " ('Customer service calls', 'int'),\n",
              " ('Churn', 'boolean')]"
            ]
          },
          "metadata": {},
          "execution_count": 18
        }
      ]
    },
    {
      "cell_type": "code",
      "metadata": {
        "colab": {
          "base_uri": "https://localhost:8080/"
        },
        "id": "6yzXoe1Otjp6",
        "outputId": "a22e3626-2ecb-41f6-8187-2a59ecd85425"
      },
      "source": [
        "#visualizando o schema dos dados\n",
        "df.printSchema()"
      ],
      "execution_count": null,
      "outputs": [
        {
          "output_type": "stream",
          "name": "stdout",
          "text": [
            "root\n",
            " |-- State: string (nullable = true)\n",
            " |-- Account length: integer (nullable = true)\n",
            " |-- Area code: integer (nullable = true)\n",
            " |-- International plan: string (nullable = true)\n",
            " |-- Voice mail plan: string (nullable = true)\n",
            " |-- Number vmail messages: integer (nullable = true)\n",
            " |-- Total day minutes: double (nullable = true)\n",
            " |-- Total day calls: integer (nullable = true)\n",
            " |-- Total day charge: double (nullable = true)\n",
            " |-- Total eve minutes: double (nullable = true)\n",
            " |-- Total eve calls: integer (nullable = true)\n",
            " |-- Total eve charge: double (nullable = true)\n",
            " |-- Total night minutes: double (nullable = true)\n",
            " |-- Total night calls: integer (nullable = true)\n",
            " |-- Total night charge: double (nullable = true)\n",
            " |-- Total intl minutes: double (nullable = true)\n",
            " |-- Total intl calls: integer (nullable = true)\n",
            " |-- Total intl charge: double (nullable = true)\n",
            " |-- Customer service calls: integer (nullable = true)\n",
            " |-- Churn: boolean (nullable = true)\n",
            "\n"
          ]
        }
      ]
    },
    {
      "cell_type": "code",
      "metadata": {
        "colab": {
          "base_uri": "https://localhost:8080/"
        },
        "id": "GfoLrrDO8-n4",
        "outputId": "312bcbbe-fd65-4009-c181-55a51d2a766d"
      },
      "source": [
        "#visualizando a quantidade de linhas\n",
        "df.count()"
      ],
      "execution_count": null,
      "outputs": [
        {
          "output_type": "execute_result",
          "data": {
            "text/plain": [
              "667"
            ]
          },
          "metadata": {},
          "execution_count": 20
        }
      ]
    },
    {
      "cell_type": "code",
      "metadata": {
        "colab": {
          "base_uri": "https://localhost:8080/"
        },
        "id": "cxt-cHTz1ABO",
        "outputId": "19bd25db-2ce3-4fc9-e2e9-4f417c43339d"
      },
      "source": [
        "#visualizando a primeira linha\n",
        "df.first()"
      ],
      "execution_count": null,
      "outputs": [
        {
          "output_type": "execute_result",
          "data": {
            "text/plain": [
              "Row(State='LA', Account length=117, Area code=408, International plan='No', Voice mail plan='No', Number vmail messages=0, Total day minutes=184.5, Total day calls=97, Total day charge=31.37, Total eve minutes=351.6, Total eve calls=80, Total eve charge=29.89, Total night minutes=215.8, Total night calls=90, Total night charge=9.71, Total intl minutes=8.7, Total intl calls=4, Total intl charge=2.35, Customer service calls=1, Churn=False)"
            ]
          },
          "metadata": {},
          "execution_count": 21
        }
      ]
    },
    {
      "cell_type": "markdown",
      "metadata": {
        "id": "SvpgDnQl1eQ2"
      },
      "source": [
        "Uma boa prática é remover os registros duplicados, caso haja algum"
      ]
    },
    {
      "cell_type": "code",
      "metadata": {
        "colab": {
          "base_uri": "https://localhost:8080/"
        },
        "id": "fpz3kdPo1Lwd",
        "outputId": "69728d6b-9f4d-4093-da35-2e6dc11d3d1a"
      },
      "source": [
        "#removendo registros duplicados\n",
        "df = df.dropDuplicates()\n",
        "df.count()"
      ],
      "execution_count": null,
      "outputs": [
        {
          "output_type": "execute_result",
          "data": {
            "text/plain": [
              "667"
            ]
          },
          "metadata": {},
          "execution_count": 22
        }
      ]
    },
    {
      "cell_type": "markdown",
      "metadata": {
        "id": "l1byruF1pt5V"
      },
      "source": [
        "Uma das opções para visualizar o conteúdo de um dataframe no Spark é por meio do método take(n), no qual n é o número de registros que deseja visualizar"
      ]
    },
    {
      "cell_type": "code",
      "metadata": {
        "colab": {
          "base_uri": "https://localhost:8080/"
        },
        "id": "-12hx2gjt94v",
        "outputId": "68fdd176-d628-4774-a85c-5e1de6d93a4f"
      },
      "source": [
        "#visualizandoo os top n registros\n",
        "df.take(5)"
      ],
      "execution_count": null,
      "outputs": [
        {
          "output_type": "execute_result",
          "data": {
            "text/plain": [
              "[Row(State='ME', Account length=80, Area code=408, International plan='No', Voice mail plan='No', Number vmail messages=0, Total day minutes=322.3, Total day calls=113, Total day charge=54.79, Total eve minutes=222.0, Total eve calls=95, Total eve charge=18.87, Total night minutes=162.8, Total night calls=123, Total night charge=7.33, Total intl minutes=6.7, Total intl calls=8, Total intl charge=1.81, Customer service calls=0, Churn=True),\n",
              " Row(State='NH', Account length=155, Area code=408, International plan='No', Voice mail plan='No', Number vmail messages=0, Total day minutes=216.7, Total day calls=30, Total day charge=36.84, Total eve minutes=144.3, Total eve calls=125, Total eve charge=12.27, Total night minutes=135.3, Total night calls=106, Total night charge=6.09, Total intl minutes=10.8, Total intl calls=1, Total intl charge=2.92, Customer service calls=2, Churn=False),\n",
              " Row(State='HI', Account length=111, Area code=408, International plan='No', Voice mail plan='Yes', Number vmail messages=13, Total day minutes=193.1, Total day calls=104, Total day charge=32.83, Total eve minutes=111.6, Total eve calls=98, Total eve charge=9.49, Total night minutes=227.4, Total night calls=94, Total night charge=10.23, Total intl minutes=12.1, Total intl calls=4, Total intl charge=3.27, Customer service calls=1, Churn=False),\n",
              " Row(State='AZ', Account length=82, Area code=415, International plan='No', Voice mail plan='Yes', Number vmail messages=33, Total day minutes=137.8, Total day calls=95, Total day charge=23.43, Total eve minutes=235.5, Total eve calls=128, Total eve charge=20.02, Total night minutes=268.1, Total night calls=70, Total night charge=12.06, Total intl minutes=11.0, Total intl calls=6, Total intl charge=2.97, Customer service calls=2, Churn=False),\n",
              " Row(State='NV', Account length=64, Area code=415, International plan='No', Voice mail plan='No', Number vmail messages=0, Total day minutes=97.2, Total day calls=80, Total day charge=16.52, Total eve minutes=186.2, Total eve calls=90, Total eve charge=15.83, Total night minutes=189.0, Total night calls=92, Total night charge=8.5, Total intl minutes=10.4, Total intl calls=6, Total intl charge=2.81, Customer service calls=2, Churn=False)]"
            ]
          },
          "metadata": {},
          "execution_count": 23
        }
      ]
    },
    {
      "cell_type": "markdown",
      "metadata": {
        "id": "Vp8u6WgPqLg4"
      },
      "source": [
        "Uma outra opção é utilizar o método collect(), caso queira visualizar todo o conteúdo do dataset. Entretanto, como o Spark mantém esses dados em memória, é preciso tomar cuidado com essa operação."
      ]
    },
    {
      "cell_type": "code",
      "metadata": {
        "colab": {
          "base_uri": "https://localhost:8080/"
        },
        "id": "EDVU5XTUqXUA",
        "outputId": "14fccc51-cda8-4d79-d6d0-d99f16ef709a"
      },
      "source": [
        "#visualizando os registros por meio do método collect()\n",
        "df.collect()"
      ],
      "execution_count": null,
      "outputs": [
        {
          "output_type": "execute_result",
          "data": {
            "text/plain": [
              "[Row(State='ME', Account length=80, Area code=408, International plan='No', Voice mail plan='No', Number vmail messages=0, Total day minutes=322.3, Total day calls=113, Total day charge=54.79, Total eve minutes=222.0, Total eve calls=95, Total eve charge=18.87, Total night minutes=162.8, Total night calls=123, Total night charge=7.33, Total intl minutes=6.7, Total intl calls=8, Total intl charge=1.81, Customer service calls=0, Churn=True),\n",
              " Row(State='NH', Account length=155, Area code=408, International plan='No', Voice mail plan='No', Number vmail messages=0, Total day minutes=216.7, Total day calls=30, Total day charge=36.84, Total eve minutes=144.3, Total eve calls=125, Total eve charge=12.27, Total night minutes=135.3, Total night calls=106, Total night charge=6.09, Total intl minutes=10.8, Total intl calls=1, Total intl charge=2.92, Customer service calls=2, Churn=False),\n",
              " Row(State='HI', Account length=111, Area code=408, International plan='No', Voice mail plan='Yes', Number vmail messages=13, Total day minutes=193.1, Total day calls=104, Total day charge=32.83, Total eve minutes=111.6, Total eve calls=98, Total eve charge=9.49, Total night minutes=227.4, Total night calls=94, Total night charge=10.23, Total intl minutes=12.1, Total intl calls=4, Total intl charge=3.27, Customer service calls=1, Churn=False),\n",
              " Row(State='AZ', Account length=82, Area code=415, International plan='No', Voice mail plan='Yes', Number vmail messages=33, Total day minutes=137.8, Total day calls=95, Total day charge=23.43, Total eve minutes=235.5, Total eve calls=128, Total eve charge=20.02, Total night minutes=268.1, Total night calls=70, Total night charge=12.06, Total intl minutes=11.0, Total intl calls=6, Total intl charge=2.97, Customer service calls=2, Churn=False),\n",
              " Row(State='NV', Account length=64, Area code=415, International plan='No', Voice mail plan='No', Number vmail messages=0, Total day minutes=97.2, Total day calls=80, Total day charge=16.52, Total eve minutes=186.2, Total eve calls=90, Total eve charge=15.83, Total night minutes=189.0, Total night calls=92, Total night charge=8.5, Total intl minutes=10.4, Total intl calls=6, Total intl charge=2.81, Customer service calls=2, Churn=False),\n",
              " Row(State='UT', Account length=103, Area code=510, International plan='No', Voice mail plan='Yes', Number vmail messages=36, Total day minutes=87.2, Total day calls=92, Total day charge=14.82, Total eve minutes=169.3, Total eve calls=110, Total eve charge=14.39, Total night minutes=166.7, Total night calls=80, Total night charge=7.5, Total intl minutes=10.9, Total intl calls=5, Total intl charge=2.94, Customer service calls=6, Churn=True),\n",
              " Row(State='ND', Account length=70, Area code=415, International plan='No', Voice mail plan='Yes', Number vmail messages=31, Total day minutes=125.9, Total day calls=101, Total day charge=21.4, Total eve minutes=196.4, Total eve calls=102, Total eve charge=16.69, Total night minutes=252.7, Total night calls=75, Total night charge=11.37, Total intl minutes=10.3, Total intl calls=4, Total intl charge=2.78, Customer service calls=1, Churn=False),\n",
              " Row(State='KY', Account length=113, Area code=408, International plan='No', Voice mail plan='Yes', Number vmail messages=20, Total day minutes=157.8, Total day calls=83, Total day charge=26.83, Total eve minutes=161.5, Total eve calls=56, Total eve charge=13.73, Total night minutes=271.5, Total night calls=100, Total night charge=12.22, Total intl minutes=8.7, Total intl calls=2, Total intl charge=2.35, Customer service calls=5, Churn=True),\n",
              " Row(State='TX', Account length=90, Area code=408, International plan='No', Voice mail plan='Yes', Number vmail messages=27, Total day minutes=156.7, Total day calls=51, Total day charge=26.64, Total eve minutes=236.5, Total eve calls=118, Total eve charge=20.1, Total night minutes=123.2, Total night calls=111, Total night charge=5.54, Total intl minutes=12.6, Total intl calls=6, Total intl charge=3.4, Customer service calls=2, Churn=False),\n",
              " Row(State='OH', Account length=162, Area code=415, International plan='No', Voice mail plan='No', Number vmail messages=0, Total day minutes=135.2, Total day calls=98, Total day charge=22.98, Total eve minutes=242.0, Total eve calls=107, Total eve charge=20.57, Total night minutes=246.9, Total night calls=96, Total night charge=11.11, Total intl minutes=10.2, Total intl calls=2, Total intl charge=2.75, Customer service calls=2, Churn=False),\n",
              " Row(State='NE', Account length=95, Area code=510, International plan='No', Voice mail plan='No', Number vmail messages=0, Total day minutes=58.2, Total day calls=96, Total day charge=9.89, Total eve minutes=202.1, Total eve calls=126, Total eve charge=17.18, Total night minutes=210.5, Total night calls=97, Total night charge=9.47, Total intl minutes=10.4, Total intl calls=5, Total intl charge=2.81, Customer service calls=0, Churn=False),\n",
              " Row(State='WV', Account length=87, Area code=415, International plan='No', Voice mail plan='No', Number vmail messages=0, Total day minutes=58.0, Total day calls=125, Total day charge=9.86, Total eve minutes=67.5, Total eve calls=116, Total eve charge=5.74, Total night minutes=185.9, Total night calls=136, Total night charge=8.37, Total intl minutes=11.5, Total intl calls=3, Total intl charge=3.11, Customer service calls=0, Churn=False),\n",
              " Row(State='AR', Account length=153, Area code=408, International plan='No', Voice mail plan='No', Number vmail messages=0, Total day minutes=154.6, Total day calls=56, Total day charge=26.28, Total eve minutes=263.0, Total eve calls=84, Total eve charge=22.36, Total night minutes=367.7, Total night calls=89, Total night charge=16.55, Total intl minutes=15.5, Total intl calls=2, Total intl charge=4.19, Customer service calls=1, Churn=False),\n",
              " Row(State='NJ', Account length=35, Area code=408, International plan='No', Voice mail plan='No', Number vmail messages=0, Total day minutes=158.6, Total day calls=67, Total day charge=26.96, Total eve minutes=130.4, Total eve calls=96, Total eve charge=11.08, Total night minutes=229.8, Total night calls=80, Total night charge=10.34, Total intl minutes=6.9, Total intl calls=5, Total intl charge=1.86, Customer service calls=2, Churn=False),\n",
              " Row(State='VA', Account length=158, Area code=415, International plan='No', Voice mail plan='No', Number vmail messages=0, Total day minutes=222.8, Total day calls=101, Total day charge=37.88, Total eve minutes=203.0, Total eve calls=128, Total eve charge=17.26, Total night minutes=210.6, Total night calls=106, Total night charge=9.48, Total intl minutes=6.9, Total intl calls=2, Total intl charge=1.86, Customer service calls=2, Churn=False),\n",
              " Row(State='MT', Account length=106, Area code=510, International plan='No', Voice mail plan='No', Number vmail messages=0, Total day minutes=169.4, Total day calls=107, Total day charge=28.8, Total eve minutes=197.2, Total eve calls=71, Total eve charge=16.76, Total night minutes=202.2, Total night calls=79, Total night charge=9.1, Total intl minutes=10.7, Total intl calls=4, Total intl charge=2.89, Customer service calls=1, Churn=False),\n",
              " Row(State='FL', Account length=144, Area code=415, International plan='No', Voice mail plan='Yes', Number vmail messages=51, Total day minutes=283.9, Total day calls=98, Total day charge=48.26, Total eve minutes=192.0, Total eve calls=109, Total eve charge=16.32, Total night minutes=196.3, Total night calls=85, Total night charge=8.83, Total intl minutes=10.0, Total intl calls=4, Total intl charge=2.7, Customer service calls=1, Churn=False),\n",
              " Row(State='AR', Account length=63, Area code=510, International plan='No', Voice mail plan='Yes', Number vmail messages=49, Total day minutes=214.9, Total day calls=86, Total day charge=36.53, Total eve minutes=198.2, Total eve calls=89, Total eve charge=16.85, Total night minutes=170.8, Total night calls=139, Total night charge=7.69, Total intl minutes=8.2, Total intl calls=5, Total intl charge=2.21, Customer service calls=0, Churn=False),\n",
              " Row(State='ND', Account length=118, Area code=415, International plan='No', Voice mail plan='Yes', Number vmail messages=39, Total day minutes=91.5, Total day calls=125, Total day charge=15.56, Total eve minutes=219.9, Total eve calls=113, Total eve charge=18.69, Total night minutes=229.0, Total night calls=99, Total night charge=10.31, Total intl minutes=12.7, Total intl calls=8, Total intl charge=3.43, Customer service calls=2, Churn=False),\n",
              " Row(State='MA', Account length=142, Area code=408, International plan='No', Voice mail plan='No', Number vmail messages=0, Total day minutes=216.8, Total day calls=134, Total day charge=36.86, Total eve minutes=187.8, Total eve calls=106, Total eve charge=15.96, Total night minutes=138.1, Total night calls=108, Total night charge=6.21, Total intl minutes=8.3, Total intl calls=2, Total intl charge=2.24, Customer service calls=0, Churn=False),\n",
              " Row(State='OH', Account length=65, Area code=408, International plan='No', Voice mail plan='No', Number vmail messages=0, Total day minutes=187.9, Total day calls=116, Total day charge=31.94, Total eve minutes=157.6, Total eve calls=117, Total eve charge=13.4, Total night minutes=227.3, Total night calls=86, Total night charge=10.23, Total intl minutes=7.5, Total intl calls=6, Total intl charge=2.03, Customer service calls=1, Churn=False),\n",
              " Row(State='IN', Account length=100, Area code=510, International plan='No', Voice mail plan='No', Number vmail messages=0, Total day minutes=216.2, Total day calls=107, Total day charge=36.75, Total eve minutes=215.6, Total eve calls=84, Total eve charge=18.33, Total night minutes=138.4, Total night calls=127, Total night charge=6.23, Total intl minutes=10.2, Total intl calls=3, Total intl charge=2.75, Customer service calls=0, Churn=False),\n",
              " Row(State='TX', Account length=50, Area code=510, International plan='No', Voice mail plan='No', Number vmail messages=0, Total day minutes=188.9, Total day calls=94, Total day charge=32.11, Total eve minutes=203.9, Total eve calls=104, Total eve charge=17.33, Total night minutes=151.8, Total night calls=124, Total night charge=6.83, Total intl minutes=11.6, Total intl calls=8, Total intl charge=3.13, Customer service calls=3, Churn=False),\n",
              " Row(State='MI', Account length=105, Area code=415, International plan='No', Voice mail plan='Yes', Number vmail messages=29, Total day minutes=179.4, Total day calls=113, Total day charge=30.5, Total eve minutes=275.4, Total eve calls=100, Total eve charge=23.41, Total night minutes=246.1, Total night calls=105, Total night charge=11.07, Total intl minutes=10.0, Total intl calls=5, Total intl charge=2.7, Customer service calls=0, Churn=False),\n",
              " Row(State='SC', Account length=159, Area code=415, International plan='No', Voice mail plan='Yes', Number vmail messages=23, Total day minutes=153.6, Total day calls=93, Total day charge=26.11, Total eve minutes=216.9, Total eve calls=88, Total eve charge=18.44, Total night minutes=161.3, Total night calls=91, Total night charge=7.26, Total intl minutes=12.6, Total intl calls=3, Total intl charge=3.4, Customer service calls=2, Churn=False),\n",
              " Row(State='MT', Account length=102, Area code=408, International plan='No', Voice mail plan='No', Number vmail messages=0, Total day minutes=273.2, Total day calls=85, Total day charge=46.44, Total eve minutes=211.1, Total eve calls=82, Total eve charge=17.94, Total night minutes=203.7, Total night calls=129, Total night charge=9.17, Total intl minutes=13.1, Total intl calls=7, Total intl charge=3.54, Customer service calls=2, Churn=True),\n",
              " Row(State='OR', Account length=81, Area code=415, International plan='No', Voice mail plan='No', Number vmail messages=0, Total day minutes=324.7, Total day calls=48, Total day charge=55.2, Total eve minutes=236.4, Total eve calls=82, Total eve charge=20.09, Total night minutes=187.6, Total night calls=78, Total night charge=8.44, Total intl minutes=13.1, Total intl calls=5, Total intl charge=3.54, Customer service calls=0, Churn=True),\n",
              " Row(State='KS', Account length=120, Area code=510, International plan='No', Voice mail plan='No', Number vmail messages=0, Total day minutes=158.0, Total day calls=110, Total day charge=26.86, Total eve minutes=197.0, Total eve calls=103, Total eve charge=16.75, Total night minutes=154.9, Total night calls=132, Total night charge=6.97, Total intl minutes=10.0, Total intl calls=5, Total intl charge=2.7, Customer service calls=1, Churn=False),\n",
              " Row(State='IL', Account length=87, Area code=510, International plan='No', Voice mail plan='No', Number vmail messages=0, Total day minutes=231.3, Total day calls=105, Total day charge=39.32, Total eve minutes=171.7, Total eve calls=108, Total eve charge=14.59, Total night minutes=67.7, Total night calls=136, Total night charge=3.05, Total intl minutes=13.0, Total intl calls=6, Total intl charge=3.51, Customer service calls=1, Churn=False),\n",
              " Row(State='NY', Account length=167, Area code=415, International plan='No', Voice mail plan='No', Number vmail messages=0, Total day minutes=166.4, Total day calls=85, Total day charge=28.29, Total eve minutes=243.2, Total eve calls=135, Total eve charge=20.67, Total night minutes=229.2, Total night calls=95, Total night charge=10.31, Total intl minutes=9.9, Total intl calls=5, Total intl charge=2.67, Customer service calls=1, Churn=False),\n",
              " Row(State='MI', Account length=61, Area code=415, International plan='No', Voice mail plan='Yes', Number vmail messages=33, Total day minutes=270.7, Total day calls=53, Total day charge=46.02, Total eve minutes=200.7, Total eve calls=116, Total eve charge=17.06, Total night minutes=201.7, Total night calls=102, Total night charge=9.08, Total intl minutes=10.9, Total intl calls=3, Total intl charge=2.94, Customer service calls=3, Churn=False),\n",
              " Row(State='NY', Account length=120, Area code=510, International plan='No', Voice mail plan='Yes', Number vmail messages=27, Total day minutes=128.5, Total day calls=115, Total day charge=21.85, Total eve minutes=163.7, Total eve calls=91, Total eve charge=13.91, Total night minutes=242.9, Total night calls=121, Total night charge=10.93, Total intl minutes=0.0, Total intl calls=0, Total intl charge=0.0, Customer service calls=1, Churn=False),\n",
              " Row(State='OH', Account length=144, Area code=415, International plan='No', Voice mail plan='Yes', Number vmail messages=18, Total day minutes=106.4, Total day calls=109, Total day charge=18.09, Total eve minutes=108.1, Total eve calls=113, Total eve charge=9.19, Total night minutes=208.4, Total night calls=111, Total night charge=9.38, Total intl minutes=10.1, Total intl calls=5, Total intl charge=2.73, Customer service calls=1, Churn=False),\n",
              " Row(State='KY', Account length=60, Area code=408, International plan='No', Voice mail plan='No', Number vmail messages=0, Total day minutes=135.4, Total day calls=134, Total day charge=23.02, Total eve minutes=205.9, Total eve calls=85, Total eve charge=17.5, Total night minutes=204.0, Total night calls=103, Total night charge=9.18, Total intl minutes=7.9, Total intl calls=4, Total intl charge=2.13, Customer service calls=1, Churn=False),\n",
              " Row(State='WA', Account length=82, Area code=510, International plan='No', Voice mail plan='No', Number vmail messages=0, Total day minutes=265.2, Total day calls=122, Total day charge=45.08, Total eve minutes=178.7, Total eve calls=102, Total eve charge=15.19, Total night minutes=174.7, Total night calls=90, Total night charge=7.86, Total intl minutes=10.7, Total intl calls=9, Total intl charge=2.89, Customer service calls=2, Churn=False),\n",
              " Row(State='CO', Account length=130, Area code=408, International plan='No', Voice mail plan='No', Number vmail messages=0, Total day minutes=271.8, Total day calls=129, Total day charge=46.21, Total eve minutes=237.2, Total eve calls=128, Total eve charge=20.16, Total night minutes=210.1, Total night calls=91, Total night charge=9.45, Total intl minutes=8.7, Total intl calls=2, Total intl charge=2.35, Customer service calls=4, Churn=True),\n",
              " Row(State='SC', Account length=111, Area code=510, International plan='No', Voice mail plan='No', Number vmail messages=0, Total day minutes=78.3, Total day calls=119, Total day charge=13.31, Total eve minutes=198.2, Total eve calls=94, Total eve charge=16.85, Total night minutes=248.5, Total night calls=94, Total night charge=11.18, Total intl minutes=12.1, Total intl calls=4, Total intl charge=3.27, Customer service calls=1, Churn=False),\n",
              " Row(State='OR', Account length=165, Area code=415, International plan='No', Voice mail plan='No', Number vmail messages=0, Total day minutes=216.6, Total day calls=126, Total day charge=36.82, Total eve minutes=190.8, Total eve calls=104, Total eve charge=16.22, Total night minutes=224.7, Total night calls=123, Total night charge=10.11, Total intl minutes=12.4, Total intl calls=8, Total intl charge=3.35, Customer service calls=0, Churn=False),\n",
              " Row(State='NJ', Account length=107, Area code=415, International plan='No', Voice mail plan='No', Number vmail messages=0, Total day minutes=212.1, Total day calls=95, Total day charge=36.06, Total eve minutes=150.1, Total eve calls=88, Total eve charge=12.76, Total night minutes=219.8, Total night calls=111, Total night charge=9.89, Total intl minutes=7.7, Total intl calls=2, Total intl charge=2.08, Customer service calls=3, Churn=False),\n",
              " Row(State='NM', Account length=119, Area code=415, International plan='Yes', Voice mail plan='Yes', Number vmail messages=15, Total day minutes=160.0, Total day calls=95, Total day charge=27.2, Total eve minutes=209.5, Total eve calls=110, Total eve charge=17.81, Total night minutes=82.3, Total night calls=107, Total night charge=3.7, Total intl minutes=8.7, Total intl calls=5, Total intl charge=2.35, Customer service calls=5, Churn=True),\n",
              " Row(State='MD', Account length=93, Area code=510, International plan='Yes', Voice mail plan='No', Number vmail messages=0, Total day minutes=131.4, Total day calls=78, Total day charge=22.34, Total eve minutes=219.7, Total eve calls=106, Total eve charge=18.67, Total night minutes=155.7, Total night calls=103, Total night charge=7.01, Total intl minutes=11.1, Total intl calls=2, Total intl charge=3.0, Customer service calls=1, Churn=True),\n",
              " Row(State='OH', Account length=146, Area code=415, International plan='No', Voice mail plan='No', Number vmail messages=0, Total day minutes=169.5, Total day calls=93, Total day charge=28.82, Total eve minutes=230.9, Total eve calls=71, Total eve charge=19.63, Total night minutes=269.8, Total night calls=115, Total night charge=12.14, Total intl minutes=9.0, Total intl calls=7, Total intl charge=2.43, Customer service calls=2, Churn=False),\n",
              " Row(State='ND', Account length=123, Area code=408, International plan='No', Voice mail plan='No', Number vmail messages=0, Total day minutes=159.1, Total day calls=94, Total day charge=27.05, Total eve minutes=241.6, Total eve calls=119, Total eve charge=20.54, Total night minutes=202.4, Total night calls=120, Total night charge=9.11, Total intl minutes=6.5, Total intl calls=1, Total intl charge=1.76, Customer service calls=1, Churn=False),\n",
              " Row(State='AR', Account length=156, Area code=415, International plan='No', Voice mail plan='No', Number vmail messages=0, Total day minutes=178.8, Total day calls=94, Total day charge=30.4, Total eve minutes=178.4, Total eve calls=97, Total eve charge=15.16, Total night minutes=169.2, Total night calls=77, Total night charge=7.61, Total intl minutes=7.5, Total intl calls=3, Total intl charge=2.03, Customer service calls=1, Churn=False),\n",
              " Row(State='OK', Account length=123, Area code=415, International plan='No', Voice mail plan='Yes', Number vmail messages=27, Total day minutes=198.7, Total day calls=127, Total day charge=33.78, Total eve minutes=249.0, Total eve calls=105, Total eve charge=21.17, Total night minutes=173.2, Total night calls=124, Total night charge=7.79, Total intl minutes=12.5, Total intl calls=5, Total intl charge=3.38, Customer service calls=1, Churn=False),\n",
              " Row(State='NE', Account length=117, Area code=415, International plan='No', Voice mail plan='No', Number vmail messages=0, Total day minutes=102.8, Total day calls=119, Total day charge=17.48, Total eve minutes=206.7, Total eve calls=91, Total eve charge=17.57, Total night minutes=299.0, Total night calls=105, Total night charge=13.46, Total intl minutes=10.1, Total intl calls=7, Total intl charge=2.73, Customer service calls=1, Churn=False),\n",
              " Row(State='AZ', Account length=92, Area code=415, International plan='Yes', Voice mail plan='Yes', Number vmail messages=45, Total day minutes=281.1, Total day calls=88, Total day charge=47.79, Total eve minutes=198.0, Total eve calls=103, Total eve charge=16.83, Total night minutes=94.3, Total night calls=76, Total night charge=4.24, Total intl minutes=7.5, Total intl calls=3, Total intl charge=2.03, Customer service calls=0, Churn=False),\n",
              " Row(State='PA', Account length=134, Area code=408, International plan='No', Voice mail plan='No', Number vmail messages=0, Total day minutes=205.3, Total day calls=122, Total day charge=34.9, Total eve minutes=240.5, Total eve calls=155, Total eve charge=20.44, Total night minutes=179.1, Total night calls=107, Total night charge=8.06, Total intl minutes=5.0, Total intl calls=9, Total intl charge=1.35, Customer service calls=1, Churn=False),\n",
              " Row(State='IL', Account length=90, Area code=415, International plan='No', Voice mail plan='Yes', Number vmail messages=29, Total day minutes=185.6, Total day calls=106, Total day charge=31.55, Total eve minutes=219.7, Total eve calls=113, Total eve charge=18.67, Total night minutes=152.1, Total night calls=120, Total night charge=6.84, Total intl minutes=11.1, Total intl calls=5, Total intl charge=3.0, Customer service calls=2, Churn=False),\n",
              " Row(State='NE', Account length=139, Area code=415, International plan='No', Voice mail plan='No', Number vmail messages=0, Total day minutes=211.1, Total day calls=103, Total day charge=35.89, Total eve minutes=206.9, Total eve calls=108, Total eve charge=17.59, Total night minutes=193.9, Total night calls=70, Total night charge=8.73, Total intl minutes=5.6, Total intl calls=4, Total intl charge=1.51, Customer service calls=0, Churn=False),\n",
              " Row(State='NC', Account length=76, Area code=510, International plan='No', Voice mail plan='No', Number vmail messages=0, Total day minutes=165.7, Total day calls=94, Total day charge=28.17, Total eve minutes=257.4, Total eve calls=80, Total eve charge=21.88, Total night minutes=170.8, Total night calls=114, Total night charge=7.69, Total intl minutes=10.0, Total intl calls=4, Total intl charge=2.7, Customer service calls=1, Churn=False),\n",
              " Row(State='ID', Account length=113, Area code=415, International plan='No', Voice mail plan='Yes', Number vmail messages=30, Total day minutes=183.8, Total day calls=102, Total day charge=31.25, Total eve minutes=183.4, Total eve calls=123, Total eve charge=15.59, Total night minutes=235.0, Total night calls=52, Total night charge=10.58, Total intl minutes=11.6, Total intl calls=7, Total intl charge=3.13, Customer service calls=0, Churn=False),\n",
              " Row(State='LA', Account length=155, Area code=415, International plan='No', Voice mail plan='No', Number vmail messages=0, Total day minutes=203.4, Total day calls=100, Total day charge=34.58, Total eve minutes=190.9, Total eve calls=104, Total eve charge=16.23, Total night minutes=196.0, Total night calls=119, Total night charge=8.82, Total intl minutes=8.9, Total intl calls=4, Total intl charge=2.4, Customer service calls=0, Churn=True),\n",
              " Row(State='NC', Account length=95, Area code=408, International plan='No', Voice mail plan='No', Number vmail messages=0, Total day minutes=128.6, Total day calls=115, Total day charge=21.86, Total eve minutes=216.2, Total eve calls=88, Total eve charge=18.38, Total night minutes=255.3, Total night calls=96, Total night charge=11.49, Total intl minutes=6.3, Total intl calls=2, Total intl charge=1.7, Customer service calls=6, Churn=True),\n",
              " Row(State='MS', Account length=65, Area code=415, International plan='No', Voice mail plan='No', Number vmail messages=0, Total day minutes=136.1, Total day calls=112, Total day charge=23.14, Total eve minutes=272.9, Total eve calls=96, Total eve charge=23.2, Total night minutes=220.2, Total night calls=104, Total night charge=9.91, Total intl minutes=4.4, Total intl calls=2, Total intl charge=1.19, Customer service calls=1, Churn=False),\n",
              " Row(State='OR', Account length=65, Area code=415, International plan='No', Voice mail plan='No', Number vmail messages=0, Total day minutes=116.8, Total day calls=87, Total day charge=19.86, Total eve minutes=178.9, Total eve calls=93, Total eve charge=15.21, Total night minutes=182.4, Total night calls=150, Total night charge=8.21, Total intl minutes=14.1, Total intl calls=2, Total intl charge=3.81, Customer service calls=1, Churn=False),\n",
              " Row(State='NH', Account length=139, Area code=510, International plan='No', Voice mail plan='No', Number vmail messages=0, Total day minutes=221.3, Total day calls=140, Total day charge=37.62, Total eve minutes=157.8, Total eve calls=89, Total eve charge=13.41, Total night minutes=192.5, Total night calls=89, Total night charge=8.66, Total intl minutes=11.3, Total intl calls=6, Total intl charge=3.05, Customer service calls=1, Churn=False),\n",
              " Row(State='TX', Account length=64, Area code=415, International plan='No', Voice mail plan='No', Number vmail messages=0, Total day minutes=168.0, Total day calls=116, Total day charge=28.56, Total eve minutes=192.4, Total eve calls=94, Total eve charge=16.35, Total night minutes=166.5, Total night calls=98, Total night charge=7.49, Total intl minutes=10.1, Total intl calls=3, Total intl charge=2.73, Customer service calls=2, Churn=False),\n",
              " Row(State='IA', Account length=73, Area code=415, International plan='No', Voice mail plan='No', Number vmail messages=0, Total day minutes=137.1, Total day calls=102, Total day charge=23.31, Total eve minutes=210.8, Total eve calls=114, Total eve charge=17.92, Total night minutes=191.4, Total night calls=120, Total night charge=8.61, Total intl minutes=11.1, Total intl calls=4, Total intl charge=3.0, Customer service calls=1, Churn=False),\n",
              " Row(State='MI', Account length=127, Area code=415, International plan='No', Voice mail plan='No', Number vmail messages=0, Total day minutes=202.1, Total day calls=103, Total day charge=34.36, Total eve minutes=229.4, Total eve calls=86, Total eve charge=19.5, Total night minutes=195.2, Total night calls=113, Total night charge=8.78, Total intl minutes=11.5, Total intl calls=3, Total intl charge=3.11, Customer service calls=2, Churn=False),\n",
              " Row(State='VA', Account length=68, Area code=408, International plan='Yes', Voice mail plan='No', Number vmail messages=0, Total day minutes=148.5, Total day calls=126, Total day charge=25.25, Total eve minutes=219.4, Total eve calls=125, Total eve charge=18.65, Total night minutes=198.5, Total night calls=121, Total night charge=8.93, Total intl minutes=14.5, Total intl calls=7, Total intl charge=3.92, Customer service calls=1, Churn=True),\n",
              " Row(State='OR', Account length=117, Area code=415, International plan='No', Voice mail plan='Yes', Number vmail messages=17, Total day minutes=221.3, Total day calls=82, Total day charge=37.62, Total eve minutes=167.6, Total eve calls=100, Total eve charge=14.25, Total night minutes=262.7, Total night calls=87, Total night charge=11.82, Total intl minutes=4.4, Total intl calls=4, Total intl charge=1.19, Customer service calls=0, Churn=False),\n",
              " Row(State='MT', Account length=143, Area code=408, International plan='No', Voice mail plan='Yes', Number vmail messages=22, Total day minutes=141.8, Total day calls=116, Total day charge=24.11, Total eve minutes=167.3, Total eve calls=99, Total eve charge=14.22, Total night minutes=178.1, Total night calls=130, Total night charge=8.01, Total intl minutes=7.8, Total intl calls=3, Total intl charge=2.11, Customer service calls=1, Churn=False),\n",
              " Row(State='HI', Account length=150, Area code=415, International plan='No', Voice mail plan='No', Number vmail messages=0, Total day minutes=214.0, Total day calls=117, Total day charge=36.38, Total eve minutes=192.4, Total eve calls=89, Total eve charge=16.35, Total night minutes=242.6, Total night calls=99, Total night charge=10.92, Total intl minutes=7.9, Total intl calls=4, Total intl charge=2.13, Customer service calls=1, Churn=False),\n",
              " Row(State='IL', Account length=130, Area code=415, International plan='No', Voice mail plan='No', Number vmail messages=0, Total day minutes=155.9, Total day calls=95, Total day charge=26.5, Total eve minutes=256.1, Total eve calls=97, Total eve charge=21.77, Total night minutes=262.9, Total night calls=103, Total night charge=11.83, Total intl minutes=11.7, Total intl calls=3, Total intl charge=3.16, Customer service calls=3, Churn=False),\n",
              " Row(State='KY', Account length=79, Area code=415, International plan='No', Voice mail plan='No', Number vmail messages=0, Total day minutes=236.8, Total day calls=135, Total day charge=40.26, Total eve minutes=186.4, Total eve calls=87, Total eve charge=15.84, Total night minutes=126.9, Total night calls=112, Total night charge=5.71, Total intl minutes=10.4, Total intl calls=5, Total intl charge=2.81, Customer service calls=2, Churn=False),\n",
              " Row(State='KS', Account length=57, Area code=415, International plan='No', Voice mail plan='No', Number vmail messages=0, Total day minutes=158.1, Total day calls=117, Total day charge=26.88, Total eve minutes=115.2, Total eve calls=149, Total eve charge=9.79, Total night minutes=182.4, Total night calls=92, Total night charge=8.21, Total intl minutes=11.8, Total intl calls=7, Total intl charge=3.19, Customer service calls=0, Churn=False),\n",
              " Row(State='SC', Account length=111, Area code=415, International plan='No', Voice mail plan='No', Number vmail messages=0, Total day minutes=110.4, Total day calls=103, Total day charge=18.77, Total eve minutes=137.3, Total eve calls=102, Total eve charge=11.67, Total night minutes=189.6, Total night calls=105, Total night charge=8.53, Total intl minutes=7.7, Total intl calls=6, Total intl charge=2.08, Customer service calls=2, Churn=False),\n",
              " Row(State='RI', Account length=93, Area code=415, International plan='No', Voice mail plan='No', Number vmail messages=0, Total day minutes=98.4, Total day calls=78, Total day charge=16.73, Total eve minutes=249.6, Total eve calls=129, Total eve charge=21.22, Total night minutes=248.2, Total night calls=114, Total night charge=11.17, Total intl minutes=14.2, Total intl calls=4, Total intl charge=3.83, Customer service calls=1, Churn=False),\n",
              " Row(State='KS', Account length=65, Area code=415, International plan='No', Voice mail plan='Yes', Number vmail messages=34, Total day minutes=208.8, Total day calls=119, Total day charge=35.5, Total eve minutes=142.1, Total eve calls=106, Total eve charge=12.08, Total night minutes=214.6, Total night calls=87, Total night charge=9.66, Total intl minutes=12.5, Total intl calls=4, Total intl charge=3.38, Customer service calls=4, Churn=False),\n",
              " Row(State='SC', Account length=149, Area code=415, International plan='No', Voice mail plan='Yes', Number vmail messages=20, Total day minutes=147.8, Total day calls=132, Total day charge=25.13, Total eve minutes=276.8, Total eve calls=94, Total eve charge=23.53, Total night minutes=149.9, Total night calls=110, Total night charge=6.75, Total intl minutes=10.2, Total intl calls=6, Total intl charge=2.75, Customer service calls=0, Churn=False),\n",
              " Row(State='NM', Account length=30, Area code=415, International plan='No', Voice mail plan='No', Number vmail messages=0, Total day minutes=169.9, Total day calls=144, Total day charge=28.88, Total eve minutes=225.2, Total eve calls=118, Total eve charge=19.14, Total night minutes=169.7, Total night calls=93, Total night charge=7.64, Total intl minutes=11.4, Total intl calls=7, Total intl charge=3.08, Customer service calls=1, Churn=False),\n",
              " Row(State='GA', Account length=133, Area code=510, International plan='No', Voice mail plan='No', Number vmail messages=0, Total day minutes=227.4, Total day calls=90, Total day charge=38.66, Total eve minutes=73.2, Total eve calls=135, Total eve charge=6.22, Total night minutes=114.3, Total night calls=99, Total night charge=5.14, Total intl minutes=4.7, Total intl calls=7, Total intl charge=1.27, Customer service calls=0, Churn=False),\n",
              " Row(State='MS', Account length=189, Area code=415, International plan='No', Voice mail plan='No', Number vmail messages=0, Total day minutes=227.8, Total day calls=124, Total day charge=38.73, Total eve minutes=169.5, Total eve calls=112, Total eve charge=14.41, Total night minutes=201.1, Total night calls=91, Total night charge=9.05, Total intl minutes=5.6, Total intl calls=4, Total intl charge=1.51, Customer service calls=3, Churn=False),\n",
              " Row(State='AL', Account length=148, Area code=415, International plan='No', Voice mail plan='Yes', Number vmail messages=21, Total day minutes=262.9, Total day calls=135, Total day charge=44.69, Total eve minutes=149.5, Total eve calls=96, Total eve charge=12.71, Total night minutes=140.5, Total night calls=109, Total night charge=6.32, Total intl minutes=8.1, Total intl calls=4, Total intl charge=2.19, Customer service calls=1, Churn=False),\n",
              " Row(State='WI', Account length=142, Area code=510, International plan='No', Voice mail plan='No', Number vmail messages=0, Total day minutes=232.1, Total day calls=102, Total day charge=39.46, Total eve minutes=168.2, Total eve calls=110, Total eve charge=14.3, Total night minutes=197.3, Total night calls=120, Total night charge=8.88, Total intl minutes=9.9, Total intl calls=3, Total intl charge=2.67, Customer service calls=1, Churn=False),\n",
              " Row(State='CT', Account length=96, Area code=415, International plan='No', Voice mail plan='Yes', Number vmail messages=37, Total day minutes=172.7, Total day calls=93, Total day charge=29.36, Total eve minutes=120.1, Total eve calls=116, Total eve charge=10.21, Total night minutes=216.1, Total night calls=86, Total night charge=9.72, Total intl minutes=10.3, Total intl calls=5, Total intl charge=2.78, Customer service calls=5, Churn=True),\n",
              " Row(State='NY', Account length=44, Area code=510, International plan='No', Voice mail plan='No', Number vmail messages=0, Total day minutes=143.2, Total day calls=77, Total day charge=24.34, Total eve minutes=169.8, Total eve calls=114, Total eve charge=14.43, Total night minutes=215.8, Total night calls=77, Total night charge=9.71, Total intl minutes=7.6, Total intl calls=4, Total intl charge=2.05, Customer service calls=1, Churn=False),\n",
              " Row(State='MT', Account length=113, Area code=415, International plan='No', Voice mail plan='No', Number vmail messages=0, Total day minutes=215.9, Total day calls=93, Total day charge=36.7, Total eve minutes=240.1, Total eve calls=85, Total eve charge=20.41, Total night minutes=156.7, Total night calls=123, Total night charge=7.05, Total intl minutes=4.9, Total intl calls=5, Total intl charge=1.32, Customer service calls=3, Churn=False),\n",
              " Row(State='AZ', Account length=100, Area code=510, International plan='No', Voice mail plan='No', Number vmail messages=0, Total day minutes=78.7, Total day calls=98, Total day charge=13.38, Total eve minutes=225.6, Total eve calls=102, Total eve charge=19.18, Total night minutes=150.4, Total night calls=106, Total night charge=6.77, Total intl minutes=14.0, Total intl calls=8, Total intl charge=3.78, Customer service calls=0, Churn=False),\n",
              " Row(State='IL', Account length=131, Area code=510, International plan='No', Voice mail plan='No', Number vmail messages=0, Total day minutes=263.4, Total day calls=123, Total day charge=44.78, Total eve minutes=151.9, Total eve calls=74, Total eve charge=12.91, Total night minutes=218.5, Total night calls=101, Total night charge=9.83, Total intl minutes=10.7, Total intl calls=2, Total intl charge=2.89, Customer service calls=2, Churn=False),\n",
              " Row(State='WV', Account length=73, Area code=415, International plan='No', Voice mail plan='No', Number vmail messages=0, Total day minutes=240.3, Total day calls=130, Total day charge=40.85, Total eve minutes=162.5, Total eve calls=83, Total eve charge=13.81, Total night minutes=231.9, Total night calls=136, Total night charge=10.44, Total intl minutes=11.9, Total intl calls=3, Total intl charge=3.21, Customer service calls=0, Churn=False),\n",
              " Row(State='NE', Account length=123, Area code=415, International plan='No', Voice mail plan='No', Number vmail messages=0, Total day minutes=150.0, Total day calls=98, Total day charge=25.5, Total eve minutes=89.8, Total eve calls=95, Total eve charge=7.63, Total night minutes=326.0, Total night calls=91, Total night charge=14.67, Total intl minutes=11.1, Total intl calls=3, Total intl charge=3.0, Customer service calls=3, Churn=False),\n",
              " Row(State='FL', Account length=136, Area code=408, International plan='Yes', Voice mail plan='No', Number vmail messages=0, Total day minutes=199.2, Total day calls=122, Total day charge=33.86, Total eve minutes=214.7, Total eve calls=114, Total eve charge=18.25, Total night minutes=150.9, Total night calls=105, Total night charge=6.79, Total intl minutes=11.8, Total intl calls=7, Total intl charge=3.19, Customer service calls=1, Churn=False),\n",
              " Row(State='IL', Account length=48, Area code=510, International plan='No', Voice mail plan='No', Number vmail messages=0, Total day minutes=128.2, Total day calls=71, Total day charge=21.79, Total eve minutes=48.1, Total eve calls=78, Total eve charge=4.09, Total night minutes=116.3, Total night calls=80, Total night charge=5.23, Total intl minutes=8.9, Total intl calls=3, Total intl charge=2.4, Customer service calls=0, Churn=False),\n",
              " Row(State='IN', Account length=101, Area code=415, International plan='No', Voice mail plan='Yes', Number vmail messages=42, Total day minutes=209.2, Total day calls=82, Total day charge=35.56, Total eve minutes=159.7, Total eve calls=74, Total eve charge=13.57, Total night minutes=181.6, Total night calls=100, Total night charge=8.17, Total intl minutes=9.5, Total intl calls=3, Total intl charge=2.57, Customer service calls=0, Churn=False),\n",
              " Row(State='NE', Account length=147, Area code=415, International plan='No', Voice mail plan='Yes', Number vmail messages=38, Total day minutes=243.4, Total day calls=126, Total day charge=41.38, Total eve minutes=273.8, Total eve calls=109, Total eve charge=23.27, Total night minutes=282.9, Total night calls=91, Total night charge=12.73, Total intl minutes=14.1, Total intl calls=8, Total intl charge=3.81, Customer service calls=2, Churn=False),\n",
              " Row(State='CT', Account length=116, Area code=415, International plan='No', Voice mail plan='No', Number vmail messages=0, Total day minutes=245.9, Total day calls=73, Total day charge=41.8, Total eve minutes=240.1, Total eve calls=87, Total eve charge=20.41, Total night minutes=158.7, Total night calls=89, Total night charge=7.14, Total intl minutes=8.9, Total intl calls=5, Total intl charge=2.4, Customer service calls=3, Churn=False),\n",
              " Row(State='CT', Account length=184, Area code=510, International plan='Yes', Voice mail plan='No', Number vmail messages=0, Total day minutes=213.8, Total day calls=105, Total day charge=36.35, Total eve minutes=159.6, Total eve calls=84, Total eve charge=13.57, Total night minutes=139.2, Total night calls=137, Total night charge=6.26, Total intl minutes=5.0, Total intl calls=10, Total intl charge=1.35, Customer service calls=2, Churn=False),\n",
              " Row(State='VT', Account length=38, Area code=415, International plan='No', Voice mail plan='No', Number vmail messages=0, Total day minutes=137.8, Total day calls=86, Total day charge=23.43, Total eve minutes=286.3, Total eve calls=76, Total eve charge=24.34, Total night minutes=167.0, Total night calls=77, Total night charge=7.52, Total intl minutes=14.1, Total intl calls=3, Total intl charge=3.81, Customer service calls=2, Churn=False),\n",
              " Row(State='UT', Account length=148, Area code=510, International plan='No', Voice mail plan='No', Number vmail messages=0, Total day minutes=203.0, Total day calls=92, Total day charge=34.51, Total eve minutes=150.9, Total eve calls=125, Total eve charge=12.83, Total night minutes=245.5, Total night calls=131, Total night charge=11.05, Total intl minutes=14.6, Total intl calls=9, Total intl charge=3.94, Customer service calls=1, Churn=False),\n",
              " Row(State='IN', Account length=114, Area code=408, International plan='No', Voice mail plan='No', Number vmail messages=0, Total day minutes=203.8, Total day calls=85, Total day charge=34.65, Total eve minutes=87.8, Total eve calls=110, Total eve charge=7.46, Total night minutes=166.2, Total night calls=122, Total night charge=7.48, Total intl minutes=11.7, Total intl calls=4, Total intl charge=3.16, Customer service calls=1, Churn=False),\n",
              " Row(State='ME', Account length=75, Area code=408, International plan='Yes', Voice mail plan='No', Number vmail messages=0, Total day minutes=211.3, Total day calls=61, Total day charge=35.92, Total eve minutes=105.6, Total eve calls=119, Total eve charge=8.98, Total night minutes=175.9, Total night calls=63, Total night charge=7.92, Total intl minutes=9.7, Total intl calls=4, Total intl charge=2.62, Customer service calls=4, Churn=True),\n",
              " Row(State='MA', Account length=108, Area code=415, International plan='No', Voice mail plan='No', Number vmail messages=0, Total day minutes=178.3, Total day calls=137, Total day charge=30.31, Total eve minutes=189.0, Total eve calls=76, Total eve charge=16.07, Total night minutes=129.1, Total night calls=102, Total night charge=5.81, Total intl minutes=14.6, Total intl calls=5, Total intl charge=3.94, Customer service calls=0, Churn=False),\n",
              " Row(State='WA', Account length=63, Area code=408, International plan='No', Voice mail plan='No', Number vmail messages=0, Total day minutes=149.3, Total day calls=104, Total day charge=25.38, Total eve minutes=273.6, Total eve calls=75, Total eve charge=23.26, Total night minutes=206.6, Total night calls=72, Total night charge=9.3, Total intl minutes=9.1, Total intl calls=4, Total intl charge=2.46, Customer service calls=0, Churn=False),\n",
              " Row(State='NM', Account length=87, Area code=510, International plan='Yes', Voice mail plan='No', Number vmail messages=0, Total day minutes=167.3, Total day calls=119, Total day charge=28.44, Total eve minutes=198.5, Total eve calls=119, Total eve charge=16.87, Total night minutes=133.1, Total night calls=88, Total night charge=5.99, Total intl minutes=11.0, Total intl calls=6, Total intl charge=2.97, Customer service calls=1, Churn=False),\n",
              " Row(State='TX', Account length=123, Area code=408, International plan='No', Voice mail plan='No', Number vmail messages=0, Total day minutes=260.9, Total day calls=85, Total day charge=44.35, Total eve minutes=168.5, Total eve calls=103, Total eve charge=14.32, Total night minutes=178.3, Total night calls=91, Total night charge=8.02, Total intl minutes=13.3, Total intl calls=5, Total intl charge=3.59, Customer service calls=3, Churn=False),\n",
              " Row(State='MS', Account length=130, Area code=510, International plan='No', Voice mail plan='No', Number vmail messages=0, Total day minutes=203.9, Total day calls=63, Total day charge=34.66, Total eve minutes=191.8, Total eve calls=93, Total eve charge=16.3, Total night minutes=132.5, Total night calls=125, Total night charge=5.96, Total intl minutes=12.1, Total intl calls=4, Total intl charge=3.27, Customer service calls=3, Churn=False),\n",
              " Row(State='ME', Account length=151, Area code=415, International plan='No', Voice mail plan='Yes', Number vmail messages=26, Total day minutes=196.5, Total day calls=98, Total day charge=33.41, Total eve minutes=175.8, Total eve calls=111, Total eve charge=14.94, Total night minutes=221.8, Total night calls=124, Total night charge=9.98, Total intl minutes=13.4, Total intl calls=5, Total intl charge=3.62, Customer service calls=0, Churn=False),\n",
              " Row(State='WY', Account length=104, Area code=408, International plan='No', Voice mail plan='No', Number vmail messages=0, Total day minutes=183.6, Total day calls=133, Total day charge=31.21, Total eve minutes=120.7, Total eve calls=98, Total eve charge=10.26, Total night minutes=215.1, Total night calls=112, Total night charge=9.68, Total intl minutes=12.7, Total intl calls=2, Total intl charge=3.43, Customer service calls=1, Churn=False),\n",
              " Row(State='ND', Account length=12, Area code=510, International plan='Yes', Voice mail plan='No', Number vmail messages=0, Total day minutes=216.7, Total day calls=117, Total day charge=36.84, Total eve minutes=116.5, Total eve calls=126, Total eve charge=9.9, Total night minutes=220.0, Total night calls=110, Total night charge=9.9, Total intl minutes=9.8, Total intl calls=4, Total intl charge=2.65, Customer service calls=2, Churn=False),\n",
              " Row(State='CO', Account length=98, Area code=408, International plan='No', Voice mail plan='No', Number vmail messages=0, Total day minutes=236.2, Total day calls=122, Total day charge=40.15, Total eve minutes=189.4, Total eve calls=110, Total eve charge=16.1, Total night minutes=153.6, Total night calls=104, Total night charge=6.91, Total intl minutes=13.3, Total intl calls=4, Total intl charge=3.59, Customer service calls=0, Churn=False),\n",
              " Row(State='AR', Account length=185, Area code=415, International plan='No', Voice mail plan='Yes', Number vmail messages=19, Total day minutes=157.3, Total day calls=123, Total day charge=26.74, Total eve minutes=257.7, Total eve calls=94, Total eve charge=21.9, Total night minutes=190.4, Total night calls=107, Total night charge=8.57, Total intl minutes=9.6, Total intl calls=6, Total intl charge=2.59, Customer service calls=0, Churn=False),\n",
              " Row(State='FL', Account length=106, Area code=408, International plan='No', Voice mail plan='No', Number vmail messages=0, Total day minutes=178.4, Total day calls=143, Total day charge=30.33, Total eve minutes=247.0, Total eve calls=123, Total eve charge=21.0, Total night minutes=259.9, Total night calls=105, Total night charge=11.7, Total intl minutes=9.6, Total intl calls=2, Total intl charge=2.59, Customer service calls=0, Churn=False),\n",
              " Row(State='OH', Account length=95, Area code=415, International plan='No', Voice mail plan='Yes', Number vmail messages=23, Total day minutes=160.3, Total day calls=87, Total day charge=27.25, Total eve minutes=202.4, Total eve calls=101, Total eve charge=17.2, Total night minutes=191.1, Total night calls=122, Total night charge=8.6, Total intl minutes=7.4, Total intl calls=3, Total intl charge=2.0, Customer service calls=0, Churn=False),\n",
              " Row(State='TN', Account length=115, Area code=415, International plan='No', Voice mail plan='No', Number vmail messages=0, Total day minutes=206.2, Total day calls=113, Total day charge=35.05, Total eve minutes=176.4, Total eve calls=102, Total eve charge=14.99, Total night minutes=297.1, Total night calls=119, Total night charge=13.37, Total intl minutes=11.0, Total intl calls=7, Total intl charge=2.97, Customer service calls=1, Churn=False),\n",
              " Row(State='DC', Account length=102, Area code=415, International plan='No', Voice mail plan='No', Number vmail messages=0, Total day minutes=186.8, Total day calls=92, Total day charge=31.76, Total eve minutes=173.7, Total eve calls=123, Total eve charge=14.76, Total night minutes=250.9, Total night calls=131, Total night charge=11.29, Total intl minutes=9.7, Total intl calls=4, Total intl charge=2.62, Customer service calls=2, Churn=False),\n",
              " Row(State='IN', Account length=64, Area code=408, International plan='No', Voice mail plan='No', Number vmail messages=0, Total day minutes=113.8, Total day calls=97, Total day charge=19.35, Total eve minutes=192.3, Total eve calls=97, Total eve charge=16.35, Total night minutes=214.9, Total night calls=89, Total night charge=9.67, Total intl minutes=10.4, Total intl calls=1, Total intl charge=2.81, Customer service calls=3, Churn=False),\n",
              " Row(State='AZ', Account length=93, Area code=415, International plan='No', Voice mail plan='No', Number vmail messages=0, Total day minutes=271.6, Total day calls=71, Total day charge=46.17, Total eve minutes=229.4, Total eve calls=108, Total eve charge=19.5, Total night minutes=77.3, Total night calls=121, Total night charge=3.48, Total intl minutes=10.9, Total intl calls=3, Total intl charge=2.94, Customer service calls=2, Churn=False),\n",
              " Row(State='WV', Account length=107, Area code=415, International plan='No', Voice mail plan='No', Number vmail messages=0, Total day minutes=123.1, Total day calls=100, Total day charge=20.93, Total eve minutes=158.4, Total eve calls=82, Total eve charge=13.46, Total night minutes=256.1, Total night calls=82, Total night charge=11.52, Total intl minutes=9.3, Total intl calls=5, Total intl charge=2.51, Customer service calls=0, Churn=False),\n",
              " Row(State='IN', Account length=108, Area code=415, International plan='No', Voice mail plan='No', Number vmail messages=0, Total day minutes=199.3, Total day calls=104, Total day charge=33.88, Total eve minutes=224.2, Total eve calls=92, Total eve charge=19.06, Total night minutes=140.1, Total night calls=57, Total night charge=6.3, Total intl minutes=15.2, Total intl calls=2, Total intl charge=4.1, Customer service calls=0, Churn=False),\n",
              " Row(State='AZ', Account length=66, Area code=510, International plan='No', Voice mail plan='No', Number vmail messages=0, Total day minutes=154.0, Total day calls=133, Total day charge=26.18, Total eve minutes=198.9, Total eve calls=121, Total eve charge=16.91, Total night minutes=151.9, Total night calls=100, Total night charge=6.84, Total intl minutes=9.5, Total intl calls=3, Total intl charge=2.57, Customer service calls=4, Churn=True),\n",
              " Row(State='KS', Account length=186, Area code=510, International plan='No', Voice mail plan='No', Number vmail messages=0, Total day minutes=137.8, Total day calls=97, Total day charge=23.43, Total eve minutes=187.7, Total eve calls=118, Total eve charge=15.95, Total night minutes=146.4, Total night calls=85, Total night charge=6.59, Total intl minutes=8.7, Total intl calls=6, Total intl charge=2.35, Customer service calls=1, Churn=False),\n",
              " Row(State='DE', Account length=119, Area code=415, International plan='No', Voice mail plan='No', Number vmail messages=0, Total day minutes=176.8, Total day calls=90, Total day charge=30.06, Total eve minutes=224.7, Total eve calls=81, Total eve charge=19.1, Total night minutes=204.6, Total night calls=77, Total night charge=9.21, Total intl minutes=7.5, Total intl calls=15, Total intl charge=2.03, Customer service calls=1, Churn=False),\n",
              " Row(State='LA', Account length=43, Area code=415, International plan='No', Voice mail plan='No', Number vmail messages=0, Total day minutes=241.9, Total day calls=101, Total day charge=41.12, Total eve minutes=129.4, Total eve calls=121, Total eve charge=11.0, Total night minutes=264.8, Total night calls=104, Total night charge=11.92, Total intl minutes=5.9, Total intl calls=3, Total intl charge=1.59, Customer service calls=1, Churn=False),\n",
              " Row(State='KS', Account length=67, Area code=408, International plan='No', Voice mail plan='No', Number vmail messages=0, Total day minutes=201.4, Total day calls=101, Total day charge=34.24, Total eve minutes=97.6, Total eve calls=122, Total eve charge=8.3, Total night minutes=202.5, Total night calls=119, Total night charge=9.11, Total intl minutes=7.0, Total intl calls=3, Total intl charge=1.89, Customer service calls=0, Churn=False),\n",
              " Row(State='OH', Account length=135, Area code=415, International plan='No', Voice mail plan='No', Number vmail messages=0, Total day minutes=173.4, Total day calls=107, Total day charge=29.48, Total eve minutes=222.0, Total eve calls=84, Total eve charge=18.87, Total night minutes=64.2, Total night calls=94, Total night charge=2.89, Total intl minutes=13.7, Total intl calls=6, Total intl charge=3.7, Customer service calls=1, Churn=False),\n",
              " Row(State='IN', Account length=100, Area code=415, International plan='No', Voice mail plan='Yes', Number vmail messages=32, Total day minutes=125.2, Total day calls=123, Total day charge=21.28, Total eve minutes=230.9, Total eve calls=101, Total eve charge=19.63, Total night minutes=192.0, Total night calls=106, Total night charge=8.64, Total intl minutes=12.6, Total intl calls=9, Total intl charge=3.4, Customer service calls=3, Churn=False),\n",
              " Row(State='WI', Account length=68, Area code=415, International plan='No', Voice mail plan='No', Number vmail messages=0, Total day minutes=148.8, Total day calls=70, Total day charge=25.3, Total eve minutes=246.5, Total eve calls=164, Total eve charge=20.95, Total night minutes=129.8, Total night calls=103, Total night charge=5.84, Total intl minutes=12.1, Total intl calls=3, Total intl charge=3.27, Customer service calls=3, Churn=False),\n",
              " Row(State='TX', Account length=121, Area code=415, International plan='No', Voice mail plan='Yes', Number vmail messages=31, Total day minutes=263.1, Total day calls=70, Total day charge=44.73, Total eve minutes=279.3, Total eve calls=118, Total eve charge=23.74, Total night minutes=127.1, Total night calls=143, Total night charge=5.72, Total intl minutes=9.7, Total intl calls=4, Total intl charge=2.62, Customer service calls=5, Churn=False),\n",
              " Row(State='HI', Account length=171, Area code=510, International plan='No', Voice mail plan='No', Number vmail messages=0, Total day minutes=189.8, Total day calls=122, Total day charge=32.27, Total eve minutes=173.7, Total eve calls=85, Total eve charge=14.76, Total night minutes=257.1, Total night calls=84, Total night charge=11.57, Total intl minutes=10.3, Total intl calls=1, Total intl charge=2.78, Customer service calls=0, Churn=False),\n",
              " Row(State='AL', Account length=72, Area code=415, International plan='No', Voice mail plan='No', Number vmail messages=0, Total day minutes=166.5, Total day calls=102, Total day charge=28.31, Total eve minutes=261.0, Total eve calls=103, Total eve charge=22.19, Total night minutes=262.7, Total night calls=85, Total night charge=11.82, Total intl minutes=13.3, Total intl calls=5, Total intl charge=3.59, Customer service calls=0, Churn=False),\n",
              " Row(State='SD', Account length=145, Area code=408, International plan='No', Voice mail plan='Yes', Number vmail messages=24, Total day minutes=147.5, Total day calls=90, Total day charge=25.08, Total eve minutes=175.7, Total eve calls=108, Total eve charge=14.93, Total night minutes=252.1, Total night calls=102, Total night charge=11.34, Total intl minutes=15.6, Total intl calls=3, Total intl charge=4.21, Customer service calls=2, Churn=False),\n",
              " Row(State='MS', Account length=70, Area code=408, International plan='No', Voice mail plan='No', Number vmail messages=0, Total day minutes=148.4, Total day calls=110, Total day charge=25.23, Total eve minutes=267.1, Total eve calls=90, Total eve charge=22.7, Total night minutes=151.5, Total night calls=101, Total night charge=6.82, Total intl minutes=8.9, Total intl calls=4, Total intl charge=2.4, Customer service calls=0, Churn=False),\n",
              " Row(State='DE', Account length=96, Area code=415, International plan='No', Voice mail plan='Yes', Number vmail messages=26, Total day minutes=175.8, Total day calls=96, Total day charge=29.89, Total eve minutes=206.6, Total eve calls=84, Total eve charge=17.56, Total night minutes=178.0, Total night calls=105, Total night charge=8.01, Total intl minutes=11.1, Total intl calls=2, Total intl charge=3.0, Customer service calls=2, Churn=False),\n",
              " Row(State='LA', Account length=53, Area code=415, International plan='No', Voice mail plan='No', Number vmail messages=0, Total day minutes=145.1, Total day calls=116, Total day charge=24.67, Total eve minutes=233.7, Total eve calls=82, Total eve charge=19.86, Total night minutes=208.7, Total night calls=95, Total night charge=9.39, Total intl minutes=7.9, Total intl calls=5, Total intl charge=2.13, Customer service calls=2, Churn=False),\n",
              " Row(State='IA', Account length=63, Area code=510, International plan='No', Voice mail plan='No', Number vmail messages=0, Total day minutes=153.5, Total day calls=81, Total day charge=26.1, Total eve minutes=287.3, Total eve calls=115, Total eve charge=24.42, Total night minutes=230.2, Total night calls=85, Total night charge=10.36, Total intl minutes=6.5, Total intl calls=5, Total intl charge=1.76, Customer service calls=2, Churn=False),\n",
              " Row(State='MA', Account length=102, Area code=510, International plan='Yes', Voice mail plan='No', Number vmail messages=0, Total day minutes=233.8, Total day calls=103, Total day charge=39.75, Total eve minutes=221.6, Total eve calls=131, Total eve charge=18.84, Total night minutes=146.9, Total night calls=106, Total night charge=6.61, Total intl minutes=12.8, Total intl calls=3, Total intl charge=3.46, Customer service calls=0, Churn=False),\n",
              " Row(State='WV', Account length=44, Area code=510, International plan='No', Voice mail plan='No', Number vmail messages=0, Total day minutes=228.1, Total day calls=121, Total day charge=38.78, Total eve minutes=276.5, Total eve calls=79, Total eve charge=23.5, Total night minutes=279.8, Total night calls=77, Total night charge=12.59, Total intl minutes=9.9, Total intl calls=5, Total intl charge=2.67, Customer service calls=2, Churn=True),\n",
              " Row(State='KS', Account length=88, Area code=415, International plan='No', Voice mail plan='No', Number vmail messages=0, Total day minutes=189.8, Total day calls=111, Total day charge=32.27, Total eve minutes=197.3, Total eve calls=101, Total eve charge=16.77, Total night minutes=234.5, Total night calls=111, Total night charge=10.55, Total intl minutes=14.9, Total intl calls=3, Total intl charge=4.02, Customer service calls=2, Churn=False),\n",
              " Row(State='AL', Account length=72, Area code=415, International plan='No', Voice mail plan='No', Number vmail messages=0, Total day minutes=217.8, Total day calls=93, Total day charge=37.03, Total eve minutes=189.7, Total eve calls=113, Total eve charge=16.12, Total night minutes=182.6, Total night calls=91, Total night charge=8.22, Total intl minutes=10.4, Total intl calls=5, Total intl charge=2.81, Customer service calls=4, Churn=False),\n",
              " Row(State='KS', Account length=128, Area code=415, International plan='No', Voice mail plan='No', Number vmail messages=0, Total day minutes=103.3, Total day calls=122, Total day charge=17.56, Total eve minutes=245.9, Total eve calls=123, Total eve charge=20.9, Total night minutes=161.1, Total night calls=95, Total night charge=7.25, Total intl minutes=6.4, Total intl calls=7, Total intl charge=1.73, Customer service calls=0, Churn=False),\n",
              " Row(State='OK', Account length=84, Area code=510, International plan='No', Voice mail plan='No', Number vmail messages=0, Total day minutes=203.4, Total day calls=125, Total day charge=34.58, Total eve minutes=182.9, Total eve calls=88, Total eve charge=15.55, Total night minutes=213.7, Total night calls=121, Total night charge=9.62, Total intl minutes=13.8, Total intl calls=2, Total intl charge=3.73, Customer service calls=1, Churn=False),\n",
              " Row(State='SC', Account length=88, Area code=408, International plan='No', Voice mail plan='No', Number vmail messages=0, Total day minutes=153.5, Total day calls=94, Total day charge=26.1, Total eve minutes=251.7, Total eve calls=118, Total eve charge=21.39, Total night minutes=182.2, Total night calls=99, Total night charge=8.2, Total intl minutes=8.5, Total intl calls=6, Total intl charge=2.3, Customer service calls=1, Churn=False),\n",
              " Row(State='NJ', Account length=64, Area code=415, International plan='No', Voice mail plan='No', Number vmail messages=0, Total day minutes=224.8, Total day calls=111, Total day charge=38.22, Total eve minutes=190.0, Total eve calls=101, Total eve charge=16.15, Total night minutes=221.4, Total night calls=110, Total night charge=9.96, Total intl minutes=9.2, Total intl calls=2, Total intl charge=2.48, Customer service calls=1, Churn=False),\n",
              " Row(State='OR', Account length=138, Area code=415, International plan='Yes', Voice mail plan='Yes', Number vmail messages=28, Total day minutes=211.2, Total day calls=117, Total day charge=35.9, Total eve minutes=312.5, Total eve calls=98, Total eve charge=26.56, Total night minutes=178.0, Total night calls=118, Total night charge=8.01, Total intl minutes=10.7, Total intl calls=2, Total intl charge=2.89, Customer service calls=3, Churn=True),\n",
              " Row(State='UT', Account length=44, Area code=415, International plan='No', Voice mail plan='No', Number vmail messages=0, Total day minutes=202.6, Total day calls=89, Total day charge=34.44, Total eve minutes=163.0, Total eve calls=96, Total eve charge=13.86, Total night minutes=268.1, Total night calls=151, Total night charge=12.06, Total intl minutes=8.3, Total intl calls=3, Total intl charge=2.24, Customer service calls=0, Churn=False),\n",
              " Row(State='AL', Account length=121, Area code=408, International plan='No', Voice mail plan='Yes', Number vmail messages=35, Total day minutes=68.7, Total day calls=95, Total day charge=11.68, Total eve minutes=209.2, Total eve calls=69, Total eve charge=17.78, Total night minutes=197.4, Total night calls=42, Total night charge=8.88, Total intl minutes=11.4, Total intl calls=4, Total intl charge=3.08, Customer service calls=1, Churn=False),\n",
              " Row(State='AK', Account length=132, Area code=415, International plan='No', Voice mail plan='Yes', Number vmail messages=39, Total day minutes=175.7, Total day calls=93, Total day charge=29.87, Total eve minutes=187.2, Total eve calls=94, Total eve charge=15.91, Total night minutes=225.5, Total night calls=118, Total night charge=10.15, Total intl minutes=8.6, Total intl calls=3, Total intl charge=2.32, Customer service calls=2, Churn=False),\n",
              " Row(State='AL', Account length=68, Area code=510, International plan='No', Voice mail plan='No', Number vmail messages=0, Total day minutes=157.3, Total day calls=83, Total day charge=26.74, Total eve minutes=220.9, Total eve calls=85, Total eve charge=18.78, Total night minutes=218.9, Total night calls=129, Total night charge=9.85, Total intl minutes=12.0, Total intl calls=7, Total intl charge=3.24, Customer service calls=1, Churn=False),\n",
              " Row(State='KY', Account length=122, Area code=415, International plan='No', Voice mail plan='No', Number vmail messages=0, Total day minutes=168.3, Total day calls=96, Total day charge=28.61, Total eve minutes=87.6, Total eve calls=91, Total eve charge=7.45, Total night minutes=247.2, Total night calls=87, Total night charge=11.12, Total intl minutes=8.4, Total intl calls=6, Total intl charge=2.27, Customer service calls=1, Churn=False),\n",
              " Row(State='OR', Account length=82, Area code=415, International plan='No', Voice mail plan='Yes', Number vmail messages=19, Total day minutes=146.5, Total day calls=73, Total day charge=24.91, Total eve minutes=246.4, Total eve calls=65, Total eve charge=20.94, Total night minutes=199.0, Total night calls=114, Total night charge=8.96, Total intl minutes=4.1, Total intl calls=4, Total intl charge=1.11, Customer service calls=1, Churn=False),\n",
              " Row(State='FL', Account length=127, Area code=415, International plan='No', Voice mail plan='No', Number vmail messages=0, Total day minutes=266.6, Total day calls=106, Total day charge=45.32, Total eve minutes=264.8, Total eve calls=168, Total eve charge=22.51, Total night minutes=207.2, Total night calls=119, Total night charge=9.32, Total intl minutes=5.9, Total intl calls=2, Total intl charge=1.59, Customer service calls=1, Churn=True),\n",
              " Row(State='WV', Account length=13, Area code=415, International plan='No', Voice mail plan='No', Number vmail messages=0, Total day minutes=146.4, Total day calls=74, Total day charge=24.89, Total eve minutes=148.5, Total eve calls=92, Total eve charge=12.62, Total night minutes=216.7, Total night calls=96, Total night charge=9.75, Total intl minutes=11.3, Total intl calls=3, Total intl charge=3.05, Customer service calls=1, Churn=False),\n",
              " Row(State='MN', Account length=81, Area code=415, International plan='No', Voice mail plan='No', Number vmail messages=0, Total day minutes=198.4, Total day calls=93, Total day charge=33.73, Total eve minutes=210.9, Total eve calls=108, Total eve charge=17.93, Total night minutes=193.3, Total night calls=71, Total night charge=8.7, Total intl minutes=10.4, Total intl calls=6, Total intl charge=2.81, Customer service calls=2, Churn=False),\n",
              " Row(State='WY', Account length=71, Area code=415, International plan='No', Voice mail plan='No', Number vmail messages=0, Total day minutes=243.7, Total day calls=124, Total day charge=41.43, Total eve minutes=60.0, Total eve calls=90, Total eve charge=5.1, Total night minutes=189.0, Total night calls=129, Total night charge=8.5, Total intl minutes=11.3, Total intl calls=2, Total intl charge=3.05, Customer service calls=0, Churn=False),\n",
              " Row(State='NM', Account length=84, Area code=408, International plan='No', Voice mail plan='Yes', Number vmail messages=41, Total day minutes=153.9, Total day calls=102, Total day charge=26.16, Total eve minutes=140.7, Total eve calls=117, Total eve charge=11.96, Total night minutes=217.7, Total night calls=101, Total night charge=9.8, Total intl minutes=12.8, Total intl calls=5, Total intl charge=3.46, Customer service calls=1, Churn=False),\n",
              " Row(State='MS', Account length=64, Area code=408, International plan='Yes', Voice mail plan='No', Number vmail messages=0, Total day minutes=236.2, Total day calls=77, Total day charge=40.15, Total eve minutes=218.6, Total eve calls=85, Total eve charge=18.58, Total night minutes=194.1, Total night calls=97, Total night charge=8.73, Total intl minutes=13.2, Total intl calls=2, Total intl charge=3.56, Customer service calls=2, Churn=True),\n",
              " Row(State='WY', Account length=148, Area code=408, International plan='No', Voice mail plan='No', Number vmail messages=0, Total day minutes=243.0, Total day calls=115, Total day charge=41.31, Total eve minutes=191.8, Total eve calls=91, Total eve charge=16.3, Total night minutes=117.8, Total night calls=93, Total night charge=5.3, Total intl minutes=13.4, Total intl calls=5, Total intl charge=3.62, Customer service calls=2, Churn=False),\n",
              " Row(State='MA', Account length=80, Area code=408, International plan='No', Voice mail plan='No', Number vmail messages=0, Total day minutes=148.6, Total day calls=106, Total day charge=25.26, Total eve minutes=210.8, Total eve calls=65, Total eve charge=17.92, Total night minutes=203.7, Total night calls=86, Total night charge=9.17, Total intl minutes=10.0, Total intl calls=2, Total intl charge=2.7, Customer service calls=2, Churn=False),\n",
              " Row(State='PA', Account length=104, Area code=415, International plan='No', Voice mail plan='No', Number vmail messages=0, Total day minutes=144.5, Total day calls=107, Total day charge=24.57, Total eve minutes=180.5, Total eve calls=85, Total eve charge=15.34, Total night minutes=226.0, Total night calls=94, Total night charge=10.17, Total intl minutes=17.0, Total intl calls=6, Total intl charge=4.59, Customer service calls=2, Churn=False),\n",
              " Row(State='RI', Account length=180, Area code=415, International plan='No', Voice mail plan='No', Number vmail messages=0, Total day minutes=143.3, Total day calls=134, Total day charge=24.36, Total eve minutes=180.5, Total eve calls=113, Total eve charge=15.34, Total night minutes=184.2, Total night calls=87, Total night charge=8.29, Total intl minutes=10.1, Total intl calls=4, Total intl charge=2.73, Customer service calls=1, Churn=False),\n",
              " Row(State='AR', Account length=57, Area code=510, International plan='No', Voice mail plan='No', Number vmail messages=0, Total day minutes=192.8, Total day calls=68, Total day charge=32.78, Total eve minutes=158.0, Total eve calls=86, Total eve charge=13.43, Total night minutes=235.5, Total night calls=105, Total night charge=10.6, Total intl minutes=12.7, Total intl calls=6, Total intl charge=3.43, Customer service calls=1, Churn=False),\n",
              " Row(State='NJ', Account length=80, Area code=415, International plan='No', Voice mail plan='No', Number vmail messages=0, Total day minutes=268.7, Total day calls=120, Total day charge=45.68, Total eve minutes=301.0, Total eve calls=147, Total eve charge=25.59, Total night minutes=167.0, Total night calls=140, Total night charge=7.52, Total intl minutes=5.8, Total intl calls=1, Total intl charge=1.57, Customer service calls=2, Churn=True),\n",
              " Row(State='TN', Account length=123, Area code=415, International plan='No', Voice mail plan='No', Number vmail messages=0, Total day minutes=166.9, Total day calls=98, Total day charge=28.37, Total eve minutes=221.8, Total eve calls=77, Total eve charge=18.85, Total night minutes=243.9, Total night calls=114, Total night charge=10.98, Total intl minutes=12.8, Total intl calls=4, Total intl charge=3.46, Customer service calls=3, Churn=False),\n",
              " Row(State='ME', Account length=41, Area code=415, International plan='No', Voice mail plan='Yes', Number vmail messages=30, Total day minutes=191.7, Total day calls=109, Total day charge=32.59, Total eve minutes=193.0, Total eve calls=86, Total eve charge=16.41, Total night minutes=149.4, Total night calls=93, Total night charge=6.72, Total intl minutes=11.1, Total intl calls=4, Total intl charge=3.0, Customer service calls=1, Churn=False),\n",
              " Row(State='ID', Account length=79, Area code=510, International plan='No', Voice mail plan='Yes', Number vmail messages=21, Total day minutes=264.3, Total day calls=79, Total day charge=44.93, Total eve minutes=202.8, Total eve calls=118, Total eve charge=17.24, Total night minutes=173.4, Total night calls=92, Total night charge=7.8, Total intl minutes=6.3, Total intl calls=3, Total intl charge=1.7, Customer service calls=4, Churn=False),\n",
              " Row(State='NJ', Account length=92, Area code=510, International plan='No', Voice mail plan='Yes', Number vmail messages=29, Total day minutes=155.4, Total day calls=110, Total day charge=26.42, Total eve minutes=188.5, Total eve calls=104, Total eve charge=16.02, Total night minutes=254.9, Total night calls=118, Total night charge=11.47, Total intl minutes=8.0, Total intl calls=4, Total intl charge=2.16, Customer service calls=3, Churn=False),\n",
              " Row(State='UT', Account length=73, Area code=415, International plan='No', Voice mail plan='No', Number vmail messages=0, Total day minutes=182.3, Total day calls=115, Total day charge=30.99, Total eve minutes=199.2, Total eve calls=97, Total eve charge=16.93, Total night minutes=120.2, Total night calls=113, Total night charge=5.41, Total intl minutes=18.0, Total intl calls=5, Total intl charge=4.86, Customer service calls=1, Churn=False),\n",
              " Row(State='AZ', Account length=72, Area code=510, International plan='No', Voice mail plan='No', Number vmail messages=0, Total day minutes=272.4, Total day calls=88, Total day charge=46.31, Total eve minutes=107.9, Total eve calls=125, Total eve charge=9.17, Total night minutes=185.5, Total night calls=81, Total night charge=8.35, Total intl minutes=12.7, Total intl calls=2, Total intl charge=3.43, Customer service calls=0, Churn=False),\n",
              " Row(State='TX', Account length=130, Area code=408, International plan='No', Voice mail plan='No', Number vmail messages=0, Total day minutes=252.0, Total day calls=101, Total day charge=42.84, Total eve minutes=170.2, Total eve calls=105, Total eve charge=14.47, Total night minutes=209.2, Total night calls=64, Total night charge=9.41, Total intl minutes=5.7, Total intl calls=5, Total intl charge=1.54, Customer service calls=0, Churn=False),\n",
              " Row(State='DE', Account length=148, Area code=415, International plan='No', Voice mail plan='No', Number vmail messages=0, Total day minutes=124.4, Total day calls=83, Total day charge=21.15, Total eve minutes=179.7, Total eve calls=81, Total eve charge=15.27, Total night minutes=253.0, Total night calls=99, Total night charge=11.39, Total intl minutes=11.3, Total intl calls=6, Total intl charge=3.05, Customer service calls=0, Churn=False),\n",
              " Row(State='KY', Account length=88, Area code=415, International plan='No', Voice mail plan='No', Number vmail messages=0, Total day minutes=148.2, Total day calls=82, Total day charge=25.19, Total eve minutes=308.7, Total eve calls=67, Total eve charge=26.24, Total night minutes=235.4, Total night calls=79, Total night charge=10.59, Total intl minutes=6.4, Total intl calls=4, Total intl charge=1.73, Customer service calls=2, Churn=False),\n",
              " Row(State='ME', Account length=66, Area code=510, International plan='No', Voice mail plan='No', Number vmail messages=0, Total day minutes=118.0, Total day calls=133, Total day charge=20.06, Total eve minutes=248.1, Total eve calls=99, Total eve charge=21.09, Total night minutes=214.4, Total night calls=122, Total night charge=9.65, Total intl minutes=5.3, Total intl calls=5, Total intl charge=1.43, Customer service calls=1, Churn=False),\n",
              " Row(State='MI', Account length=139, Area code=415, International plan='No', Voice mail plan='Yes', Number vmail messages=20, Total day minutes=214.6, Total day calls=101, Total day charge=36.48, Total eve minutes=235.1, Total eve calls=132, Total eve charge=19.98, Total night minutes=162.8, Total night calls=132, Total night charge=7.33, Total intl minutes=14.8, Total intl calls=12, Total intl charge=4.0, Customer service calls=0, Churn=False),\n",
              " Row(State='NC', Account length=26, Area code=415, International plan='No', Voice mail plan='No', Number vmail messages=0, Total day minutes=234.5, Total day calls=109, Total day charge=39.87, Total eve minutes=216.5, Total eve calls=129, Total eve charge=18.4, Total night minutes=191.6, Total night calls=94, Total night charge=8.62, Total intl minutes=3.5, Total intl calls=6, Total intl charge=0.95, Customer service calls=3, Churn=False),\n",
              " Row(State='WI', Account length=165, Area code=510, International plan='No', Voice mail plan='No', Number vmail messages=0, Total day minutes=154.2, Total day calls=91, Total day charge=26.21, Total eve minutes=268.6, Total eve calls=108, Total eve charge=22.83, Total night minutes=188.8, Total night calls=99, Total night charge=8.5, Total intl minutes=10.9, Total intl calls=4, Total intl charge=2.94, Customer service calls=6, Churn=False),\n",
              " Row(State='OR', Account length=66, Area code=408, International plan='No', Voice mail plan='No', Number vmail messages=0, Total day minutes=87.6, Total day calls=76, Total day charge=14.89, Total eve minutes=262.0, Total eve calls=111, Total eve charge=22.27, Total night minutes=184.6, Total night calls=125, Total night charge=8.31, Total intl minutes=9.2, Total intl calls=5, Total intl charge=2.48, Customer service calls=1, Churn=False),\n",
              " Row(State='DC', Account length=141, Area code=415, International plan='No', Voice mail plan='Yes', Number vmail messages=37, Total day minutes=185.4, Total day calls=87, Total day charge=31.52, Total eve minutes=178.5, Total eve calls=128, Total eve charge=15.17, Total night minutes=218.3, Total night calls=107, Total night charge=9.82, Total intl minutes=8.0, Total intl calls=3, Total intl charge=2.16, Customer service calls=4, Churn=False),\n",
              " Row(State='TX', Account length=208, Area code=510, International plan='No', Voice mail plan='No', Number vmail messages=0, Total day minutes=326.5, Total day calls=67, Total day charge=55.51, Total eve minutes=176.3, Total eve calls=113, Total eve charge=14.99, Total night minutes=181.7, Total night calls=102, Total night charge=8.18, Total intl minutes=10.7, Total intl calls=6, Total intl charge=2.89, Customer service calls=2, Churn=True),\n",
              " Row(State='TN', Account length=63, Area code=415, International plan='No', Voice mail plan='No', Number vmail messages=0, Total day minutes=164.5, Total day calls=75, Total day charge=27.97, Total eve minutes=147.9, Total eve calls=118, Total eve charge=12.57, Total night minutes=252.7, Total night calls=97, Total night charge=11.37, Total intl minutes=11.2, Total intl calls=2, Total intl charge=3.02, Customer service calls=0, Churn=False),\n",
              " Row(State='NH', Account length=130, Area code=408, International plan='No', Voice mail plan='No', Number vmail messages=0, Total day minutes=68.4, Total day calls=86, Total day charge=11.63, Total eve minutes=193.3, Total eve calls=110, Total eve charge=16.43, Total night minutes=171.5, Total night calls=139, Total night charge=7.72, Total intl minutes=10.4, Total intl calls=4, Total intl charge=2.81, Customer service calls=0, Churn=False),\n",
              " Row(State='NC', Account length=110, Area code=408, International plan='No', Voice mail plan='No', Number vmail messages=0, Total day minutes=159.5, Total day calls=145, Total day charge=27.12, Total eve minutes=202.3, Total eve calls=101, Total eve charge=17.2, Total night minutes=256.0, Total night calls=96, Total night charge=11.52, Total intl minutes=16.7, Total intl calls=2, Total intl charge=4.51, Customer service calls=2, Churn=False),\n",
              " Row(State='VT', Account length=101, Area code=415, International plan='No', Voice mail plan='No', Number vmail messages=0, Total day minutes=136.2, Total day calls=92, Total day charge=23.15, Total eve minutes=220.9, Total eve calls=110, Total eve charge=18.78, Total night minutes=196.9, Total night calls=116, Total night charge=8.86, Total intl minutes=13.3, Total intl calls=7, Total intl charge=3.59, Customer service calls=3, Churn=False),\n",
              " Row(State='SC', Account length=209, Area code=510, International plan='No', Voice mail plan='No', Number vmail messages=0, Total day minutes=255.1, Total day calls=124, Total day charge=43.37, Total eve minutes=230.6, Total eve calls=110, Total eve charge=19.6, Total night minutes=218.0, Total night calls=69, Total night charge=9.81, Total intl minutes=8.5, Total intl calls=5, Total intl charge=2.3, Customer service calls=3, Churn=True),\n",
              " Row(State='PA', Account length=136, Area code=408, International plan='No', Voice mail plan='No', Number vmail messages=0, Total day minutes=102.1, Total day calls=75, Total day charge=17.36, Total eve minutes=219.5, Total eve calls=97, Total eve charge=18.66, Total night minutes=73.7, Total night calls=92, Total night charge=3.32, Total intl minutes=9.8, Total intl calls=5, Total intl charge=2.65, Customer service calls=0, Churn=False),\n",
              " Row(State='NC', Account length=83, Area code=510, International plan='No', Voice mail plan='Yes', Number vmail messages=36, Total day minutes=95.9, Total day calls=87, Total day charge=16.3, Total eve minutes=261.6, Total eve calls=105, Total eve charge=22.24, Total night minutes=228.6, Total night calls=109, Total night charge=10.29, Total intl minutes=13.3, Total intl calls=4, Total intl charge=3.59, Customer service calls=0, Churn=False),\n",
              " Row(State='KY', Account length=72, Area code=408, International plan='No', Voice mail plan='No', Number vmail messages=0, Total day minutes=177.1, Total day calls=97, Total day charge=30.11, Total eve minutes=184.7, Total eve calls=105, Total eve charge=15.7, Total night minutes=174.1, Total night calls=94, Total night charge=7.83, Total intl minutes=8.0, Total intl calls=6, Total intl charge=2.16, Customer service calls=1, Churn=False),\n",
              " Row(State='MN', Account length=125, Area code=415, International plan='No', Voice mail plan='No', Number vmail messages=0, Total day minutes=240.7, Total day calls=82, Total day charge=40.92, Total eve minutes=269.4, Total eve calls=85, Total eve charge=22.9, Total night minutes=187.1, Total night calls=74, Total night charge=8.42, Total intl minutes=10.1, Total intl calls=3, Total intl charge=2.73, Customer service calls=0, Churn=True),\n",
              " Row(State='IN', Account length=72, Area code=510, International plan='No', Voice mail plan='No', Number vmail messages=0, Total day minutes=287.4, Total day calls=116, Total day charge=48.86, Total eve minutes=235.3, Total eve calls=126, Total eve charge=20.0, Total night minutes=292.1, Total night calls=114, Total night charge=13.14, Total intl minutes=5.0, Total intl calls=3, Total intl charge=1.35, Customer service calls=4, Churn=True),\n",
              " Row(State='GA', Account length=136, Area code=415, International plan='No', Voice mail plan='No', Number vmail messages=0, Total day minutes=163.4, Total day calls=83, Total day charge=27.78, Total eve minutes=249.3, Total eve calls=119, Total eve charge=21.19, Total night minutes=249.7, Total night calls=90, Total night charge=11.24, Total intl minutes=9.8, Total intl calls=4, Total intl charge=2.65, Customer service calls=7, Churn=False),\n",
              " Row(State='DE', Account length=139, Area code=408, International plan='No', Voice mail plan='No', Number vmail messages=0, Total day minutes=139.0, Total day calls=110, Total day charge=23.63, Total eve minutes=132.9, Total eve calls=93, Total eve charge=11.3, Total night minutes=272.0, Total night calls=120, Total night charge=12.24, Total intl minutes=12.1, Total intl calls=1, Total intl charge=3.27, Customer service calls=0, Churn=False),\n",
              " Row(State='WA', Account length=13, Area code=510, International plan='No', Voice mail plan='Yes', Number vmail messages=25, Total day minutes=176.6, Total day calls=65, Total day charge=30.02, Total eve minutes=172.7, Total eve calls=96, Total eve charge=14.68, Total night minutes=104.5, Total night calls=128, Total night charge=4.7, Total intl minutes=11.3, Total intl calls=5, Total intl charge=3.05, Customer service calls=2, Churn=False),\n",
              " Row(State='TX', Account length=71, Area code=415, International plan='No', Voice mail plan='Yes', Number vmail messages=39, Total day minutes=183.2, Total day calls=103, Total day charge=31.14, Total eve minutes=209.4, Total eve calls=111, Total eve charge=17.8, Total night minutes=172.4, Total night calls=109, Total night charge=7.76, Total intl minutes=11.9, Total intl calls=6, Total intl charge=3.21, Customer service calls=1, Churn=False),\n",
              " Row(State='GA', Account length=107, Area code=510, International plan='No', Voice mail plan='No', Number vmail messages=0, Total day minutes=194.5, Total day calls=97, Total day charge=33.07, Total eve minutes=186.3, Total eve calls=131, Total eve charge=15.84, Total night minutes=178.3, Total night calls=106, Total night charge=8.02, Total intl minutes=12.7, Total intl calls=1, Total intl charge=3.43, Customer service calls=2, Churn=False),\n",
              " Row(State='RI', Account length=155, Area code=408, International plan='Yes', Voice mail plan='No', Number vmail messages=0, Total day minutes=163.1, Total day calls=94, Total day charge=27.73, Total eve minutes=291.7, Total eve calls=108, Total eve charge=24.79, Total night minutes=96.4, Total night calls=111, Total night charge=4.34, Total intl minutes=11.2, Total intl calls=3, Total intl charge=3.02, Customer service calls=0, Churn=False),\n",
              " Row(State='TX', Account length=57, Area code=415, International plan='No', Voice mail plan='No', Number vmail messages=0, Total day minutes=161.0, Total day calls=113, Total day charge=27.37, Total eve minutes=208.0, Total eve calls=134, Total eve charge=17.68, Total night minutes=208.1, Total night calls=81, Total night charge=9.36, Total intl minutes=8.4, Total intl calls=4, Total intl charge=2.27, Customer service calls=3, Churn=False),\n",
              " Row(State='DE', Account length=131, Area code=408, International plan='No', Voice mail plan='No', Number vmail messages=0, Total day minutes=94.4, Total day calls=80, Total day charge=16.05, Total eve minutes=215.1, Total eve calls=101, Total eve charge=18.28, Total night minutes=179.7, Total night calls=108, Total night charge=8.09, Total intl minutes=13.1, Total intl calls=9, Total intl charge=3.54, Customer service calls=2, Churn=False),\n",
              " Row(State='NM', Account length=232, Area code=408, International plan='No', Voice mail plan='No', Number vmail messages=0, Total day minutes=165.6, Total day calls=104, Total day charge=28.15, Total eve minutes=195.9, Total eve calls=115, Total eve charge=16.65, Total night minutes=118.3, Total night calls=77, Total night charge=5.32, Total intl minutes=11.8, Total intl calls=3, Total intl charge=3.19, Customer service calls=1, Churn=False),\n",
              " Row(State='TX', Account length=119, Area code=510, International plan='No', Voice mail plan='No', Number vmail messages=0, Total day minutes=81.9, Total day calls=75, Total day charge=13.92, Total eve minutes=253.8, Total eve calls=114, Total eve charge=21.57, Total night minutes=213.1, Total night calls=125, Total night charge=9.59, Total intl minutes=8.9, Total intl calls=1, Total intl charge=2.4, Customer service calls=2, Churn=True),\n",
              " Row(State='AZ', Account length=140, Area code=408, International plan='No', Voice mail plan='No', Number vmail messages=0, Total day minutes=173.2, Total day calls=91, Total day charge=29.44, Total eve minutes=196.8, Total eve calls=106, Total eve charge=16.73, Total night minutes=209.3, Total night calls=128, Total night charge=9.42, Total intl minutes=11.2, Total intl calls=5, Total intl charge=3.02, Customer service calls=3, Churn=False),\n",
              " Row(State='WV', Account length=32, Area code=408, International plan='No', Voice mail plan='Yes', Number vmail messages=26, Total day minutes=266.7, Total day calls=109, Total day charge=45.34, Total eve minutes=232.3, Total eve calls=107, Total eve charge=19.75, Total night minutes=212.8, Total night calls=98, Total night charge=9.58, Total intl minutes=16.3, Total intl calls=4, Total intl charge=4.4, Customer service calls=1, Churn=False),\n",
              " Row(State='PA', Account length=101, Area code=415, International plan='Yes', Voice mail plan='No', Number vmail messages=0, Total day minutes=193.7, Total day calls=108, Total day charge=32.93, Total eve minutes=186.6, Total eve calls=98, Total eve charge=15.86, Total night minutes=223.0, Total night calls=100, Total night charge=10.04, Total intl minutes=11.6, Total intl calls=8, Total intl charge=3.13, Customer service calls=0, Churn=False),\n",
              " Row(State='DC', Account length=123, Area code=408, International plan='No', Voice mail plan='Yes', Number vmail messages=28, Total day minutes=124.7, Total day calls=105, Total day charge=21.2, Total eve minutes=250.4, Total eve calls=78, Total eve charge=21.28, Total night minutes=216.4, Total night calls=128, Total night charge=9.74, Total intl minutes=7.8, Total intl calls=8, Total intl charge=2.11, Customer service calls=1, Churn=False),\n",
              " Row(State='VT', Account length=68, Area code=415, International plan='No', Voice mail plan='No', Number vmail messages=0, Total day minutes=158.8, Total day calls=119, Total day charge=27.0, Total eve minutes=211.8, Total eve calls=105, Total eve charge=18.0, Total night minutes=198.1, Total night calls=101, Total night charge=8.91, Total intl minutes=10.3, Total intl calls=3, Total intl charge=2.78, Customer service calls=1, Churn=False),\n",
              " Row(State='NE', Account length=123, Area code=510, International plan='No', Voice mail plan='No', Number vmail messages=0, Total day minutes=194.0, Total day calls=118, Total day charge=32.98, Total eve minutes=242.0, Total eve calls=114, Total eve charge=20.57, Total night minutes=146.3, Total night calls=108, Total night charge=6.58, Total intl minutes=12.1, Total intl calls=4, Total intl charge=3.27, Customer service calls=1, Churn=False),\n",
              " Row(State='NV', Account length=7, Area code=408, International plan='No', Voice mail plan='Yes', Number vmail messages=30, Total day minutes=221.4, Total day calls=114, Total day charge=37.64, Total eve minutes=165.8, Total eve calls=116, Total eve charge=14.09, Total night minutes=247.0, Total night calls=105, Total night charge=11.12, Total intl minutes=10.8, Total intl calls=12, Total intl charge=2.92, Customer service calls=1, Churn=False),\n",
              " Row(State='SD', Account length=95, Area code=408, International plan='No', Voice mail plan='Yes', Number vmail messages=20, Total day minutes=165.7, Total day calls=78, Total day charge=28.17, Total eve minutes=215.6, Total eve calls=94, Total eve charge=18.33, Total night minutes=243.3, Total night calls=91, Total night charge=10.95, Total intl minutes=9.8, Total intl calls=6, Total intl charge=2.65, Customer service calls=0, Churn=False),\n",
              " Row(State='WA', Account length=97, Area code=408, International plan='No', Voice mail plan='No', Number vmail messages=0, Total day minutes=276.1, Total day calls=82, Total day charge=46.94, Total eve minutes=201.1, Total eve calls=106, Total eve charge=17.09, Total night minutes=231.3, Total night calls=73, Total night charge=10.41, Total intl minutes=8.9, Total intl calls=4, Total intl charge=2.4, Customer service calls=0, Churn=True),\n",
              " Row(State='PA', Account length=91, Area code=510, International plan='No', Voice mail plan='No', Number vmail messages=0, Total day minutes=231.8, Total day calls=120, Total day charge=39.41, Total eve minutes=150.6, Total eve calls=106, Total eve charge=12.8, Total night minutes=269.2, Total night calls=129, Total night charge=12.11, Total intl minutes=11.6, Total intl calls=7, Total intl charge=3.13, Customer service calls=3, Churn=False),\n",
              " Row(State='MO', Account length=76, Area code=510, International plan='No', Voice mail plan='No', Number vmail messages=0, Total day minutes=129.7, Total day calls=84, Total day charge=22.05, Total eve minutes=177.5, Total eve calls=80, Total eve charge=15.09, Total night minutes=228.9, Total night calls=87, Total night charge=10.3, Total intl minutes=7.5, Total intl calls=3, Total intl charge=2.03, Customer service calls=5, Churn=True),\n",
              " Row(State='NE', Account length=92, Area code=415, International plan='No', Voice mail plan='No', Number vmail messages=0, Total day minutes=181.4, Total day calls=98, Total day charge=30.84, Total eve minutes=164.5, Total eve calls=98, Total eve charge=13.98, Total night minutes=171.0, Total night calls=110, Total night charge=7.69, Total intl minutes=10.9, Total intl calls=4, Total intl charge=2.94, Customer service calls=2, Churn=False),\n",
              " Row(State='CA', Account length=158, Area code=510, International plan='No', Voice mail plan='No', Number vmail messages=0, Total day minutes=155.9, Total day calls=123, Total day charge=26.5, Total eve minutes=224.2, Total eve calls=112, Total eve charge=19.06, Total night minutes=221.0, Total night calls=116, Total night charge=9.95, Total intl minutes=8.6, Total intl calls=8, Total intl charge=2.32, Customer service calls=2, Churn=False),\n",
              " Row(State='NY', Account length=78, Area code=510, International plan='No', Voice mail plan='No', Number vmail messages=0, Total day minutes=152.9, Total day calls=81, Total day charge=25.99, Total eve minutes=256.6, Total eve calls=82, Total eve charge=21.81, Total night minutes=173.6, Total night calls=112, Total night charge=7.81, Total intl minutes=5.3, Total intl calls=6, Total intl charge=1.43, Customer service calls=2, Churn=False),\n",
              " Row(State='NM', Account length=183, Area code=415, International plan='No', Voice mail plan='No', Number vmail messages=0, Total day minutes=190.0, Total day calls=100, Total day charge=32.3, Total eve minutes=246.6, Total eve calls=78, Total eve charge=20.96, Total night minutes=304.2, Total night calls=107, Total night charge=13.69, Total intl minutes=9.5, Total intl calls=4, Total intl charge=2.57, Customer service calls=1, Churn=False),\n",
              " Row(State='TX', Account length=90, Area code=415, International plan='No', Voice mail plan='No', Number vmail messages=0, Total day minutes=109.6, Total day calls=88, Total day charge=18.63, Total eve minutes=137.6, Total eve calls=108, Total eve charge=11.7, Total night minutes=159.7, Total night calls=121, Total night charge=7.19, Total intl minutes=11.0, Total intl calls=5, Total intl charge=2.97, Customer service calls=2, Churn=False),\n",
              " Row(State='CA', Account length=75, Area code=510, International plan='No', Voice mail plan='Yes', Number vmail messages=38, Total day minutes=163.6, Total day calls=132, Total day charge=27.81, Total eve minutes=146.7, Total eve calls=113, Total eve charge=12.47, Total night minutes=345.8, Total night calls=115, Total night charge=15.56, Total intl minutes=13.1, Total intl calls=3, Total intl charge=3.54, Customer service calls=3, Churn=False),\n",
              " Row(State='SD', Account length=86, Area code=415, International plan='No', Voice mail plan='No', Number vmail messages=0, Total day minutes=223.9, Total day calls=75, Total day charge=38.06, Total eve minutes=155.7, Total eve calls=109, Total eve charge=13.23, Total night minutes=150.2, Total night calls=143, Total night charge=6.76, Total intl minutes=7.3, Total intl calls=9, Total intl charge=1.97, Customer service calls=1, Churn=False),\n",
              " Row(State='WI', Account length=112, Area code=408, International plan='No', Voice mail plan='No', Number vmail messages=0, Total day minutes=167.8, Total day calls=88, Total day charge=28.53, Total eve minutes=247.9, Total eve calls=81, Total eve charge=21.07, Total night minutes=155.1, Total night calls=108, Total night charge=6.98, Total intl minutes=11.9, Total intl calls=4, Total intl charge=3.21, Customer service calls=0, Churn=False),\n",
              " Row(State='VT', Account length=137, Area code=510, International plan='No', Voice mail plan='No', Number vmail messages=0, Total day minutes=97.5, Total day calls=95, Total day charge=16.58, Total eve minutes=195.8, Total eve calls=82, Total eve charge=16.64, Total night minutes=288.8, Total night calls=78, Total night charge=13.0, Total intl minutes=0.0, Total intl calls=0, Total intl charge=0.0, Customer service calls=1, Churn=False),\n",
              " Row(State='WY', Account length=127, Area code=510, International plan='Yes', Voice mail plan='No', Number vmail messages=0, Total day minutes=247.5, Total day calls=99, Total day charge=42.08, Total eve minutes=108.5, Total eve calls=118, Total eve charge=9.22, Total night minutes=232.0, Total night calls=72, Total night charge=10.44, Total intl minutes=10.6, Total intl calls=3, Total intl charge=2.86, Customer service calls=2, Churn=False),\n",
              " Row(State='MA', Account length=90, Area code=408, International plan='No', Voice mail plan='No', Number vmail messages=0, Total day minutes=157.9, Total day calls=72, Total day charge=26.84, Total eve minutes=234.0, Total eve calls=93, Total eve charge=19.89, Total night minutes=210.0, Total night calls=86, Total night charge=9.45, Total intl minutes=12.2, Total intl calls=5, Total intl charge=3.29, Customer service calls=2, Churn=False),\n",
              " Row(State='ND', Account length=190, Area code=415, International plan='No', Voice mail plan='No', Number vmail messages=0, Total day minutes=169.4, Total day calls=102, Total day charge=28.8, Total eve minutes=253.5, Total eve calls=113, Total eve charge=21.55, Total night minutes=197.1, Total night calls=93, Total night charge=8.87, Total intl minutes=8.9, Total intl calls=5, Total intl charge=2.4, Customer service calls=1, Churn=False),\n",
              " Row(State='OH', Account length=135, Area code=415, International plan='No', Voice mail plan='No', Number vmail messages=0, Total day minutes=218.8, Total day calls=123, Total day charge=37.2, Total eve minutes=242.8, Total eve calls=64, Total eve charge=20.64, Total night minutes=85.8, Total night calls=80, Total night charge=3.86, Total intl minutes=10.3, Total intl calls=3, Total intl charge=2.78, Customer service calls=4, Churn=False),\n",
              " Row(State='IN', Account length=104, Area code=408, International plan='No', Voice mail plan='No', Number vmail messages=0, Total day minutes=280.4, Total day calls=127, Total day charge=47.67, Total eve minutes=179.4, Total eve calls=79, Total eve charge=15.25, Total night minutes=150.6, Total night calls=77, Total night charge=6.78, Total intl minutes=15.2, Total intl calls=6, Total intl charge=4.1, Customer service calls=5, Churn=False),\n",
              " Row(State='SD', Account length=91, Area code=415, International plan='No', Voice mail plan='No', Number vmail messages=0, Total day minutes=153.0, Total day calls=123, Total day charge=26.01, Total eve minutes=141.1, Total eve calls=127, Total eve charge=11.99, Total night minutes=171.5, Total night calls=76, Total night charge=7.72, Total intl minutes=10.3, Total intl calls=15, Total intl charge=2.78, Customer service calls=1, Churn=True),\n",
              " Row(State='MN', Account length=94, Area code=415, International plan='No', Voice mail plan='No', Number vmail messages=0, Total day minutes=181.5, Total day calls=98, Total day charge=30.86, Total eve minutes=199.9, Total eve calls=88, Total eve charge=16.99, Total night minutes=287.7, Total night calls=114, Total night charge=12.95, Total intl minutes=6.6, Total intl calls=5, Total intl charge=1.78, Customer service calls=1, Churn=False),\n",
              " Row(State='WY', Account length=111, Area code=415, International plan='No', Voice mail plan='No', Number vmail messages=0, Total day minutes=146.2, Total day calls=55, Total day charge=24.85, Total eve minutes=261.5, Total eve calls=83, Total eve charge=22.23, Total night minutes=163.2, Total night calls=116, Total night charge=7.34, Total intl minutes=8.7, Total intl calls=3, Total intl charge=2.35, Customer service calls=3, Churn=False),\n",
              " Row(State='FL', Account length=79, Area code=510, International plan='No', Voice mail plan='No', Number vmail messages=0, Total day minutes=130.2, Total day calls=119, Total day charge=22.13, Total eve minutes=290.9, Total eve calls=121, Total eve charge=24.73, Total night minutes=194.8, Total night calls=140, Total night charge=8.77, Total intl minutes=14.0, Total intl calls=6, Total intl charge=3.78, Customer service calls=3, Churn=False),\n",
              " Row(State='KY', Account length=58, Area code=415, International plan='No', Voice mail plan='No', Number vmail messages=0, Total day minutes=247.2, Total day calls=116, Total day charge=42.02, Total eve minutes=303.7, Total eve calls=103, Total eve charge=25.81, Total night minutes=105.4, Total night calls=94, Total night charge=4.74, Total intl minutes=9.3, Total intl calls=2, Total intl charge=2.51, Customer service calls=2, Churn=True),\n",
              " Row(State='AL', Account length=117, Area code=510, International plan='No', Voice mail plan='No', Number vmail messages=0, Total day minutes=158.7, Total day calls=84, Total day charge=26.98, Total eve minutes=181.7, Total eve calls=91, Total eve charge=15.44, Total night minutes=177.3, Total night calls=67, Total night charge=7.98, Total intl minutes=7.7, Total intl calls=10, Total intl charge=2.08, Customer service calls=2, Churn=False),\n",
              " Row(State='MI', Account length=81, Area code=415, International plan='No', Voice mail plan='No', Number vmail messages=0, Total day minutes=153.5, Total day calls=99, Total day charge=26.1, Total eve minutes=197.6, Total eve calls=102, Total eve charge=16.8, Total night minutes=198.5, Total night calls=86, Total night charge=8.93, Total intl minutes=6.3, Total intl calls=2, Total intl charge=1.7, Customer service calls=2, Churn=False),\n",
              " Row(State='VT', Account length=119, Area code=510, International plan='No', Voice mail plan='No', Number vmail messages=0, Total day minutes=190.4, Total day calls=74, Total day charge=32.37, Total eve minutes=215.6, Total eve calls=113, Total eve charge=18.33, Total night minutes=161.2, Total night calls=111, Total night charge=7.25, Total intl minutes=10.0, Total intl calls=1, Total intl charge=2.7, Customer service calls=2, Churn=False),\n",
              " Row(State='ID', Account length=118, Area code=415, International plan='No', Voice mail plan='No', Number vmail messages=0, Total day minutes=140.4, Total day calls=112, Total day charge=23.87, Total eve minutes=187.1, Total eve calls=60, Total eve charge=15.9, Total night minutes=207.9, Total night calls=155, Total night charge=9.36, Total intl minutes=7.9, Total intl calls=1, Total intl charge=2.13, Customer service calls=0, Churn=False),\n",
              " Row(State='MD', Account length=37, Area code=415, International plan='Yes', Voice mail plan='No', Number vmail messages=0, Total day minutes=106.6, Total day calls=76, Total day charge=18.12, Total eve minutes=147.4, Total eve calls=89, Total eve charge=12.53, Total night minutes=235.8, Total night calls=113, Total night charge=10.61, Total intl minutes=9.6, Total intl calls=8, Total intl charge=2.59, Customer service calls=2, Churn=False),\n",
              " Row(State='OR', Account length=95, Area code=415, International plan='No', Voice mail plan='No', Number vmail messages=0, Total day minutes=269.0, Total day calls=120, Total day charge=45.73, Total eve minutes=233.7, Total eve calls=120, Total eve charge=19.86, Total night minutes=179.3, Total night calls=61, Total night charge=8.07, Total intl minutes=7.3, Total intl calls=4, Total intl charge=1.97, Customer service calls=2, Churn=True),\n",
              " Row(State='CO', Account length=103, Area code=415, International plan='No', Voice mail plan='Yes', Number vmail messages=37, Total day minutes=153.5, Total day calls=78, Total day charge=26.1, Total eve minutes=241.9, Total eve calls=108, Total eve charge=20.56, Total night minutes=244.7, Total night calls=110, Total night charge=11.01, Total intl minutes=10.6, Total intl calls=3, Total intl charge=2.86, Customer service calls=1, Churn=False),\n",
              " Row(State='NY', Account length=39, Area code=408, International plan='No', Voice mail plan='No', Number vmail messages=0, Total day minutes=160.4, Total day calls=68, Total day charge=27.27, Total eve minutes=102.6, Total eve calls=103, Total eve charge=8.72, Total night minutes=235.3, Total night calls=106, Total night charge=10.59, Total intl minutes=9.1, Total intl calls=5, Total intl charge=2.46, Customer service calls=2, Churn=False),\n",
              " Row(State='DC', Account length=148, Area code=415, International plan='No', Voice mail plan='Yes', Number vmail messages=11, Total day minutes=252.9, Total day calls=129, Total day charge=42.99, Total eve minutes=284.3, Total eve calls=88, Total eve charge=24.17, Total night minutes=262.8, Total night calls=99, Total night charge=11.83, Total intl minutes=12.3, Total intl calls=1, Total intl charge=3.32, Customer service calls=1, Churn=False),\n",
              " Row(State='VA', Account length=75, Area code=415, International plan='No', Voice mail plan='No', Number vmail messages=0, Total day minutes=224.7, Total day calls=116, Total day charge=38.2, Total eve minutes=192.0, Total eve calls=79, Total eve charge=16.32, Total night minutes=212.2, Total night calls=98, Total night charge=9.55, Total intl minutes=11.3, Total intl calls=11, Total intl charge=3.05, Customer service calls=3, Churn=False),\n",
              " Row(State='IN', Account length=81, Area code=408, International plan='No', Voice mail plan='Yes', Number vmail messages=46, Total day minutes=168.3, Total day calls=124, Total day charge=28.61, Total eve minutes=270.9, Total eve calls=103, Total eve charge=23.03, Total night minutes=222.5, Total night calls=98, Total night charge=10.01, Total intl minutes=6.7, Total intl calls=2, Total intl charge=1.81, Customer service calls=4, Churn=False),\n",
              " Row(State='UT', Account length=164, Area code=510, International plan='No', Voice mail plan='No', Number vmail messages=0, Total day minutes=192.1, Total day calls=95, Total day charge=32.66, Total eve minutes=249.8, Total eve calls=94, Total eve charge=21.23, Total night minutes=132.6, Total night calls=100, Total night charge=5.97, Total intl minutes=7.3, Total intl calls=3, Total intl charge=1.97, Customer service calls=3, Churn=False),\n",
              " Row(State='VT', Account length=128, Area code=408, International plan='No', Voice mail plan='No', Number vmail messages=0, Total day minutes=227.9, Total day calls=130, Total day charge=38.74, Total eve minutes=302.6, Total eve calls=71, Total eve charge=25.72, Total night minutes=191.5, Total night calls=82, Total night charge=8.62, Total intl minutes=5.5, Total intl calls=7, Total intl charge=1.49, Customer service calls=1, Churn=True),\n",
              " Row(State='IA', Account length=88, Area code=415, International plan='No', Voice mail plan='No', Number vmail messages=0, Total day minutes=113.7, Total day calls=67, Total day charge=19.33, Total eve minutes=165.1, Total eve calls=127, Total eve charge=14.03, Total night minutes=141.5, Total night calls=142, Total night charge=6.37, Total intl minutes=10.8, Total intl calls=3, Total intl charge=2.92, Customer service calls=1, Churn=False),\n",
              " Row(State='WV', Account length=152, Area code=510, International plan='Yes', Voice mail plan='Yes', Number vmail messages=41, Total day minutes=146.8, Total day calls=128, Total day charge=24.96, Total eve minutes=285.6, Total eve calls=96, Total eve charge=24.28, Total night minutes=213.6, Total night calls=80, Total night charge=9.61, Total intl minutes=4.3, Total intl calls=2, Total intl charge=1.16, Customer service calls=1, Churn=True),\n",
              " Row(State='SD', Account length=91, Area code=510, International plan='No', Voice mail plan='No', Number vmail messages=0, Total day minutes=149.0, Total day calls=115, Total day charge=25.33, Total eve minutes=245.3, Total eve calls=105, Total eve charge=20.85, Total night minutes=260.0, Total night calls=94, Total night charge=11.7, Total intl minutes=8.3, Total intl calls=3, Total intl charge=2.24, Customer service calls=0, Churn=False),\n",
              " Row(State='NY', Account length=157, Area code=415, International plan='No', Voice mail plan='No', Number vmail messages=0, Total day minutes=224.5, Total day calls=111, Total day charge=38.17, Total eve minutes=200.7, Total eve calls=99, Total eve charge=17.06, Total night minutes=116.6, Total night calls=118, Total night charge=5.25, Total intl minutes=11.5, Total intl calls=2, Total intl charge=3.11, Customer service calls=2, Churn=False),\n",
              " Row(State='VA', Account length=89, Area code=415, International plan='No', Voice mail plan='Yes', Number vmail messages=32, Total day minutes=209.9, Total day calls=113, Total day charge=35.68, Total eve minutes=249.8, Total eve calls=104, Total eve charge=21.23, Total night minutes=224.2, Total night calls=92, Total night charge=10.09, Total intl minutes=8.7, Total intl calls=7, Total intl charge=2.35, Customer service calls=1, Churn=False),\n",
              " Row(State='ND', Account length=105, Area code=510, International plan='No', Voice mail plan='No', Number vmail messages=0, Total day minutes=246.4, Total day calls=83, Total day charge=41.89, Total eve minutes=256.2, Total eve calls=101, Total eve charge=21.78, Total night minutes=169.0, Total night calls=151, Total night charge=7.61, Total intl minutes=3.8, Total intl calls=4, Total intl charge=1.03, Customer service calls=0, Churn=False),\n",
              " Row(State='ID', Account length=105, Area code=408, International plan='No', Voice mail plan='No', Number vmail messages=0, Total day minutes=232.6, Total day calls=96, Total day charge=39.54, Total eve minutes=253.4, Total eve calls=117, Total eve charge=21.54, Total night minutes=154.0, Total night calls=101, Total night charge=6.93, Total intl minutes=10.5, Total intl calls=9, Total intl charge=2.84, Customer service calls=1, Churn=False),\n",
              " Row(State='MN', Account length=139, Area code=510, International plan='No', Voice mail plan='No', Number vmail messages=0, Total day minutes=134.4, Total day calls=106, Total day charge=22.85, Total eve minutes=211.3, Total eve calls=98, Total eve charge=17.96, Total night minutes=193.6, Total night calls=125, Total night charge=8.71, Total intl minutes=10.2, Total intl calls=2, Total intl charge=2.75, Customer service calls=5, Churn=True),\n",
              " Row(State='ID', Account length=122, Area code=510, International plan='No', Voice mail plan='Yes', Number vmail messages=33, Total day minutes=270.8, Total day calls=96, Total day charge=46.04, Total eve minutes=220.4, Total eve calls=110, Total eve charge=18.73, Total night minutes=169.9, Total night calls=104, Total night charge=7.65, Total intl minutes=11.8, Total intl calls=8, Total intl charge=3.19, Customer service calls=4, Churn=False),\n",
              " Row(State='MI', Account length=79, Area code=510, International plan='No', Voice mail plan='No', Number vmail messages=0, Total day minutes=220.9, Total day calls=107, Total day charge=37.55, Total eve minutes=192.2, Total eve calls=97, Total eve charge=16.34, Total night minutes=161.0, Total night calls=74, Total night charge=7.25, Total intl minutes=12.2, Total intl calls=2, Total intl charge=3.29, Customer service calls=1, Churn=False),\n",
              " Row(State='OR', Account length=27, Area code=510, International plan='No', Voice mail plan='No', Number vmail messages=0, Total day minutes=232.1, Total day calls=81, Total day charge=39.46, Total eve minutes=210.8, Total eve calls=101, Total eve charge=17.92, Total night minutes=165.4, Total night calls=87, Total night charge=7.44, Total intl minutes=15.0, Total intl calls=6, Total intl charge=4.05, Customer service calls=5, Churn=False),\n",
              " Row(State='CA', Account length=75, Area code=408, International plan='No', Voice mail plan='No', Number vmail messages=0, Total day minutes=166.3, Total day calls=125, Total day charge=28.27, Total eve minutes=158.2, Total eve calls=86, Total eve charge=13.45, Total night minutes=256.7, Total night calls=80, Total night charge=11.55, Total intl minutes=6.1, Total intl calls=5, Total intl charge=1.65, Customer service calls=1, Churn=False),\n",
              " Row(State='MO', Account length=6, Area code=510, International plan='No', Voice mail plan='No', Number vmail messages=0, Total day minutes=183.6, Total day calls=117, Total day charge=31.21, Total eve minutes=256.7, Total eve calls=72, Total eve charge=21.82, Total night minutes=178.6, Total night calls=79, Total night charge=8.04, Total intl minutes=10.2, Total intl calls=2, Total intl charge=2.75, Customer service calls=1, Churn=False),\n",
              " Row(State='KY', Account length=112, Area code=415, International plan='No', Voice mail plan='No', Number vmail messages=0, Total day minutes=170.5, Total day calls=113, Total day charge=28.99, Total eve minutes=193.2, Total eve calls=129, Total eve charge=16.42, Total night minutes=188.0, Total night calls=91, Total night charge=8.46, Total intl minutes=11.2, Total intl calls=6, Total intl charge=3.02, Customer service calls=0, Churn=False),\n",
              " Row(State='OR', Account length=87, Area code=510, International plan='No', Voice mail plan='Yes', Number vmail messages=22, Total day minutes=240.8, Total day calls=102, Total day charge=40.94, Total eve minutes=75.9, Total eve calls=106, Total eve charge=6.45, Total night minutes=224.6, Total night calls=115, Total night charge=10.11, Total intl minutes=7.1, Total intl calls=3, Total intl charge=1.92, Customer service calls=2, Churn=False),\n",
              " Row(State='HI', Account length=86, Area code=408, International plan='No', Voice mail plan='Yes', Number vmail messages=21, Total day minutes=197.9, Total day calls=99, Total day charge=33.64, Total eve minutes=165.6, Total eve calls=100, Total eve charge=14.08, Total night minutes=208.0, Total night calls=120, Total night charge=9.36, Total intl minutes=10.1, Total intl calls=9, Total intl charge=2.73, Customer service calls=0, Churn=False),\n",
              " Row(State='TN', Account length=148, Area code=415, International plan='No', Voice mail plan='Yes', Number vmail messages=36, Total day minutes=77.6, Total day calls=141, Total day charge=13.19, Total eve minutes=207.0, Total eve calls=60, Total eve charge=17.6, Total night minutes=255.7, Total night calls=115, Total night charge=11.51, Total intl minutes=10.9, Total intl calls=2, Total intl charge=2.94, Customer service calls=1, Churn=False),\n",
              " Row(State='AZ', Account length=117, Area code=408, International plan='No', Voice mail plan='No', Number vmail messages=0, Total day minutes=239.9, Total day calls=84, Total day charge=40.78, Total eve minutes=174.8, Total eve calls=106, Total eve charge=14.86, Total night minutes=209.5, Total night calls=93, Total night charge=9.43, Total intl minutes=9.8, Total intl calls=2, Total intl charge=2.65, Customer service calls=0, Churn=False),\n",
              " Row(State='VT', Account length=195, Area code=415, International plan='No', Voice mail plan='Yes', Number vmail messages=36, Total day minutes=231.7, Total day calls=110, Total day charge=39.39, Total eve minutes=225.1, Total eve calls=88, Total eve charge=19.13, Total night minutes=201.7, Total night calls=89, Total night charge=9.08, Total intl minutes=12.1, Total intl calls=2, Total intl charge=3.27, Customer service calls=0, Churn=False),\n",
              " Row(State='FL', Account length=31, Area code=510, International plan='No', Voice mail plan='No', Number vmail messages=0, Total day minutes=165.4, Total day calls=84, Total day charge=28.12, Total eve minutes=203.7, Total eve calls=107, Total eve charge=17.31, Total night minutes=201.7, Total night calls=65, Total night charge=9.08, Total intl minutes=8.2, Total intl calls=1, Total intl charge=2.21, Customer service calls=1, Churn=False),\n",
              " Row(State='WI', Account length=74, Area code=408, International plan='No', Voice mail plan='No', Number vmail messages=0, Total day minutes=177.4, Total day calls=136, Total day charge=30.16, Total eve minutes=240.3, Total eve calls=104, Total eve charge=20.43, Total night minutes=237.3, Total night calls=133, Total night charge=10.68, Total intl minutes=12.0, Total intl calls=3, Total intl charge=3.24, Customer service calls=0, Churn=False),\n",
              " Row(State='AK', Account length=36, Area code=408, International plan='No', Voice mail plan='Yes', Number vmail messages=30, Total day minutes=146.3, Total day calls=128, Total day charge=24.87, Total eve minutes=162.5, Total eve calls=80, Total eve charge=13.81, Total night minutes=129.3, Total night calls=109, Total night charge=5.82, Total intl minutes=14.5, Total intl calls=6, Total intl charge=3.92, Customer service calls=0, Churn=False),\n",
              " Row(State='NY', Account length=108, Area code=415, International plan='No', Voice mail plan='No', Number vmail messages=0, Total day minutes=154.2, Total day calls=123, Total day charge=26.21, Total eve minutes=112.3, Total eve calls=86, Total eve charge=9.55, Total night minutes=246.4, Total night calls=75, Total night charge=11.09, Total intl minutes=15.4, Total intl calls=4, Total intl charge=4.16, Customer service calls=4, Churn=True),\n",
              " Row(State='CT', Account length=30, Area code=408, International plan='No', Voice mail plan='No', Number vmail messages=0, Total day minutes=137.6, Total day calls=108, Total day charge=23.39, Total eve minutes=162.0, Total eve calls=80, Total eve charge=13.77, Total night minutes=187.7, Total night calls=126, Total night charge=8.45, Total intl minutes=5.8, Total intl calls=10, Total intl charge=1.57, Customer service calls=3, Churn=False),\n",
              " Row(State='WA', Account length=132, Area code=415, International plan='No', Voice mail plan='No', Number vmail messages=0, Total day minutes=240.1, Total day calls=115, Total day charge=40.82, Total eve minutes=180.4, Total eve calls=91, Total eve charge=15.33, Total night minutes=133.4, Total night calls=122, Total night charge=6.0, Total intl minutes=8.0, Total intl calls=6, Total intl charge=2.16, Customer service calls=3, Churn=False),\n",
              " Row(State='OR', Account length=165, Area code=415, International plan='No', Voice mail plan='Yes', Number vmail messages=33, Total day minutes=111.6, Total day calls=140, Total day charge=18.97, Total eve minutes=213.3, Total eve calls=111, Total eve charge=18.13, Total night minutes=267.6, Total night calls=115, Total night charge=12.04, Total intl minutes=16.0, Total intl calls=3, Total intl charge=4.32, Customer service calls=0, Churn=False),\n",
              " Row(State='MT', Account length=34, Area code=415, International plan='No', Voice mail plan='Yes', Number vmail messages=14, Total day minutes=151.5, Total day calls=100, Total day charge=25.76, Total eve minutes=248.7, Total eve calls=126, Total eve charge=21.14, Total night minutes=199.8, Total night calls=120, Total night charge=8.99, Total intl minutes=10.7, Total intl calls=5, Total intl charge=2.89, Customer service calls=2, Churn=False),\n",
              " Row(State='KY', Account length=131, Area code=415, International plan='No', Voice mail plan='No', Number vmail messages=0, Total day minutes=166.5, Total day calls=129, Total day charge=28.31, Total eve minutes=210.2, Total eve calls=107, Total eve charge=17.87, Total night minutes=257.2, Total night calls=93, Total night charge=11.57, Total intl minutes=9.9, Total intl calls=5, Total intl charge=2.67, Customer service calls=1, Churn=False),\n",
              " Row(State='LA', Account length=117, Area code=408, International plan='No', Voice mail plan='No', Number vmail messages=0, Total day minutes=184.5, Total day calls=97, Total day charge=31.37, Total eve minutes=351.6, Total eve calls=80, Total eve charge=29.89, Total night minutes=215.8, Total night calls=90, Total night charge=9.71, Total intl minutes=8.7, Total intl calls=4, Total intl charge=2.35, Customer service calls=1, Churn=False),\n",
              " Row(State='CT', Account length=107, Area code=408, International plan='No', Voice mail plan='No', Number vmail messages=0, Total day minutes=103.4, Total day calls=94, Total day charge=17.58, Total eve minutes=189.3, Total eve calls=125, Total eve charge=16.09, Total night minutes=227.2, Total night calls=125, Total night charge=10.22, Total intl minutes=14.4, Total intl calls=3, Total intl charge=3.89, Customer service calls=1, Churn=False),\n",
              " Row(State='MI', Account length=36, Area code=510, International plan='No', Voice mail plan='Yes', Number vmail messages=29, Total day minutes=281.4, Total day calls=102, Total day charge=47.84, Total eve minutes=202.2, Total eve calls=76, Total eve charge=17.19, Total night minutes=187.2, Total night calls=113, Total night charge=8.42, Total intl minutes=9.0, Total intl calls=6, Total intl charge=2.43, Customer service calls=2, Churn=False),\n",
              " Row(State='MT', Account length=109, Area code=408, International plan='No', Voice mail plan='No', Number vmail messages=0, Total day minutes=264.7, Total day calls=69, Total day charge=45.0, Total eve minutes=305.0, Total eve calls=120, Total eve charge=25.93, Total night minutes=197.4, Total night calls=86, Total night charge=8.88, Total intl minutes=9.5, Total intl calls=9, Total intl charge=2.57, Customer service calls=1, Churn=True),\n",
              " Row(State='IN', Account length=122, Area code=415, International plan='No', Voice mail plan='No', Number vmail messages=0, Total day minutes=243.8, Total day calls=98, Total day charge=41.45, Total eve minutes=83.9, Total eve calls=72, Total eve charge=7.13, Total night minutes=179.8, Total night calls=84, Total night charge=8.09, Total intl minutes=13.7, Total intl calls=8, Total intl charge=3.7, Customer service calls=2, Churn=False),\n",
              " Row(State='AZ', Account length=97, Area code=408, International plan='No', Voice mail plan='No', Number vmail messages=0, Total day minutes=169.7, Total day calls=84, Total day charge=28.85, Total eve minutes=165.9, Total eve calls=86, Total eve charge=14.1, Total night minutes=191.9, Total night calls=83, Total night charge=8.64, Total intl minutes=12.8, Total intl calls=6, Total intl charge=3.46, Customer service calls=3, Churn=False),\n",
              " Row(State='OH', Account length=86, Area code=415, International plan='No', Voice mail plan='Yes', Number vmail messages=29, Total day minutes=225.4, Total day calls=79, Total day charge=38.32, Total eve minutes=187.1, Total eve calls=112, Total eve charge=15.9, Total night minutes=281.1, Total night calls=112, Total night charge=12.65, Total intl minutes=12.9, Total intl calls=3, Total intl charge=3.48, Customer service calls=1, Churn=False),\n",
              " Row(State='ND', Account length=132, Area code=415, International plan='No', Voice mail plan='Yes', Number vmail messages=31, Total day minutes=174.5, Total day calls=101, Total day charge=29.67, Total eve minutes=245.6, Total eve calls=105, Total eve charge=20.88, Total night minutes=172.8, Total night calls=76, Total night charge=7.78, Total intl minutes=10.3, Total intl calls=9, Total intl charge=2.78, Customer service calls=1, Churn=False),\n",
              " Row(State='AR', Account length=54, Area code=415, International plan='No', Voice mail plan='Yes', Number vmail messages=39, Total day minutes=206.9, Total day calls=143, Total day charge=35.17, Total eve minutes=127.8, Total eve calls=72, Total eve charge=10.86, Total night minutes=199.2, Total night calls=120, Total night charge=8.96, Total intl minutes=9.2, Total intl calls=1, Total intl charge=2.48, Customer service calls=3, Churn=False),\n",
              " Row(State='KY', Account length=125, Area code=408, International plan='No', Voice mail plan='No', Number vmail messages=0, Total day minutes=191.6, Total day calls=115, Total day charge=32.57, Total eve minutes=205.6, Total eve calls=108, Total eve charge=17.48, Total night minutes=210.2, Total night calls=123, Total night charge=9.46, Total intl minutes=9.2, Total intl calls=3, Total intl charge=2.48, Customer service calls=2, Churn=False),\n",
              " Row(State='CT', Account length=129, Area code=510, International plan='No', Voice mail plan='Yes', Number vmail messages=27, Total day minutes=196.6, Total day calls=89, Total day charge=33.42, Total eve minutes=180.6, Total eve calls=95, Total eve charge=15.35, Total night minutes=245.0, Total night calls=83, Total night charge=11.03, Total intl minutes=6.6, Total intl calls=5, Total intl charge=1.78, Customer service calls=1, Churn=False),\n",
              " Row(State='NJ', Account length=48, Area code=510, International plan='No', Voice mail plan='Yes', Number vmail messages=22, Total day minutes=152.0, Total day calls=63, Total day charge=25.84, Total eve minutes=258.8, Total eve calls=131, Total eve charge=22.0, Total night minutes=263.2, Total night calls=109, Total night charge=11.84, Total intl minutes=15.7, Total intl calls=5, Total intl charge=4.24, Customer service calls=2, Churn=True),\n",
              " Row(State='CT', Account length=163, Area code=408, International plan='No', Voice mail plan='Yes', Number vmail messages=40, Total day minutes=231.9, Total day calls=56, Total day charge=39.42, Total eve minutes=211.8, Total eve calls=91, Total eve charge=18.0, Total night minutes=268.5, Total night calls=74, Total night charge=12.08, Total intl minutes=12.3, Total intl calls=3, Total intl charge=3.32, Customer service calls=2, Churn=False),\n",
              " Row(State='KS', Account length=166, Area code=415, International plan='Yes', Voice mail plan='Yes', Number vmail messages=28, Total day minutes=175.8, Total day calls=126, Total day charge=29.89, Total eve minutes=253.6, Total eve calls=76, Total eve charge=21.56, Total night minutes=128.5, Total night calls=72, Total night charge=5.78, Total intl minutes=11.4, Total intl calls=5, Total intl charge=3.08, Customer service calls=1, Churn=False),\n",
              " Row(State='UT', Account length=201, Area code=510, International plan='No', Voice mail plan='No', Number vmail messages=0, Total day minutes=212.7, Total day calls=72, Total day charge=36.16, Total eve minutes=225.2, Total eve calls=90, Total eve charge=19.14, Total night minutes=195.1, Total night calls=99, Total night charge=8.78, Total intl minutes=7.0, Total intl calls=6, Total intl charge=1.89, Customer service calls=1, Churn=False),\n",
              " Row(State='MS', Account length=98, Area code=415, International plan='Yes', Voice mail plan='Yes', Number vmail messages=23, Total day minutes=245.5, Total day calls=54, Total day charge=41.74, Total eve minutes=292.7, Total eve calls=83, Total eve charge=24.88, Total night minutes=184.0, Total night calls=90, Total night charge=8.28, Total intl minutes=10.8, Total intl calls=7, Total intl charge=2.92, Customer service calls=1, Churn=False),\n",
              " Row(State='LA', Account length=112, Area code=510, International plan='No', Voice mail plan='No', Number vmail messages=0, Total day minutes=174.5, Total day calls=127, Total day charge=29.67, Total eve minutes=259.3, Total eve calls=71, Total eve charge=22.04, Total night minutes=170.5, Total night calls=120, Total night charge=7.67, Total intl minutes=11.3, Total intl calls=7, Total intl charge=3.05, Customer service calls=1, Churn=False),\n",
              " Row(State='NH', Account length=83, Area code=415, International plan='No', Voice mail plan='No', Number vmail messages=0, Total day minutes=231.3, Total day calls=100, Total day charge=39.32, Total eve minutes=210.4, Total eve calls=84, Total eve charge=17.88, Total night minutes=217.4, Total night calls=106, Total night charge=9.78, Total intl minutes=12.4, Total intl calls=2, Total intl charge=3.35, Customer service calls=3, Churn=False),\n",
              " Row(State='VA', Account length=121, Area code=415, International plan='No', Voice mail plan='No', Number vmail messages=0, Total day minutes=134.1, Total day calls=112, Total day charge=22.8, Total eve minutes=195.1, Total eve calls=104, Total eve charge=16.58, Total night minutes=159.6, Total night calls=139, Total night charge=7.18, Total intl minutes=10.5, Total intl calls=2, Total intl charge=2.84, Customer service calls=2, Churn=False),\n",
              " Row(State='IN', Account length=46, Area code=415, International plan='No', Voice mail plan='Yes', Number vmail messages=34, Total day minutes=191.4, Total day calls=102, Total day charge=32.54, Total eve minutes=361.8, Total eve calls=96, Total eve charge=30.75, Total night minutes=147.5, Total night calls=132, Total night charge=6.64, Total intl minutes=7.2, Total intl calls=2, Total intl charge=1.94, Customer service calls=1, Churn=False),\n",
              " Row(State='WV', Account length=104, Area code=415, International plan='No', Voice mail plan='No', Number vmail messages=0, Total day minutes=225.9, Total day calls=123, Total day charge=38.4, Total eve minutes=162.8, Total eve calls=106, Total eve charge=13.84, Total night minutes=272.1, Total night calls=85, Total night charge=12.24, Total intl minutes=10.1, Total intl calls=4, Total intl charge=2.73, Customer service calls=1, Churn=False),\n",
              " Row(State='AL', Account length=85, Area code=408, International plan='No', Voice mail plan='No', Number vmail messages=0, Total day minutes=127.9, Total day calls=107, Total day charge=21.74, Total eve minutes=271.2, Total eve calls=124, Total eve charge=23.05, Total night minutes=202.2, Total night calls=76, Total night charge=9.1, Total intl minutes=12.5, Total intl calls=5, Total intl charge=3.38, Customer service calls=0, Churn=False),\n",
              " Row(State='AL', Account length=55, Area code=415, International plan='Yes', Voice mail plan='No', Number vmail messages=0, Total day minutes=191.9, Total day calls=91, Total day charge=32.62, Total eve minutes=256.1, Total eve calls=110, Total eve charge=21.77, Total night minutes=203.7, Total night calls=101, Total night charge=9.17, Total intl minutes=14.3, Total intl calls=6, Total intl charge=3.86, Customer service calls=1, Churn=True),\n",
              " Row(State='AZ', Account length=157, Area code=415, International plan='No', Voice mail plan='No', Number vmail messages=0, Total day minutes=220.7, Total day calls=105, Total day charge=37.52, Total eve minutes=119.3, Total eve calls=127, Total eve charge=10.14, Total night minutes=165.1, Total night calls=113, Total night charge=7.43, Total intl minutes=11.5, Total intl calls=7, Total intl charge=3.11, Customer service calls=4, Churn=False),\n",
              " Row(State='ID', Account length=130, Area code=415, International plan='No', Voice mail plan='No', Number vmail messages=0, Total day minutes=263.7, Total day calls=113, Total day charge=44.83, Total eve minutes=186.5, Total eve calls=103, Total eve charge=15.85, Total night minutes=195.3, Total night calls=99, Total night charge=8.79, Total intl minutes=18.3, Total intl calls=6, Total intl charge=4.94, Customer service calls=1, Churn=True),\n",
              " Row(State='MI', Account length=86, Area code=510, International plan='No', Voice mail plan='Yes', Number vmail messages=41, Total day minutes=119.0, Total day calls=101, Total day charge=20.23, Total eve minutes=230.0, Total eve calls=134, Total eve charge=19.55, Total night minutes=236.9, Total night calls=58, Total night charge=10.66, Total intl minutes=9.5, Total intl calls=3, Total intl charge=2.57, Customer service calls=0, Churn=False),\n",
              " Row(State='PA', Account length=82, Area code=408, International plan='No', Voice mail plan='No', Number vmail messages=0, Total day minutes=125.7, Total day calls=96, Total day charge=21.37, Total eve minutes=207.6, Total eve calls=137, Total eve charge=17.65, Total night minutes=183.1, Total night calls=103, Total night charge=8.24, Total intl minutes=12.9, Total intl calls=2, Total intl charge=3.48, Customer service calls=1, Churn=False),\n",
              " Row(State='MA', Account length=136, Area code=408, International plan='Yes', Voice mail plan='No', Number vmail messages=0, Total day minutes=199.6, Total day calls=89, Total day charge=33.93, Total eve minutes=211.4, Total eve calls=96, Total eve charge=17.97, Total night minutes=72.4, Total night calls=84, Total night charge=3.26, Total intl minutes=11.0, Total intl calls=4, Total intl charge=2.97, Customer service calls=3, Churn=True),\n",
              " Row(State='CA', Account length=37, Area code=510, International plan='No', Voice mail plan='No', Number vmail messages=0, Total day minutes=239.9, Total day calls=120, Total day charge=40.78, Total eve minutes=261.6, Total eve calls=88, Total eve charge=22.24, Total night minutes=207.1, Total night calls=88, Total night charge=9.32, Total intl minutes=8.9, Total intl calls=4, Total intl charge=2.4, Customer service calls=2, Churn=True),\n",
              " Row(State='MO', Account length=15, Area code=415, International plan='No', Voice mail plan='No', Number vmail messages=0, Total day minutes=135.2, Total day calls=101, Total day charge=22.98, Total eve minutes=152.5, Total eve calls=79, Total eve charge=12.96, Total night minutes=224.8, Total night calls=83, Total night charge=10.12, Total intl minutes=8.4, Total intl calls=5, Total intl charge=2.27, Customer service calls=2, Churn=False),\n",
              " Row(State='TN', Account length=196, Area code=415, International plan='No', Voice mail plan='No', Number vmail messages=0, Total day minutes=133.1, Total day calls=80, Total day charge=22.63, Total eve minutes=206.5, Total eve calls=120, Total eve charge=17.55, Total night minutes=221.6, Total night calls=96, Total night charge=9.97, Total intl minutes=10.3, Total intl calls=8, Total intl charge=2.78, Customer service calls=1, Churn=False),\n",
              " Row(State='MO', Account length=64, Area code=510, International plan='No', Voice mail plan='Yes', Number vmail messages=48, Total day minutes=94.4, Total day calls=104, Total day charge=16.05, Total eve minutes=136.2, Total eve calls=101, Total eve charge=11.58, Total night minutes=147.4, Total night calls=89, Total night charge=6.63, Total intl minutes=4.5, Total intl calls=4, Total intl charge=1.22, Customer service calls=0, Churn=False),\n",
              " Row(State='SD', Account length=144, Area code=408, International plan='No', Voice mail plan='Yes', Number vmail messages=48, Total day minutes=189.8, Total day calls=96, Total day charge=32.27, Total eve minutes=123.4, Total eve calls=67, Total eve charge=10.49, Total night minutes=214.2, Total night calls=106, Total night charge=9.64, Total intl minutes=6.5, Total intl calls=2, Total intl charge=1.76, Customer service calls=2, Churn=True),\n",
              " Row(State='MA', Account length=35, Area code=415, International plan='No', Voice mail plan='No', Number vmail messages=0, Total day minutes=105.6, Total day calls=129, Total day charge=17.95, Total eve minutes=258.2, Total eve calls=129, Total eve charge=21.95, Total night minutes=213.1, Total night calls=77, Total night charge=9.59, Total intl minutes=8.7, Total intl calls=3, Total intl charge=2.35, Customer service calls=0, Churn=False),\n",
              " Row(State='NV', Account length=124, Area code=408, International plan='No', Voice mail plan='No', Number vmail messages=0, Total day minutes=151.1, Total day calls=123, Total day charge=25.69, Total eve minutes=187.4, Total eve calls=104, Total eve charge=15.93, Total night minutes=255.4, Total night calls=93, Total night charge=11.49, Total intl minutes=5.3, Total intl calls=3, Total intl charge=1.43, Customer service calls=1, Churn=False),\n",
              " Row(State='IL', Account length=87, Area code=408, International plan='Yes', Voice mail plan='Yes', Number vmail messages=36, Total day minutes=171.2, Total day calls=138, Total day charge=29.1, Total eve minutes=185.8, Total eve calls=102, Total eve charge=15.79, Total night minutes=227.6, Total night calls=97, Total night charge=10.24, Total intl minutes=10.8, Total intl calls=3, Total intl charge=2.92, Customer service calls=1, Churn=False),\n",
              " Row(State='GA', Account length=155, Area code=510, International plan='No', Voice mail plan='No', Number vmail messages=0, Total day minutes=71.2, Total day calls=90, Total day charge=12.1, Total eve minutes=304.4, Total eve calls=119, Total eve charge=25.87, Total night minutes=183.3, Total night calls=103, Total night charge=8.25, Total intl minutes=8.6, Total intl calls=4, Total intl charge=2.32, Customer service calls=0, Churn=False),\n",
              " Row(State='RI', Account length=121, Area code=408, International plan='No', Voice mail plan='No', Number vmail messages=0, Total day minutes=170.4, Total day calls=108, Total day charge=28.97, Total eve minutes=350.5, Total eve calls=68, Total eve charge=29.79, Total night minutes=297.0, Total night calls=87, Total night charge=13.37, Total intl minutes=11.2, Total intl calls=3, Total intl charge=3.02, Customer service calls=0, Churn=True),\n",
              " Row(State='ID', Account length=56, Area code=510, International plan='No', Voice mail plan='No', Number vmail messages=0, Total day minutes=150.9, Total day calls=79, Total day charge=25.65, Total eve minutes=161.8, Total eve calls=87, Total eve charge=13.75, Total night minutes=167.7, Total night calls=115, Total night charge=7.55, Total intl minutes=11.7, Total intl calls=5, Total intl charge=3.16, Customer service calls=3, Churn=False),\n",
              " Row(State='AK', Account length=99, Area code=510, International plan='No', Voice mail plan='No', Number vmail messages=0, Total day minutes=238.4, Total day calls=96, Total day charge=40.53, Total eve minutes=246.5, Total eve calls=130, Total eve charge=20.95, Total night minutes=198.4, Total night calls=117, Total night charge=8.93, Total intl minutes=12.4, Total intl calls=4, Total intl charge=3.35, Customer service calls=3, Churn=False),\n",
              " Row(State='NE', Account length=86, Area code=408, International plan='No', Voice mail plan='No', Number vmail messages=0, Total day minutes=83.8, Total day calls=121, Total day charge=14.25, Total eve minutes=240.2, Total eve calls=96, Total eve charge=20.42, Total night minutes=158.6, Total night calls=108, Total night charge=7.14, Total intl minutes=6.7, Total intl calls=8, Total intl charge=1.81, Customer service calls=1, Churn=False),\n",
              " Row(State='WI', Account length=114, Area code=415, International plan='No', Voice mail plan='Yes', Number vmail messages=26, Total day minutes=137.1, Total day calls=88, Total day charge=23.31, Total eve minutes=155.7, Total eve calls=125, Total eve charge=13.23, Total night minutes=247.6, Total night calls=94, Total night charge=11.14, Total intl minutes=11.5, Total intl calls=7, Total intl charge=3.11, Customer service calls=2, Churn=False),\n",
              " Row(State='AZ', Account length=63, Area code=415, International plan='No', Voice mail plan='No', Number vmail messages=0, Total day minutes=58.9, Total day calls=125, Total day charge=10.01, Total eve minutes=169.6, Total eve calls=59, Total eve charge=14.42, Total night minutes=211.4, Total night calls=88, Total night charge=9.51, Total intl minutes=9.4, Total intl calls=3, Total intl charge=2.54, Customer service calls=1, Churn=False),\n",
              " Row(State='WI', Account length=117, Area code=408, International plan='No', Voice mail plan='Yes', Number vmail messages=14, Total day minutes=80.2, Total day calls=81, Total day charge=13.63, Total eve minutes=219.0, Total eve calls=103, Total eve charge=18.62, Total night minutes=122.6, Total night calls=102, Total night charge=5.52, Total intl minutes=8.6, Total intl calls=2, Total intl charge=2.32, Customer service calls=1, Churn=False),\n",
              " Row(State='WV', Account length=191, Area code=408, International plan='No', Voice mail plan='No', Number vmail messages=0, Total day minutes=162.0, Total day calls=104, Total day charge=27.54, Total eve minutes=241.2, Total eve calls=120, Total eve charge=20.5, Total night minutes=210.4, Total night calls=83, Total night charge=9.47, Total intl minutes=10.9, Total intl calls=7, Total intl charge=2.94, Customer service calls=1, Churn=False),\n",
              " Row(State='MN', Account length=85, Area code=415, International plan='No', Voice mail plan='No', Number vmail messages=0, Total day minutes=255.3, Total day calls=114, Total day charge=43.4, Total eve minutes=194.6, Total eve calls=83, Total eve charge=16.54, Total night minutes=276.6, Total night calls=78, Total night charge=12.45, Total intl minutes=3.7, Total intl calls=5, Total intl charge=1.0, Customer service calls=3, Churn=False),\n",
              " Row(State='NH', Account length=116, Area code=408, International plan='No', Voice mail plan='Yes', Number vmail messages=24, Total day minutes=183.6, Total day calls=138, Total day charge=31.21, Total eve minutes=203.8, Total eve calls=90, Total eve charge=17.32, Total night minutes=166.9, Total night calls=89, Total night charge=7.51, Total intl minutes=6.0, Total intl calls=3, Total intl charge=1.62, Customer service calls=2, Churn=False),\n",
              " Row(State='NE', Account length=31, Area code=415, International plan='No', Voice mail plan='No', Number vmail messages=0, Total day minutes=97.5, Total day calls=129, Total day charge=16.58, Total eve minutes=260.4, Total eve calls=78, Total eve charge=22.13, Total night minutes=88.7, Total night calls=100, Total night charge=3.99, Total intl minutes=7.0, Total intl calls=5, Total intl charge=1.89, Customer service calls=1, Churn=False),\n",
              " Row(State='LA', Account length=149, Area code=415, International plan='No', Voice mail plan='Yes', Number vmail messages=20, Total day minutes=198.9, Total day calls=77, Total day charge=33.81, Total eve minutes=274.0, Total eve calls=88, Total eve charge=23.29, Total night minutes=190.7, Total night calls=76, Total night charge=8.58, Total intl minutes=14.3, Total intl calls=9, Total intl charge=3.86, Customer service calls=1, Churn=False),\n",
              " Row(State='NV', Account length=105, Area code=415, International plan='Yes', Voice mail plan='Yes', Number vmail messages=29, Total day minutes=220.7, Total day calls=82, Total day charge=37.52, Total eve minutes=217.7, Total eve calls=110, Total eve charge=18.5, Total night minutes=190.5, Total night calls=100, Total night charge=8.57, Total intl minutes=13.2, Total intl calls=6, Total intl charge=3.56, Customer service calls=1, Churn=True),\n",
              " Row(State='LA', Account length=89, Area code=415, International plan='No', Voice mail plan='No', Number vmail messages=0, Total day minutes=141.1, Total day calls=92, Total day charge=23.99, Total eve minutes=249.1, Total eve calls=126, Total eve charge=21.17, Total night minutes=136.0, Total night calls=73, Total night charge=6.12, Total intl minutes=10.8, Total intl calls=2, Total intl charge=2.92, Customer service calls=2, Churn=False),\n",
              " Row(State='RI', Account length=134, Area code=415, International plan='No', Voice mail plan='No', Number vmail messages=0, Total day minutes=141.7, Total day calls=95, Total day charge=24.09, Total eve minutes=205.6, Total eve calls=101, Total eve charge=17.48, Total night minutes=218.5, Total night calls=60, Total night charge=9.83, Total intl minutes=8.8, Total intl calls=6, Total intl charge=2.38, Customer service calls=0, Churn=False),\n",
              " Row(State='KS', Account length=94, Area code=408, International plan='No', Voice mail plan='No', Number vmail messages=0, Total day minutes=269.2, Total day calls=104, Total day charge=45.76, Total eve minutes=193.8, Total eve calls=144, Total eve charge=16.47, Total night minutes=257.6, Total night calls=61, Total night charge=11.59, Total intl minutes=8.9, Total intl calls=2, Total intl charge=2.4, Customer service calls=3, Churn=True),\n",
              " Row(State='IL', Account length=183, Area code=510, International plan='No', Voice mail plan='No', Number vmail messages=0, Total day minutes=108.3, Total day calls=87, Total day charge=18.41, Total eve minutes=183.6, Total eve calls=116, Total eve charge=15.61, Total night minutes=176.6, Total night calls=109, Total night charge=7.95, Total intl minutes=13.5, Total intl calls=2, Total intl charge=3.65, Customer service calls=0, Churn=False),\n",
              " Row(State='SD', Account length=126, Area code=415, International plan='No', Voice mail plan='Yes', Number vmail messages=23, Total day minutes=114.3, Total day calls=102, Total day charge=19.43, Total eve minutes=190.3, Total eve calls=103, Total eve charge=16.18, Total night minutes=240.4, Total night calls=111, Total night charge=10.82, Total intl minutes=12.6, Total intl calls=7, Total intl charge=3.4, Customer service calls=3, Churn=False),\n",
              " Row(State='NM', Account length=153, Area code=408, International plan='No', Voice mail plan='No', Number vmail messages=0, Total day minutes=185.3, Total day calls=127, Total day charge=31.5, Total eve minutes=208.0, Total eve calls=73, Total eve charge=17.68, Total night minutes=206.1, Total night calls=124, Total night charge=9.27, Total intl minutes=15.1, Total intl calls=3, Total intl charge=4.08, Customer service calls=1, Churn=False),\n",
              " Row(State='WI', Account length=120, Area code=408, International plan='No', Voice mail plan='Yes', Number vmail messages=26, Total day minutes=239.4, Total day calls=94, Total day charge=40.7, Total eve minutes=259.4, Total eve calls=88, Total eve charge=22.05, Total night minutes=238.0, Total night calls=132, Total night charge=10.71, Total intl minutes=7.7, Total intl calls=3, Total intl charge=2.08, Customer service calls=0, Churn=False),\n",
              " Row(State='OR', Account length=166, Area code=510, International plan='No', Voice mail plan='No', Number vmail messages=0, Total day minutes=199.6, Total day calls=93, Total day charge=33.93, Total eve minutes=214.3, Total eve calls=99, Total eve charge=18.22, Total night minutes=196.8, Total night calls=110, Total night charge=8.86, Total intl minutes=7.2, Total intl calls=5, Total intl charge=1.94, Customer service calls=3, Churn=False),\n",
              " Row(State='OR', Account length=113, Area code=415, International plan='No', Voice mail plan='No', Number vmail messages=0, Total day minutes=159.8, Total day calls=143, Total day charge=27.17, Total eve minutes=210.1, Total eve calls=93, Total eve charge=17.86, Total night minutes=175.1, Total night calls=86, Total night charge=7.88, Total intl minutes=13.1, Total intl calls=7, Total intl charge=3.54, Customer service calls=2, Churn=False),\n",
              " Row(State='MN', Account length=74, Area code=510, International plan='No', Voice mail plan='Yes', Number vmail messages=33, Total day minutes=193.7, Total day calls=91, Total day charge=32.93, Total eve minutes=246.1, Total eve calls=96, Total eve charge=20.92, Total night minutes=138.0, Total night calls=92, Total night charge=6.21, Total intl minutes=14.6, Total intl calls=3, Total intl charge=3.94, Customer service calls=2, Churn=False),\n",
              " Row(State='NM', Account length=25, Area code=415, International plan='No', Voice mail plan='No', Number vmail messages=0, Total day minutes=119.3, Total day calls=87, Total day charge=20.28, Total eve minutes=211.5, Total eve calls=101, Total eve charge=17.98, Total night minutes=268.9, Total night calls=86, Total night charge=12.1, Total intl minutes=10.5, Total intl calls=4, Total intl charge=2.84, Customer service calls=3, Churn=False),\n",
              " Row(State='KS', Account length=92, Area code=408, International plan='Yes', Voice mail plan='No', Number vmail messages=0, Total day minutes=62.6, Total day calls=111, Total day charge=10.64, Total eve minutes=180.6, Total eve calls=126, Total eve charge=15.35, Total night minutes=221.7, Total night calls=80, Total night charge=9.98, Total intl minutes=10.4, Total intl calls=2, Total intl charge=2.81, Customer service calls=1, Churn=True),\n",
              " Row(State='OK', Account length=89, Area code=510, International plan='No', Voice mail plan='No', Number vmail messages=0, Total day minutes=303.9, Total day calls=95, Total day charge=51.66, Total eve minutes=260.9, Total eve calls=114, Total eve charge=22.18, Total night minutes=312.1, Total night calls=89, Total night charge=14.04, Total intl minutes=5.3, Total intl calls=3, Total intl charge=1.43, Customer service calls=1, Churn=True),\n",
              " Row(State='DC', Account length=112, Area code=415, International plan='No', Voice mail plan='Yes', Number vmail messages=16, Total day minutes=221.6, Total day calls=110, Total day charge=37.67, Total eve minutes=130.2, Total eve calls=123, Total eve charge=11.07, Total night minutes=200.0, Total night calls=108, Total night charge=9.0, Total intl minutes=11.3, Total intl calls=3, Total intl charge=3.05, Customer service calls=1, Churn=False),\n",
              " Row(State='MO', Account length=167, Area code=415, International plan='Yes', Voice mail plan='No', Number vmail messages=0, Total day minutes=244.8, Total day calls=91, Total day charge=41.62, Total eve minutes=60.8, Total eve calls=105, Total eve charge=5.17, Total night minutes=176.7, Total night calls=110, Total night charge=7.95, Total intl minutes=10.7, Total intl calls=3, Total intl charge=2.89, Customer service calls=2, Churn=False),\n",
              " Row(State='ME', Account length=57, Area code=415, International plan='No', Voice mail plan='No', Number vmail messages=0, Total day minutes=221.1, Total day calls=101, Total day charge=37.59, Total eve minutes=236.7, Total eve calls=65, Total eve charge=20.12, Total night minutes=252.3, Total night calls=137, Total night charge=11.35, Total intl minutes=9.5, Total intl calls=1, Total intl charge=2.57, Customer service calls=0, Churn=False),\n",
              " Row(State='CA', Account length=84, Area code=415, International plan='No', Voice mail plan='No', Number vmail messages=0, Total day minutes=280.0, Total day calls=113, Total day charge=47.6, Total eve minutes=202.2, Total eve calls=90, Total eve charge=17.19, Total night minutes=156.8, Total night calls=103, Total night charge=7.06, Total intl minutes=10.4, Total intl calls=4, Total intl charge=2.81, Customer service calls=0, Churn=True),\n",
              " Row(State='CT', Account length=144, Area code=510, International plan='Yes', Voice mail plan='Yes', Number vmail messages=35, Total day minutes=174.8, Total day calls=127, Total day charge=29.72, Total eve minutes=219.6, Total eve calls=93, Total eve charge=18.67, Total night minutes=255.8, Total night calls=90, Total night charge=11.51, Total intl minutes=12.8, Total intl calls=3, Total intl charge=3.46, Customer service calls=0, Churn=False),\n",
              " Row(State='IL', Account length=123, Area code=408, International plan='No', Voice mail plan='No', Number vmail messages=0, Total day minutes=114.8, Total day calls=94, Total day charge=19.52, Total eve minutes=150.0, Total eve calls=104, Total eve charge=12.75, Total night minutes=268.6, Total night calls=119, Total night charge=12.09, Total intl minutes=9.6, Total intl calls=4, Total intl charge=2.59, Customer service calls=2, Churn=False),\n",
              " Row(State='WA', Account length=127, Area code=408, International plan='No', Voice mail plan='No', Number vmail messages=0, Total day minutes=146.7, Total day calls=91, Total day charge=24.94, Total eve minutes=203.5, Total eve calls=78, Total eve charge=17.3, Total night minutes=203.4, Total night calls=110, Total night charge=9.15, Total intl minutes=13.7, Total intl calls=3, Total intl charge=3.7, Customer service calls=1, Churn=False),\n",
              " Row(State='TX', Account length=84, Area code=408, International plan='No', Voice mail plan='No', Number vmail messages=0, Total day minutes=138.6, Total day calls=102, Total day charge=23.56, Total eve minutes=199.0, Total eve calls=93, Total eve charge=16.92, Total night minutes=204.1, Total night calls=137, Total night charge=9.18, Total intl minutes=7.8, Total intl calls=4, Total intl charge=2.11, Customer service calls=0, Churn=False),\n",
              " Row(State='ID', Account length=166, Area code=415, International plan='No', Voice mail plan='No', Number vmail messages=0, Total day minutes=220.7, Total day calls=106, Total day charge=37.52, Total eve minutes=177.8, Total eve calls=118, Total eve charge=15.11, Total night minutes=206.1, Total night calls=102, Total night charge=9.27, Total intl minutes=12.4, Total intl calls=9, Total intl charge=3.35, Customer service calls=1, Churn=False),\n",
              " Row(State='MN', Account length=99, Area code=408, International plan='No', Voice mail plan='No', Number vmail messages=0, Total day minutes=128.8, Total day calls=86, Total day charge=21.9, Total eve minutes=203.9, Total eve calls=105, Total eve charge=17.33, Total night minutes=282.6, Total night calls=131, Total night charge=12.72, Total intl minutes=14.1, Total intl calls=4, Total intl charge=3.81, Customer service calls=2, Churn=False),\n",
              " Row(State='WA', Account length=84, Area code=415, International plan='No', Voice mail plan='No', Number vmail messages=0, Total day minutes=289.1, Total day calls=100, Total day charge=49.15, Total eve minutes=233.8, Total eve calls=97, Total eve charge=19.87, Total night minutes=223.5, Total night calls=148, Total night charge=10.06, Total intl minutes=12.7, Total intl calls=2, Total intl charge=3.43, Customer service calls=2, Churn=True),\n",
              " Row(State='ND', Account length=51, Area code=510, International plan='No', Voice mail plan='No', Number vmail messages=0, Total day minutes=227.2, Total day calls=89, Total day charge=38.62, Total eve minutes=194.4, Total eve calls=106, Total eve charge=16.52, Total night minutes=243.4, Total night calls=126, Total night charge=10.95, Total intl minutes=14.9, Total intl calls=2, Total intl charge=4.02, Customer service calls=0, Churn=False),\n",
              " Row(State='MD', Account length=160, Area code=415, International plan='No', Voice mail plan='No', Number vmail messages=0, Total day minutes=256.0, Total day calls=111, Total day charge=43.52, Total eve minutes=187.4, Total eve calls=61, Total eve charge=15.93, Total night minutes=119.1, Total night calls=81, Total night charge=5.36, Total intl minutes=11.5, Total intl calls=4, Total intl charge=3.11, Customer service calls=3, Churn=False),\n",
              " Row(State='MT', Account length=116, Area code=415, International plan='No', Voice mail plan='Yes', Number vmail messages=35, Total day minutes=182.8, Total day calls=122, Total day charge=31.08, Total eve minutes=212.7, Total eve calls=119, Total eve charge=18.08, Total night minutes=193.8, Total night calls=103, Total night charge=8.72, Total intl minutes=11.0, Total intl calls=2, Total intl charge=2.97, Customer service calls=1, Churn=False),\n",
              " Row(State='CO', Account length=132, Area code=415, International plan='No', Voice mail plan='No', Number vmail messages=0, Total day minutes=197.8, Total day calls=66, Total day charge=33.63, Total eve minutes=133.9, Total eve calls=119, Total eve charge=11.38, Total night minutes=177.3, Total night calls=94, Total night charge=7.98, Total intl minutes=10.9, Total intl calls=3, Total intl charge=2.94, Customer service calls=4, Churn=True),\n",
              " Row(State='NJ', Account length=134, Area code=510, International plan='No', Voice mail plan='Yes', Number vmail messages=34, Total day minutes=247.2, Total day calls=105, Total day charge=42.02, Total eve minutes=225.5, Total eve calls=133, Total eve charge=19.17, Total night minutes=186.3, Total night calls=76, Total night charge=8.38, Total intl minutes=6.1, Total intl calls=5, Total intl charge=1.65, Customer service calls=2, Churn=True),\n",
              " Row(State='OK', Account length=52, Area code=408, International plan='No', Voice mail plan='No', Number vmail messages=0, Total day minutes=214.7, Total day calls=68, Total day charge=36.5, Total eve minutes=158.6, Total eve calls=138, Total eve charge=13.48, Total night minutes=123.4, Total night calls=114, Total night charge=5.55, Total intl minutes=9.4, Total intl calls=4, Total intl charge=2.54, Customer service calls=2, Churn=False),\n",
              " Row(State='VT', Account length=124, Area code=415, International plan='No', Voice mail plan='No', Number vmail messages=0, Total day minutes=178.4, Total day calls=72, Total day charge=30.33, Total eve minutes=233.6, Total eve calls=134, Total eve charge=19.86, Total night minutes=179.4, Total night calls=91, Total night charge=8.07, Total intl minutes=12.0, Total intl calls=2, Total intl charge=3.24, Customer service calls=0, Churn=False),\n",
              " Row(State='WY', Account length=53, Area code=415, International plan='No', Voice mail plan='Yes', Number vmail messages=27, Total day minutes=25.9, Total day calls=119, Total day charge=4.4, Total eve minutes=206.5, Total eve calls=96, Total eve charge=17.55, Total night minutes=228.1, Total night calls=64, Total night charge=10.26, Total intl minutes=6.5, Total intl calls=7, Total intl charge=1.76, Customer service calls=1, Churn=False),\n",
              " Row(State='CT', Account length=3, Area code=415, International plan='No', Voice mail plan='Yes', Number vmail messages=36, Total day minutes=118.1, Total day calls=117, Total day charge=20.08, Total eve minutes=221.5, Total eve calls=125, Total eve charge=18.83, Total night minutes=103.9, Total night calls=89, Total night charge=4.68, Total intl minutes=11.9, Total intl calls=6, Total intl charge=3.21, Customer service calls=2, Churn=False),\n",
              " Row(State='ND', Account length=177, Area code=408, International plan='No', Voice mail plan='No', Number vmail messages=0, Total day minutes=189.5, Total day calls=99, Total day charge=32.22, Total eve minutes=176.3, Total eve calls=117, Total eve charge=14.99, Total night minutes=225.9, Total night calls=112, Total night charge=10.17, Total intl minutes=14.2, Total intl calls=2, Total intl charge=3.83, Customer service calls=1, Churn=False),\n",
              " Row(State='AK', Account length=55, Area code=408, International plan='No', Voice mail plan='Yes', Number vmail messages=39, Total day minutes=139.3, Total day calls=101, Total day charge=23.68, Total eve minutes=178.3, Total eve calls=117, Total eve charge=15.16, Total night minutes=246.5, Total night calls=104, Total night charge=11.09, Total intl minutes=8.1, Total intl calls=1, Total intl charge=2.19, Customer service calls=3, Churn=False),\n",
              " Row(State='KY', Account length=64, Area code=415, International plan='Yes', Voice mail plan='No', Number vmail messages=0, Total day minutes=146.7, Total day calls=83, Total day charge=24.94, Total eve minutes=148.3, Total eve calls=91, Total eve charge=12.61, Total night minutes=238.6, Total night calls=69, Total night charge=10.74, Total intl minutes=12.5, Total intl calls=3, Total intl charge=3.38, Customer service calls=3, Churn=False),\n",
              " Row(State='MO', Account length=107, Area code=415, International plan='No', Voice mail plan='Yes', Number vmail messages=22, Total day minutes=281.1, Total day calls=83, Total day charge=47.79, Total eve minutes=143.7, Total eve calls=130, Total eve charge=12.21, Total night minutes=239.4, Total night calls=128, Total night charge=10.77, Total intl minutes=11.2, Total intl calls=9, Total intl charge=3.02, Customer service calls=1, Churn=False),\n",
              " Row(State='MI', Account length=65, Area code=415, International plan='No', Voice mail plan='No', Number vmail messages=0, Total day minutes=211.3, Total day calls=120, Total day charge=35.92, Total eve minutes=162.6, Total eve calls=122, Total eve charge=13.82, Total night minutes=134.7, Total night calls=118, Total night charge=6.06, Total intl minutes=13.2, Total intl calls=5, Total intl charge=3.56, Customer service calls=3, Churn=False),\n",
              " Row(State='LA', Account length=81, Area code=415, International plan='No', Voice mail plan='Yes', Number vmail messages=36, Total day minutes=115.9, Total day calls=120, Total day charge=19.7, Total eve minutes=236.6, Total eve calls=95, Total eve charge=20.11, Total night minutes=255.0, Total night calls=90, Total night charge=11.48, Total intl minutes=11.7, Total intl calls=6, Total intl charge=3.16, Customer service calls=3, Churn=False),\n",
              " Row(State='TN', Account length=99, Area code=408, International plan='No', Voice mail plan='No', Number vmail messages=0, Total day minutes=54.8, Total day calls=92, Total day charge=9.32, Total eve minutes=173.0, Total eve calls=103, Total eve charge=14.71, Total night minutes=195.1, Total night calls=125, Total night charge=8.78, Total intl minutes=7.5, Total intl calls=3, Total intl charge=2.03, Customer service calls=1, Churn=False),\n",
              " Row(State='ND', Account length=110, Area code=408, International plan='No', Voice mail plan='No', Number vmail messages=0, Total day minutes=196.1, Total day calls=103, Total day charge=33.34, Total eve minutes=199.7, Total eve calls=123, Total eve charge=16.97, Total night minutes=135.9, Total night calls=71, Total night charge=6.12, Total intl minutes=12.9, Total intl calls=1, Total intl charge=3.48, Customer service calls=3, Churn=False),\n",
              " Row(State='HI', Account length=49, Area code=510, International plan='No', Voice mail plan='No', Number vmail messages=0, Total day minutes=119.3, Total day calls=117, Total day charge=20.28, Total eve minutes=215.1, Total eve calls=109, Total eve charge=18.28, Total night minutes=178.7, Total night calls=90, Total night charge=8.04, Total intl minutes=11.1, Total intl calls=1, Total intl charge=3.0, Customer service calls=1, Churn=False),\n",
              " Row(State='MN', Account length=150, Area code=415, International plan='No', Voice mail plan='Yes', Number vmail messages=28, Total day minutes=174.4, Total day calls=75, Total day charge=29.65, Total eve minutes=169.9, Total eve calls=80, Total eve charge=14.44, Total night minutes=201.6, Total night calls=130, Total night charge=9.07, Total intl minutes=11.0, Total intl calls=4, Total intl charge=2.97, Customer service calls=1, Churn=False),\n",
              " Row(State='NM', Account length=55, Area code=510, International plan='No', Voice mail plan='No', Number vmail messages=0, Total day minutes=119.7, Total day calls=148, Total day charge=20.35, Total eve minutes=231.8, Total eve calls=96, Total eve charge=19.7, Total night minutes=222.3, Total night calls=113, Total night charge=10.0, Total intl minutes=4.6, Total intl calls=2, Total intl charge=1.24, Customer service calls=2, Churn=False),\n",
              " Row(State='ND', Account length=27, Area code=415, International plan='No', Voice mail plan='No', Number vmail messages=0, Total day minutes=227.4, Total day calls=67, Total day charge=38.66, Total eve minutes=248.0, Total eve calls=115, Total eve charge=21.08, Total night minutes=61.4, Total night calls=109, Total night charge=2.76, Total intl minutes=7.8, Total intl calls=6, Total intl charge=2.11, Customer service calls=1, Churn=False),\n",
              " Row(State='MS', Account length=73, Area code=415, International plan='No', Voice mail plan='Yes', Number vmail messages=31, Total day minutes=82.3, Total day calls=105, Total day charge=13.99, Total eve minutes=256.1, Total eve calls=91, Total eve charge=21.77, Total night minutes=229.6, Total night calls=98, Total night charge=10.33, Total intl minutes=11.8, Total intl calls=2, Total intl charge=3.19, Customer service calls=6, Churn=True),\n",
              " Row(State='WV', Account length=124, Area code=510, International plan='No', Voice mail plan='No', Number vmail messages=0, Total day minutes=184.8, Total day calls=74, Total day charge=31.42, Total eve minutes=175.1, Total eve calls=84, Total eve charge=14.88, Total night minutes=158.2, Total night calls=95, Total night charge=7.12, Total intl minutes=10.5, Total intl calls=6, Total intl charge=2.84, Customer service calls=1, Churn=False),\n",
              " Row(State='WY', Account length=146, Area code=415, International plan='No', Voice mail plan='Yes', Number vmail messages=11, Total day minutes=180.7, Total day calls=82, Total day charge=30.72, Total eve minutes=173.7, Total eve calls=90, Total eve charge=14.76, Total night minutes=231.5, Total night calls=89, Total night charge=10.42, Total intl minutes=10.1, Total intl calls=4, Total intl charge=2.73, Customer service calls=2, Churn=False),\n",
              " Row(State='WI', Account length=90, Area code=415, International plan='No', Voice mail plan='No', Number vmail messages=0, Total day minutes=200.9, Total day calls=92, Total day charge=34.15, Total eve minutes=164.3, Total eve calls=91, Total eve charge=13.97, Total night minutes=249.0, Total night calls=98, Total night charge=11.21, Total intl minutes=8.9, Total intl calls=7, Total intl charge=2.4, Customer service calls=1, Churn=False),\n",
              " Row(State='NY', Account length=160, Area code=408, International plan='No', Voice mail plan='No', Number vmail messages=0, Total day minutes=216.8, Total day calls=77, Total day charge=36.86, Total eve minutes=207.3, Total eve calls=117, Total eve charge=17.62, Total night minutes=228.6, Total night calls=117, Total night charge=10.29, Total intl minutes=5.6, Total intl calls=2, Total intl charge=1.51, Customer service calls=1, Churn=False),\n",
              " Row(State='OR', Account length=161, Area code=415, International plan='No', Voice mail plan='No', Number vmail messages=0, Total day minutes=178.1, Total day calls=109, Total day charge=30.28, Total eve minutes=146.5, Total eve calls=86, Total eve charge=12.45, Total night minutes=137.6, Total night calls=78, Total night charge=6.19, Total intl minutes=8.5, Total intl calls=2, Total intl charge=2.3, Customer service calls=1, Churn=False),\n",
              " Row(State='RI', Account length=113, Area code=415, International plan='No', Voice mail plan='No', Number vmail messages=0, Total day minutes=90.6, Total day calls=130, Total day charge=15.4, Total eve minutes=170.6, Total eve calls=100, Total eve charge=14.5, Total night minutes=137.4, Total night calls=74, Total night charge=6.18, Total intl minutes=5.4, Total intl calls=9, Total intl charge=1.46, Customer service calls=1, Churn=False),\n",
              " Row(State='AZ', Account length=60, Area code=415, International plan='No', Voice mail plan='No', Number vmail messages=0, Total day minutes=98.2, Total day calls=88, Total day charge=16.69, Total eve minutes=180.5, Total eve calls=69, Total eve charge=15.34, Total night minutes=223.6, Total night calls=69, Total night charge=10.06, Total intl minutes=9.3, Total intl calls=2, Total intl charge=2.51, Customer service calls=2, Churn=False),\n",
              " Row(State='UT', Account length=103, Area code=415, International plan='No', Voice mail plan='No', Number vmail messages=0, Total day minutes=189.8, Total day calls=110, Total day charge=32.27, Total eve minutes=115.5, Total eve calls=83, Total eve charge=9.82, Total night minutes=191.3, Total night calls=103, Total night charge=8.61, Total intl minutes=12.2, Total intl calls=4, Total intl charge=3.29, Customer service calls=0, Churn=False),\n",
              " Row(State='IL', Account length=55, Area code=415, International plan='Yes', Voice mail plan='No', Number vmail messages=0, Total day minutes=269.6, Total day calls=121, Total day charge=45.83, Total eve minutes=171.7, Total eve calls=91, Total eve charge=14.59, Total night minutes=219.0, Total night calls=98, Total night charge=9.86, Total intl minutes=8.2, Total intl calls=6, Total intl charge=2.21, Customer service calls=1, Churn=False),\n",
              " Row(State='MD', Account length=204, Area code=510, International plan='No', Voice mail plan='No', Number vmail messages=0, Total day minutes=205.2, Total day calls=145, Total day charge=34.88, Total eve minutes=154.8, Total eve calls=95, Total eve charge=13.16, Total night minutes=191.4, Total night calls=77, Total night charge=8.61, Total intl minutes=14.1, Total intl calls=5, Total intl charge=3.81, Customer service calls=3, Churn=False),\n",
              " Row(State='NC', Account length=63, Area code=415, International plan='No', Voice mail plan='Yes', Number vmail messages=29, Total day minutes=142.3, Total day calls=107, Total day charge=24.19, Total eve minutes=118.7, Total eve calls=56, Total eve charge=10.09, Total night minutes=240.1, Total night calls=91, Total night charge=10.8, Total intl minutes=6.6, Total intl calls=8, Total intl charge=1.78, Customer service calls=1, Churn=False),\n",
              " Row(State='MD', Account length=133, Area code=510, International plan='No', Voice mail plan='No', Number vmail messages=0, Total day minutes=295.0, Total day calls=141, Total day charge=50.15, Total eve minutes=223.6, Total eve calls=101, Total eve charge=19.01, Total night minutes=229.4, Total night calls=109, Total night charge=10.32, Total intl minutes=12.9, Total intl calls=4, Total intl charge=3.48, Customer service calls=2, Churn=True),\n",
              " Row(State='CT', Account length=199, Area code=415, International plan='No', Voice mail plan='Yes', Number vmail messages=34, Total day minutes=230.6, Total day calls=121, Total day charge=39.2, Total eve minutes=219.4, Total eve calls=99, Total eve charge=18.65, Total night minutes=299.3, Total night calls=94, Total night charge=13.47, Total intl minutes=8.0, Total intl calls=2, Total intl charge=2.16, Customer service calls=0, Churn=False),\n",
              " Row(State='VT', Account length=95, Area code=510, International plan='Yes', Voice mail plan='Yes', Number vmail messages=41, Total day minutes=136.8, Total day calls=91, Total day charge=23.26, Total eve minutes=200.8, Total eve calls=61, Total eve charge=17.07, Total night minutes=133.7, Total night calls=67, Total night charge=6.02, Total intl minutes=10.3, Total intl calls=9, Total intl charge=2.78, Customer service calls=5, Churn=True),\n",
              " Row(State='CT', Account length=134, Area code=408, International plan='No', Voice mail plan='Yes', Number vmail messages=32, Total day minutes=80.3, Total day calls=94, Total day charge=13.65, Total eve minutes=199.9, Total eve calls=124, Total eve charge=16.99, Total night minutes=170.8, Total night calls=117, Total night charge=7.69, Total intl minutes=16.6, Total intl calls=3, Total intl charge=4.48, Customer service calls=0, Churn=False),\n",
              " Row(State='TX', Account length=120, Area code=415, International plan='No', Voice mail plan='No', Number vmail messages=0, Total day minutes=203.3, Total day calls=108, Total day charge=34.56, Total eve minutes=259.9, Total eve calls=66, Total eve charge=22.09, Total night minutes=115.9, Total night calls=103, Total night charge=5.22, Total intl minutes=7.8, Total intl calls=2, Total intl charge=2.11, Customer service calls=3, Churn=False),\n",
              " Row(State='RI', Account length=63, Area code=415, International plan='Yes', Voice mail plan='No', Number vmail messages=0, Total day minutes=62.9, Total day calls=112, Total day charge=10.69, Total eve minutes=202.9, Total eve calls=111, Total eve charge=17.25, Total night minutes=259.0, Total night calls=58, Total night charge=11.66, Total intl minutes=8.9, Total intl calls=8, Total intl charge=2.4, Customer service calls=1, Churn=False),\n",
              " Row(State='NE', Account length=127, Area code=510, International plan='Yes', Voice mail plan='No', Number vmail messages=0, Total day minutes=180.9, Total day calls=114, Total day charge=30.75, Total eve minutes=209.5, Total eve calls=118, Total eve charge=17.81, Total night minutes=249.9, Total night calls=105, Total night charge=11.25, Total intl minutes=7.4, Total intl calls=4, Total intl charge=2.0, Customer service calls=2, Churn=False),\n",
              " Row(State='VT', Account length=101, Area code=415, International plan='No', Voice mail plan='No', Number vmail messages=0, Total day minutes=153.8, Total day calls=89, Total day charge=26.15, Total eve minutes=234.0, Total eve calls=89, Total eve charge=19.89, Total night minutes=196.3, Total night calls=77, Total night charge=8.83, Total intl minutes=11.6, Total intl calls=2, Total intl charge=3.13, Customer service calls=4, Churn=False),\n",
              " Row(State='UT', Account length=74, Area code=415, International plan='No', Voice mail plan='No', Number vmail messages=0, Total day minutes=106.4, Total day calls=84, Total day charge=18.09, Total eve minutes=140.2, Total eve calls=104, Total eve charge=11.92, Total night minutes=90.9, Total night calls=81, Total night charge=4.09, Total intl minutes=11.4, Total intl calls=3, Total intl charge=3.08, Customer service calls=1, Churn=False),\n",
              " Row(State='MO', Account length=101, Area code=415, International plan='Yes', Voice mail plan='No', Number vmail messages=0, Total day minutes=156.4, Total day calls=116, Total day charge=26.59, Total eve minutes=130.4, Total eve calls=114, Total eve charge=11.08, Total night minutes=207.3, Total night calls=109, Total night charge=9.33, Total intl minutes=7.3, Total intl calls=5, Total intl charge=1.97, Customer service calls=1, Churn=False),\n",
              " Row(State='DE', Account length=98, Area code=415, International plan='No', Voice mail plan='Yes', Number vmail messages=29, Total day minutes=179.9, Total day calls=97, Total day charge=30.58, Total eve minutes=189.2, Total eve calls=89, Total eve charge=16.08, Total night minutes=164.3, Total night calls=76, Total night charge=7.39, Total intl minutes=12.8, Total intl calls=7, Total intl charge=3.46, Customer service calls=3, Churn=False),\n",
              " Row(State='RI', Account length=112, Area code=415, International plan='No', Voice mail plan='No', Number vmail messages=0, Total day minutes=168.6, Total day calls=102, Total day charge=28.66, Total eve minutes=298.0, Total eve calls=117, Total eve charge=25.33, Total night minutes=194.7, Total night calls=110, Total night charge=8.76, Total intl minutes=9.8, Total intl calls=5, Total intl charge=2.65, Customer service calls=1, Churn=False),\n",
              " Row(State='MO', Account length=86, Area code=415, International plan='No', Voice mail plan='No', Number vmail messages=0, Total day minutes=83.5, Total day calls=96, Total day charge=14.2, Total eve minutes=221.1, Total eve calls=63, Total eve charge=18.79, Total night minutes=349.7, Total night calls=75, Total night charge=15.74, Total intl minutes=12.6, Total intl calls=3, Total intl charge=3.4, Customer service calls=0, Churn=False),\n",
              " Row(State='CO', Account length=141, Area code=415, International plan='No', Voice mail plan='Yes', Number vmail messages=32, Total day minutes=148.6, Total day calls=91, Total day charge=25.26, Total eve minutes=131.1, Total eve calls=97, Total eve charge=11.14, Total night minutes=219.4, Total night calls=142, Total night charge=9.87, Total intl minutes=10.1, Total intl calls=1, Total intl charge=2.73, Customer service calls=1, Churn=False),\n",
              " Row(State='LA', Account length=99, Area code=415, International plan='No', Voice mail plan='No', Number vmail messages=0, Total day minutes=241.1, Total day calls=72, Total day charge=40.99, Total eve minutes=155.6, Total eve calls=98, Total eve charge=13.23, Total night minutes=188.2, Total night calls=109, Total night charge=8.47, Total intl minutes=11.6, Total intl calls=10, Total intl charge=3.13, Customer service calls=1, Churn=False),\n",
              " Row(State='IN', Account length=122, Area code=408, International plan='No', Voice mail plan='No', Number vmail messages=0, Total day minutes=296.4, Total day calls=99, Total day charge=50.39, Total eve minutes=214.8, Total eve calls=89, Total eve charge=18.26, Total night minutes=133.9, Total night calls=107, Total night charge=6.03, Total intl minutes=11.4, Total intl calls=3, Total intl charge=3.08, Customer service calls=4, Churn=True),\n",
              " Row(State='NJ', Account length=131, Area code=415, International plan='No', Voice mail plan='No', Number vmail messages=0, Total day minutes=211.8, Total day calls=115, Total day charge=36.01, Total eve minutes=260.5, Total eve calls=102, Total eve charge=22.14, Total night minutes=144.2, Total night calls=96, Total night charge=6.49, Total intl minutes=10.8, Total intl calls=7, Total intl charge=2.92, Customer service calls=0, Churn=False),\n",
              " Row(State='MO', Account length=92, Area code=415, International plan='No', Voice mail plan='No', Number vmail messages=0, Total day minutes=154.0, Total day calls=122, Total day charge=26.18, Total eve minutes=329.8, Total eve calls=88, Total eve charge=28.03, Total night minutes=288.0, Total night calls=117, Total night charge=12.96, Total intl minutes=5.6, Total intl calls=2, Total intl charge=1.51, Customer service calls=3, Churn=True),\n",
              " Row(State='LA', Account length=108, Area code=510, International plan='No', Voice mail plan='Yes', Number vmail messages=30, Total day minutes=276.6, Total day calls=99, Total day charge=47.02, Total eve minutes=220.1, Total eve calls=113, Total eve charge=18.71, Total night minutes=177.9, Total night calls=95, Total night charge=8.01, Total intl minutes=9.8, Total intl calls=6, Total intl charge=2.65, Customer service calls=2, Churn=False),\n",
              " Row(State='OH', Account length=127, Area code=408, International plan='No', Voice mail plan='No', Number vmail messages=0, Total day minutes=139.6, Total day calls=94, Total day charge=23.73, Total eve minutes=240.9, Total eve calls=112, Total eve charge=20.48, Total night minutes=127.1, Total night calls=88, Total night charge=5.72, Total intl minutes=8.8, Total intl calls=4, Total intl charge=2.38, Customer service calls=2, Churn=False),\n",
              " Row(State='NH', Account length=90, Area code=415, International plan='No', Voice mail plan='Yes', Number vmail messages=42, Total day minutes=193.3, Total day calls=66, Total day charge=32.86, Total eve minutes=263.3, Total eve calls=85, Total eve charge=22.38, Total night minutes=214.4, Total night calls=97, Total night charge=9.65, Total intl minutes=11.1, Total intl calls=4, Total intl charge=3.0, Customer service calls=0, Churn=False),\n",
              " Row(State='MN', Account length=155, Area code=408, International plan='Yes', Voice mail plan='No', Number vmail messages=0, Total day minutes=250.8, Total day calls=146, Total day charge=42.64, Total eve minutes=152.5, Total eve calls=105, Total eve charge=12.96, Total night minutes=148.1, Total night calls=104, Total night charge=6.66, Total intl minutes=10.0, Total intl calls=5, Total intl charge=2.7, Customer service calls=2, Churn=False),\n",
              " Row(State='MT', Account length=27, Area code=510, International plan='No', Voice mail plan='No', Number vmail messages=0, Total day minutes=193.8, Total day calls=102, Total day charge=32.95, Total eve minutes=118.9, Total eve calls=104, Total eve charge=10.11, Total night minutes=135.9, Total night calls=124, Total night charge=6.12, Total intl minutes=9.2, Total intl calls=3, Total intl charge=2.48, Customer service calls=0, Churn=False),\n",
              " Row(State='WI', Account length=35, Area code=510, International plan='No', Voice mail plan='Yes', Number vmail messages=27, Total day minutes=241.7, Total day calls=87, Total day charge=41.09, Total eve minutes=142.0, Total eve calls=101, Total eve charge=12.07, Total night minutes=288.9, Total night calls=68, Total night charge=13.0, Total intl minutes=9.4, Total intl calls=4, Total intl charge=2.54, Customer service calls=1, Churn=False),\n",
              " Row(State='SC', Account length=87, Area code=408, International plan='No', Voice mail plan='No', Number vmail messages=0, Total day minutes=322.5, Total day calls=106, Total day charge=54.83, Total eve minutes=204.6, Total eve calls=93, Total eve charge=17.39, Total night minutes=186.2, Total night calls=128, Total night charge=8.38, Total intl minutes=9.4, Total intl calls=4, Total intl charge=2.54, Customer service calls=2, Churn=True),\n",
              " Row(State='AR', Account length=116, Area code=510, International plan='No', Voice mail plan='No', Number vmail messages=0, Total day minutes=160.7, Total day calls=69, Total day charge=27.32, Total eve minutes=146.8, Total eve calls=106, Total eve charge=12.48, Total night minutes=287.8, Total night calls=144, Total night charge=12.95, Total intl minutes=8.2, Total intl calls=5, Total intl charge=2.21, Customer service calls=0, Churn=False),\n",
              " Row(State='OK', Account length=138, Area code=510, International plan='No', Voice mail plan='Yes', Number vmail messages=33, Total day minutes=155.2, Total day calls=139, Total day charge=26.38, Total eve minutes=268.3, Total eve calls=79, Total eve charge=22.81, Total night minutes=186.4, Total night calls=71, Total night charge=8.39, Total intl minutes=9.7, Total intl calls=4, Total intl charge=2.62, Customer service calls=3, Churn=False),\n",
              " Row(State='WV', Account length=67, Area code=408, International plan='No', Voice mail plan='No', Number vmail messages=0, Total day minutes=167.8, Total day calls=91, Total day charge=28.53, Total eve minutes=167.7, Total eve calls=69, Total eve charge=14.25, Total night minutes=110.3, Total night calls=71, Total night charge=4.96, Total intl minutes=8.4, Total intl calls=12, Total intl charge=2.27, Customer service calls=1, Churn=False),\n",
              " Row(State='IA', Account length=92, Area code=510, International plan='No', Voice mail plan='Yes', Number vmail messages=25, Total day minutes=134.0, Total day calls=112, Total day charge=22.78, Total eve minutes=206.0, Total eve calls=111, Total eve charge=17.51, Total night minutes=180.6, Total night calls=118, Total night charge=8.13, Total intl minutes=9.7, Total intl calls=4, Total intl charge=2.62, Customer service calls=0, Churn=False),\n",
              " Row(State='NV', Account length=116, Area code=408, International plan='No', Voice mail plan='No', Number vmail messages=0, Total day minutes=110.9, Total day calls=54, Total day charge=18.85, Total eve minutes=213.4, Total eve calls=82, Total eve charge=18.14, Total night minutes=186.2, Total night calls=116, Total night charge=8.38, Total intl minutes=7.9, Total intl calls=2, Total intl charge=2.13, Customer service calls=2, Churn=False),\n",
              " Row(State='OK', Account length=112, Area code=415, International plan='No', Voice mail plan='No', Number vmail messages=0, Total day minutes=166.0, Total day calls=79, Total day charge=28.22, Total eve minutes=74.6, Total eve calls=100, Total eve charge=6.34, Total night minutes=247.9, Total night calls=74, Total night charge=11.16, Total intl minutes=6.3, Total intl calls=7, Total intl charge=1.7, Customer service calls=0, Churn=False),\n",
              " Row(State='NM', Account length=41, Area code=415, International plan='No', Voice mail plan='No', Number vmail messages=0, Total day minutes=232.1, Total day calls=74, Total day charge=39.46, Total eve minutes=327.1, Total eve calls=88, Total eve charge=27.8, Total night minutes=226.5, Total night calls=119, Total night charge=10.19, Total intl minutes=10.9, Total intl calls=2, Total intl charge=2.94, Customer service calls=3, Churn=True),\n",
              " Row(State='NJ', Account length=127, Area code=510, International plan='No', Voice mail plan='No', Number vmail messages=0, Total day minutes=239.8, Total day calls=107, Total day charge=40.77, Total eve minutes=128.9, Total eve calls=121, Total eve charge=10.96, Total night minutes=249.9, Total night calls=110, Total night charge=11.25, Total intl minutes=11.3, Total intl calls=5, Total intl charge=3.05, Customer service calls=1, Churn=False),\n",
              " Row(State='AL', Account length=85, Area code=415, International plan='No', Voice mail plan='No', Number vmail messages=0, Total day minutes=210.3, Total day calls=66, Total day charge=35.75, Total eve minutes=195.8, Total eve calls=76, Total eve charge=16.64, Total night minutes=221.6, Total night calls=82, Total night charge=9.97, Total intl minutes=11.2, Total intl calls=7, Total intl charge=3.02, Customer service calls=1, Churn=False),\n",
              " Row(State='ID', Account length=92, Area code=415, International plan='No', Voice mail plan='No', Number vmail messages=0, Total day minutes=197.2, Total day calls=113, Total day charge=33.52, Total eve minutes=242.3, Total eve calls=116, Total eve charge=20.6, Total night minutes=192.0, Total night calls=76, Total night charge=8.64, Total intl minutes=11.0, Total intl calls=5, Total intl charge=2.97, Customer service calls=2, Churn=False),\n",
              " Row(State='UT', Account length=138, Area code=510, International plan='No', Voice mail plan='No', Number vmail messages=0, Total day minutes=205.9, Total day calls=96, Total day charge=35.0, Total eve minutes=257.1, Total eve calls=94, Total eve charge=21.85, Total night minutes=209.0, Total night calls=63, Total night charge=9.4, Total intl minutes=12.1, Total intl calls=8, Total intl charge=3.27, Customer service calls=0, Churn=False),\n",
              " Row(State='MA', Account length=80, Area code=408, International plan='No', Voice mail plan='Yes', Number vmail messages=36, Total day minutes=190.3, Total day calls=115, Total day charge=32.35, Total eve minutes=256.6, Total eve calls=78, Total eve charge=21.81, Total night minutes=214.9, Total night calls=145, Total night charge=9.67, Total intl minutes=3.8, Total intl calls=4, Total intl charge=1.03, Customer service calls=1, Churn=False),\n",
              " Row(State='NJ', Account length=107, Area code=408, International plan='No', Voice mail plan='Yes', Number vmail messages=36, Total day minutes=96.3, Total day calls=83, Total day charge=16.37, Total eve minutes=179.6, Total eve calls=91, Total eve charge=15.27, Total night minutes=166.3, Total night calls=121, Total night charge=7.48, Total intl minutes=10.3, Total intl calls=2, Total intl charge=2.78, Customer service calls=1, Churn=False),\n",
              " Row(State='MA', Account length=102, Area code=415, International plan='No', Voice mail plan='Yes', Number vmail messages=31, Total day minutes=125.3, Total day calls=92, Total day charge=21.3, Total eve minutes=141.2, Total eve calls=108, Total eve charge=12.0, Total night minutes=168.2, Total night calls=68, Total night charge=7.57, Total intl minutes=6.3, Total intl calls=2, Total intl charge=1.7, Customer service calls=3, Churn=False),\n",
              " Row(State='CO', Account length=57, Area code=415, International plan='No', Voice mail plan='No', Number vmail messages=0, Total day minutes=85.9, Total day calls=92, Total day charge=14.6, Total eve minutes=193.9, Total eve calls=127, Total eve charge=16.48, Total night minutes=231.5, Total night calls=93, Total night charge=10.42, Total intl minutes=10.1, Total intl calls=2, Total intl charge=2.73, Customer service calls=0, Churn=False),\n",
              " Row(State='ND', Account length=88, Area code=415, International plan='No', Voice mail plan='No', Number vmail messages=0, Total day minutes=161.5, Total day calls=92, Total day charge=27.46, Total eve minutes=173.5, Total eve calls=108, Total eve charge=14.75, Total night minutes=206.2, Total night calls=95, Total night charge=9.28, Total intl minutes=7.9, Total intl calls=4, Total intl charge=2.13, Customer service calls=2, Churn=False),\n",
              " Row(State='VA', Account length=182, Area code=415, International plan='No', Voice mail plan='No', Number vmail messages=0, Total day minutes=176.1, Total day calls=90, Total day charge=29.94, Total eve minutes=174.9, Total eve calls=106, Total eve charge=14.87, Total night minutes=234.7, Total night calls=134, Total night charge=10.56, Total intl minutes=9.7, Total intl calls=4, Total intl charge=2.62, Customer service calls=1, Churn=False),\n",
              " Row(State='WI', Account length=107, Area code=510, International plan='No', Voice mail plan='Yes', Number vmail messages=25, Total day minutes=248.6, Total day calls=91, Total day charge=42.26, Total eve minutes=119.3, Total eve calls=115, Total eve charge=10.14, Total night minutes=194.3, Total night calls=83, Total night charge=8.74, Total intl minutes=12.0, Total intl calls=1, Total intl charge=3.24, Customer service calls=1, Churn=False),\n",
              " Row(State='ID', Account length=88, Area code=415, International plan='No', Voice mail plan='Yes', Number vmail messages=31, Total day minutes=181.6, Total day calls=91, Total day charge=30.87, Total eve minutes=213.2, Total eve calls=120, Total eve charge=18.12, Total night minutes=207.8, Total night calls=104, Total night charge=9.35, Total intl minutes=11.4, Total intl calls=4, Total intl charge=3.08, Customer service calls=1, Churn=False),\n",
              " Row(State='WI', Account length=95, Area code=408, International plan='No', Voice mail plan='No', Number vmail messages=0, Total day minutes=237.3, Total day calls=83, Total day charge=40.34, Total eve minutes=154.0, Total eve calls=65, Total eve charge=13.09, Total night minutes=237.0, Total night calls=105, Total night charge=10.67, Total intl minutes=11.2, Total intl calls=6, Total intl charge=3.02, Customer service calls=1, Churn=False),\n",
              " Row(State='HI', Account length=85, Area code=415, International plan='No', Voice mail plan='No', Number vmail messages=0, Total day minutes=235.8, Total day calls=109, Total day charge=40.09, Total eve minutes=157.2, Total eve calls=94, Total eve charge=13.36, Total night minutes=188.2, Total night calls=99, Total night charge=8.47, Total intl minutes=12.0, Total intl calls=3, Total intl charge=3.24, Customer service calls=0, Churn=False),\n",
              " Row(State='NC', Account length=162, Area code=408, International plan='No', Voice mail plan='Yes', Number vmail messages=26, Total day minutes=179.7, Total day calls=144, Total day charge=30.55, Total eve minutes=218.1, Total eve calls=129, Total eve charge=18.54, Total night minutes=212.3, Total night calls=105, Total night charge=9.55, Total intl minutes=9.3, Total intl calls=8, Total intl charge=2.51, Customer service calls=1, Churn=True),\n",
              " Row(State='WV', Account length=127, Area code=510, International plan='No', Voice mail plan='No', Number vmail messages=0, Total day minutes=224.3, Total day calls=112, Total day charge=38.13, Total eve minutes=185.7, Total eve calls=103, Total eve charge=15.78, Total night minutes=159.4, Total night calls=83, Total night charge=7.17, Total intl minutes=10.0, Total intl calls=1, Total intl charge=2.7, Customer service calls=2, Churn=False),\n",
              " Row(State='NM', Account length=112, Area code=415, International plan='No', Voice mail plan='No', Number vmail messages=0, Total day minutes=81.6, Total day calls=94, Total day charge=13.87, Total eve minutes=268.1, Total eve calls=112, Total eve charge=22.79, Total night minutes=140.8, Total night calls=75, Total night charge=6.34, Total intl minutes=8.6, Total intl calls=18, Total intl charge=2.32, Customer service calls=1, Churn=False),\n",
              " Row(State='SC', Account length=78, Area code=510, International plan='No', Voice mail plan='No', Number vmail messages=0, Total day minutes=168.3, Total day calls=110, Total day charge=28.61, Total eve minutes=221.2, Total eve calls=73, Total eve charge=18.8, Total night minutes=241.0, Total night calls=136, Total night charge=10.85, Total intl minutes=12.5, Total intl calls=1, Total intl charge=3.38, Customer service calls=1, Churn=False),\n",
              " Row(State='ND', Account length=71, Area code=510, International plan='No', Voice mail plan='No', Number vmail messages=0, Total day minutes=238.0, Total day calls=82, Total day charge=40.46, Total eve minutes=278.5, Total eve calls=94, Total eve charge=23.67, Total night minutes=193.1, Total night calls=134, Total night charge=8.69, Total intl minutes=11.8, Total intl calls=10, Total intl charge=3.19, Customer service calls=0, Churn=True),\n",
              " Row(State='RI', Account length=129, Area code=415, International plan='No', Voice mail plan='Yes', Number vmail messages=33, Total day minutes=119.6, Total day calls=104, Total day charge=20.33, Total eve minutes=278.7, Total eve calls=88, Total eve charge=23.69, Total night minutes=263.4, Total night calls=175, Total night charge=11.85, Total intl minutes=5.9, Total intl calls=2, Total intl charge=1.59, Customer service calls=2, Churn=False),\n",
              " Row(State='ND', Account length=167, Area code=408, International plan='Yes', Voice mail plan='No', Number vmail messages=0, Total day minutes=219.1, Total day calls=100, Total day charge=37.25, Total eve minutes=242.9, Total eve calls=90, Total eve charge=20.65, Total night minutes=168.9, Total night calls=101, Total night charge=7.6, Total intl minutes=10.1, Total intl calls=4, Total intl charge=2.73, Customer service calls=2, Churn=False),\n",
              " Row(State='DE', Account length=90, Area code=415, International plan='No', Voice mail plan='No', Number vmail messages=0, Total day minutes=198.5, Total day calls=124, Total day charge=33.75, Total eve minutes=266.6, Total eve calls=100, Total eve charge=22.66, Total night minutes=243.3, Total night calls=80, Total night charge=10.95, Total intl minutes=8.0, Total intl calls=7, Total intl charge=2.16, Customer service calls=2, Churn=False),\n",
              " Row(State='IN', Account length=65, Area code=415, International plan='No', Voice mail plan='No', Number vmail messages=0, Total day minutes=129.1, Total day calls=137, Total day charge=21.95, Total eve minutes=228.5, Total eve calls=83, Total eve charge=19.42, Total night minutes=208.8, Total night calls=111, Total night charge=9.4, Total intl minutes=12.7, Total intl calls=6, Total intl charge=3.43, Customer service calls=4, Churn=True),\n",
              " Row(State='RI', Account length=85, Area code=415, International plan='Yes', Voice mail plan='No', Number vmail messages=0, Total day minutes=197.2, Total day calls=97, Total day charge=33.52, Total eve minutes=211.7, Total eve calls=115, Total eve charge=17.99, Total night minutes=210.1, Total night calls=133, Total night charge=9.45, Total intl minutes=8.3, Total intl calls=4, Total intl charge=2.24, Customer service calls=4, Churn=False),\n",
              " Row(State='OK', Account length=104, Area code=415, International plan='No', Voice mail plan='No', Number vmail messages=0, Total day minutes=113.6, Total day calls=87, Total day charge=19.31, Total eve minutes=158.6, Total eve calls=98, Total eve charge=13.48, Total night minutes=187.7, Total night calls=87, Total night charge=8.45, Total intl minutes=10.5, Total intl calls=6, Total intl charge=2.84, Customer service calls=2, Churn=False),\n",
              " Row(State='IN', Account length=141, Area code=415, International plan='No', Voice mail plan='Yes', Number vmail messages=39, Total day minutes=116.9, Total day calls=127, Total day charge=19.87, Total eve minutes=276.5, Total eve calls=88, Total eve charge=23.5, Total night minutes=289.9, Total night calls=125, Total night charge=13.05, Total intl minutes=12.3, Total intl calls=2, Total intl charge=3.32, Customer service calls=0, Churn=False),\n",
              " Row(State='NC', Account length=190, Area code=408, International plan='No', Voice mail plan='No', Number vmail messages=0, Total day minutes=182.2, Total day calls=101, Total day charge=30.97, Total eve minutes=212.3, Total eve calls=95, Total eve charge=18.05, Total night minutes=233.0, Total night calls=123, Total night charge=10.49, Total intl minutes=9.3, Total intl calls=4, Total intl charge=2.51, Customer service calls=2, Churn=False),\n",
              " Row(State='FL', Account length=143, Area code=415, International plan='No', Voice mail plan='No', Number vmail messages=0, Total day minutes=119.1, Total day calls=117, Total day charge=20.25, Total eve minutes=287.7, Total eve calls=136, Total eve charge=24.45, Total night minutes=223.0, Total night calls=100, Total night charge=10.04, Total intl minutes=12.2, Total intl calls=4, Total intl charge=3.29, Customer service calls=0, Churn=False),\n",
              " Row(State='CA', Account length=111, Area code=408, International plan='No', Voice mail plan='No', Number vmail messages=0, Total day minutes=249.8, Total day calls=109, Total day charge=42.47, Total eve minutes=242.4, Total eve calls=106, Total eve charge=20.6, Total night minutes=231.8, Total night calls=78, Total night charge=10.43, Total intl minutes=11.6, Total intl calls=4, Total intl charge=3.13, Customer service calls=0, Churn=True),\n",
              " Row(State='MN', Account length=46, Area code=415, International plan='No', Voice mail plan='No', Number vmail messages=0, Total day minutes=214.1, Total day calls=72, Total day charge=36.4, Total eve minutes=164.4, Total eve calls=104, Total eve charge=13.97, Total night minutes=177.5, Total night calls=113, Total night charge=7.99, Total intl minutes=8.2, Total intl calls=3, Total intl charge=2.21, Customer service calls=2, Churn=False),\n",
              " Row(State='NH', Account length=54, Area code=510, International plan='No', Voice mail plan='No', Number vmail messages=0, Total day minutes=210.5, Total day calls=102, Total day charge=35.79, Total eve minutes=204.5, Total eve calls=83, Total eve charge=17.38, Total night minutes=127.8, Total night calls=53, Total night charge=5.75, Total intl minutes=8.5, Total intl calls=5, Total intl charge=2.3, Customer service calls=1, Churn=False),\n",
              " Row(State='ME', Account length=80, Area code=408, International plan='No', Voice mail plan='Yes', Number vmail messages=31, Total day minutes=166.4, Total day calls=92, Total day charge=28.29, Total eve minutes=238.3, Total eve calls=74, Total eve charge=20.26, Total night minutes=150.7, Total night calls=84, Total night charge=6.78, Total intl minutes=10.7, Total intl calls=4, Total intl charge=2.89, Customer service calls=4, Churn=False),\n",
              " Row(State='WI', Account length=103, Area code=415, International plan='No', Voice mail plan='No', Number vmail messages=0, Total day minutes=180.2, Total day calls=134, Total day charge=30.63, Total eve minutes=97.7, Total eve calls=85, Total eve charge=8.3, Total night minutes=181.7, Total night calls=134, Total night charge=8.18, Total intl minutes=8.4, Total intl calls=3, Total intl charge=2.27, Customer service calls=1, Churn=False),\n",
              " Row(State='PA', Account length=122, Area code=415, International plan='No', Voice mail plan='No', Number vmail messages=0, Total day minutes=35.1, Total day calls=62, Total day charge=5.97, Total eve minutes=180.8, Total eve calls=89, Total eve charge=15.37, Total night minutes=251.6, Total night calls=58, Total night charge=11.32, Total intl minutes=12.7, Total intl calls=2, Total intl charge=3.43, Customer service calls=1, Churn=False),\n",
              " Row(State='AL', Account length=182, Area code=415, International plan='No', Voice mail plan='Yes', Number vmail messages=24, Total day minutes=128.1, Total day calls=104, Total day charge=21.78, Total eve minutes=143.4, Total eve calls=127, Total eve charge=12.19, Total night minutes=191.0, Total night calls=98, Total night charge=8.59, Total intl minutes=11.6, Total intl calls=3, Total intl charge=3.13, Customer service calls=1, Churn=False),\n",
              " Row(State='WA', Account length=75, Area code=510, International plan='No', Voice mail plan='Yes', Number vmail messages=41, Total day minutes=130.9, Total day calls=115, Total day charge=22.25, Total eve minutes=203.4, Total eve calls=110, Total eve charge=17.29, Total night minutes=171.7, Total night calls=68, Total night charge=7.73, Total intl minutes=12.4, Total intl calls=4, Total intl charge=3.35, Customer service calls=1, Churn=False),\n",
              " Row(State='NM', Account length=81, Area code=415, International plan='No', Voice mail plan='No', Number vmail messages=0, Total day minutes=173.2, Total day calls=80, Total day charge=29.44, Total eve minutes=236.2, Total eve calls=94, Total eve charge=20.08, Total night minutes=240.2, Total night calls=84, Total night charge=10.81, Total intl minutes=11.8, Total intl calls=6, Total intl charge=3.19, Customer service calls=2, Churn=False),\n",
              " Row(State='WY', Account length=215, Area code=510, International plan='No', Voice mail plan='No', Number vmail messages=0, Total day minutes=83.6, Total day calls=148, Total day charge=14.21, Total eve minutes=120.9, Total eve calls=91, Total eve charge=10.28, Total night minutes=226.6, Total night calls=110, Total night charge=10.2, Total intl minutes=10.7, Total intl calls=9, Total intl charge=2.89, Customer service calls=0, Churn=False),\n",
              " Row(State='RI', Account length=115, Area code=408, International plan='No', Voice mail plan='No', Number vmail messages=0, Total day minutes=147.9, Total day calls=109, Total day charge=25.14, Total eve minutes=228.4, Total eve calls=117, Total eve charge=19.41, Total night minutes=299.7, Total night calls=90, Total night charge=13.49, Total intl minutes=9.6, Total intl calls=9, Total intl charge=2.59, Customer service calls=3, Churn=False),\n",
              " Row(State='LA', Account length=95, Area code=415, International plan='No', Voice mail plan='No', Number vmail messages=0, Total day minutes=141.1, Total day calls=84, Total day charge=23.99, Total eve minutes=211.4, Total eve calls=108, Total eve charge=17.97, Total night minutes=103.7, Total night calls=127, Total night charge=4.67, Total intl minutes=5.9, Total intl calls=6, Total intl charge=1.59, Customer service calls=3, Churn=False),\n",
              " Row(State='KS', Account length=105, Area code=415, International plan='Yes', Voice mail plan='No', Number vmail messages=0, Total day minutes=273.9, Total day calls=119, Total day charge=46.56, Total eve minutes=278.6, Total eve calls=103, Total eve charge=23.68, Total night minutes=255.3, Total night calls=90, Total night charge=11.49, Total intl minutes=10.9, Total intl calls=7, Total intl charge=2.94, Customer service calls=1, Churn=True),\n",
              " Row(State='HI', Account length=105, Area code=415, International plan='No', Voice mail plan='No', Number vmail messages=0, Total day minutes=281.3, Total day calls=124, Total day charge=47.82, Total eve minutes=301.5, Total eve calls=96, Total eve charge=25.63, Total night minutes=202.8, Total night calls=109, Total night charge=9.13, Total intl minutes=8.7, Total intl calls=3, Total intl charge=2.35, Customer service calls=0, Churn=True),\n",
              " Row(State='OH', Account length=32, Area code=415, International plan='No', Voice mail plan='Yes', Number vmail messages=31, Total day minutes=232.8, Total day calls=97, Total day charge=39.58, Total eve minutes=183.5, Total eve calls=111, Total eve charge=15.6, Total night minutes=206.8, Total night calls=111, Total night charge=9.31, Total intl minutes=13.0, Total intl calls=2, Total intl charge=3.51, Customer service calls=0, Churn=False),\n",
              " Row(State='PA', Account length=142, Area code=510, International plan='No', Voice mail plan='Yes', Number vmail messages=40, Total day minutes=230.7, Total day calls=101, Total day charge=39.22, Total eve minutes=256.8, Total eve calls=88, Total eve charge=21.83, Total night minutes=263.9, Total night calls=92, Total night charge=11.88, Total intl minutes=6.4, Total intl calls=3, Total intl charge=1.73, Customer service calls=1, Churn=False),\n",
              " Row(State='NH', Account length=121, Area code=510, International plan='No', Voice mail plan='Yes', Number vmail messages=35, Total day minutes=193.8, Total day calls=62, Total day charge=32.95, Total eve minutes=197.6, Total eve calls=97, Total eve charge=16.8, Total night minutes=218.8, Total night calls=95, Total night charge=9.85, Total intl minutes=5.9, Total intl calls=4, Total intl charge=1.59, Customer service calls=0, Churn=False),\n",
              " Row(State='SD', Account length=75, Area code=408, International plan='No', Voice mail plan='No', Number vmail messages=0, Total day minutes=147.5, Total day calls=110, Total day charge=25.08, Total eve minutes=191.7, Total eve calls=97, Total eve charge=16.29, Total night minutes=135.0, Total night calls=68, Total night charge=6.08, Total intl minutes=16.4, Total intl calls=3, Total intl charge=4.43, Customer service calls=2, Churn=False),\n",
              " Row(State='MI', Account length=91, Area code=415, International plan='No', Voice mail plan='No', Number vmail messages=0, Total day minutes=154.4, Total day calls=165, Total day charge=26.25, Total eve minutes=168.3, Total eve calls=121, Total eve charge=14.31, Total night minutes=239.9, Total night calls=81, Total night charge=10.8, Total intl minutes=11.7, Total intl calls=4, Total intl charge=3.16, Customer service calls=5, Churn=True),\n",
              " Row(State='WA', Account length=166, Area code=408, International plan='Yes', Voice mail plan='Yes', Number vmail messages=35, Total day minutes=128.2, Total day calls=138, Total day charge=21.79, Total eve minutes=274.5, Total eve calls=113, Total eve charge=23.33, Total night minutes=298.9, Total night calls=130, Total night charge=13.45, Total intl minutes=8.8, Total intl calls=7, Total intl charge=2.38, Customer service calls=2, Churn=False),\n",
              " Row(State='MN', Account length=13, Area code=510, International plan='No', Voice mail plan='Yes', Number vmail messages=21, Total day minutes=315.6, Total day calls=105, Total day charge=53.65, Total eve minutes=208.9, Total eve calls=71, Total eve charge=17.76, Total night minutes=260.1, Total night calls=123, Total night charge=11.7, Total intl minutes=12.1, Total intl calls=3, Total intl charge=3.27, Customer service calls=3, Churn=False),\n",
              " Row(State='TN', Account length=59, Area code=415, International plan='No', Voice mail plan='No', Number vmail messages=0, Total day minutes=160.9, Total day calls=95, Total day charge=27.35, Total eve minutes=251.2, Total eve calls=65, Total eve charge=21.35, Total night minutes=273.4, Total night calls=97, Total night charge=12.3, Total intl minutes=5.0, Total intl calls=5, Total intl charge=1.35, Customer service calls=3, Churn=False),\n",
              " Row(State='NY', Account length=126, Area code=415, International plan='Yes', Voice mail plan='No', Number vmail messages=0, Total day minutes=239.7, Total day calls=87, Total day charge=40.75, Total eve minutes=281.7, Total eve calls=92, Total eve charge=23.94, Total night minutes=183.5, Total night calls=113, Total night charge=8.26, Total intl minutes=11.4, Total intl calls=1, Total intl charge=3.08, Customer service calls=1, Churn=True),\n",
              " Row(State='IA', Account length=143, Area code=510, International plan='No', Voice mail plan='Yes', Number vmail messages=33, Total day minutes=141.4, Total day calls=130, Total day charge=24.04, Total eve minutes=186.4, Total eve calls=114, Total eve charge=15.84, Total night minutes=210.0, Total night calls=111, Total night charge=9.45, Total intl minutes=7.7, Total intl calls=6, Total intl charge=2.08, Customer service calls=1, Churn=False),\n",
              " Row(State='ID', Account length=119, Area code=415, International plan='No', Voice mail plan='No', Number vmail messages=0, Total day minutes=159.1, Total day calls=114, Total day charge=27.05, Total eve minutes=231.3, Total eve calls=117, Total eve charge=19.66, Total night minutes=143.2, Total night calls=91, Total night charge=6.44, Total intl minutes=8.8, Total intl calls=3, Total intl charge=2.38, Customer service calls=5, Churn=True),\n",
              " Row(State='CA', Account length=124, Area code=408, International plan='Yes', Voice mail plan='No', Number vmail messages=0, Total day minutes=244.6, Total day calls=89, Total day charge=41.58, Total eve minutes=188.8, Total eve calls=80, Total eve charge=16.05, Total night minutes=206.0, Total night calls=114, Total night charge=9.27, Total intl minutes=11.3, Total intl calls=4, Total intl charge=3.05, Customer service calls=1, Churn=False),\n",
              " Row(State='NY', Account length=104, Area code=415, International plan='No', Voice mail plan='No', Number vmail messages=0, Total day minutes=156.2, Total day calls=93, Total day charge=26.55, Total eve minutes=193.0, Total eve calls=54, Total eve charge=16.41, Total night minutes=222.7, Total night calls=94, Total night charge=10.02, Total intl minutes=13.1, Total intl calls=5, Total intl charge=3.54, Customer service calls=1, Churn=False),\n",
              " Row(State='WA', Account length=83, Area code=415, International plan='No', Voice mail plan='No', Number vmail messages=0, Total day minutes=221.4, Total day calls=103, Total day charge=37.64, Total eve minutes=231.8, Total eve calls=103, Total eve charge=19.7, Total night minutes=122.5, Total night calls=100, Total night charge=5.51, Total intl minutes=9.8, Total intl calls=5, Total intl charge=2.65, Customer service calls=3, Churn=False),\n",
              " Row(State='MT', Account length=101, Area code=415, International plan='No', Voice mail plan='No', Number vmail messages=0, Total day minutes=154.4, Total day calls=130, Total day charge=26.25, Total eve minutes=217.2, Total eve calls=101, Total eve charge=18.46, Total night minutes=185.4, Total night calls=52, Total night charge=8.34, Total intl minutes=13.9, Total intl calls=4, Total intl charge=3.75, Customer service calls=1, Churn=False),\n",
              " Row(State='TN', Account length=37, Area code=415, International plan='No', Voice mail plan='No', Number vmail messages=0, Total day minutes=221.0, Total day calls=126, Total day charge=37.57, Total eve minutes=204.5, Total eve calls=110, Total eve charge=17.38, Total night minutes=118.0, Total night calls=98, Total night charge=5.31, Total intl minutes=6.8, Total intl calls=3, Total intl charge=1.84, Customer service calls=4, Churn=False),\n",
              " Row(State='ID', Account length=83, Area code=415, International plan='Yes', Voice mail plan='Yes', Number vmail messages=32, Total day minutes=94.7, Total day calls=111, Total day charge=16.1, Total eve minutes=154.4, Total eve calls=98, Total eve charge=13.12, Total night minutes=200.4, Total night calls=109, Total night charge=9.02, Total intl minutes=10.6, Total intl calls=6, Total intl charge=2.86, Customer service calls=2, Churn=False),\n",
              " Row(State='WV', Account length=58, Area code=408, International plan='No', Voice mail plan='Yes', Number vmail messages=39, Total day minutes=211.9, Total day calls=40, Total day charge=36.02, Total eve minutes=274.4, Total eve calls=76, Total eve charge=23.32, Total night minutes=210.5, Total night calls=139, Total night charge=9.47, Total intl minutes=5.4, Total intl calls=4, Total intl charge=1.46, Customer service calls=1, Churn=False),\n",
              " Row(State='NJ', Account length=45, Area code=510, International plan='No', Voice mail plan='No', Number vmail messages=0, Total day minutes=155.7, Total day calls=110, Total day charge=26.47, Total eve minutes=260.3, Total eve calls=103, Total eve charge=22.13, Total night minutes=192.2, Total night calls=98, Total night charge=8.65, Total intl minutes=11.0, Total intl calls=1, Total intl charge=2.97, Customer service calls=1, Churn=False),\n",
              " Row(State='WA', Account length=152, Area code=510, International plan='No', Voice mail plan='No', Number vmail messages=0, Total day minutes=161.4, Total day calls=84, Total day charge=27.44, Total eve minutes=163.6, Total eve calls=88, Total eve charge=13.91, Total night minutes=153.2, Total night calls=121, Total night charge=6.89, Total intl minutes=11.8, Total intl calls=5, Total intl charge=3.19, Customer service calls=1, Churn=False),\n",
              " Row(State='WI', Account length=87, Area code=415, International plan='No', Voice mail plan='No', Number vmail messages=0, Total day minutes=238.0, Total day calls=97, Total day charge=40.46, Total eve minutes=164.5, Total eve calls=97, Total eve charge=13.98, Total night minutes=282.5, Total night calls=132, Total night charge=12.71, Total intl minutes=10.6, Total intl calls=6, Total intl charge=2.86, Customer service calls=2, Churn=False),\n",
              " Row(State='ID', Account length=97, Area code=408, International plan='No', Voice mail plan='No', Number vmail messages=0, Total day minutes=239.8, Total day calls=125, Total day charge=40.77, Total eve minutes=214.8, Total eve calls=111, Total eve charge=18.26, Total night minutes=143.3, Total night calls=81, Total night charge=6.45, Total intl minutes=8.7, Total intl calls=5, Total intl charge=2.35, Customer service calls=2, Churn=False),\n",
              " Row(State='SD', Account length=88, Area code=415, International plan='No', Voice mail plan='No', Number vmail messages=0, Total day minutes=215.6, Total day calls=115, Total day charge=36.65, Total eve minutes=216.2, Total eve calls=85, Total eve charge=18.38, Total night minutes=171.3, Total night calls=65, Total night charge=7.71, Total intl minutes=11.8, Total intl calls=1, Total intl charge=3.19, Customer service calls=3, Churn=False),\n",
              " Row(State='IL', Account length=134, Area code=408, International plan='No', Voice mail plan='No', Number vmail messages=0, Total day minutes=183.8, Total day calls=111, Total day charge=31.25, Total eve minutes=123.5, Total eve calls=92, Total eve charge=10.5, Total night minutes=160.7, Total night calls=105, Total night charge=7.23, Total intl minutes=6.1, Total intl calls=2, Total intl charge=1.65, Customer service calls=1, Churn=False),\n",
              " Row(State='MS', Account length=69, Area code=510, International plan='No', Voice mail plan='Yes', Number vmail messages=27, Total day minutes=268.8, Total day calls=78, Total day charge=45.7, Total eve minutes=246.6, Total eve calls=89, Total eve charge=20.96, Total night minutes=271.9, Total night calls=102, Total night charge=12.24, Total intl minutes=16.4, Total intl calls=3, Total intl charge=4.43, Customer service calls=0, Churn=False),\n",
              " Row(State='PA', Account length=85, Area code=408, International plan='No', Voice mail plan='No', Number vmail messages=0, Total day minutes=144.4, Total day calls=88, Total day charge=24.55, Total eve minutes=264.6, Total eve calls=105, Total eve charge=22.49, Total night minutes=185.4, Total night calls=94, Total night charge=8.34, Total intl minutes=9.9, Total intl calls=3, Total intl charge=2.67, Customer service calls=1, Churn=False),\n",
              " Row(State='KS', Account length=101, Area code=415, International plan='No', Voice mail plan='No', Number vmail messages=0, Total day minutes=231.3, Total day calls=87, Total day charge=39.32, Total eve minutes=224.7, Total eve calls=88, Total eve charge=19.1, Total night minutes=214.6, Total night calls=69, Total night charge=9.66, Total intl minutes=7.2, Total intl calls=7, Total intl charge=1.94, Customer service calls=1, Churn=False),\n",
              " Row(State='MD', Account length=79, Area code=510, International plan='No', Voice mail plan='Yes', Number vmail messages=31, Total day minutes=103.1, Total day calls=90, Total day charge=17.53, Total eve minutes=243.0, Total eve calls=135, Total eve charge=20.66, Total night minutes=76.4, Total night calls=92, Total night charge=3.44, Total intl minutes=12.2, Total intl calls=8, Total intl charge=3.29, Customer service calls=3, Churn=False),\n",
              " Row(State='WA', Account length=161, Area code=415, International plan='No', Voice mail plan='No', Number vmail messages=0, Total day minutes=151.6, Total day calls=117, Total day charge=25.77, Total eve minutes=219.4, Total eve calls=87, Total eve charge=18.65, Total night minutes=224.7, Total night calls=68, Total night charge=10.11, Total intl minutes=4.0, Total intl calls=5, Total intl charge=1.08, Customer service calls=1, Churn=False),\n",
              " Row(State='AZ', Account length=163, Area code=510, International plan='No', Voice mail plan='No', Number vmail messages=0, Total day minutes=178.7, Total day calls=56, Total day charge=30.38, Total eve minutes=215.7, Total eve calls=79, Total eve charge=18.33, Total night minutes=152.7, Total night calls=84, Total night charge=6.87, Total intl minutes=10.6, Total intl calls=2, Total intl charge=2.86, Customer service calls=4, Churn=False),\n",
              " Row(State='AK', Account length=110, Area code=408, International plan='No', Voice mail plan='No', Number vmail messages=0, Total day minutes=100.1, Total day calls=90, Total day charge=17.02, Total eve minutes=233.3, Total eve calls=93, Total eve charge=19.83, Total night minutes=204.4, Total night calls=57, Total night charge=9.2, Total intl minutes=11.1, Total intl calls=8, Total intl charge=3.0, Customer service calls=3, Churn=False),\n",
              " Row(State='DE', Account length=89, Area code=510, International plan='Yes', Voice mail plan='No', Number vmail messages=0, Total day minutes=125.6, Total day calls=108, Total day charge=21.35, Total eve minutes=213.0, Total eve calls=90, Total eve charge=18.11, Total night minutes=181.7, Total night calls=108, Total night charge=8.18, Total intl minutes=5.4, Total intl calls=5, Total intl charge=1.46, Customer service calls=1, Churn=False),\n",
              " Row(State='NC', Account length=170, Area code=415, International plan='No', Voice mail plan='No', Number vmail messages=0, Total day minutes=246.4, Total day calls=107, Total day charge=41.89, Total eve minutes=228.1, Total eve calls=124, Total eve charge=19.39, Total night minutes=166.4, Total night calls=95, Total night charge=7.49, Total intl minutes=9.1, Total intl calls=8, Total intl charge=2.46, Customer service calls=0, Churn=False),\n",
              " Row(State='ME', Account length=105, Area code=408, International plan='No', Voice mail plan='No', Number vmail messages=0, Total day minutes=115.5, Total day calls=73, Total day charge=19.64, Total eve minutes=267.3, Total eve calls=83, Total eve charge=22.72, Total night minutes=114.2, Total night calls=90, Total night charge=5.14, Total intl minutes=13.3, Total intl calls=5, Total intl charge=3.59, Customer service calls=3, Churn=False),\n",
              " Row(State='NM', Account length=62, Area code=415, International plan='No', Voice mail plan='No', Number vmail messages=0, Total day minutes=245.3, Total day calls=91, Total day charge=41.7, Total eve minutes=122.9, Total eve calls=130, Total eve charge=10.45, Total night minutes=228.4, Total night calls=102, Total night charge=10.28, Total intl minutes=8.5, Total intl calls=4, Total intl charge=2.3, Customer service calls=4, Churn=False),\n",
              " Row(State='DC', Account length=80, Area code=408, International plan='No', Voice mail plan='No', Number vmail messages=0, Total day minutes=51.5, Total day calls=90, Total day charge=8.76, Total eve minutes=164.0, Total eve calls=98, Total eve charge=13.94, Total night minutes=169.4, Total night calls=80, Total night charge=7.62, Total intl minutes=9.5, Total intl calls=4, Total intl charge=2.57, Customer service calls=3, Churn=False),\n",
              " Row(State='TN', Account length=95, Area code=510, International plan='No', Voice mail plan='No', Number vmail messages=0, Total day minutes=174.0, Total day calls=57, Total day charge=29.58, Total eve minutes=281.1, Total eve calls=118, Total eve charge=23.89, Total night minutes=197.2, Total night calls=94, Total night charge=8.87, Total intl minutes=9.7, Total intl calls=2, Total intl charge=2.62, Customer service calls=0, Churn=False),\n",
              " Row(State='HI', Account length=105, Area code=510, International plan='No', Voice mail plan='No', Number vmail messages=0, Total day minutes=125.4, Total day calls=116, Total day charge=21.32, Total eve minutes=261.5, Total eve calls=95, Total eve charge=22.23, Total night minutes=241.6, Total night calls=104, Total night charge=10.87, Total intl minutes=11.4, Total intl calls=9, Total intl charge=3.08, Customer service calls=2, Churn=False),\n",
              " Row(State='OH', Account length=165, Area code=510, International plan='No', Voice mail plan='No', Number vmail messages=0, Total day minutes=209.4, Total day calls=67, Total day charge=35.6, Total eve minutes=273.8, Total eve calls=89, Total eve charge=23.27, Total night minutes=150.2, Total night calls=88, Total night charge=6.76, Total intl minutes=12.8, Total intl calls=1, Total intl charge=3.46, Customer service calls=0, Churn=False),\n",
              " Row(State='NH', Account length=123, Area code=408, International plan='No', Voice mail plan='No', Number vmail messages=0, Total day minutes=224.0, Total day calls=99, Total day charge=38.08, Total eve minutes=210.7, Total eve calls=80, Total eve charge=17.91, Total night minutes=231.9, Total night calls=75, Total night charge=10.44, Total intl minutes=2.1, Total intl calls=5, Total intl charge=0.57, Customer service calls=0, Churn=False),\n",
              " Row(State='CO', Account length=90, Area code=408, International plan='No', Voice mail plan='No', Number vmail messages=0, Total day minutes=109.9, Total day calls=102, Total day charge=18.68, Total eve minutes=220.8, Total eve calls=114, Total eve charge=18.77, Total night minutes=104.0, Total night calls=133, Total night charge=4.68, Total intl minutes=10.9, Total intl calls=6, Total intl charge=2.94, Customer service calls=0, Churn=False),\n",
              " Row(State='KS', Account length=127, Area code=415, International plan='No', Voice mail plan='Yes', Number vmail messages=24, Total day minutes=154.8, Total day calls=69, Total day charge=26.32, Total eve minutes=177.2, Total eve calls=105, Total eve charge=15.06, Total night minutes=207.6, Total night calls=102, Total night charge=9.34, Total intl minutes=9.0, Total intl calls=4, Total intl charge=2.43, Customer service calls=1, Churn=False),\n",
              " Row(State='SD', Account length=87, Area code=415, International plan='No', Voice mail plan='Yes', Number vmail messages=21, Total day minutes=214.0, Total day calls=113, Total day charge=36.38, Total eve minutes=180.0, Total eve calls=114, Total eve charge=15.3, Total night minutes=134.5, Total night calls=82, Total night charge=6.05, Total intl minutes=10.6, Total intl calls=5, Total intl charge=2.86, Customer service calls=0, Churn=False),\n",
              " Row(State='MN', Account length=55, Area code=415, International plan='No', Voice mail plan='No', Number vmail messages=0, Total day minutes=175.6, Total day calls=147, Total day charge=29.85, Total eve minutes=161.8, Total eve calls=118, Total eve charge=13.75, Total night minutes=289.5, Total night calls=55, Total night charge=13.03, Total intl minutes=9.3, Total intl calls=4, Total intl charge=2.51, Customer service calls=0, Churn=False),\n",
              " Row(State='TN', Account length=33, Area code=415, International plan='No', Voice mail plan='Yes', Number vmail messages=35, Total day minutes=186.8, Total day calls=124, Total day charge=31.76, Total eve minutes=261.0, Total eve calls=69, Total eve charge=22.19, Total night minutes=317.8, Total night calls=103, Total night charge=14.3, Total intl minutes=15.0, Total intl calls=5, Total intl charge=4.05, Customer service calls=0, Churn=False),\n",
              " Row(State='RI', Account length=127, Area code=415, International plan='No', Voice mail plan='Yes', Number vmail messages=27, Total day minutes=140.1, Total day calls=59, Total day charge=23.82, Total eve minutes=223.4, Total eve calls=111, Total eve charge=18.99, Total night minutes=257.9, Total night calls=73, Total night charge=11.61, Total intl minutes=3.8, Total intl calls=10, Total intl charge=1.03, Customer service calls=1, Churn=False),\n",
              " Row(State='NY', Account length=122, Area code=510, International plan='No', Voice mail plan='No', Number vmail messages=0, Total day minutes=145.6, Total day calls=102, Total day charge=24.75, Total eve minutes=284.7, Total eve calls=111, Total eve charge=24.2, Total night minutes=228.2, Total night calls=91, Total night charge=10.27, Total intl minutes=12.2, Total intl calls=5, Total intl charge=3.29, Customer service calls=0, Churn=False),\n",
              " Row(State='IN', Account length=65, Area code=415, International plan='No', Voice mail plan='No', Number vmail messages=0, Total day minutes=213.4, Total day calls=111, Total day charge=36.28, Total eve minutes=234.5, Total eve calls=94, Total eve charge=19.93, Total night minutes=250.1, Total night calls=123, Total night charge=11.25, Total intl minutes=2.7, Total intl calls=4, Total intl charge=0.73, Customer service calls=1, Churn=False),\n",
              " Row(State='NE', Account length=21, Area code=510, International plan='No', Voice mail plan='No', Number vmail messages=0, Total day minutes=225.0, Total day calls=110, Total day charge=38.25, Total eve minutes=244.2, Total eve calls=111, Total eve charge=20.76, Total night minutes=221.2, Total night calls=93, Total night charge=9.95, Total intl minutes=10.7, Total intl calls=4, Total intl charge=2.89, Customer service calls=0, Churn=False),\n",
              " Row(State='UT', Account length=49, Area code=415, International plan='No', Voice mail plan='No', Number vmail messages=0, Total day minutes=266.3, Total day calls=90, Total day charge=45.27, Total eve minutes=207.8, Total eve calls=117, Total eve charge=17.66, Total night minutes=205.0, Total night calls=98, Total night charge=9.23, Total intl minutes=14.0, Total intl calls=2, Total intl charge=3.78, Customer service calls=2, Churn=True),\n",
              " Row(State='MI', Account length=126, Area code=415, International plan='Yes', Voice mail plan='Yes', Number vmail messages=26, Total day minutes=129.3, Total day calls=123, Total day charge=21.98, Total eve minutes=176.5, Total eve calls=114, Total eve charge=15.0, Total night minutes=154.5, Total night calls=102, Total night charge=6.95, Total intl minutes=9.6, Total intl calls=7, Total intl charge=2.59, Customer service calls=1, Churn=False),\n",
              " Row(State='IL', Account length=68, Area code=415, International plan='Yes', Voice mail plan='Yes', Number vmail messages=29, Total day minutes=195.5, Total day calls=113, Total day charge=33.24, Total eve minutes=171.6, Total eve calls=96, Total eve charge=14.59, Total night minutes=204.0, Total night calls=85, Total night charge=9.18, Total intl minutes=13.5, Total intl calls=9, Total intl charge=3.65, Customer service calls=1, Churn=True),\n",
              " Row(State='TN', Account length=129, Area code=408, International plan='No', Voice mail plan='No', Number vmail messages=0, Total day minutes=101.4, Total day calls=145, Total day charge=17.24, Total eve minutes=249.1, Total eve calls=116, Total eve charge=21.17, Total night minutes=157.6, Total night calls=107, Total night charge=7.09, Total intl minutes=7.1, Total intl calls=6, Total intl charge=1.92, Customer service calls=1, Churn=False),\n",
              " Row(State='AZ', Account length=48, Area code=415, International plan='No', Voice mail plan='Yes', Number vmail messages=27, Total day minutes=141.1, Total day calls=109, Total day charge=23.99, Total eve minutes=224.7, Total eve calls=94, Total eve charge=19.1, Total night minutes=174.3, Total night calls=122, Total night charge=7.84, Total intl minutes=13.2, Total intl calls=2, Total intl charge=3.56, Customer service calls=1, Churn=False),\n",
              " Row(State='MN', Account length=116, Area code=510, International plan='No', Voice mail plan='No', Number vmail messages=0, Total day minutes=201.8, Total day calls=82, Total day charge=34.31, Total eve minutes=231.5, Total eve calls=95, Total eve charge=19.68, Total night minutes=226.1, Total night calls=130, Total night charge=10.17, Total intl minutes=16.5, Total intl calls=5, Total intl charge=4.46, Customer service calls=0, Churn=False),\n",
              " Row(State='AK', Account length=115, Area code=415, International plan='No', Voice mail plan='No', Number vmail messages=0, Total day minutes=245.2, Total day calls=105, Total day charge=41.68, Total eve minutes=159.0, Total eve calls=109, Total eve charge=13.52, Total night minutes=229.9, Total night calls=74, Total night charge=10.35, Total intl minutes=7.2, Total intl calls=8, Total intl charge=1.94, Customer service calls=0, Churn=False),\n",
              " Row(State='WA', Account length=111, Area code=510, International plan='No', Voice mail plan='No', Number vmail messages=0, Total day minutes=152.2, Total day calls=114, Total day charge=25.87, Total eve minutes=137.2, Total eve calls=102, Total eve charge=11.66, Total night minutes=185.9, Total night calls=97, Total night charge=8.37, Total intl minutes=9.8, Total intl calls=3, Total intl charge=2.65, Customer service calls=0, Churn=False),\n",
              " Row(State='MD', Account length=119, Area code=408, International plan='No', Voice mail plan='No', Number vmail messages=0, Total day minutes=239.1, Total day calls=88, Total day charge=40.65, Total eve minutes=243.5, Total eve calls=79, Total eve charge=20.7, Total night minutes=230.9, Total night calls=92, Total night charge=10.39, Total intl minutes=10.9, Total intl calls=3, Total intl charge=2.94, Customer service calls=3, Churn=True),\n",
              " Row(State='MD', Account length=163, Area code=408, International plan='No', Voice mail plan='No', Number vmail messages=0, Total day minutes=223.0, Total day calls=120, Total day charge=37.91, Total eve minutes=227.0, Total eve calls=98, Total eve charge=19.3, Total night minutes=188.3, Total night calls=125, Total night charge=8.47, Total intl minutes=8.8, Total intl calls=5, Total intl charge=2.38, Customer service calls=1, Churn=False),\n",
              " Row(State='FL', Account length=103, Area code=415, International plan='No', Voice mail plan='No', Number vmail messages=0, Total day minutes=158.7, Total day calls=90, Total day charge=26.98, Total eve minutes=198.4, Total eve calls=117, Total eve charge=16.86, Total night minutes=181.1, Total night calls=76, Total night charge=8.15, Total intl minutes=10.5, Total intl calls=4, Total intl charge=2.84, Customer service calls=1, Churn=False),\n",
              " Row(State='IL', Account length=117, Area code=415, International plan='No', Voice mail plan='No', Number vmail messages=0, Total day minutes=201.9, Total day calls=86, Total day charge=34.32, Total eve minutes=212.3, Total eve calls=96, Total eve charge=18.05, Total night minutes=176.9, Total night calls=98, Total night charge=7.96, Total intl minutes=7.8, Total intl calls=10, Total intl charge=2.11, Customer service calls=1, Churn=False),\n",
              " Row(State='CA', Account length=127, Area code=510, International plan='No', Voice mail plan='No', Number vmail messages=0, Total day minutes=107.9, Total day calls=128, Total day charge=18.34, Total eve minutes=187.0, Total eve calls=77, Total eve charge=15.9, Total night minutes=218.5, Total night calls=95, Total night charge=9.83, Total intl minutes=0.0, Total intl calls=0, Total intl charge=0.0, Customer service calls=0, Churn=False),\n",
              " Row(State='NE', Account length=85, Area code=415, International plan='No', Voice mail plan='No', Number vmail messages=0, Total day minutes=259.8, Total day calls=85, Total day charge=44.17, Total eve minutes=242.3, Total eve calls=117, Total eve charge=20.6, Total night minutes=168.8, Total night calls=72, Total night charge=7.6, Total intl minutes=5.4, Total intl calls=1, Total intl charge=1.46, Customer service calls=0, Churn=False),\n",
              " Row(State='WV', Account length=115, Area code=510, International plan='Yes', Voice mail plan='No', Number vmail messages=0, Total day minutes=249.9, Total day calls=95, Total day charge=42.48, Total eve minutes=242.5, Total eve calls=104, Total eve charge=20.61, Total night minutes=151.7, Total night calls=121, Total night charge=6.83, Total intl minutes=15.3, Total intl calls=6, Total intl charge=4.13, Customer service calls=1, Churn=True),\n",
              " Row(State='MO', Account length=120, Area code=415, International plan='No', Voice mail plan='Yes', Number vmail messages=24, Total day minutes=212.7, Total day calls=73, Total day charge=36.16, Total eve minutes=257.5, Total eve calls=103, Total eve charge=21.89, Total night minutes=227.8, Total night calls=119, Total night charge=10.25, Total intl minutes=9.7, Total intl calls=13, Total intl charge=2.62, Customer service calls=2, Churn=False),\n",
              " Row(State='WI', Account length=153, Area code=510, International plan='No', Voice mail plan='No', Number vmail messages=0, Total day minutes=159.5, Total day calls=103, Total day charge=27.12, Total eve minutes=275.5, Total eve calls=90, Total eve charge=23.42, Total night minutes=176.7, Total night calls=126, Total night charge=7.95, Total intl minutes=10.1, Total intl calls=2, Total intl charge=2.73, Customer service calls=1, Churn=True),\n",
              " Row(State='VA', Account length=163, Area code=415, International plan='No', Voice mail plan='No', Number vmail messages=0, Total day minutes=202.9, Total day calls=100, Total day charge=34.49, Total eve minutes=178.6, Total eve calls=46, Total eve charge=15.18, Total night minutes=203.8, Total night calls=116, Total night charge=9.17, Total intl minutes=12.8, Total intl calls=3, Total intl charge=3.46, Customer service calls=5, Churn=False),\n",
              " Row(State='AZ', Account length=86, Area code=415, International plan='No', Voice mail plan='Yes', Number vmail messages=32, Total day minutes=70.9, Total day calls=163, Total day charge=12.05, Total eve minutes=166.7, Total eve calls=121, Total eve charge=14.17, Total night minutes=244.9, Total night calls=105, Total night charge=11.02, Total intl minutes=11.1, Total intl calls=5, Total intl charge=3.0, Customer service calls=3, Churn=False),\n",
              " Row(State='NE', Account length=77, Area code=415, International plan='No', Voice mail plan='No', Number vmail messages=0, Total day minutes=169.4, Total day calls=102, Total day charge=28.8, Total eve minutes=184.9, Total eve calls=144, Total eve charge=15.72, Total night minutes=234.3, Total night calls=89, Total night charge=10.54, Total intl minutes=2.0, Total intl calls=7, Total intl charge=0.54, Customer service calls=1, Churn=False),\n",
              " Row(State='AL', Account length=76, Area code=415, International plan='No', Voice mail plan='No', Number vmail messages=0, Total day minutes=179.2, Total day calls=85, Total day charge=30.46, Total eve minutes=222.9, Total eve calls=66, Total eve charge=18.95, Total night minutes=188.2, Total night calls=113, Total night charge=8.47, Total intl minutes=12.4, Total intl calls=2, Total intl charge=3.35, Customer service calls=0, Churn=False),\n",
              " Row(State='VA', Account length=113, Area code=408, International plan='No', Voice mail plan='Yes', Number vmail messages=34, Total day minutes=44.9, Total day calls=63, Total day charge=7.63, Total eve minutes=134.2, Total eve calls=82, Total eve charge=11.41, Total night minutes=168.4, Total night calls=118, Total night charge=7.58, Total intl minutes=13.3, Total intl calls=3, Total intl charge=3.59, Customer service calls=1, Churn=False),\n",
              " Row(State='CT', Account length=80, Area code=408, International plan='No', Voice mail plan='No', Number vmail messages=0, Total day minutes=118.1, Total day calls=90, Total day charge=20.08, Total eve minutes=144.3, Total eve calls=77, Total eve charge=12.27, Total night minutes=225.1, Total night calls=86, Total night charge=10.13, Total intl minutes=8.2, Total intl calls=6, Total intl charge=2.21, Customer service calls=1, Churn=False),\n",
              " Row(State='AK', Account length=96, Area code=408, International plan='No', Voice mail plan='Yes', Number vmail messages=29, Total day minutes=150.0, Total day calls=91, Total day charge=25.5, Total eve minutes=159.4, Total eve calls=75, Total eve charge=13.55, Total night minutes=228.1, Total night calls=55, Total night charge=10.26, Total intl minutes=8.5, Total intl calls=3, Total intl charge=2.3, Customer service calls=1, Churn=False),\n",
              " Row(State='MD', Account length=189, Area code=415, International plan='No', Voice mail plan='Yes', Number vmail messages=30, Total day minutes=155.2, Total day calls=116, Total day charge=26.38, Total eve minutes=195.5, Total eve calls=50, Total eve charge=16.62, Total night minutes=170.1, Total night calls=108, Total night charge=7.65, Total intl minutes=15.4, Total intl calls=6, Total intl charge=4.16, Customer service calls=1, Churn=False),\n",
              " Row(State='SC', Account length=112, Area code=415, International plan='No', Voice mail plan='No', Number vmail messages=0, Total day minutes=266.0, Total day calls=97, Total day charge=45.22, Total eve minutes=214.6, Total eve calls=94, Total eve charge=18.24, Total night minutes=306.2, Total night calls=100, Total night charge=13.78, Total intl minutes=14.2, Total intl calls=2, Total intl charge=3.83, Customer service calls=2, Churn=True),\n",
              " Row(State='MT', Account length=100, Area code=415, International plan='No', Voice mail plan='No', Number vmail messages=0, Total day minutes=113.3, Total day calls=96, Total day charge=19.26, Total eve minutes=197.9, Total eve calls=89, Total eve charge=16.82, Total night minutes=284.5, Total night calls=93, Total night charge=12.8, Total intl minutes=11.7, Total intl calls=2, Total intl charge=3.16, Customer service calls=4, Churn=True),\n",
              " Row(State='VA', Account length=10, Area code=408, International plan='No', Voice mail plan='No', Number vmail messages=0, Total day minutes=186.1, Total day calls=112, Total day charge=31.64, Total eve minutes=190.2, Total eve calls=66, Total eve charge=16.17, Total night minutes=282.8, Total night calls=57, Total night charge=12.73, Total intl minutes=11.4, Total intl calls=6, Total intl charge=3.08, Customer service calls=2, Churn=False),\n",
              " Row(State='MS', Account length=1, Area code=415, International plan='No', Voice mail plan='No', Number vmail messages=0, Total day minutes=144.8, Total day calls=107, Total day charge=24.62, Total eve minutes=112.5, Total eve calls=66, Total eve charge=9.56, Total night minutes=218.7, Total night calls=79, Total night charge=9.84, Total intl minutes=13.8, Total intl calls=3, Total intl charge=3.73, Customer service calls=1, Churn=False),\n",
              " Row(State='KY', Account length=38, Area code=408, International plan='No', Voice mail plan='Yes', Number vmail messages=36, Total day minutes=115.4, Total day calls=98, Total day charge=19.62, Total eve minutes=166.2, Total eve calls=83, Total eve charge=14.13, Total night minutes=184.7, Total night calls=79, Total night charge=8.31, Total intl minutes=15.2, Total intl calls=6, Total intl charge=4.1, Customer service calls=2, Churn=False),\n",
              " Row(State='RI', Account length=150, Area code=415, International plan='No', Voice mail plan='Yes', Number vmail messages=29, Total day minutes=209.9, Total day calls=77, Total day charge=35.68, Total eve minutes=158.0, Total eve calls=52, Total eve charge=13.43, Total night minutes=141.9, Total night calls=113, Total night charge=6.39, Total intl minutes=6.6, Total intl calls=1, Total intl charge=1.78, Customer service calls=0, Churn=False),\n",
              " Row(State='VA', Account length=86, Area code=415, International plan='No', Voice mail plan='Yes', Number vmail messages=30, Total day minutes=99.9, Total day calls=84, Total day charge=16.98, Total eve minutes=263.5, Total eve calls=125, Total eve charge=22.4, Total night minutes=254.7, Total night calls=90, Total night charge=11.46, Total intl minutes=9.8, Total intl calls=7, Total intl charge=2.65, Customer service calls=2, Churn=False),\n",
              " Row(State='ID', Account length=104, Area code=510, International plan='No', Voice mail plan='No', Number vmail messages=0, Total day minutes=97.2, Total day calls=88, Total day charge=16.52, Total eve minutes=155.6, Total eve calls=85, Total eve charge=13.23, Total night minutes=261.6, Total night calls=105, Total night charge=11.77, Total intl minutes=12.4, Total intl calls=5, Total intl charge=3.35, Customer service calls=0, Churn=False),\n",
              " Row(State='MS', Account length=116, Area code=415, International plan='No', Voice mail plan='No', Number vmail messages=0, Total day minutes=217.3, Total day calls=91, Total day charge=36.94, Total eve minutes=216.1, Total eve calls=95, Total eve charge=18.37, Total night minutes=148.1, Total night calls=76, Total night charge=6.66, Total intl minutes=11.3, Total intl calls=3, Total intl charge=3.05, Customer service calls=2, Churn=False),\n",
              " Row(State='NH', Account length=90, Area code=415, International plan='No', Voice mail plan='No', Number vmail messages=0, Total day minutes=76.1, Total day calls=121, Total day charge=12.94, Total eve minutes=290.3, Total eve calls=73, Total eve charge=24.68, Total night minutes=236.9, Total night calls=89, Total night charge=10.66, Total intl minutes=10.8, Total intl calls=3, Total intl charge=2.92, Customer service calls=0, Churn=False),\n",
              " Row(State='SC', Account length=64, Area code=510, International plan='No', Voice mail plan='Yes', Number vmail messages=40, Total day minutes=210.0, Total day calls=116, Total day charge=35.7, Total eve minutes=232.7, Total eve calls=89, Total eve charge=19.78, Total night minutes=168.8, Total night calls=94, Total night charge=7.6, Total intl minutes=5.9, Total intl calls=4, Total intl charge=1.59, Customer service calls=8, Churn=False),\n",
              " Row(State='CT', Account length=124, Area code=415, International plan='No', Voice mail plan='No', Number vmail messages=0, Total day minutes=131.8, Total day calls=82, Total day charge=22.41, Total eve minutes=284.3, Total eve calls=119, Total eve charge=24.17, Total night minutes=305.5, Total night calls=101, Total night charge=13.75, Total intl minutes=11.3, Total intl calls=2, Total intl charge=3.05, Customer service calls=1, Churn=False),\n",
              " Row(State='ND', Account length=68, Area code=408, International plan='No', Voice mail plan='No', Number vmail messages=0, Total day minutes=219.6, Total day calls=97, Total day charge=37.33, Total eve minutes=141.1, Total eve calls=144, Total eve charge=11.99, Total night minutes=205.7, Total night calls=101, Total night charge=9.26, Total intl minutes=10.8, Total intl calls=4, Total intl charge=2.92, Customer service calls=2, Churn=False),\n",
              " Row(State='NE', Account length=61, Area code=408, International plan='No', Voice mail plan='No', Number vmail messages=0, Total day minutes=267.1, Total day calls=104, Total day charge=45.41, Total eve minutes=180.4, Total eve calls=131, Total eve charge=15.33, Total night minutes=230.6, Total night calls=106, Total night charge=10.38, Total intl minutes=17.3, Total intl calls=4, Total intl charge=4.67, Customer service calls=1, Churn=True),\n",
              " Row(State='CT', Account length=152, Area code=408, International plan='No', Voice mail plan='Yes', Number vmail messages=20, Total day minutes=239.1, Total day calls=105, Total day charge=40.65, Total eve minutes=209.1, Total eve calls=111, Total eve charge=17.77, Total night minutes=268.2, Total night calls=130, Total night charge=12.07, Total intl minutes=13.3, Total intl calls=3, Total intl charge=3.59, Customer service calls=5, Churn=False),\n",
              " Row(State='KS', Account length=121, Area code=408, International plan='No', Voice mail plan='No', Number vmail messages=0, Total day minutes=150.7, Total day calls=105, Total day charge=25.62, Total eve minutes=197.3, Total eve calls=133, Total eve charge=16.77, Total night minutes=169.0, Total night calls=116, Total night charge=7.61, Total intl minutes=9.2, Total intl calls=15, Total intl charge=2.48, Customer service calls=1, Churn=False),\n",
              " Row(State='VT', Account length=73, Area code=408, International plan='No', Voice mail plan='No', Number vmail messages=0, Total day minutes=213.0, Total day calls=95, Total day charge=36.21, Total eve minutes=188.8, Total eve calls=104, Total eve charge=16.05, Total night minutes=136.2, Total night calls=89, Total night charge=6.13, Total intl minutes=13.5, Total intl calls=3, Total intl charge=3.65, Customer service calls=0, Churn=False),\n",
              " Row(State='NJ', Account length=125, Area code=415, International plan='No', Voice mail plan='No', Number vmail messages=0, Total day minutes=182.3, Total day calls=64, Total day charge=30.99, Total eve minutes=139.8, Total eve calls=121, Total eve charge=11.88, Total night minutes=171.6, Total night calls=96, Total night charge=7.72, Total intl minutes=11.6, Total intl calls=7, Total intl charge=3.13, Customer service calls=2, Churn=False),\n",
              " Row(State='MN', Account length=53, Area code=415, International plan='No', Voice mail plan='No', Number vmail messages=0, Total day minutes=164.1, Total day calls=106, Total day charge=27.9, Total eve minutes=206.0, Total eve calls=56, Total eve charge=17.51, Total night minutes=194.7, Total night calls=124, Total night charge=8.76, Total intl minutes=11.4, Total intl calls=2, Total intl charge=3.08, Customer service calls=1, Churn=False),\n",
              " Row(State='WV', Account length=159, Area code=415, International plan='No', Voice mail plan='No', Number vmail messages=0, Total day minutes=169.8, Total day calls=114, Total day charge=28.87, Total eve minutes=197.7, Total eve calls=105, Total eve charge=16.8, Total night minutes=193.7, Total night calls=82, Total night charge=8.72, Total intl minutes=11.6, Total intl calls=4, Total intl charge=3.13, Customer service calls=1, Churn=False),\n",
              " Row(State='OR', Account length=94, Area code=415, International plan='No', Voice mail plan='No', Number vmail messages=0, Total day minutes=234.4, Total day calls=103, Total day charge=39.85, Total eve minutes=279.3, Total eve calls=109, Total eve charge=23.74, Total night minutes=234.2, Total night calls=121, Total night charge=10.54, Total intl minutes=2.0, Total intl calls=2, Total intl charge=0.54, Customer service calls=1, Churn=True),\n",
              " Row(State='WI', Account length=69, Area code=510, International plan='Yes', Voice mail plan='No', Number vmail messages=0, Total day minutes=279.8, Total day calls=90, Total day charge=47.57, Total eve minutes=248.7, Total eve calls=91, Total eve charge=21.14, Total night minutes=171.0, Total night calls=118, Total night charge=7.69, Total intl minutes=8.4, Total intl calls=10, Total intl charge=2.27, Customer service calls=2, Churn=True),\n",
              " Row(State='TX', Account length=70, Area code=510, International plan='No', Voice mail plan='No', Number vmail messages=0, Total day minutes=59.5, Total day calls=103, Total day charge=10.12, Total eve minutes=257.2, Total eve calls=106, Total eve charge=21.86, Total night minutes=208.3, Total night calls=86, Total night charge=9.37, Total intl minutes=11.1, Total intl calls=6, Total intl charge=3.0, Customer service calls=0, Churn=False),\n",
              " Row(State='AZ', Account length=75, Area code=510, International plan='No', Voice mail plan='Yes', Number vmail messages=37, Total day minutes=121.5, Total day calls=97, Total day charge=20.66, Total eve minutes=271.4, Total eve calls=110, Total eve charge=23.07, Total night minutes=248.7, Total night calls=97, Total night charge=11.19, Total intl minutes=11.3, Total intl calls=5, Total intl charge=3.05, Customer service calls=2, Churn=False),\n",
              " Row(State='OK', Account length=101, Area code=408, International plan='No', Voice mail plan='No', Number vmail messages=0, Total day minutes=89.7, Total day calls=118, Total day charge=15.25, Total eve minutes=260.1, Total eve calls=79, Total eve charge=22.11, Total night minutes=170.1, Total night calls=93, Total night charge=7.65, Total intl minutes=13.5, Total intl calls=11, Total intl charge=3.65, Customer service calls=5, Churn=True),\n",
              " Row(State='IL', Account length=31, Area code=415, International plan='No', Voice mail plan='Yes', Number vmail messages=28, Total day minutes=210.5, Total day calls=101, Total day charge=35.79, Total eve minutes=250.5, Total eve calls=86, Total eve charge=21.29, Total night minutes=241.6, Total night calls=125, Total night charge=10.87, Total intl minutes=11.5, Total intl calls=2, Total intl charge=3.11, Customer service calls=1, Churn=False),\n",
              " Row(State='KY', Account length=107, Area code=415, International plan='No', Voice mail plan='No', Number vmail messages=0, Total day minutes=157.1, Total day calls=79, Total day charge=26.71, Total eve minutes=162.6, Total eve calls=124, Total eve charge=13.82, Total night minutes=150.0, Total night calls=138, Total night charge=6.75, Total intl minutes=12.1, Total intl calls=6, Total intl charge=3.27, Customer service calls=1, Churn=False),\n",
              " Row(State='MO', Account length=36, Area code=415, International plan='No', Voice mail plan='No', Number vmail messages=0, Total day minutes=202.4, Total day calls=115, Total day charge=34.41, Total eve minutes=230.7, Total eve calls=115, Total eve charge=19.61, Total night minutes=202.0, Total night calls=127, Total night charge=9.09, Total intl minutes=10.2, Total intl calls=2, Total intl charge=2.75, Customer service calls=3, Churn=False),\n",
              " Row(State='MS', Account length=29, Area code=510, International plan='No', Voice mail plan='No', Number vmail messages=0, Total day minutes=313.2, Total day calls=103, Total day charge=53.24, Total eve minutes=216.3, Total eve calls=151, Total eve charge=18.39, Total night minutes=218.4, Total night calls=106, Total night charge=9.83, Total intl minutes=12.8, Total intl calls=4, Total intl charge=3.46, Customer service calls=2, Churn=True),\n",
              " Row(State='ME', Account length=28, Area code=415, International plan='No', Voice mail plan='No', Number vmail messages=0, Total day minutes=236.8, Total day calls=102, Total day charge=40.26, Total eve minutes=167.1, Total eve calls=87, Total eve charge=14.2, Total night minutes=280.2, Total night calls=115, Total night charge=12.61, Total intl minutes=9.7, Total intl calls=3, Total intl charge=2.62, Customer service calls=3, Churn=False),\n",
              " Row(State='OR', Account length=77, Area code=510, International plan='No', Voice mail plan='No', Number vmail messages=0, Total day minutes=233.8, Total day calls=104, Total day charge=39.75, Total eve minutes=266.5, Total eve calls=94, Total eve charge=22.65, Total night minutes=212.7, Total night calls=104, Total night charge=9.57, Total intl minutes=7.6, Total intl calls=3, Total intl charge=2.05, Customer service calls=2, Churn=False),\n",
              " Row(State='GA', Account length=131, Area code=408, International plan='No', Voice mail plan='No', Number vmail messages=0, Total day minutes=197.0, Total day calls=79, Total day charge=33.49, Total eve minutes=201.0, Total eve calls=114, Total eve charge=17.09, Total night minutes=151.2, Total night calls=111, Total night charge=6.8, Total intl minutes=11.6, Total intl calls=5, Total intl charge=3.13, Customer service calls=1, Churn=False),\n",
              " Row(State='ND', Account length=122, Area code=408, International plan='No', Voice mail plan='No', Number vmail messages=0, Total day minutes=231.2, Total day calls=141, Total day charge=39.3, Total eve minutes=267.8, Total eve calls=136, Total eve charge=22.76, Total night minutes=240.3, Total night calls=100, Total night charge=10.81, Total intl minutes=8.8, Total intl calls=5, Total intl charge=2.38, Customer service calls=1, Churn=True),\n",
              " Row(State='ID', Account length=77, Area code=415, International plan='No', Voice mail plan='No', Number vmail messages=0, Total day minutes=251.8, Total day calls=72, Total day charge=42.81, Total eve minutes=205.7, Total eve calls=126, Total eve charge=17.48, Total night minutes=275.2, Total night calls=109, Total night charge=12.38, Total intl minutes=9.8, Total intl calls=7, Total intl charge=2.65, Customer service calls=2, Churn=True),\n",
              " Row(State='NC', Account length=135, Area code=415, International plan='No', Voice mail plan='No', Number vmail messages=0, Total day minutes=201.8, Total day calls=81, Total day charge=34.31, Total eve minutes=225.0, Total eve calls=114, Total eve charge=19.13, Total night minutes=204.4, Total night calls=82, Total night charge=9.2, Total intl minutes=10.3, Total intl calls=6, Total intl charge=2.78, Customer service calls=1, Churn=False),\n",
              " Row(State='IN', Account length=78, Area code=415, International plan='No', Voice mail plan='No', Number vmail messages=0, Total day minutes=208.9, Total day calls=119, Total day charge=35.51, Total eve minutes=252.4, Total eve calls=132, Total eve charge=21.45, Total night minutes=280.2, Total night calls=120, Total night charge=12.61, Total intl minutes=12.8, Total intl calls=7, Total intl charge=3.46, Customer service calls=0, Churn=False),\n",
              " Row(State='ME', Account length=105, Area code=408, International plan='No', Voice mail plan='Yes', Number vmail messages=33, Total day minutes=209.6, Total day calls=68, Total day charge=35.63, Total eve minutes=146.9, Total eve calls=140, Total eve charge=12.49, Total night minutes=121.0, Total night calls=131, Total night charge=5.44, Total intl minutes=10.6, Total intl calls=3, Total intl charge=2.86, Customer service calls=2, Churn=False),\n",
              " Row(State='MI', Account length=108, Area code=408, International plan='Yes', Voice mail plan='No', Number vmail messages=0, Total day minutes=115.1, Total day calls=114, Total day charge=19.57, Total eve minutes=211.3, Total eve calls=70, Total eve charge=17.96, Total night minutes=136.1, Total night calls=85, Total night charge=6.12, Total intl minutes=13.8, Total intl calls=3, Total intl charge=3.73, Customer service calls=2, Churn=True),\n",
              " Row(State='RI', Account length=76, Area code=415, International plan='No', Voice mail plan='No', Number vmail messages=0, Total day minutes=171.1, Total day calls=78, Total day charge=29.09, Total eve minutes=257.2, Total eve calls=83, Total eve charge=21.86, Total night minutes=91.6, Total night calls=92, Total night charge=4.12, Total intl minutes=16.2, Total intl calls=3, Total intl charge=4.37, Customer service calls=1, Churn=False),\n",
              " Row(State='NJ', Account length=108, Area code=415, International plan='No', Voice mail plan='No', Number vmail messages=0, Total day minutes=239.3, Total day calls=102, Total day charge=40.68, Total eve minutes=223.4, Total eve calls=127, Total eve charge=18.99, Total night minutes=251.4, Total night calls=104, Total night charge=11.31, Total intl minutes=10.6, Total intl calls=6, Total intl charge=2.86, Customer service calls=0, Churn=False),\n",
              " Row(State='DC', Account length=93, Area code=408, International plan='No', Voice mail plan='Yes', Number vmail messages=22, Total day minutes=306.2, Total day calls=123, Total day charge=52.05, Total eve minutes=189.7, Total eve calls=83, Total eve charge=16.12, Total night minutes=240.3, Total night calls=107, Total night charge=10.81, Total intl minutes=11.7, Total intl calls=2, Total intl charge=3.16, Customer service calls=0, Churn=False),\n",
              " Row(State='AL', Account length=106, Area code=408, International plan='No', Voice mail plan='Yes', Number vmail messages=29, Total day minutes=83.6, Total day calls=131, Total day charge=14.21, Total eve minutes=203.9, Total eve calls=131, Total eve charge=17.33, Total night minutes=229.5, Total night calls=73, Total night charge=10.33, Total intl minutes=8.1, Total intl calls=3, Total intl charge=2.19, Customer service calls=1, Churn=False),\n",
              " Row(State='MA', Account length=34, Area code=415, International plan='No', Voice mail plan='No', Number vmail messages=0, Total day minutes=293.7, Total day calls=89, Total day charge=49.93, Total eve minutes=272.5, Total eve calls=71, Total eve charge=23.16, Total night minutes=178.2, Total night calls=76, Total night charge=8.02, Total intl minutes=11.0, Total intl calls=10, Total intl charge=2.97, Customer service calls=2, Churn=True),\n",
              " Row(State='WY', Account length=62, Area code=415, International plan='No', Voice mail plan='No', Number vmail messages=0, Total day minutes=172.4, Total day calls=132, Total day charge=29.31, Total eve minutes=230.5, Total eve calls=100, Total eve charge=19.59, Total night minutes=228.2, Total night calls=109, Total night charge=10.27, Total intl minutes=11.0, Total intl calls=5, Total intl charge=2.97, Customer service calls=0, Churn=False),\n",
              " Row(State='RI', Account length=65, Area code=415, International plan='No', Voice mail plan='Yes', Number vmail messages=29, Total day minutes=215.5, Total day calls=129, Total day charge=36.64, Total eve minutes=161.9, Total eve calls=77, Total eve charge=13.76, Total night minutes=128.3, Total night calls=91, Total night charge=5.77, Total intl minutes=8.8, Total intl calls=5, Total intl charge=2.38, Customer service calls=2, Churn=False),\n",
              " Row(State='OK', Account length=52, Area code=510, International plan='No', Voice mail plan='Yes', Number vmail messages=38, Total day minutes=169.3, Total day calls=88, Total day charge=28.78, Total eve minutes=225.9, Total eve calls=97, Total eve charge=19.2, Total night minutes=172.0, Total night calls=86, Total night charge=7.74, Total intl minutes=8.2, Total intl calls=3, Total intl charge=2.21, Customer service calls=0, Churn=False),\n",
              " Row(State='CT', Account length=95, Area code=415, International plan='No', Voice mail plan='Yes', Number vmail messages=36, Total day minutes=283.1, Total day calls=112, Total day charge=48.13, Total eve minutes=286.2, Total eve calls=86, Total eve charge=24.33, Total night minutes=261.7, Total night calls=129, Total night charge=11.78, Total intl minutes=11.3, Total intl calls=3, Total intl charge=3.05, Customer service calls=3, Churn=False),\n",
              " Row(State='KS', Account length=159, Area code=415, International plan='No', Voice mail plan='Yes', Number vmail messages=19, Total day minutes=184.1, Total day calls=78, Total day charge=31.3, Total eve minutes=194.5, Total eve calls=71, Total eve charge=16.53, Total night minutes=225.6, Total night calls=101, Total night charge=10.15, Total intl minutes=16.9, Total intl calls=3, Total intl charge=4.56, Customer service calls=0, Churn=False),\n",
              " Row(State='HI', Account length=104, Area code=408, International plan='No', Voice mail plan='No', Number vmail messages=0, Total day minutes=170.6, Total day calls=97, Total day charge=29.0, Total eve minutes=162.1, Total eve calls=111, Total eve charge=13.78, Total night minutes=210.7, Total night calls=131, Total night charge=9.48, Total intl minutes=6.1, Total intl calls=1, Total intl charge=1.65, Customer service calls=1, Churn=False),\n",
              " Row(State='MS', Account length=84, Area code=510, International plan='No', Voice mail plan='No', Number vmail messages=0, Total day minutes=75.3, Total day calls=96, Total day charge=12.8, Total eve minutes=179.9, Total eve calls=113, Total eve charge=15.29, Total night minutes=193.8, Total night calls=134, Total night charge=8.72, Total intl minutes=12.3, Total intl calls=1, Total intl charge=3.32, Customer service calls=1, Churn=False),\n",
              " Row(State='ND', Account length=124, Area code=415, International plan='No', Voice mail plan='No', Number vmail messages=0, Total day minutes=150.3, Total day calls=101, Total day charge=25.55, Total eve minutes=255.9, Total eve calls=112, Total eve charge=21.75, Total night minutes=136.7, Total night calls=62, Total night charge=6.15, Total intl minutes=12.5, Total intl calls=4, Total intl charge=3.38, Customer service calls=2, Churn=False),\n",
              " Row(State='NM', Account length=105, Area code=415, International plan='No', Voice mail plan='No', Number vmail messages=0, Total day minutes=193.7, Total day calls=108, Total day charge=32.93, Total eve minutes=183.2, Total eve calls=124, Total eve charge=15.57, Total night minutes=293.7, Total night calls=72, Total night charge=13.22, Total intl minutes=10.8, Total intl calls=5, Total intl charge=2.92, Customer service calls=1, Churn=False),\n",
              " Row(State='NH', Account length=64, Area code=408, International plan='No', Voice mail plan='Yes', Number vmail messages=27, Total day minutes=182.1, Total day calls=91, Total day charge=30.96, Total eve minutes=169.7, Total eve calls=98, Total eve charge=14.42, Total night minutes=164.7, Total night calls=86, Total night charge=7.41, Total intl minutes=10.6, Total intl calls=5, Total intl charge=2.86, Customer service calls=2, Churn=False),\n",
              " Row(State='DE', Account length=129, Area code=510, International plan='No', Voice mail plan='No', Number vmail messages=0, Total day minutes=334.3, Total day calls=118, Total day charge=56.83, Total eve minutes=192.1, Total eve calls=104, Total eve charge=16.33, Total night minutes=191.0, Total night calls=83, Total night charge=8.59, Total intl minutes=10.4, Total intl calls=6, Total intl charge=2.81, Customer service calls=0, Churn=True),\n",
              " Row(State='TX', Account length=201, Area code=415, International plan='No', Voice mail plan='Yes', Number vmail messages=21, Total day minutes=192.0, Total day calls=97, Total day charge=32.64, Total eve minutes=239.1, Total eve calls=81, Total eve charge=20.32, Total night minutes=116.1, Total night calls=125, Total night charge=5.22, Total intl minutes=15.1, Total intl calls=3, Total intl charge=4.08, Customer service calls=1, Churn=False),\n",
              " Row(State='DE', Account length=81, Area code=510, International plan='Yes', Voice mail plan='No', Number vmail messages=0, Total day minutes=250.6, Total day calls=85, Total day charge=42.6, Total eve minutes=187.9, Total eve calls=50, Total eve charge=15.97, Total night minutes=120.3, Total night calls=131, Total night charge=5.41, Total intl minutes=7.8, Total intl calls=5, Total intl charge=2.11, Customer service calls=1, Churn=False),\n",
              " Row(State='NH', Account length=55, Area code=408, International plan='No', Voice mail plan='Yes', Number vmail messages=20, Total day minutes=189.3, Total day calls=95, Total day charge=32.18, Total eve minutes=118.6, Total eve calls=113, Total eve charge=10.08, Total night minutes=250.2, Total night calls=102, Total night charge=11.26, Total intl minutes=12.5, Total intl calls=4, Total intl charge=3.38, Customer service calls=2, Churn=False),\n",
              " Row(State='VT', Account length=142, Area code=415, International plan='No', Voice mail plan='No', Number vmail messages=0, Total day minutes=232.5, Total day calls=74, Total day charge=39.53, Total eve minutes=181.8, Total eve calls=142, Total eve charge=15.45, Total night minutes=203.1, Total night calls=86, Total night charge=9.14, Total intl minutes=10.4, Total intl calls=6, Total intl charge=2.81, Customer service calls=4, Churn=False),\n",
              " Row(State='VT', Account length=128, Area code=510, International plan='No', Voice mail plan='Yes', Number vmail messages=29, Total day minutes=179.3, Total day calls=104, Total day charge=30.48, Total eve minutes=225.9, Total eve calls=86, Total eve charge=19.2, Total night minutes=323.0, Total night calls=78, Total night charge=14.54, Total intl minutes=8.6, Total intl calls=7, Total intl charge=2.32, Customer service calls=0, Churn=False),\n",
              " Row(State='NC', Account length=155, Area code=408, International plan='No', Voice mail plan='No', Number vmail messages=0, Total day minutes=262.4, Total day calls=55, Total day charge=44.61, Total eve minutes=194.6, Total eve calls=113, Total eve charge=16.54, Total night minutes=146.5, Total night calls=85, Total night charge=6.59, Total intl minutes=8.3, Total intl calls=6, Total intl charge=2.24, Customer service calls=2, Churn=False),\n",
              " Row(State='MT', Account length=125, Area code=510, International plan='No', Voice mail plan='No', Number vmail messages=0, Total day minutes=143.2, Total day calls=80, Total day charge=24.34, Total eve minutes=88.1, Total eve calls=94, Total eve charge=7.49, Total night minutes=233.2, Total night calls=135, Total night charge=10.49, Total intl minutes=8.8, Total intl calls=7, Total intl charge=2.38, Customer service calls=4, Churn=True),\n",
              " Row(State='NM', Account length=21, Area code=415, International plan='No', Voice mail plan='Yes', Number vmail messages=19, Total day minutes=132.7, Total day calls=94, Total day charge=22.56, Total eve minutes=204.6, Total eve calls=101, Total eve charge=17.39, Total night minutes=154.7, Total night calls=78, Total night charge=6.96, Total intl minutes=12.9, Total intl calls=7, Total intl charge=3.48, Customer service calls=3, Churn=False),\n",
              " Row(State='RI', Account length=143, Area code=408, International plan='No', Voice mail plan='No', Number vmail messages=0, Total day minutes=167.8, Total day calls=72, Total day charge=28.53, Total eve minutes=211.0, Total eve calls=99, Total eve charge=17.94, Total night minutes=153.5, Total night calls=109, Total night charge=6.91, Total intl minutes=10.5, Total intl calls=6, Total intl charge=2.84, Customer service calls=4, Churn=True),\n",
              " Row(State='NY', Account length=209, Area code=415, International plan='No', Voice mail plan='No', Number vmail messages=0, Total day minutes=153.7, Total day calls=105, Total day charge=26.13, Total eve minutes=188.6, Total eve calls=87, Total eve charge=16.03, Total night minutes=200.8, Total night calls=95, Total night charge=9.04, Total intl minutes=10.7, Total intl calls=2, Total intl charge=2.89, Customer service calls=0, Churn=False),\n",
              " Row(State='ND', Account length=120, Area code=415, International plan='No', Voice mail plan='No', Number vmail messages=0, Total day minutes=177.2, Total day calls=88, Total day charge=30.12, Total eve minutes=270.4, Total eve calls=99, Total eve charge=22.98, Total night minutes=231.5, Total night calls=90, Total night charge=10.42, Total intl minutes=14.0, Total intl calls=2, Total intl charge=3.78, Customer service calls=2, Churn=False),\n",
              " Row(State='MA', Account length=87, Area code=408, International plan='No', Voice mail plan='No', Number vmail messages=0, Total day minutes=186.9, Total day calls=79, Total day charge=31.77, Total eve minutes=182.6, Total eve calls=105, Total eve charge=15.52, Total night minutes=143.1, Total night calls=90, Total night charge=6.44, Total intl minutes=4.2, Total intl calls=14, Total intl charge=1.13, Customer service calls=1, Churn=False),\n",
              " Row(State='WV', Account length=120, Area code=510, International plan='No', Voice mail plan='No', Number vmail messages=0, Total day minutes=192.6, Total day calls=123, Total day charge=32.74, Total eve minutes=206.4, Total eve calls=105, Total eve charge=17.54, Total night minutes=283.2, Total night calls=93, Total night charge=12.74, Total intl minutes=10.8, Total intl calls=3, Total intl charge=2.92, Customer service calls=1, Churn=False),\n",
              " Row(State='VT', Account length=60, Area code=415, International plan='No', Voice mail plan='No', Number vmail messages=0, Total day minutes=193.9, Total day calls=118, Total day charge=32.96, Total eve minutes=85.0, Total eve calls=110, Total eve charge=7.23, Total night minutes=210.1, Total night calls=134, Total night charge=9.45, Total intl minutes=13.2, Total intl calls=8, Total intl charge=3.56, Customer service calls=3, Churn=False),\n",
              " Row(State='FL', Account length=106, Area code=408, International plan='No', Voice mail plan='Yes', Number vmail messages=32, Total day minutes=165.9, Total day calls=126, Total day charge=28.2, Total eve minutes=216.5, Total eve calls=93, Total eve charge=18.4, Total night minutes=173.1, Total night calls=86, Total night charge=7.79, Total intl minutes=14.1, Total intl calls=8, Total intl charge=3.81, Customer service calls=4, Churn=False),\n",
              " Row(State='MT', Account length=143, Area code=415, International plan='No', Voice mail plan='No', Number vmail messages=0, Total day minutes=172.3, Total day calls=97, Total day charge=29.29, Total eve minutes=174.0, Total eve calls=108, Total eve charge=14.79, Total night minutes=188.2, Total night calls=119, Total night charge=8.47, Total intl minutes=13.0, Total intl calls=4, Total intl charge=3.51, Customer service calls=2, Churn=False),\n",
              " Row(State='VT', Account length=80, Area code=415, International plan='No', Voice mail plan='No', Number vmail messages=0, Total day minutes=160.6, Total day calls=103, Total day charge=27.3, Total eve minutes=237.0, Total eve calls=109, Total eve charge=20.15, Total night minutes=245.1, Total night calls=88, Total night charge=11.03, Total intl minutes=10.7, Total intl calls=1, Total intl charge=2.89, Customer service calls=1, Churn=False),\n",
              " Row(State='MI', Account length=51, Area code=415, International plan='No', Voice mail plan='No', Number vmail messages=0, Total day minutes=229.7, Total day calls=129, Total day charge=39.05, Total eve minutes=336.0, Total eve calls=104, Total eve charge=28.56, Total night minutes=192.8, Total night calls=128, Total night charge=8.68, Total intl minutes=9.6, Total intl calls=1, Total intl charge=2.59, Customer service calls=1, Churn=True),\n",
              " Row(State='NJ', Account length=197, Area code=510, International plan='No', Voice mail plan='No', Number vmail messages=0, Total day minutes=154.8, Total day calls=111, Total day charge=26.32, Total eve minutes=171.5, Total eve calls=102, Total eve charge=14.58, Total night minutes=227.3, Total night calls=86, Total night charge=10.23, Total intl minutes=10.6, Total intl calls=2, Total intl charge=2.86, Customer service calls=3, Churn=False),\n",
              " Row(State='AL', Account length=32, Area code=510, International plan='No', Voice mail plan='No', Number vmail messages=0, Total day minutes=230.9, Total day calls=87, Total day charge=39.25, Total eve minutes=187.4, Total eve calls=90, Total eve charge=15.93, Total night minutes=154.0, Total night calls=53, Total night charge=6.93, Total intl minutes=6.3, Total intl calls=2, Total intl charge=1.7, Customer service calls=0, Churn=False),\n",
              " Row(State='WA', Account length=100, Area code=408, International plan='No', Voice mail plan='No', Number vmail messages=0, Total day minutes=70.8, Total day calls=94, Total day charge=12.04, Total eve minutes=215.6, Total eve calls=102, Total eve charge=18.33, Total night minutes=230.8, Total night calls=125, Total night charge=10.39, Total intl minutes=9.5, Total intl calls=1, Total intl charge=2.57, Customer service calls=6, Churn=True),\n",
              " Row(State='LA', Account length=121, Area code=408, International plan='No', Voice mail plan='No', Number vmail messages=0, Total day minutes=181.5, Total day calls=121, Total day charge=30.86, Total eve minutes=218.4, Total eve calls=98, Total eve charge=18.56, Total night minutes=161.6, Total night calls=103, Total night charge=7.27, Total intl minutes=8.5, Total intl calls=5, Total intl charge=2.3, Customer service calls=1, Churn=False),\n",
              " Row(State='SD', Account length=65, Area code=408, International plan='No', Voice mail plan='Yes', Number vmail messages=31, Total day minutes=282.3, Total day calls=70, Total day charge=47.99, Total eve minutes=152.0, Total eve calls=89, Total eve charge=12.92, Total night minutes=225.5, Total night calls=93, Total night charge=10.15, Total intl minutes=12.0, Total intl calls=4, Total intl charge=3.24, Customer service calls=1, Churn=False),\n",
              " Row(State='UT', Account length=96, Area code=408, International plan='No', Voice mail plan='Yes', Number vmail messages=26, Total day minutes=145.8, Total day calls=108, Total day charge=24.79, Total eve minutes=192.2, Total eve calls=89, Total eve charge=16.34, Total night minutes=165.1, Total night calls=96, Total night charge=7.43, Total intl minutes=9.9, Total intl calls=2, Total intl charge=2.67, Customer service calls=1, Churn=False),\n",
              " Row(State='NJ', Account length=83, Area code=415, International plan='No', Voice mail plan='No', Number vmail messages=0, Total day minutes=178.8, Total day calls=102, Total day charge=30.4, Total eve minutes=167.9, Total eve calls=84, Total eve charge=14.27, Total night minutes=178.9, Total night calls=65, Total night charge=8.05, Total intl minutes=8.6, Total intl calls=4, Total intl charge=2.32, Customer service calls=3, Churn=False),\n",
              " Row(State='KS', Account length=138, Area code=510, International plan='No', Voice mail plan='Yes', Number vmail messages=26, Total day minutes=183.9, Total day calls=83, Total day charge=31.26, Total eve minutes=240.7, Total eve calls=93, Total eve charge=20.46, Total night minutes=185.7, Total night calls=125, Total night charge=8.36, Total intl minutes=15.0, Total intl calls=3, Total intl charge=4.05, Customer service calls=1, Churn=False),\n",
              " Row(State='KS', Account length=74, Area code=415, International plan='No', Voice mail plan='Yes', Number vmail messages=32, Total day minutes=174.6, Total day calls=107, Total day charge=29.68, Total eve minutes=310.6, Total eve calls=115, Total eve charge=26.4, Total night minutes=234.7, Total night calls=92, Total night charge=10.56, Total intl minutes=9.0, Total intl calls=4, Total intl charge=2.43, Customer service calls=1, Churn=False),\n",
              " Row(State='WA', Account length=110, Area code=415, International plan='No', Voice mail plan='No', Number vmail messages=0, Total day minutes=241.2, Total day calls=105, Total day charge=41.0, Total eve minutes=174.3, Total eve calls=85, Total eve charge=14.82, Total night minutes=245.3, Total night calls=59, Total night charge=11.04, Total intl minutes=8.5, Total intl calls=4, Total intl charge=2.3, Customer service calls=2, Churn=False),\n",
              " Row(State='NH', Account length=84, Area code=408, International plan='No', Voice mail plan='Yes', Number vmail messages=30, Total day minutes=106.5, Total day calls=65, Total day charge=18.11, Total eve minutes=225.7, Total eve calls=108, Total eve charge=19.18, Total night minutes=188.6, Total night calls=61, Total night charge=8.49, Total intl minutes=5.7, Total intl calls=3, Total intl charge=1.54, Customer service calls=2, Churn=False),\n",
              " Row(State='KY', Account length=45, Area code=415, International plan='No', Voice mail plan='Yes', Number vmail messages=22, Total day minutes=196.6, Total day calls=84, Total day charge=33.42, Total eve minutes=313.2, Total eve calls=92, Total eve charge=26.62, Total night minutes=163.3, Total night calls=108, Total night charge=7.35, Total intl minutes=11.9, Total intl calls=3, Total intl charge=3.21, Customer service calls=0, Churn=False),\n",
              " Row(State='AK', Account length=76, Area code=415, International plan='No', Voice mail plan='Yes', Number vmail messages=22, Total day minutes=160.1, Total day calls=107, Total day charge=27.22, Total eve minutes=168.7, Total eve calls=136, Total eve charge=14.34, Total night minutes=23.2, Total night calls=102, Total night charge=1.04, Total intl minutes=9.5, Total intl calls=4, Total intl charge=2.57, Customer service calls=3, Churn=False),\n",
              " Row(State='KY', Account length=95, Area code=408, International plan='No', Voice mail plan='No', Number vmail messages=0, Total day minutes=135.0, Total day calls=99, Total day charge=22.95, Total eve minutes=183.6, Total eve calls=106, Total eve charge=15.61, Total night minutes=245.3, Total night calls=102, Total night charge=11.04, Total intl minutes=12.5, Total intl calls=9, Total intl charge=3.38, Customer service calls=1, Churn=False),\n",
              " Row(State='MS', Account length=86, Area code=510, International plan='No', Voice mail plan='Yes', Number vmail messages=39, Total day minutes=261.2, Total day calls=122, Total day charge=44.4, Total eve minutes=214.2, Total eve calls=101, Total eve charge=18.21, Total night minutes=154.9, Total night calls=101, Total night charge=6.97, Total intl minutes=12.7, Total intl calls=5, Total intl charge=3.43, Customer service calls=2, Churn=False),\n",
              " Row(State='MI', Account length=50, Area code=415, International plan='No', Voice mail plan='Yes', Number vmail messages=35, Total day minutes=192.6, Total day calls=97, Total day charge=32.74, Total eve minutes=135.2, Total eve calls=101, Total eve charge=11.49, Total night minutes=216.2, Total night calls=101, Total night charge=9.73, Total intl minutes=7.9, Total intl calls=2, Total intl charge=2.13, Customer service calls=2, Churn=False),\n",
              " Row(State='MI', Account length=74, Area code=415, International plan='No', Voice mail plan='No', Number vmail messages=0, Total day minutes=124.8, Total day calls=114, Total day charge=21.22, Total eve minutes=133.0, Total eve calls=121, Total eve charge=11.31, Total night minutes=160.3, Total night calls=85, Total night charge=7.21, Total intl minutes=10.6, Total intl calls=7, Total intl charge=2.86, Customer service calls=3, Churn=False),\n",
              " Row(State='MS', Account length=114, Area code=415, International plan='No', Voice mail plan='Yes', Number vmail messages=34, Total day minutes=154.4, Total day calls=109, Total day charge=26.25, Total eve minutes=221.4, Total eve calls=142, Total eve charge=18.82, Total night minutes=208.5, Total night calls=103, Total night charge=9.38, Total intl minutes=10.3, Total intl calls=5, Total intl charge=2.78, Customer service calls=0, Churn=False),\n",
              " Row(State='NY', Account length=122, Area code=415, International plan='No', Voice mail plan='No', Number vmail messages=0, Total day minutes=173.6, Total day calls=110, Total day charge=29.51, Total eve minutes=91.7, Total eve calls=84, Total eve charge=7.79, Total night minutes=211.7, Total night calls=103, Total night charge=9.53, Total intl minutes=9.7, Total intl calls=7, Total intl charge=2.62, Customer service calls=3, Churn=False),\n",
              " Row(State='WA', Account length=29, Area code=415, International plan='No', Voice mail plan='No', Number vmail messages=0, Total day minutes=157.4, Total day calls=122, Total day charge=26.76, Total eve minutes=145.0, Total eve calls=75, Total eve charge=12.33, Total night minutes=281.8, Total night calls=92, Total night charge=12.68, Total intl minutes=9.3, Total intl calls=2, Total intl charge=2.51, Customer service calls=1, Churn=False),\n",
              " Row(State='MD', Account length=130, Area code=415, International plan='No', Voice mail plan='Yes', Number vmail messages=45, Total day minutes=174.5, Total day calls=120, Total day charge=29.67, Total eve minutes=217.5, Total eve calls=95, Total eve charge=18.49, Total night minutes=220.3, Total night calls=67, Total night charge=9.91, Total intl minutes=12.2, Total intl calls=2, Total intl charge=3.29, Customer service calls=1, Churn=False),\n",
              " Row(State='IN', Account length=130, Area code=408, International plan='No', Voice mail plan='No', Number vmail messages=0, Total day minutes=115.6, Total day calls=129, Total day charge=19.65, Total eve minutes=167.8, Total eve calls=104, Total eve charge=14.26, Total night minutes=141.8, Total night calls=124, Total night charge=6.38, Total intl minutes=12.6, Total intl calls=9, Total intl charge=3.4, Customer service calls=1, Churn=False),\n",
              " Row(State='AZ', Account length=88, Area code=415, International plan='No', Voice mail plan='No', Number vmail messages=0, Total day minutes=172.8, Total day calls=81, Total day charge=29.38, Total eve minutes=193.4, Total eve calls=90, Total eve charge=16.44, Total night minutes=89.6, Total night calls=107, Total night charge=4.03, Total intl minutes=12.8, Total intl calls=5, Total intl charge=3.46, Customer service calls=2, Churn=False),\n",
              " Row(State='NM', Account length=119, Area code=510, International plan='No', Voice mail plan='Yes', Number vmail messages=23, Total day minutes=154.0, Total day calls=114, Total day charge=26.18, Total eve minutes=278.0, Total eve calls=137, Total eve charge=23.63, Total night minutes=228.4, Total night calls=112, Total night charge=10.28, Total intl minutes=11.8, Total intl calls=4, Total intl charge=3.19, Customer service calls=2, Churn=False),\n",
              " Row(State='DC', Account length=76, Area code=415, International plan='No', Voice mail plan='No', Number vmail messages=0, Total day minutes=224.4, Total day calls=121, Total day charge=38.15, Total eve minutes=147.9, Total eve calls=97, Total eve charge=12.57, Total night minutes=183.8, Total night calls=74, Total night charge=8.27, Total intl minutes=6.7, Total intl calls=2, Total intl charge=1.81, Customer service calls=2, Churn=False),\n",
              " Row(State='NM', Account length=90, Area code=415, International plan='No', Voice mail plan='No', Number vmail messages=0, Total day minutes=167.5, Total day calls=96, Total day charge=28.48, Total eve minutes=139.1, Total eve calls=104, Total eve charge=11.82, Total night minutes=138.4, Total night calls=87, Total night charge=6.23, Total intl minutes=13.0, Total intl calls=1, Total intl charge=3.51, Customer service calls=1, Churn=False),\n",
              " Row(State='KS', Account length=116, Area code=510, International plan='No', Voice mail plan='No', Number vmail messages=0, Total day minutes=189.5, Total day calls=90, Total day charge=32.22, Total eve minutes=189.8, Total eve calls=118, Total eve charge=16.13, Total night minutes=205.8, Total night calls=83, Total night charge=9.26, Total intl minutes=13.1, Total intl calls=2, Total intl charge=3.54, Customer service calls=1, Churn=False),\n",
              " Row(State='TX', Account length=126, Area code=415, International plan='No', Voice mail plan='No', Number vmail messages=0, Total day minutes=190.9, Total day calls=143, Total day charge=32.45, Total eve minutes=149.7, Total eve calls=72, Total eve charge=12.72, Total night minutes=191.4, Total night calls=87, Total night charge=8.61, Total intl minutes=13.0, Total intl calls=3, Total intl charge=3.51, Customer service calls=1, Churn=False),\n",
              " Row(State='AK', Account length=1, Area code=408, International plan='No', Voice mail plan='No', Number vmail messages=0, Total day minutes=175.2, Total day calls=74, Total day charge=29.78, Total eve minutes=151.7, Total eve calls=79, Total eve charge=12.89, Total night minutes=230.5, Total night calls=109, Total night charge=10.37, Total intl minutes=5.3, Total intl calls=3, Total intl charge=1.43, Customer service calls=1, Churn=False),\n",
              " Row(State='WV', Account length=153, Area code=408, International plan='No', Voice mail plan='Yes', Number vmail messages=28, Total day minutes=235.6, Total day calls=74, Total day charge=40.05, Total eve minutes=227.9, Total eve calls=37, Total eve charge=19.37, Total night minutes=170.3, Total night calls=103, Total night charge=7.66, Total intl minutes=15.4, Total intl calls=9, Total intl charge=4.16, Customer service calls=0, Churn=False),\n",
              " Row(State='TX', Account length=217, Area code=408, International plan='No', Voice mail plan='No', Number vmail messages=0, Total day minutes=176.4, Total day calls=115, Total day charge=29.99, Total eve minutes=158.8, Total eve calls=128, Total eve charge=13.5, Total night minutes=306.6, Total night calls=107, Total night charge=13.8, Total intl minutes=9.3, Total intl calls=3, Total intl charge=2.51, Customer service calls=4, Churn=False),\n",
              " Row(State='NE', Account length=67, Area code=415, International plan='No', Voice mail plan='Yes', Number vmail messages=41, Total day minutes=174.7, Total day calls=86, Total day charge=29.7, Total eve minutes=160.6, Total eve calls=93, Total eve charge=13.65, Total night minutes=155.3, Total night calls=108, Total night charge=6.99, Total intl minutes=13.4, Total intl calls=1, Total intl charge=3.62, Customer service calls=0, Churn=False),\n",
              " Row(State='CA', Account length=79, Area code=510, International plan='No', Voice mail plan='No', Number vmail messages=0, Total day minutes=157.6, Total day calls=85, Total day charge=26.79, Total eve minutes=194.1, Total eve calls=92, Total eve charge=16.5, Total night minutes=231.5, Total night calls=86, Total night charge=10.42, Total intl minutes=9.4, Total intl calls=10, Total intl charge=2.54, Customer service calls=5, Churn=True),\n",
              " Row(State='ID', Account length=193, Area code=415, International plan='No', Voice mail plan='No', Number vmail messages=0, Total day minutes=96.8, Total day calls=92, Total day charge=16.46, Total eve minutes=142.6, Total eve calls=103, Total eve charge=12.12, Total night minutes=210.1, Total night calls=115, Total night charge=9.45, Total intl minutes=10.9, Total intl calls=5, Total intl charge=2.94, Customer service calls=2, Churn=True),\n",
              " Row(State='NC', Account length=75, Area code=408, International plan='No', Voice mail plan='No', Number vmail messages=0, Total day minutes=203.3, Total day calls=70, Total day charge=34.56, Total eve minutes=228.9, Total eve calls=97, Total eve charge=19.46, Total night minutes=222.2, Total night calls=118, Total night charge=10.0, Total intl minutes=14.3, Total intl calls=3, Total intl charge=3.86, Customer service calls=1, Churn=False),\n",
              " Row(State='MS', Account length=77, Area code=408, International plan='No', Voice mail plan='No', Number vmail messages=0, Total day minutes=230.0, Total day calls=87, Total day charge=39.1, Total eve minutes=103.2, Total eve calls=138, Total eve charge=8.77, Total night minutes=309.6, Total night calls=136, Total night charge=13.93, Total intl minutes=11.3, Total intl calls=3, Total intl charge=3.05, Customer service calls=2, Churn=False),\n",
              " Row(State='LA', Account length=111, Area code=415, International plan='No', Voice mail plan='Yes', Number vmail messages=28, Total day minutes=128.8, Total day calls=104, Total day charge=21.9, Total eve minutes=157.3, Total eve calls=52, Total eve charge=13.37, Total night minutes=147.4, Total night calls=76, Total night charge=6.63, Total intl minutes=10.3, Total intl calls=2, Total intl charge=2.78, Customer service calls=2, Churn=False),\n",
              " Row(State='MT', Account length=124, Area code=415, International plan='No', Voice mail plan='Yes', Number vmail messages=30, Total day minutes=144.5, Total day calls=35, Total day charge=24.57, Total eve minutes=262.3, Total eve calls=101, Total eve charge=22.3, Total night minutes=226.5, Total night calls=82, Total night charge=10.19, Total intl minutes=12.0, Total intl calls=7, Total intl charge=3.24, Customer service calls=2, Churn=False),\n",
              " Row(State='NE', Account length=112, Area code=415, International plan='Yes', Voice mail plan='Yes', Number vmail messages=16, Total day minutes=200.3, Total day calls=72, Total day charge=34.05, Total eve minutes=197.8, Total eve calls=91, Total eve charge=16.81, Total night minutes=151.1, Total night calls=92, Total night charge=6.8, Total intl minutes=10.4, Total intl calls=3, Total intl charge=2.81, Customer service calls=1, Churn=False),\n",
              " Row(State='MT', Account length=109, Area code=510, International plan='No', Voice mail plan='No', Number vmail messages=0, Total day minutes=154.8, Total day calls=82, Total day charge=26.32, Total eve minutes=287.7, Total eve calls=109, Total eve charge=24.45, Total night minutes=208.4, Total night calls=80, Total night charge=9.38, Total intl minutes=5.9, Total intl calls=9, Total intl charge=1.59, Customer service calls=3, Churn=False),\n",
              " Row(State='AZ', Account length=94, Area code=408, International plan='No', Voice mail plan='No', Number vmail messages=0, Total day minutes=181.8, Total day calls=85, Total day charge=30.91, Total eve minutes=202.4, Total eve calls=98, Total eve charge=17.2, Total night minutes=245.9, Total night calls=97, Total night charge=11.07, Total intl minutes=9.2, Total intl calls=2, Total intl charge=2.48, Customer service calls=4, Churn=False),\n",
              " Row(State='AR', Account length=77, Area code=415, International plan='No', Voice mail plan='Yes', Number vmail messages=23, Total day minutes=209.7, Total day calls=73, Total day charge=35.65, Total eve minutes=183.6, Total eve calls=63, Total eve charge=15.61, Total night minutes=205.5, Total night calls=111, Total night charge=9.25, Total intl minutes=7.1, Total intl calls=3, Total intl charge=1.92, Customer service calls=2, Churn=False),\n",
              " Row(State='NY', Account length=161, Area code=415, International plan='No', Voice mail plan='No', Number vmail messages=0, Total day minutes=332.9, Total day calls=67, Total day charge=56.59, Total eve minutes=317.8, Total eve calls=97, Total eve charge=27.01, Total night minutes=160.6, Total night calls=128, Total night charge=7.23, Total intl minutes=5.4, Total intl calls=9, Total intl charge=1.46, Customer service calls=4, Churn=True),\n",
              " Row(State='ME', Account length=175, Area code=415, International plan='No', Voice mail plan='No', Number vmail messages=0, Total day minutes=132.0, Total day calls=95, Total day charge=22.44, Total eve minutes=231.2, Total eve calls=74, Total eve charge=19.65, Total night minutes=313.4, Total night calls=108, Total night charge=14.1, Total intl minutes=8.7, Total intl calls=10, Total intl charge=2.35, Customer service calls=1, Churn=False),\n",
              " Row(State='NJ', Account length=182, Area code=415, International plan='No', Voice mail plan='No', Number vmail messages=0, Total day minutes=279.1, Total day calls=124, Total day charge=47.45, Total eve minutes=180.5, Total eve calls=108, Total eve charge=15.34, Total night minutes=217.5, Total night calls=104, Total night charge=9.79, Total intl minutes=9.5, Total intl calls=11, Total intl charge=2.57, Customer service calls=2, Churn=True),\n",
              " Row(State='WY', Account length=16, Area code=415, International plan='No', Voice mail plan='No', Number vmail messages=0, Total day minutes=174.7, Total day calls=83, Total day charge=29.7, Total eve minutes=280.8, Total eve calls=122, Total eve charge=23.87, Total night minutes=171.7, Total night calls=80, Total night charge=7.73, Total intl minutes=10.5, Total intl calls=8, Total intl charge=2.84, Customer service calls=5, Churn=False),\n",
              " Row(State='NJ', Account length=106, Area code=415, International plan='No', Voice mail plan='No', Number vmail messages=0, Total day minutes=191.4, Total day calls=124, Total day charge=32.54, Total eve minutes=200.7, Total eve calls=116, Total eve charge=17.06, Total night minutes=230.1, Total night calls=76, Total night charge=10.35, Total intl minutes=8.2, Total intl calls=3, Total intl charge=2.21, Customer service calls=1, Churn=False),\n",
              " Row(State='LA', Account length=172, Area code=415, International plan='No', Voice mail plan='No', Number vmail messages=0, Total day minutes=215.7, Total day calls=140, Total day charge=36.67, Total eve minutes=146.3, Total eve calls=84, Total eve charge=12.44, Total night minutes=264.6, Total night calls=83, Total night charge=11.91, Total intl minutes=7.1, Total intl calls=1, Total intl charge=1.92, Customer service calls=3, Churn=False),\n",
              " Row(State='WY', Account length=134, Area code=510, International plan='No', Voice mail plan='No', Number vmail messages=0, Total day minutes=296.0, Total day calls=93, Total day charge=50.32, Total eve minutes=226.4, Total eve calls=117, Total eve charge=19.24, Total night minutes=246.8, Total night calls=98, Total night charge=11.11, Total intl minutes=12.3, Total intl calls=10, Total intl charge=3.32, Customer service calls=0, Churn=True),\n",
              " Row(State='MT', Account length=73, Area code=415, International plan='No', Voice mail plan='No', Number vmail messages=0, Total day minutes=160.1, Total day calls=110, Total day charge=27.22, Total eve minutes=213.3, Total eve calls=72, Total eve charge=18.13, Total night minutes=174.1, Total night calls=72, Total night charge=7.83, Total intl minutes=13.0, Total intl calls=4, Total intl charge=3.51, Customer service calls=0, Churn=False),\n",
              " Row(State='WI', Account length=149, Area code=415, International plan='Yes', Voice mail plan='Yes', Number vmail messages=28, Total day minutes=126.9, Total day calls=97, Total day charge=21.57, Total eve minutes=166.9, Total eve calls=102, Total eve charge=14.19, Total night minutes=145.2, Total night calls=77, Total night charge=6.53, Total intl minutes=8.8, Total intl calls=3, Total intl charge=2.38, Customer service calls=5, Churn=True),\n",
              " Row(State='NY', Account length=94, Area code=510, International plan='Yes', Voice mail plan='No', Number vmail messages=0, Total day minutes=243.2, Total day calls=109, Total day charge=41.34, Total eve minutes=147.0, Total eve calls=88, Total eve charge=12.5, Total night minutes=94.9, Total night calls=99, Total night charge=4.27, Total intl minutes=7.2, Total intl calls=4, Total intl charge=1.94, Customer service calls=4, Churn=False),\n",
              " Row(State='MO', Account length=55, Area code=510, International plan='No', Voice mail plan='No', Number vmail messages=0, Total day minutes=189.0, Total day calls=100, Total day charge=32.13, Total eve minutes=118.5, Total eve calls=99, Total eve charge=10.07, Total night minutes=248.1, Total night calls=87, Total night charge=11.16, Total intl minutes=17.1, Total intl calls=6, Total intl charge=4.62, Customer service calls=0, Churn=False),\n",
              " Row(State='TN', Account length=114, Area code=510, International plan='No', Voice mail plan='No', Number vmail messages=0, Total day minutes=172.0, Total day calls=145, Total day charge=29.24, Total eve minutes=276.4, Total eve calls=101, Total eve charge=23.49, Total night minutes=193.7, Total night calls=100, Total night charge=8.72, Total intl minutes=10.1, Total intl calls=9, Total intl charge=2.73, Customer service calls=1, Churn=False),\n",
              " Row(State='CA', Account length=93, Area code=510, International plan='No', Voice mail plan='Yes', Number vmail messages=19, Total day minutes=136.8, Total day calls=113, Total day charge=23.26, Total eve minutes=179.5, Total eve calls=105, Total eve charge=15.26, Total night minutes=71.1, Total night calls=95, Total night charge=3.2, Total intl minutes=12.5, Total intl calls=3, Total intl charge=3.38, Customer service calls=2, Churn=False),\n",
              " Row(State='ME', Account length=19, Area code=415, International plan='No', Voice mail plan='No', Number vmail messages=0, Total day minutes=201.5, Total day calls=123, Total day charge=34.26, Total eve minutes=129.2, Total eve calls=110, Total eve charge=10.98, Total night minutes=220.6, Total night calls=98, Total night charge=9.93, Total intl minutes=12.9, Total intl calls=4, Total intl charge=3.48, Customer service calls=1, Churn=False),\n",
              " Row(State='NM', Account length=178, Area code=415, International plan='No', Voice mail plan='Yes', Number vmail messages=35, Total day minutes=175.4, Total day calls=88, Total day charge=29.82, Total eve minutes=190.0, Total eve calls=65, Total eve charge=16.15, Total night minutes=138.7, Total night calls=94, Total night charge=6.24, Total intl minutes=10.5, Total intl calls=3, Total intl charge=2.84, Customer service calls=2, Churn=False),\n",
              " Row(State='WA', Account length=96, Area code=415, International plan='No', Voice mail plan='No', Number vmail messages=0, Total day minutes=276.9, Total day calls=105, Total day charge=47.07, Total eve minutes=246.9, Total eve calls=94, Total eve charge=20.99, Total night minutes=254.4, Total night calls=107, Total night charge=11.45, Total intl minutes=10.3, Total intl calls=3, Total intl charge=2.78, Customer service calls=1, Churn=True),\n",
              " Row(State='ME', Account length=176, Area code=415, International plan='No', Voice mail plan='No', Number vmail messages=0, Total day minutes=223.2, Total day calls=76, Total day charge=37.94, Total eve minutes=214.4, Total eve calls=131, Total eve charge=18.22, Total night minutes=154.4, Total night calls=80, Total night charge=6.95, Total intl minutes=10.1, Total intl calls=2, Total intl charge=2.73, Customer service calls=3, Churn=False),\n",
              " Row(State='SC', Account length=140, Area code=510, International plan='No', Voice mail plan='Yes', Number vmail messages=28, Total day minutes=157.1, Total day calls=77, Total day charge=26.71, Total eve minutes=172.4, Total eve calls=97, Total eve charge=14.65, Total night minutes=184.5, Total night calls=94, Total night charge=8.3, Total intl minutes=11.1, Total intl calls=9, Total intl charge=3.0, Customer service calls=1, Churn=False),\n",
              " Row(State='IA', Account length=100, Area code=408, International plan='No', Voice mail plan='No', Number vmail messages=0, Total day minutes=210.9, Total day calls=85, Total day charge=35.85, Total eve minutes=329.3, Total eve calls=69, Total eve charge=27.99, Total night minutes=127.1, Total night calls=78, Total night charge=5.72, Total intl minutes=9.4, Total intl calls=5, Total intl charge=2.54, Customer service calls=4, Churn=False),\n",
              " Row(State='RI', Account length=125, Area code=408, International plan='No', Voice mail plan='No', Number vmail messages=0, Total day minutes=113.0, Total day calls=108, Total day charge=19.21, Total eve minutes=169.2, Total eve calls=107, Total eve charge=14.38, Total night minutes=156.6, Total night calls=61, Total night charge=7.05, Total intl minutes=9.2, Total intl calls=5, Total intl charge=2.48, Customer service calls=2, Churn=True),\n",
              " Row(State='MA', Account length=129, Area code=510, International plan='Yes', Voice mail plan='No', Number vmail messages=0, Total day minutes=192.9, Total day calls=131, Total day charge=32.79, Total eve minutes=185.5, Total eve calls=101, Total eve charge=15.77, Total night minutes=205.2, Total night calls=130, Total night charge=9.23, Total intl minutes=10.9, Total intl calls=4, Total intl charge=2.94, Customer service calls=1, Churn=False),\n",
              " Row(State='NJ', Account length=95, Area code=415, International plan='No', Voice mail plan='Yes', Number vmail messages=22, Total day minutes=40.9, Total day calls=126, Total day charge=6.95, Total eve minutes=133.4, Total eve calls=90, Total eve charge=11.34, Total night minutes=264.2, Total night calls=91, Total night charge=11.89, Total intl minutes=11.9, Total intl calls=7, Total intl charge=3.21, Customer service calls=0, Churn=False),\n",
              " Row(State='OH', Account length=169, Area code=408, International plan='No', Voice mail plan='No', Number vmail messages=0, Total day minutes=147.2, Total day calls=115, Total day charge=25.02, Total eve minutes=161.9, Total eve calls=123, Total eve charge=13.76, Total night minutes=142.1, Total night calls=103, Total night charge=6.39, Total intl minutes=7.2, Total intl calls=6, Total intl charge=1.94, Customer service calls=3, Churn=False),\n",
              " Row(State='UT', Account length=82, Area code=510, International plan='Yes', Voice mail plan='No', Number vmail messages=0, Total day minutes=208.8, Total day calls=101, Total day charge=35.5, Total eve minutes=213.7, Total eve calls=87, Total eve charge=18.16, Total night minutes=175.1, Total night calls=86, Total night charge=7.88, Total intl minutes=12.4, Total intl calls=6, Total intl charge=3.35, Customer service calls=3, Churn=False),\n",
              " Row(State='MS', Account length=155, Area code=408, International plan='No', Voice mail plan='No', Number vmail messages=0, Total day minutes=163.0, Total day calls=93, Total day charge=27.71, Total eve minutes=203.9, Total eve calls=102, Total eve charge=17.33, Total night minutes=159.0, Total night calls=109, Total night charge=7.15, Total intl minutes=15.1, Total intl calls=4, Total intl charge=4.08, Customer service calls=2, Churn=False),\n",
              " Row(State='AL', Account length=149, Area code=415, International plan='No', Voice mail plan='Yes', Number vmail messages=20, Total day minutes=264.4, Total day calls=102, Total day charge=44.95, Total eve minutes=219.6, Total eve calls=123, Total eve charge=18.67, Total night minutes=200.4, Total night calls=89, Total night charge=9.02, Total intl minutes=11.3, Total intl calls=3, Total intl charge=3.05, Customer service calls=2, Churn=False),\n",
              " Row(State='KY', Account length=95, Area code=510, International plan='No', Voice mail plan='No', Number vmail messages=0, Total day minutes=157.3, Total day calls=116, Total day charge=26.74, Total eve minutes=197.5, Total eve calls=77, Total eve charge=16.79, Total night minutes=128.2, Total night calls=111, Total night charge=5.77, Total intl minutes=8.4, Total intl calls=4, Total intl charge=2.27, Customer service calls=2, Churn=False),\n",
              " Row(State='AZ', Account length=97, Area code=408, International plan='No', Voice mail plan='Yes', Number vmail messages=25, Total day minutes=141.0, Total day calls=101, Total day charge=23.97, Total eve minutes=212.0, Total eve calls=85, Total eve charge=18.02, Total night minutes=175.2, Total night calls=138, Total night charge=7.88, Total intl minutes=4.9, Total intl calls=2, Total intl charge=1.32, Customer service calls=3, Churn=False),\n",
              " Row(State='WV', Account length=77, Area code=510, International plan='No', Voice mail plan='No', Number vmail messages=0, Total day minutes=67.7, Total day calls=68, Total day charge=11.51, Total eve minutes=195.7, Total eve calls=86, Total eve charge=16.63, Total night minutes=236.5, Total night calls=137, Total night charge=10.64, Total intl minutes=12.0, Total intl calls=2, Total intl charge=3.24, Customer service calls=1, Churn=False),\n",
              " Row(State='MS', Account length=120, Area code=415, International plan='No', Voice mail plan='No', Number vmail messages=0, Total day minutes=131.7, Total day calls=99, Total day charge=22.39, Total eve minutes=163.1, Total eve calls=109, Total eve charge=13.86, Total night minutes=201.1, Total night calls=116, Total night charge=9.05, Total intl minutes=10.7, Total intl calls=3, Total intl charge=2.89, Customer service calls=1, Churn=False),\n",
              " Row(State='LA', Account length=91, Area code=415, International plan='No', Voice mail plan='No', Number vmail messages=0, Total day minutes=190.5, Total day calls=128, Total day charge=32.39, Total eve minutes=205.5, Total eve calls=103, Total eve charge=17.47, Total night minutes=130.7, Total night calls=63, Total night charge=5.88, Total intl minutes=13.8, Total intl calls=5, Total intl charge=3.73, Customer service calls=0, Churn=False),\n",
              " Row(State='VT', Account length=109, Area code=408, International plan='No', Voice mail plan='No', Number vmail messages=0, Total day minutes=222.2, Total day calls=113, Total day charge=37.77, Total eve minutes=218.5, Total eve calls=122, Total eve charge=18.57, Total night minutes=266.0, Total night calls=88, Total night charge=11.97, Total intl minutes=10.9, Total intl calls=5, Total intl charge=2.94, Customer service calls=1, Churn=False),\n",
              " Row(State='MA', Account length=111, Area code=415, International plan='No', Voice mail plan='No', Number vmail messages=0, Total day minutes=284.4, Total day calls=89, Total day charge=48.35, Total eve minutes=157.0, Total eve calls=113, Total eve charge=13.35, Total night minutes=242.8, Total night calls=91, Total night charge=10.93, Total intl minutes=8.4, Total intl calls=8, Total intl charge=2.27, Customer service calls=0, Churn=True),\n",
              " Row(State='WA', Account length=104, Area code=415, International plan='No', Voice mail plan='No', Number vmail messages=0, Total day minutes=139.7, Total day calls=78, Total day charge=23.75, Total eve minutes=202.6, Total eve calls=119, Total eve charge=17.22, Total night minutes=203.6, Total night calls=102, Total night charge=9.16, Total intl minutes=11.3, Total intl calls=5, Total intl charge=3.05, Customer service calls=2, Churn=False),\n",
              " Row(State='LA', Account length=67, Area code=510, International plan='No', Voice mail plan='No', Number vmail messages=0, Total day minutes=310.4, Total day calls=97, Total day charge=52.77, Total eve minutes=66.5, Total eve calls=123, Total eve charge=5.65, Total night minutes=246.5, Total night calls=99, Total night charge=11.09, Total intl minutes=9.2, Total intl calls=10, Total intl charge=2.48, Customer service calls=4, Churn=False),\n",
              " Row(State='ID', Account length=138, Area code=415, International plan='Yes', Voice mail plan='Yes', Number vmail messages=17, Total day minutes=225.2, Total day calls=116, Total day charge=38.28, Total eve minutes=173.4, Total eve calls=88, Total eve charge=14.74, Total night minutes=145.8, Total night calls=99, Total night charge=6.56, Total intl minutes=11.7, Total intl calls=4, Total intl charge=3.16, Customer service calls=0, Churn=False),\n",
              " Row(State='DC', Account length=70, Area code=415, International plan='No', Voice mail plan='No', Number vmail messages=0, Total day minutes=152.8, Total day calls=145, Total day charge=25.98, Total eve minutes=183.6, Total eve calls=102, Total eve charge=15.61, Total night minutes=151.8, Total night calls=75, Total night charge=6.83, Total intl minutes=10.5, Total intl calls=2, Total intl charge=2.84, Customer service calls=1, Churn=False)]"
            ]
          },
          "metadata": {},
          "execution_count": 24
        }
      ]
    },
    {
      "cell_type": "markdown",
      "metadata": {
        "id": "XNg5OqdQq8X4"
      },
      "source": [
        "Além do take e do collect(), o Spark também permite visualizar os dados de maneira formatada a partir do método show(n)."
      ]
    },
    {
      "cell_type": "code",
      "metadata": {
        "colab": {
          "base_uri": "https://localhost:8080/"
        },
        "id": "a-kkxue8uGOw",
        "outputId": "56bdd275-8d90-47c0-c83f-9e9d8c76f952"
      },
      "source": [
        "#visualizando os top n registros de maneira formatada\n",
        "df.show(5)"
      ],
      "execution_count": null,
      "outputs": [
        {
          "output_type": "stream",
          "name": "stdout",
          "text": [
            "+-----+--------------+---------+------------------+---------------+---------------------+-----------------+---------------+----------------+-----------------+---------------+----------------+-------------------+-----------------+------------------+------------------+----------------+-----------------+----------------------+-----+\n",
            "|State|Account length|Area code|International plan|Voice mail plan|Number vmail messages|Total day minutes|Total day calls|Total day charge|Total eve minutes|Total eve calls|Total eve charge|Total night minutes|Total night calls|Total night charge|Total intl minutes|Total intl calls|Total intl charge|Customer service calls|Churn|\n",
            "+-----+--------------+---------+------------------+---------------+---------------------+-----------------+---------------+----------------+-----------------+---------------+----------------+-------------------+-----------------+------------------+------------------+----------------+-----------------+----------------------+-----+\n",
            "|   ME|            80|      408|                No|             No|                    0|            322.3|            113|           54.79|            222.0|             95|           18.87|              162.8|              123|              7.33|               6.7|               8|             1.81|                     0| true|\n",
            "|   NH|           155|      408|                No|             No|                    0|            216.7|             30|           36.84|            144.3|            125|           12.27|              135.3|              106|              6.09|              10.8|               1|             2.92|                     2|false|\n",
            "|   HI|           111|      408|                No|            Yes|                   13|            193.1|            104|           32.83|            111.6|             98|            9.49|              227.4|               94|             10.23|              12.1|               4|             3.27|                     1|false|\n",
            "|   AZ|            82|      415|                No|            Yes|                   33|            137.8|             95|           23.43|            235.5|            128|           20.02|              268.1|               70|             12.06|              11.0|               6|             2.97|                     2|false|\n",
            "|   NV|            64|      415|                No|             No|                    0|             97.2|             80|           16.52|            186.2|             90|           15.83|              189.0|               92|               8.5|              10.4|               6|             2.81|                     2|false|\n",
            "+-----+--------------+---------+------------------+---------------+---------------------+-----------------+---------------+----------------+-----------------+---------------+----------------+-------------------+-----------------+------------------+------------------+----------------+-----------------+----------------------+-----+\n",
            "only showing top 5 rows\n",
            "\n"
          ]
        }
      ]
    },
    {
      "cell_type": "markdown",
      "metadata": {
        "id": "1irvE27usJcs"
      },
      "source": [
        "O Spark também inseriu na versão 2 a possibilidade de converter os registros em um formato de saída similar ao do Pandas."
      ]
    },
    {
      "cell_type": "code",
      "metadata": {
        "colab": {
          "base_uri": "https://localhost:8080/",
          "height": 305
        },
        "id": "TKcdq5zxuzFy",
        "outputId": "219be5dd-dee5-4652-9a22-03e314e89c48"
      },
      "source": [
        "#visualizando estatísticas básicas do dataset\n",
        "df.describe().toPandas()"
      ],
      "execution_count": null,
      "outputs": [
        {
          "output_type": "execute_result",
          "data": {
            "text/plain": [
              "  summary State      Account length           Area code International plan  \\\n",
              "0   count   667                 667                 667                667   \n",
              "1    mean  None  102.84107946026987  436.15742128935534               None   \n",
              "2  stddev  None  40.819480173022505     41.783304688567               None   \n",
              "3     min    AK                   1                 408                 No   \n",
              "4     max    WY                 232                 510                Yes   \n",
              "\n",
              "  Voice mail plan Number vmail messages  Total day minutes  \\\n",
              "0             667                   667                667   \n",
              "1            None     8.407796101949025  180.9481259370315   \n",
              "2            None    13.994479792227358  55.50862775723812   \n",
              "3              No                     0               25.9   \n",
              "4             Yes                    51              334.3   \n",
              "\n",
              "      Total day calls   Total day charge   Total eve minutes  \\\n",
              "0                 667                667                 667   \n",
              "1  100.93703148425787  30.76176911544228  203.35532233883058   \n",
              "2    20.3967904839353  9.436463453602565   49.71926848382943   \n",
              "3                  30                4.4                48.1   \n",
              "4                 165              56.83               361.8   \n",
              "\n",
              "      Total eve calls    Total eve charge Total night minutes  \\\n",
              "0                 667                 667                 667   \n",
              "1   100.4767616191904  17.285262368815594   199.6853073463267   \n",
              "2  18.948261696761925   4.226160133395478    49.7599308151923   \n",
              "3                  37                4.09                23.2   \n",
              "4                 168               30.75               367.7   \n",
              "\n",
              "    Total night calls  Total night charge  Total intl minutes  \\\n",
              "0                 667                 667                 667   \n",
              "1  100.11394302848576   8.985907046476756  10.238380809595203   \n",
              "2  20.172504565253856  2.2394289967728183  2.8078497461774288   \n",
              "3                  42                1.04                 0.0   \n",
              "4                 175               16.55                18.3   \n",
              "\n",
              "     Total intl calls   Total intl charge Customer service calls  \n",
              "0                 667                 667                    667  \n",
              "1   4.527736131934033    2.76494752623688     1.5637181409295353  \n",
              "2  2.4824419107360813  0.7581668198172478      1.333356969954058  \n",
              "3                   0                 0.0                      0  \n",
              "4                  18                4.94                      8  "
            ],
            "text/html": [
              "\n",
              "  <div id=\"df-f96c0638-7b71-4a8a-8b97-a394ce4fa015\">\n",
              "    <div class=\"colab-df-container\">\n",
              "      <div>\n",
              "<style scoped>\n",
              "    .dataframe tbody tr th:only-of-type {\n",
              "        vertical-align: middle;\n",
              "    }\n",
              "\n",
              "    .dataframe tbody tr th {\n",
              "        vertical-align: top;\n",
              "    }\n",
              "\n",
              "    .dataframe thead th {\n",
              "        text-align: right;\n",
              "    }\n",
              "</style>\n",
              "<table border=\"1\" class=\"dataframe\">\n",
              "  <thead>\n",
              "    <tr style=\"text-align: right;\">\n",
              "      <th></th>\n",
              "      <th>summary</th>\n",
              "      <th>State</th>\n",
              "      <th>Account length</th>\n",
              "      <th>Area code</th>\n",
              "      <th>International plan</th>\n",
              "      <th>Voice mail plan</th>\n",
              "      <th>Number vmail messages</th>\n",
              "      <th>Total day minutes</th>\n",
              "      <th>Total day calls</th>\n",
              "      <th>Total day charge</th>\n",
              "      <th>Total eve minutes</th>\n",
              "      <th>Total eve calls</th>\n",
              "      <th>Total eve charge</th>\n",
              "      <th>Total night minutes</th>\n",
              "      <th>Total night calls</th>\n",
              "      <th>Total night charge</th>\n",
              "      <th>Total intl minutes</th>\n",
              "      <th>Total intl calls</th>\n",
              "      <th>Total intl charge</th>\n",
              "      <th>Customer service calls</th>\n",
              "    </tr>\n",
              "  </thead>\n",
              "  <tbody>\n",
              "    <tr>\n",
              "      <th>0</th>\n",
              "      <td>count</td>\n",
              "      <td>667</td>\n",
              "      <td>667</td>\n",
              "      <td>667</td>\n",
              "      <td>667</td>\n",
              "      <td>667</td>\n",
              "      <td>667</td>\n",
              "      <td>667</td>\n",
              "      <td>667</td>\n",
              "      <td>667</td>\n",
              "      <td>667</td>\n",
              "      <td>667</td>\n",
              "      <td>667</td>\n",
              "      <td>667</td>\n",
              "      <td>667</td>\n",
              "      <td>667</td>\n",
              "      <td>667</td>\n",
              "      <td>667</td>\n",
              "      <td>667</td>\n",
              "      <td>667</td>\n",
              "    </tr>\n",
              "    <tr>\n",
              "      <th>1</th>\n",
              "      <td>mean</td>\n",
              "      <td>None</td>\n",
              "      <td>102.84107946026987</td>\n",
              "      <td>436.15742128935534</td>\n",
              "      <td>None</td>\n",
              "      <td>None</td>\n",
              "      <td>8.407796101949025</td>\n",
              "      <td>180.9481259370315</td>\n",
              "      <td>100.93703148425787</td>\n",
              "      <td>30.76176911544228</td>\n",
              "      <td>203.35532233883058</td>\n",
              "      <td>100.4767616191904</td>\n",
              "      <td>17.285262368815594</td>\n",
              "      <td>199.6853073463267</td>\n",
              "      <td>100.11394302848576</td>\n",
              "      <td>8.985907046476756</td>\n",
              "      <td>10.238380809595203</td>\n",
              "      <td>4.527736131934033</td>\n",
              "      <td>2.76494752623688</td>\n",
              "      <td>1.5637181409295353</td>\n",
              "    </tr>\n",
              "    <tr>\n",
              "      <th>2</th>\n",
              "      <td>stddev</td>\n",
              "      <td>None</td>\n",
              "      <td>40.819480173022505</td>\n",
              "      <td>41.783304688567</td>\n",
              "      <td>None</td>\n",
              "      <td>None</td>\n",
              "      <td>13.994479792227358</td>\n",
              "      <td>55.50862775723812</td>\n",
              "      <td>20.3967904839353</td>\n",
              "      <td>9.436463453602565</td>\n",
              "      <td>49.71926848382943</td>\n",
              "      <td>18.948261696761925</td>\n",
              "      <td>4.226160133395478</td>\n",
              "      <td>49.7599308151923</td>\n",
              "      <td>20.172504565253856</td>\n",
              "      <td>2.2394289967728183</td>\n",
              "      <td>2.8078497461774288</td>\n",
              "      <td>2.4824419107360813</td>\n",
              "      <td>0.7581668198172478</td>\n",
              "      <td>1.333356969954058</td>\n",
              "    </tr>\n",
              "    <tr>\n",
              "      <th>3</th>\n",
              "      <td>min</td>\n",
              "      <td>AK</td>\n",
              "      <td>1</td>\n",
              "      <td>408</td>\n",
              "      <td>No</td>\n",
              "      <td>No</td>\n",
              "      <td>0</td>\n",
              "      <td>25.9</td>\n",
              "      <td>30</td>\n",
              "      <td>4.4</td>\n",
              "      <td>48.1</td>\n",
              "      <td>37</td>\n",
              "      <td>4.09</td>\n",
              "      <td>23.2</td>\n",
              "      <td>42</td>\n",
              "      <td>1.04</td>\n",
              "      <td>0.0</td>\n",
              "      <td>0</td>\n",
              "      <td>0.0</td>\n",
              "      <td>0</td>\n",
              "    </tr>\n",
              "    <tr>\n",
              "      <th>4</th>\n",
              "      <td>max</td>\n",
              "      <td>WY</td>\n",
              "      <td>232</td>\n",
              "      <td>510</td>\n",
              "      <td>Yes</td>\n",
              "      <td>Yes</td>\n",
              "      <td>51</td>\n",
              "      <td>334.3</td>\n",
              "      <td>165</td>\n",
              "      <td>56.83</td>\n",
              "      <td>361.8</td>\n",
              "      <td>168</td>\n",
              "      <td>30.75</td>\n",
              "      <td>367.7</td>\n",
              "      <td>175</td>\n",
              "      <td>16.55</td>\n",
              "      <td>18.3</td>\n",
              "      <td>18</td>\n",
              "      <td>4.94</td>\n",
              "      <td>8</td>\n",
              "    </tr>\n",
              "  </tbody>\n",
              "</table>\n",
              "</div>\n",
              "      <button class=\"colab-df-convert\" onclick=\"convertToInteractive('df-f96c0638-7b71-4a8a-8b97-a394ce4fa015')\"\n",
              "              title=\"Convert this dataframe to an interactive table.\"\n",
              "              style=\"display:none;\">\n",
              "        \n",
              "  <svg xmlns=\"http://www.w3.org/2000/svg\" height=\"24px\"viewBox=\"0 0 24 24\"\n",
              "       width=\"24px\">\n",
              "    <path d=\"M0 0h24v24H0V0z\" fill=\"none\"/>\n",
              "    <path d=\"M18.56 5.44l.94 2.06.94-2.06 2.06-.94-2.06-.94-.94-2.06-.94 2.06-2.06.94zm-11 1L8.5 8.5l.94-2.06 2.06-.94-2.06-.94L8.5 2.5l-.94 2.06-2.06.94zm10 10l.94 2.06.94-2.06 2.06-.94-2.06-.94-.94-2.06-.94 2.06-2.06.94z\"/><path d=\"M17.41 7.96l-1.37-1.37c-.4-.4-.92-.59-1.43-.59-.52 0-1.04.2-1.43.59L10.3 9.45l-7.72 7.72c-.78.78-.78 2.05 0 2.83L4 21.41c.39.39.9.59 1.41.59.51 0 1.02-.2 1.41-.59l7.78-7.78 2.81-2.81c.8-.78.8-2.07 0-2.86zM5.41 20L4 18.59l7.72-7.72 1.47 1.35L5.41 20z\"/>\n",
              "  </svg>\n",
              "      </button>\n",
              "      \n",
              "  <style>\n",
              "    .colab-df-container {\n",
              "      display:flex;\n",
              "      flex-wrap:wrap;\n",
              "      gap: 12px;\n",
              "    }\n",
              "\n",
              "    .colab-df-convert {\n",
              "      background-color: #E8F0FE;\n",
              "      border: none;\n",
              "      border-radius: 50%;\n",
              "      cursor: pointer;\n",
              "      display: none;\n",
              "      fill: #1967D2;\n",
              "      height: 32px;\n",
              "      padding: 0 0 0 0;\n",
              "      width: 32px;\n",
              "    }\n",
              "\n",
              "    .colab-df-convert:hover {\n",
              "      background-color: #E2EBFA;\n",
              "      box-shadow: 0px 1px 2px rgba(60, 64, 67, 0.3), 0px 1px 3px 1px rgba(60, 64, 67, 0.15);\n",
              "      fill: #174EA6;\n",
              "    }\n",
              "\n",
              "    [theme=dark] .colab-df-convert {\n",
              "      background-color: #3B4455;\n",
              "      fill: #D2E3FC;\n",
              "    }\n",
              "\n",
              "    [theme=dark] .colab-df-convert:hover {\n",
              "      background-color: #434B5C;\n",
              "      box-shadow: 0px 1px 3px 1px rgba(0, 0, 0, 0.15);\n",
              "      filter: drop-shadow(0px 1px 2px rgba(0, 0, 0, 0.3));\n",
              "      fill: #FFFFFF;\n",
              "    }\n",
              "  </style>\n",
              "\n",
              "      <script>\n",
              "        const buttonEl =\n",
              "          document.querySelector('#df-f96c0638-7b71-4a8a-8b97-a394ce4fa015 button.colab-df-convert');\n",
              "        buttonEl.style.display =\n",
              "          google.colab.kernel.accessAllowed ? 'block' : 'none';\n",
              "\n",
              "        async function convertToInteractive(key) {\n",
              "          const element = document.querySelector('#df-f96c0638-7b71-4a8a-8b97-a394ce4fa015');\n",
              "          const dataTable =\n",
              "            await google.colab.kernel.invokeFunction('convertToInteractive',\n",
              "                                                     [key], {});\n",
              "          if (!dataTable) return;\n",
              "\n",
              "          const docLinkHtml = 'Like what you see? Visit the ' +\n",
              "            '<a target=\"_blank\" href=https://colab.research.google.com/notebooks/data_table.ipynb>data table notebook</a>'\n",
              "            + ' to learn more about interactive tables.';\n",
              "          element.innerHTML = '';\n",
              "          dataTable['output_type'] = 'display_data';\n",
              "          await google.colab.output.renderOutput(dataTable, element);\n",
              "          const docLink = document.createElement('div');\n",
              "          docLink.innerHTML = docLinkHtml;\n",
              "          element.appendChild(docLink);\n",
              "        }\n",
              "      </script>\n",
              "    </div>\n",
              "  </div>\n",
              "  "
            ]
          },
          "metadata": {},
          "execution_count": 26
        }
      ]
    },
    {
      "cell_type": "markdown",
      "metadata": {
        "id": "7CuQNKME7Upp"
      },
      "source": [
        "### Consultando os dados a partir do método select"
      ]
    },
    {
      "cell_type": "markdown",
      "metadata": {
        "id": "z8mBfduVsXFD"
      },
      "source": [
        "A partir do método select(), é possível acessar somente as colunas desejadas."
      ]
    },
    {
      "cell_type": "code",
      "metadata": {
        "colab": {
          "base_uri": "https://localhost:8080/"
        },
        "id": "Wt5DgbDb6c8c",
        "outputId": "8f6c0c78-c110-4761-e885-95b6e7529180"
      },
      "source": [
        "#visualizando somente alguns atributos\n",
        "df.select(\"Area code\", \"total day minutes\").show(10)"
      ],
      "execution_count": null,
      "outputs": [
        {
          "output_type": "stream",
          "name": "stdout",
          "text": [
            "+---------+-----------------+\n",
            "|Area code|total day minutes|\n",
            "+---------+-----------------+\n",
            "|      408|            322.3|\n",
            "|      408|            216.7|\n",
            "|      408|            193.1|\n",
            "|      415|            137.8|\n",
            "|      415|             97.2|\n",
            "|      510|             87.2|\n",
            "|      415|            125.9|\n",
            "|      408|            157.8|\n",
            "|      408|            156.7|\n",
            "|      415|            135.2|\n",
            "+---------+-----------------+\n",
            "only showing top 10 rows\n",
            "\n"
          ]
        }
      ]
    },
    {
      "cell_type": "markdown",
      "metadata": {
        "id": "6I4z-J_OssMi"
      },
      "source": [
        "O Spark também permite renomear as colunas, caso seja necessário."
      ]
    },
    {
      "cell_type": "code",
      "metadata": {
        "colab": {
          "base_uri": "https://localhost:8080/"
        },
        "id": "IOFXWIi6svtB",
        "outputId": "8af0554b-d4b5-4627-bc8f-3877496873b3"
      },
      "source": [
        "#renomeando a coluna \"Account length\" para \"Account\"\n",
        "df = df.withColumnRenamed('Account length', 'Account')\n",
        "df.show()"
      ],
      "execution_count": null,
      "outputs": [
        {
          "output_type": "stream",
          "name": "stdout",
          "text": [
            "+-----+-------+---------+------------------+---------------+---------------------+-----------------+---------------+----------------+-----------------+---------------+----------------+-------------------+-----------------+------------------+------------------+----------------+-----------------+----------------------+-----+\n",
            "|State|Account|Area code|International plan|Voice mail plan|Number vmail messages|Total day minutes|Total day calls|Total day charge|Total eve minutes|Total eve calls|Total eve charge|Total night minutes|Total night calls|Total night charge|Total intl minutes|Total intl calls|Total intl charge|Customer service calls|Churn|\n",
            "+-----+-------+---------+------------------+---------------+---------------------+-----------------+---------------+----------------+-----------------+---------------+----------------+-------------------+-----------------+------------------+------------------+----------------+-----------------+----------------------+-----+\n",
            "|   ME|     80|      408|                No|             No|                    0|            322.3|            113|           54.79|            222.0|             95|           18.87|              162.8|              123|              7.33|               6.7|               8|             1.81|                     0| true|\n",
            "|   NH|    155|      408|                No|             No|                    0|            216.7|             30|           36.84|            144.3|            125|           12.27|              135.3|              106|              6.09|              10.8|               1|             2.92|                     2|false|\n",
            "|   HI|    111|      408|                No|            Yes|                   13|            193.1|            104|           32.83|            111.6|             98|            9.49|              227.4|               94|             10.23|              12.1|               4|             3.27|                     1|false|\n",
            "|   AZ|     82|      415|                No|            Yes|                   33|            137.8|             95|           23.43|            235.5|            128|           20.02|              268.1|               70|             12.06|              11.0|               6|             2.97|                     2|false|\n",
            "|   NV|     64|      415|                No|             No|                    0|             97.2|             80|           16.52|            186.2|             90|           15.83|              189.0|               92|               8.5|              10.4|               6|             2.81|                     2|false|\n",
            "|   UT|    103|      510|                No|            Yes|                   36|             87.2|             92|           14.82|            169.3|            110|           14.39|              166.7|               80|               7.5|              10.9|               5|             2.94|                     6| true|\n",
            "|   ND|     70|      415|                No|            Yes|                   31|            125.9|            101|            21.4|            196.4|            102|           16.69|              252.7|               75|             11.37|              10.3|               4|             2.78|                     1|false|\n",
            "|   KY|    113|      408|                No|            Yes|                   20|            157.8|             83|           26.83|            161.5|             56|           13.73|              271.5|              100|             12.22|               8.7|               2|             2.35|                     5| true|\n",
            "|   TX|     90|      408|                No|            Yes|                   27|            156.7|             51|           26.64|            236.5|            118|            20.1|              123.2|              111|              5.54|              12.6|               6|              3.4|                     2|false|\n",
            "|   OH|    162|      415|                No|             No|                    0|            135.2|             98|           22.98|            242.0|            107|           20.57|              246.9|               96|             11.11|              10.2|               2|             2.75|                     2|false|\n",
            "|   NE|     95|      510|                No|             No|                    0|             58.2|             96|            9.89|            202.1|            126|           17.18|              210.5|               97|              9.47|              10.4|               5|             2.81|                     0|false|\n",
            "|   WV|     87|      415|                No|             No|                    0|             58.0|            125|            9.86|             67.5|            116|            5.74|              185.9|              136|              8.37|              11.5|               3|             3.11|                     0|false|\n",
            "|   AR|    153|      408|                No|             No|                    0|            154.6|             56|           26.28|            263.0|             84|           22.36|              367.7|               89|             16.55|              15.5|               2|             4.19|                     1|false|\n",
            "|   NJ|     35|      408|                No|             No|                    0|            158.6|             67|           26.96|            130.4|             96|           11.08|              229.8|               80|             10.34|               6.9|               5|             1.86|                     2|false|\n",
            "|   VA|    158|      415|                No|             No|                    0|            222.8|            101|           37.88|            203.0|            128|           17.26|              210.6|              106|              9.48|               6.9|               2|             1.86|                     2|false|\n",
            "|   MT|    106|      510|                No|             No|                    0|            169.4|            107|            28.8|            197.2|             71|           16.76|              202.2|               79|               9.1|              10.7|               4|             2.89|                     1|false|\n",
            "|   FL|    144|      415|                No|            Yes|                   51|            283.9|             98|           48.26|            192.0|            109|           16.32|              196.3|               85|              8.83|              10.0|               4|              2.7|                     1|false|\n",
            "|   AR|     63|      510|                No|            Yes|                   49|            214.9|             86|           36.53|            198.2|             89|           16.85|              170.8|              139|              7.69|               8.2|               5|             2.21|                     0|false|\n",
            "|   ND|    118|      415|                No|            Yes|                   39|             91.5|            125|           15.56|            219.9|            113|           18.69|              229.0|               99|             10.31|              12.7|               8|             3.43|                     2|false|\n",
            "|   MA|    142|      408|                No|             No|                    0|            216.8|            134|           36.86|            187.8|            106|           15.96|              138.1|              108|              6.21|               8.3|               2|             2.24|                     0|false|\n",
            "+-----+-------+---------+------------------+---------------+---------------------+-----------------+---------------+----------------+-----------------+---------------+----------------+-------------------+-----------------+------------------+------------------+----------------+-----------------+----------------------+-----+\n",
            "only showing top 20 rows\n",
            "\n"
          ]
        }
      ]
    },
    {
      "cell_type": "markdown",
      "metadata": {
        "id": "Evk7P6KutPxl"
      },
      "source": [
        "O Spark também permite realizar o agrupamento dos dados, por meio do método groupBy()"
      ]
    },
    {
      "cell_type": "code",
      "metadata": {
        "colab": {
          "base_uri": "https://localhost:8080/"
        },
        "id": "kSgiaV-g8M4p",
        "outputId": "3d07b184-815a-4614-f921-30e07012d91f"
      },
      "source": [
        "#agrupando os dados pela coluna State\n",
        "df.groupBy(\"State\").count().show(10)"
      ],
      "execution_count": null,
      "outputs": [
        {
          "output_type": "stream",
          "name": "stdout",
          "text": [
            "+-----+-----+\n",
            "|State|count|\n",
            "+-----+-----+\n",
            "|   AZ|   19|\n",
            "|   SC|   11|\n",
            "|   LA|   16|\n",
            "|   MN|   14|\n",
            "|   NJ|   18|\n",
            "|   DC|    9|\n",
            "|   OR|   16|\n",
            "|   VA|   10|\n",
            "|   RI|   17|\n",
            "|   KY|   16|\n",
            "+-----+-----+\n",
            "only showing top 10 rows\n",
            "\n"
          ]
        }
      ]
    },
    {
      "cell_type": "markdown",
      "metadata": {
        "id": "pDrWFct4BbKA"
      },
      "source": [
        "Além do count, as seguintes funções também podem ser realizadas no agrupamento:\n",
        "\n",
        "* mean () - Retorna a média dos valores de cada grupo.\n",
        "* max () - Retorna o valor máximo para cada grupo.\n",
        "* min () - Retorna o valor mínimo para cada grupo.\n",
        "* sum () - Retorna a soma de valores para cada grupo.\n",
        "* avg () - Retorna a média dos valores de cada grupo.\n",
        "* agg () - Calcula mais de um agregado por vez."
      ]
    },
    {
      "cell_type": "code",
      "metadata": {
        "colab": {
          "base_uri": "https://localhost:8080/"
        },
        "id": "QoHKI_hr-Lzn",
        "outputId": "5d6f213c-2f8a-4868-eaf3-64378ca88841"
      },
      "source": [
        "#agrupando e visualizando estatísticas do grupo\n",
        "df.groupby('State').agg({'Total day calls': 'mean'}).show()"
      ],
      "execution_count": null,
      "outputs": [
        {
          "output_type": "stream",
          "name": "stdout",
          "text": [
            "+-----+--------------------+\n",
            "|State|avg(Total day calls)|\n",
            "+-----+--------------------+\n",
            "|   AZ|   96.94736842105263|\n",
            "|   SC|  106.45454545454545|\n",
            "|   LA|            104.6875|\n",
            "|   MN|  100.21428571428571|\n",
            "|   NJ|  102.16666666666667|\n",
            "|   DC|  111.33333333333333|\n",
            "|   OR|              100.25|\n",
            "|   VA|               101.7|\n",
            "|   RI|   99.17647058823529|\n",
            "|   KY|            103.6875|\n",
            "|   WY|  107.54545454545455|\n",
            "|   NH|   91.92307692307692|\n",
            "|   MI|               109.4|\n",
            "|   NV|                90.6|\n",
            "|   WI|   95.52941176470588|\n",
            "|   ID|  100.29411764705883|\n",
            "|   CA|               113.7|\n",
            "|   NE|            105.0625|\n",
            "|   CT|   97.73333333333333|\n",
            "|   MT|   94.93333333333334|\n",
            "+-----+--------------------+\n",
            "only showing top 20 rows\n",
            "\n"
          ]
        }
      ]
    },
    {
      "cell_type": "markdown",
      "metadata": {
        "id": "59jmTfS6tnrz"
      },
      "source": [
        "O Spark também permite remover colunas do data frame."
      ]
    },
    {
      "cell_type": "code",
      "metadata": {
        "colab": {
          "base_uri": "https://localhost:8080/"
        },
        "id": "krWCU-87ttel",
        "outputId": "e970ce6f-2939-4691-f859-54f3ff392a39"
      },
      "source": [
        "#removendo a coluna \"Number vmail messages\"\n",
        "df = df.drop('Number vmail messages')\n",
        "df.show(5)"
      ],
      "execution_count": null,
      "outputs": [
        {
          "output_type": "stream",
          "name": "stdout",
          "text": [
            "+-----+-------+---------+------------------+---------------+-----------------+---------------+----------------+-----------------+---------------+----------------+-------------------+-----------------+------------------+------------------+----------------+-----------------+----------------------+-----+\n",
            "|State|Account|Area code|International plan|Voice mail plan|Total day minutes|Total day calls|Total day charge|Total eve minutes|Total eve calls|Total eve charge|Total night minutes|Total night calls|Total night charge|Total intl minutes|Total intl calls|Total intl charge|Customer service calls|Churn|\n",
            "+-----+-------+---------+------------------+---------------+-----------------+---------------+----------------+-----------------+---------------+----------------+-------------------+-----------------+------------------+------------------+----------------+-----------------+----------------------+-----+\n",
            "|   ME|     80|      408|                No|             No|            322.3|            113|           54.79|            222.0|             95|           18.87|              162.8|              123|              7.33|               6.7|               8|             1.81|                     0| true|\n",
            "|   NH|    155|      408|                No|             No|            216.7|             30|           36.84|            144.3|            125|           12.27|              135.3|              106|              6.09|              10.8|               1|             2.92|                     2|false|\n",
            "|   HI|    111|      408|                No|            Yes|            193.1|            104|           32.83|            111.6|             98|            9.49|              227.4|               94|             10.23|              12.1|               4|             3.27|                     1|false|\n",
            "|   AZ|     82|      415|                No|            Yes|            137.8|             95|           23.43|            235.5|            128|           20.02|              268.1|               70|             12.06|              11.0|               6|             2.97|                     2|false|\n",
            "|   NV|     64|      415|                No|             No|             97.2|             80|           16.52|            186.2|             90|           15.83|              189.0|               92|               8.5|              10.4|               6|             2.81|                     2|false|\n",
            "+-----+-------+---------+------------------+---------------+-----------------+---------------+----------------+-----------------+---------------+----------------+-------------------+-----------------+------------------+------------------+----------------+-----------------+----------------------+-----+\n",
            "only showing top 5 rows\n",
            "\n"
          ]
        }
      ]
    },
    {
      "cell_type": "markdown",
      "metadata": {
        "id": "-bmxpa7zuG8J"
      },
      "source": [
        "Caso a sua consulta tenha como objetivo filtrar linhas, e não colunas, é possível utilizar o método filter()"
      ]
    },
    {
      "cell_type": "code",
      "metadata": {
        "colab": {
          "base_uri": "https://localhost:8080/"
        },
        "id": "0cBUO1V7E6F6",
        "outputId": "a9315e9f-0428-4297-81e1-f3c675849c21"
      },
      "source": [
        "#realizando uma consulta a partir de um filtro\n",
        "df.filter(df[\"total day minutes\"] > 200).show()"
      ],
      "execution_count": null,
      "outputs": [
        {
          "output_type": "stream",
          "name": "stdout",
          "text": [
            "+-----+-------+---------+------------------+---------------+-----------------+---------------+----------------+-----------------+---------------+----------------+-------------------+-----------------+------------------+------------------+----------------+-----------------+----------------------+-----+\n",
            "|State|Account|Area code|International plan|Voice mail plan|Total day minutes|Total day calls|Total day charge|Total eve minutes|Total eve calls|Total eve charge|Total night minutes|Total night calls|Total night charge|Total intl minutes|Total intl calls|Total intl charge|Customer service calls|Churn|\n",
            "+-----+-------+---------+------------------+---------------+-----------------+---------------+----------------+-----------------+---------------+----------------+-------------------+-----------------+------------------+------------------+----------------+-----------------+----------------------+-----+\n",
            "|   ME|     80|      408|                No|             No|            322.3|            113|           54.79|            222.0|             95|           18.87|              162.8|              123|              7.33|               6.7|               8|             1.81|                     0| true|\n",
            "|   NH|    155|      408|                No|             No|            216.7|             30|           36.84|            144.3|            125|           12.27|              135.3|              106|              6.09|              10.8|               1|             2.92|                     2|false|\n",
            "|   VA|    158|      415|                No|             No|            222.8|            101|           37.88|            203.0|            128|           17.26|              210.6|              106|              9.48|               6.9|               2|             1.86|                     2|false|\n",
            "|   FL|    144|      415|                No|            Yes|            283.9|             98|           48.26|            192.0|            109|           16.32|              196.3|               85|              8.83|              10.0|               4|              2.7|                     1|false|\n",
            "|   AR|     63|      510|                No|            Yes|            214.9|             86|           36.53|            198.2|             89|           16.85|              170.8|              139|              7.69|               8.2|               5|             2.21|                     0|false|\n",
            "|   MA|    142|      408|                No|             No|            216.8|            134|           36.86|            187.8|            106|           15.96|              138.1|              108|              6.21|               8.3|               2|             2.24|                     0|false|\n",
            "|   IN|    100|      510|                No|             No|            216.2|            107|           36.75|            215.6|             84|           18.33|              138.4|              127|              6.23|              10.2|               3|             2.75|                     0|false|\n",
            "|   MT|    102|      408|                No|             No|            273.2|             85|           46.44|            211.1|             82|           17.94|              203.7|              129|              9.17|              13.1|               7|             3.54|                     2| true|\n",
            "|   OR|     81|      415|                No|             No|            324.7|             48|            55.2|            236.4|             82|           20.09|              187.6|               78|              8.44|              13.1|               5|             3.54|                     0| true|\n",
            "|   IL|     87|      510|                No|             No|            231.3|            105|           39.32|            171.7|            108|           14.59|               67.7|              136|              3.05|              13.0|               6|             3.51|                     1|false|\n",
            "|   MI|     61|      415|                No|            Yes|            270.7|             53|           46.02|            200.7|            116|           17.06|              201.7|              102|              9.08|              10.9|               3|             2.94|                     3|false|\n",
            "|   WA|     82|      510|                No|             No|            265.2|            122|           45.08|            178.7|            102|           15.19|              174.7|               90|              7.86|              10.7|               9|             2.89|                     2|false|\n",
            "|   CO|    130|      408|                No|             No|            271.8|            129|           46.21|            237.2|            128|           20.16|              210.1|               91|              9.45|               8.7|               2|             2.35|                     4| true|\n",
            "|   OR|    165|      415|                No|             No|            216.6|            126|           36.82|            190.8|            104|           16.22|              224.7|              123|             10.11|              12.4|               8|             3.35|                     0|false|\n",
            "|   NJ|    107|      415|                No|             No|            212.1|             95|           36.06|            150.1|             88|           12.76|              219.8|              111|              9.89|               7.7|               2|             2.08|                     3|false|\n",
            "|   AZ|     92|      415|               Yes|            Yes|            281.1|             88|           47.79|            198.0|            103|           16.83|               94.3|               76|              4.24|               7.5|               3|             2.03|                     0|false|\n",
            "|   PA|    134|      408|                No|             No|            205.3|            122|            34.9|            240.5|            155|           20.44|              179.1|              107|              8.06|               5.0|               9|             1.35|                     1|false|\n",
            "|   NE|    139|      415|                No|             No|            211.1|            103|           35.89|            206.9|            108|           17.59|              193.9|               70|              8.73|               5.6|               4|             1.51|                     0|false|\n",
            "|   LA|    155|      415|                No|             No|            203.4|            100|           34.58|            190.9|            104|           16.23|              196.0|              119|              8.82|               8.9|               4|              2.4|                     0| true|\n",
            "|   NH|    139|      510|                No|             No|            221.3|            140|           37.62|            157.8|             89|           13.41|              192.5|               89|              8.66|              11.3|               6|             3.05|                     1|false|\n",
            "+-----+-------+---------+------------------+---------------+-----------------+---------------+----------------+-----------------+---------------+----------------+-------------------+-----------------+------------------+------------------+----------------+-----------------+----------------------+-----+\n",
            "only showing top 20 rows\n",
            "\n"
          ]
        }
      ]
    },
    {
      "cell_type": "code",
      "metadata": {
        "colab": {
          "base_uri": "https://localhost:8080/"
        },
        "id": "MgehhIqs3ydT",
        "outputId": "7a02f9eb-ecdb-40ad-c855-678645fa99c9"
      },
      "source": [
        "#realizando um filtro a partir do operador between\n",
        "df.filter(df[\"total day minutes\"].between(\"200\", \"210\")).show()"
      ],
      "execution_count": null,
      "outputs": [
        {
          "output_type": "stream",
          "name": "stdout",
          "text": [
            "+-----+-------+---------+------------------+---------------+-----------------+---------------+----------------+-----------------+---------------+----------------+-------------------+-----------------+------------------+------------------+----------------+-----------------+----------------------+-----+\n",
            "|State|Account|Area code|International plan|Voice mail plan|Total day minutes|Total day calls|Total day charge|Total eve minutes|Total eve calls|Total eve charge|Total night minutes|Total night calls|Total night charge|Total intl minutes|Total intl calls|Total intl charge|Customer service calls|Churn|\n",
            "+-----+-------+---------+------------------+---------------+-----------------+---------------+----------------+-----------------+---------------+----------------+-------------------+-----------------+------------------+------------------+----------------+-----------------+----------------------+-----+\n",
            "|   PA|    134|      408|                No|             No|            205.3|            122|            34.9|            240.5|            155|           20.44|              179.1|              107|              8.06|               5.0|               9|             1.35|                     1|false|\n",
            "|   LA|    155|      415|                No|             No|            203.4|            100|           34.58|            190.9|            104|           16.23|              196.0|              119|              8.82|               8.9|               4|              2.4|                     0| true|\n",
            "|   MI|    127|      415|                No|             No|            202.1|            103|           34.36|            229.4|             86|            19.5|              195.2|              113|              8.78|              11.5|               3|             3.11|                     2|false|\n",
            "|   KS|     65|      415|                No|            Yes|            208.8|            119|            35.5|            142.1|            106|           12.08|              214.6|               87|              9.66|              12.5|               4|             3.38|                     4|false|\n",
            "|   IN|    101|      415|                No|            Yes|            209.2|             82|           35.56|            159.7|             74|           13.57|              181.6|              100|              8.17|               9.5|               3|             2.57|                     0|false|\n",
            "|   UT|    148|      510|                No|             No|            203.0|             92|           34.51|            150.9|            125|           12.83|              245.5|              131|             11.05|              14.6|               9|             3.94|                     1|false|\n",
            "|   IN|    114|      408|                No|             No|            203.8|             85|           34.65|             87.8|            110|            7.46|              166.2|              122|              7.48|              11.7|               4|             3.16|                     1|false|\n",
            "|   MS|    130|      510|                No|             No|            203.9|             63|           34.66|            191.8|             93|            16.3|              132.5|              125|              5.96|              12.1|               4|             3.27|                     3|false|\n",
            "|   TN|    115|      415|                No|             No|            206.2|            113|           35.05|            176.4|            102|           14.99|              297.1|              119|             13.37|              11.0|               7|             2.97|                     1|false|\n",
            "|   KS|     67|      408|                No|             No|            201.4|            101|           34.24|             97.6|            122|             8.3|              202.5|              119|              9.11|               7.0|               3|             1.89|                     0|false|\n",
            "|   OK|     84|      510|                No|             No|            203.4|            125|           34.58|            182.9|             88|           15.55|              213.7|              121|              9.62|              13.8|               2|             3.73|                     1|false|\n",
            "|   UT|     44|      415|                No|             No|            202.6|             89|           34.44|            163.0|             96|           13.86|              268.1|              151|             12.06|               8.3|               3|             2.24|                     0|false|\n",
            "|   VA|     89|      415|                No|            Yes|            209.9|            113|           35.68|            249.8|            104|           21.23|              224.2|               92|             10.09|               8.7|               7|             2.35|                     1|false|\n",
            "|   AR|     54|      415|                No|            Yes|            206.9|            143|           35.17|            127.8|             72|           10.86|              199.2|              120|              8.96|               9.2|               1|             2.48|                     3|false|\n",
            "|   WI|     90|      415|                No|             No|            200.9|             92|           34.15|            164.3|             91|           13.97|              249.0|               98|             11.21|               8.9|               7|              2.4|                     1|false|\n",
            "|   MD|    204|      510|                No|             No|            205.2|            145|           34.88|            154.8|             95|           13.16|              191.4|               77|              8.61|              14.1|               5|             3.81|                     3|false|\n",
            "|   TX|    120|      415|                No|             No|            203.3|            108|           34.56|            259.9|             66|           22.09|              115.9|              103|              5.22|               7.8|               2|             2.11|                     3|false|\n",
            "|   UT|    138|      510|                No|             No|            205.9|             96|            35.0|            257.1|             94|           21.85|              209.0|               63|               9.4|              12.1|               8|             3.27|                     0|false|\n",
            "|   OH|    165|      510|                No|             No|            209.4|             67|            35.6|            273.8|             89|           23.27|              150.2|               88|              6.76|              12.8|               1|             3.46|                     0|false|\n",
            "|   MN|    116|      510|                No|             No|            201.8|             82|           34.31|            231.5|             95|           19.68|              226.1|              130|             10.17|              16.5|               5|             4.46|                     0|false|\n",
            "+-----+-------+---------+------------------+---------------+-----------------+---------------+----------------+-----------------+---------------+----------------+-------------------+-----------------+------------------+------------------+----------------+-----------------+----------------------+-----+\n",
            "only showing top 20 rows\n",
            "\n"
          ]
        }
      ]
    },
    {
      "cell_type": "code",
      "metadata": {
        "colab": {
          "base_uri": "https://localhost:8080/"
        },
        "id": "4w21zyZh4kHI",
        "outputId": "77b23072-c158-4037-8393-4a7ab7ca5ffc"
      },
      "source": [
        "#utilizando um filtro a partir do operador like\n",
        "df.filter(df[\"State\"].like('U%')).show()"
      ],
      "execution_count": null,
      "outputs": [
        {
          "output_type": "stream",
          "name": "stdout",
          "text": [
            "+-----+-------+---------+------------------+---------------+-----------------+---------------+----------------+-----------------+---------------+----------------+-------------------+-----------------+------------------+------------------+----------------+-----------------+----------------------+-----+\n",
            "|State|Account|Area code|International plan|Voice mail plan|Total day minutes|Total day calls|Total day charge|Total eve minutes|Total eve calls|Total eve charge|Total night minutes|Total night calls|Total night charge|Total intl minutes|Total intl calls|Total intl charge|Customer service calls|Churn|\n",
            "+-----+-------+---------+------------------+---------------+-----------------+---------------+----------------+-----------------+---------------+----------------+-------------------+-----------------+------------------+------------------+----------------+-----------------+----------------------+-----+\n",
            "|   UT|    103|      510|                No|            Yes|             87.2|             92|           14.82|            169.3|            110|           14.39|              166.7|               80|               7.5|              10.9|               5|             2.94|                     6| true|\n",
            "|   UT|    148|      510|                No|             No|            203.0|             92|           34.51|            150.9|            125|           12.83|              245.5|              131|             11.05|              14.6|               9|             3.94|                     1|false|\n",
            "|   UT|     44|      415|                No|             No|            202.6|             89|           34.44|            163.0|             96|           13.86|              268.1|              151|             12.06|               8.3|               3|             2.24|                     0|false|\n",
            "|   UT|     73|      415|                No|             No|            182.3|            115|           30.99|            199.2|             97|           16.93|              120.2|              113|              5.41|              18.0|               5|             4.86|                     1|false|\n",
            "|   UT|    164|      510|                No|             No|            192.1|             95|           32.66|            249.8|             94|           21.23|              132.6|              100|              5.97|               7.3|               3|             1.97|                     3|false|\n",
            "|   UT|    201|      510|                No|             No|            212.7|             72|           36.16|            225.2|             90|           19.14|              195.1|               99|              8.78|               7.0|               6|             1.89|                     1|false|\n",
            "|   UT|    103|      415|                No|             No|            189.8|            110|           32.27|            115.5|             83|            9.82|              191.3|              103|              8.61|              12.2|               4|             3.29|                     0|false|\n",
            "|   UT|     74|      415|                No|             No|            106.4|             84|           18.09|            140.2|            104|           11.92|               90.9|               81|              4.09|              11.4|               3|             3.08|                     1|false|\n",
            "|   UT|    138|      510|                No|             No|            205.9|             96|            35.0|            257.1|             94|           21.85|              209.0|               63|               9.4|              12.1|               8|             3.27|                     0|false|\n",
            "|   UT|     49|      415|                No|             No|            266.3|             90|           45.27|            207.8|            117|           17.66|              205.0|               98|              9.23|              14.0|               2|             3.78|                     2| true|\n",
            "|   UT|     96|      408|                No|            Yes|            145.8|            108|           24.79|            192.2|             89|           16.34|              165.1|               96|              7.43|               9.9|               2|             2.67|                     1|false|\n",
            "|   UT|     82|      510|               Yes|             No|            208.8|            101|            35.5|            213.7|             87|           18.16|              175.1|               86|              7.88|              12.4|               6|             3.35|                     3|false|\n",
            "+-----+-------+---------+------------------+---------------+-----------------+---------------+----------------+-----------------+---------------+----------------+-------------------+-----------------+------------------+------------------+----------------+-----------------+----------------------+-----+\n",
            "\n"
          ]
        }
      ]
    },
    {
      "cell_type": "markdown",
      "metadata": {
        "id": "Xv8DTd83vJ85"
      },
      "source": [
        "Além do filtro, também é possível realizar a ordenação dos dados no Spark."
      ]
    },
    {
      "cell_type": "code",
      "metadata": {
        "colab": {
          "base_uri": "https://localhost:8080/"
        },
        "id": "PMNK_08wu1li",
        "outputId": "96edb11b-d6ae-4365-edc1-5f84e4409c58"
      },
      "source": [
        "#ordenando os registros no Spark\n",
        "df.orderBy('Total day calls', ascending=False).show() "
      ],
      "execution_count": null,
      "outputs": [
        {
          "output_type": "stream",
          "name": "stdout",
          "text": [
            "+-----+-------+---------+------------------+---------------+-----------------+---------------+----------------+-----------------+---------------+----------------+-------------------+-----------------+------------------+------------------+----------------+-----------------+----------------------+-----+\n",
            "|State|Account|Area code|International plan|Voice mail plan|Total day minutes|Total day calls|Total day charge|Total eve minutes|Total eve calls|Total eve charge|Total night minutes|Total night calls|Total night charge|Total intl minutes|Total intl calls|Total intl charge|Customer service calls|Churn|\n",
            "+-----+-------+---------+------------------+---------------+-----------------+---------------+----------------+-----------------+---------------+----------------+-------------------+-----------------+------------------+------------------+----------------+-----------------+----------------------+-----+\n",
            "|   MI|     91|      415|                No|             No|            154.4|            165|           26.25|            168.3|            121|           14.31|              239.9|               81|              10.8|              11.7|               4|             3.16|                     5| true|\n",
            "|   AZ|     86|      415|                No|            Yes|             70.9|            163|           12.05|            166.7|            121|           14.17|              244.9|              105|             11.02|              11.1|               5|              3.0|                     3|false|\n",
            "|   WY|    215|      510|                No|             No|             83.6|            148|           14.21|            120.9|             91|           10.28|              226.6|              110|              10.2|              10.7|               9|             2.89|                     0|false|\n",
            "|   NM|     55|      510|                No|             No|            119.7|            148|           20.35|            231.8|             96|            19.7|              222.3|              113|              10.0|               4.6|               2|             1.24|                     2|false|\n",
            "|   MN|     55|      415|                No|             No|            175.6|            147|           29.85|            161.8|            118|           13.75|              289.5|               55|             13.03|               9.3|               4|             2.51|                     0|false|\n",
            "|   MN|    155|      408|               Yes|             No|            250.8|            146|           42.64|            152.5|            105|           12.96|              148.1|              104|              6.66|              10.0|               5|              2.7|                     2|false|\n",
            "|   TN|    114|      510|                No|             No|            172.0|            145|           29.24|            276.4|            101|           23.49|              193.7|              100|              8.72|              10.1|               9|             2.73|                     1|false|\n",
            "|   MD|    204|      510|                No|             No|            205.2|            145|           34.88|            154.8|             95|           13.16|              191.4|               77|              8.61|              14.1|               5|             3.81|                     3|false|\n",
            "|   TN|    129|      408|                No|             No|            101.4|            145|           17.24|            249.1|            116|           21.17|              157.6|              107|              7.09|               7.1|               6|             1.92|                     1|false|\n",
            "|   NC|    110|      408|                No|             No|            159.5|            145|           27.12|            202.3|            101|            17.2|              256.0|               96|             11.52|              16.7|               2|             4.51|                     2|false|\n",
            "|   DC|     70|      415|                No|             No|            152.8|            145|           25.98|            183.6|            102|           15.61|              151.8|               75|              6.83|              10.5|               2|             2.84|                     1|false|\n",
            "|   NC|    162|      408|                No|            Yes|            179.7|            144|           30.55|            218.1|            129|           18.54|              212.3|              105|              9.55|               9.3|               8|             2.51|                     1| true|\n",
            "|   NM|     30|      415|                No|             No|            169.9|            144|           28.88|            225.2|            118|           19.14|              169.7|               93|              7.64|              11.4|               7|             3.08|                     1|false|\n",
            "|   FL|    106|      408|                No|             No|            178.4|            143|           30.33|            247.0|            123|            21.0|              259.9|              105|              11.7|               9.6|               2|             2.59|                     0|false|\n",
            "|   AR|     54|      415|                No|            Yes|            206.9|            143|           35.17|            127.8|             72|           10.86|              199.2|              120|              8.96|               9.2|               1|             2.48|                     3|false|\n",
            "|   TX|    126|      415|                No|             No|            190.9|            143|           32.45|            149.7|             72|           12.72|              191.4|               87|              8.61|              13.0|               3|             3.51|                     1|false|\n",
            "|   OR|    113|      415|                No|             No|            159.8|            143|           27.17|            210.1|             93|           17.86|              175.1|               86|              7.88|              13.1|               7|             3.54|                     2|false|\n",
            "|   TN|    148|      415|                No|            Yes|             77.6|            141|           13.19|            207.0|             60|            17.6|              255.7|              115|             11.51|              10.9|               2|             2.94|                     1|false|\n",
            "|   MD|    133|      510|                No|             No|            295.0|            141|           50.15|            223.6|            101|           19.01|              229.4|              109|             10.32|              12.9|               4|             3.48|                     2| true|\n",
            "|   ND|    122|      408|                No|             No|            231.2|            141|            39.3|            267.8|            136|           22.76|              240.3|              100|             10.81|               8.8|               5|             2.38|                     1| true|\n",
            "+-----+-------+---------+------------------+---------------+-----------------+---------------+----------------+-----------------+---------------+----------------+-------------------+-----------------+------------------+------------------+----------------+-----------------+----------------------+-----+\n",
            "only showing top 20 rows\n",
            "\n"
          ]
        }
      ]
    },
    {
      "cell_type": "code",
      "metadata": {
        "colab": {
          "base_uri": "https://localhost:8080/"
        },
        "id": "yYbEiHnnuWsx",
        "outputId": "1bc8ebe5-9b6f-4968-d690-6142e4aad601"
      },
      "source": [
        "#visualizando os dados distintos\n",
        "df.select('State').distinct().show()"
      ],
      "execution_count": null,
      "outputs": [
        {
          "output_type": "stream",
          "name": "stdout",
          "text": [
            "+-----+\n",
            "|State|\n",
            "+-----+\n",
            "|   AZ|\n",
            "|   SC|\n",
            "|   LA|\n",
            "|   MN|\n",
            "|   NJ|\n",
            "|   DC|\n",
            "|   OR|\n",
            "|   VA|\n",
            "|   RI|\n",
            "|   KY|\n",
            "|   WY|\n",
            "|   NH|\n",
            "|   MI|\n",
            "|   NV|\n",
            "|   WI|\n",
            "|   ID|\n",
            "|   CA|\n",
            "|   NE|\n",
            "|   CT|\n",
            "|   MT|\n",
            "+-----+\n",
            "only showing top 20 rows\n",
            "\n"
          ]
        }
      ]
    },
    {
      "cell_type": "markdown",
      "metadata": {
        "id": "IAvIbi2SCwnz"
      },
      "source": [
        "### Consultando os dados a partir do método sql"
      ]
    },
    {
      "cell_type": "markdown",
      "metadata": {
        "id": "4AcUBq2twAWm"
      },
      "source": [
        "### Visualizando as funções existentes"
      ]
    },
    {
      "cell_type": "code",
      "metadata": {
        "id": "AEk-sYD2v6mJ",
        "colab": {
          "base_uri": "https://localhost:8080/"
        },
        "outputId": "ceeee250-1e5d-4246-9b17-f44fcf903c79"
      },
      "source": [
        "from pyspark.sql import functions\n",
        "print(dir(functions))"
      ],
      "execution_count": null,
      "outputs": [
        {
          "output_type": "stream",
          "name": "stdout",
          "text": [
            "['Column', 'DataFrame', 'DataType', 'PandasUDFType', 'PythonEvalType', 'SparkContext', 'StringType', 'UserDefinedFunction', '__all__', '__builtins__', '__cached__', '__doc__', '__file__', '__loader__', '__name__', '__package__', '__spec__', '_binary_mathfunctions', '_collect_list_doc', '_collect_set_doc', '_create_binary_mathfunction', '_create_column_from_literal', '_create_function', '_create_udf', '_create_window_function', '_functions', '_functions_1_4', '_functions_1_6', '_functions_2_1', '_functions_2_4', '_functions_deprecated', '_lit_doc', '_message', '_string_functions', '_test', '_to_java_column', '_to_seq', '_window_functions', '_wrap_deprecated_function', 'abs', 'acos', 'add_months', 'approxCountDistinct', 'approx_count_distinct', 'array', 'array_contains', 'array_distinct', 'array_except', 'array_intersect', 'array_join', 'array_max', 'array_min', 'array_position', 'array_remove', 'array_repeat', 'array_sort', 'array_union', 'arrays_overlap', 'arrays_zip', 'asc', 'asc_nulls_first', 'asc_nulls_last', 'ascii', 'asin', 'atan', 'atan2', 'avg', 'base64', 'basestring', 'bin', 'bitwiseNOT', 'blacklist', 'broadcast', 'bround', 'cbrt', 'ceil', 'coalesce', 'col', 'collect_list', 'collect_set', 'column', 'concat', 'concat_ws', 'conv', 'corr', 'cos', 'cosh', 'count', 'countDistinct', 'covar_pop', 'covar_samp', 'crc32', 'create_map', 'cume_dist', 'current_date', 'current_timestamp', 'date_add', 'date_format', 'date_sub', 'date_trunc', 'datediff', 'dayofmonth', 'dayofweek', 'dayofyear', 'decode', 'degrees', 'dense_rank', 'desc', 'desc_nulls_first', 'desc_nulls_last', 'element_at', 'encode', 'exp', 'explode', 'explode_outer', 'expm1', 'expr', 'factorial', 'first', 'flatten', 'floor', 'format_number', 'format_string', 'from_json', 'from_unixtime', 'from_utc_timestamp', 'functools', 'get_json_object', 'greatest', 'grouping', 'grouping_id', 'hash', 'hex', 'hour', 'hypot', 'ignore_unicode_prefix', 'initcap', 'input_file_name', 'instr', 'isnan', 'isnull', 'json_tuple', 'kurtosis', 'lag', 'last', 'last_day', 'lead', 'least', 'length', 'levenshtein', 'lit', 'locate', 'log', 'log10', 'log1p', 'log2', 'lower', 'lpad', 'ltrim', 'map_concat', 'map_from_arrays', 'map_from_entries', 'map_keys', 'map_values', 'max', 'md5', 'mean', 'min', 'minute', 'monotonically_increasing_id', 'month', 'months_between', 'nanvl', 'next_day', 'ntile', 'pandas_udf', 'percent_rank', 'posexplode', 'posexplode_outer', 'pow', 'quarter', 'radians', 'rand', 'randn', 'rank', 'regexp_extract', 'regexp_replace', 'repeat', 'reverse', 'rint', 'round', 'row_number', 'rpad', 'rtrim', 'schema_of_json', 'second', 'sequence', 'sha1', 'sha2', 'shiftLeft', 'shiftRight', 'shiftRightUnsigned', 'shuffle', 'signum', 'sin', 'since', 'sinh', 'size', 'skewness', 'slice', 'sort_array', 'soundex', 'spark_partition_id', 'split', 'sqrt', 'stddev', 'stddev_pop', 'stddev_samp', 'struct', 'substring', 'substring_index', 'sum', 'sumDistinct', 'sys', 'tan', 'tanh', 'toDegrees', 'toRadians', 'to_date', 'to_json', 'to_timestamp', 'to_utc_timestamp', 'translate', 'trim', 'trunc', 'udf', 'unbase64', 'unhex', 'unix_timestamp', 'upper', 'var_pop', 'var_samp', 'variance', 'warnings', 'weekofyear', 'when', 'window', 'year']\n"
          ]
        }
      ]
    },
    {
      "cell_type": "markdown",
      "metadata": {
        "id": "vV3T3ifFwFNs"
      },
      "source": [
        "É possível visualizar a descrição das funções a partir do help(<nome_funcao>)"
      ]
    },
    {
      "cell_type": "code",
      "metadata": {
        "id": "81F42QrOwL4P",
        "colab": {
          "base_uri": "https://localhost:8080/"
        },
        "outputId": "e8e9aca4-f708-495c-b51e-41655c6202a8"
      },
      "source": [
        "#visualizando a descrição da função lower\n",
        "from pyspark.sql.functions import lower\n",
        "help(lower)"
      ],
      "execution_count": null,
      "outputs": [
        {
          "output_type": "stream",
          "name": "stdout",
          "text": [
            "Help on function lower in module pyspark.sql.functions:\n",
            "\n",
            "lower(col)\n",
            "    Converts a string column to lower case.\n",
            "    \n",
            "    .. versionadded:: 1.5\n",
            "\n"
          ]
        }
      ]
    },
    {
      "cell_type": "code",
      "metadata": {
        "id": "pTwW1Mu8wlHB",
        "colab": {
          "base_uri": "https://localhost:8080/"
        },
        "outputId": "dddea30e-2090-4f2e-b4ef-d9327f9b3c56"
      },
      "source": [
        "## aplicando a função lower na coluna State\n",
        "from pyspark.sql.functions import col\n",
        "df.select(lower(col('State'))).show(5)"
      ],
      "execution_count": null,
      "outputs": [
        {
          "output_type": "stream",
          "name": "stdout",
          "text": [
            "+------------+\n",
            "|lower(State)|\n",
            "+------------+\n",
            "|          me|\n",
            "|          nh|\n",
            "|          hi|\n",
            "|          az|\n",
            "|          nv|\n",
            "+------------+\n",
            "only showing top 5 rows\n",
            "\n"
          ]
        }
      ]
    },
    {
      "cell_type": "code",
      "metadata": {
        "id": "S3k2ADEEyODs",
        "colab": {
          "base_uri": "https://localhost:8080/"
        },
        "outputId": "5f3326c1-2028-4231-80ef-2f0cd7213328"
      },
      "source": [
        "#visualizando o valor máximo e mínimo de uma coluna\n",
        "from pyspark.sql.functions import min, max\n",
        "\n",
        "df.select(min(col('Total day minutes')), \n",
        "          max(col('Total day minutes'))).show()"
      ],
      "execution_count": null,
      "outputs": [
        {
          "output_type": "stream",
          "name": "stdout",
          "text": [
            "+----------------------+----------------------+\n",
            "|min(Total day minutes)|max(Total day minutes)|\n",
            "+----------------------+----------------------+\n",
            "|                  25.9|                 334.3|\n",
            "+----------------------+----------------------+\n",
            "\n"
          ]
        }
      ]
    },
    {
      "cell_type": "markdown",
      "metadata": {
        "id": "KzOJ4siOzORg"
      },
      "source": [
        "Para gerar consultas SQL sobre o data frame, o Spark oferece a função createOrReplaceTempView, que permite criar uma view temporária, que será utilizada enquanto a sessão estiver ativa."
      ]
    },
    {
      "cell_type": "code",
      "metadata": {
        "id": "CZR9VMRaCpXB"
      },
      "source": [
        "#criando uma tabela temporária\n",
        "df.createOrReplaceTempView(\"temp\")"
      ],
      "execution_count": null,
      "outputs": []
    },
    {
      "cell_type": "code",
      "metadata": {
        "id": "yezp8xY1B4vR",
        "colab": {
          "base_uri": "https://localhost:8080/"
        },
        "outputId": "64e02141-c6e5-41e3-d1f3-4193984793f3"
      },
      "source": [
        "#criando uma consulta SQL\n",
        "states = sqlContext.sql(\"select distinct state as estado from temp\").show()"
      ],
      "execution_count": null,
      "outputs": [
        {
          "output_type": "stream",
          "name": "stdout",
          "text": [
            "+------+\n",
            "|estado|\n",
            "+------+\n",
            "|    AZ|\n",
            "|    SC|\n",
            "|    LA|\n",
            "|    MN|\n",
            "|    NJ|\n",
            "|    DC|\n",
            "|    OR|\n",
            "|    VA|\n",
            "|    RI|\n",
            "|    KY|\n",
            "|    WY|\n",
            "|    NH|\n",
            "|    MI|\n",
            "|    NV|\n",
            "|    WI|\n",
            "|    ID|\n",
            "|    CA|\n",
            "|    NE|\n",
            "|    CT|\n",
            "|    MT|\n",
            "+------+\n",
            "only showing top 20 rows\n",
            "\n"
          ]
        }
      ]
    },
    {
      "cell_type": "code",
      "metadata": {
        "colab": {
          "base_uri": "https://localhost:8080/"
        },
        "id": "ZgZruG4n0c5j",
        "outputId": "625c4bbf-018c-43e0-cfc7-3554f2022db9"
      },
      "source": [
        "#criando uma query para retornar os 5 primeirosregistros\n",
        "spark.sql(\"select * from temp limit 5\").show()"
      ],
      "execution_count": null,
      "outputs": [
        {
          "output_type": "stream",
          "name": "stdout",
          "text": [
            "+-----+-------+---------+------------------+---------------+-----------------+---------------+----------------+-----------------+---------------+----------------+-------------------+-----------------+------------------+------------------+----------------+-----------------+----------------------+-----+\n",
            "|State|Account|Area code|International plan|Voice mail plan|Total day minutes|Total day calls|Total day charge|Total eve minutes|Total eve calls|Total eve charge|Total night minutes|Total night calls|Total night charge|Total intl minutes|Total intl calls|Total intl charge|Customer service calls|Churn|\n",
            "+-----+-------+---------+------------------+---------------+-----------------+---------------+----------------+-----------------+---------------+----------------+-------------------+-----------------+------------------+------------------+----------------+-----------------+----------------------+-----+\n",
            "|   ME|     80|      408|                No|             No|            322.3|            113|           54.79|            222.0|             95|           18.87|              162.8|              123|              7.33|               6.7|               8|             1.81|                     0| true|\n",
            "|   NH|    155|      408|                No|             No|            216.7|             30|           36.84|            144.3|            125|           12.27|              135.3|              106|              6.09|              10.8|               1|             2.92|                     2|false|\n",
            "|   HI|    111|      408|                No|            Yes|            193.1|            104|           32.83|            111.6|             98|            9.49|              227.4|               94|             10.23|              12.1|               4|             3.27|                     1|false|\n",
            "|   AZ|     82|      415|                No|            Yes|            137.8|             95|           23.43|            235.5|            128|           20.02|              268.1|               70|             12.06|              11.0|               6|             2.97|                     2|false|\n",
            "|   NV|     64|      415|                No|             No|             97.2|             80|           16.52|            186.2|             90|           15.83|              189.0|               92|               8.5|              10.4|               6|             2.81|                     2|false|\n",
            "+-----+-------+---------+------------------+---------------+-----------------+---------------+----------------+-----------------+---------------+----------------+-------------------+-----------------+------------------+------------------+----------------+-----------------+----------------------+-----+\n",
            "\n"
          ]
        }
      ]
    },
    {
      "cell_type": "code",
      "metadata": {
        "colab": {
          "base_uri": "https://localhost:8080/"
        },
        "id": "HlPijRV6_KTo",
        "outputId": "8c1ae9a1-ceef-4cca-ba1f-98652a448621"
      },
      "source": [
        "#criando uma query para retornar apenas algumas colunas\n",
        "spark.sql(\"select State, `Total day minutes` from temp limit 5\").show()"
      ],
      "execution_count": null,
      "outputs": [
        {
          "output_type": "stream",
          "name": "stdout",
          "text": [
            "+-----+-----------------+\n",
            "|State|Total day minutes|\n",
            "+-----+-----------------+\n",
            "|   ME|            322.3|\n",
            "|   NH|            216.7|\n",
            "|   HI|            193.1|\n",
            "|   AZ|            137.8|\n",
            "|   NV|             97.2|\n",
            "+-----+-----------------+\n",
            "\n"
          ]
        }
      ]
    },
    {
      "cell_type": "code",
      "metadata": {
        "colab": {
          "base_uri": "https://localhost:8080/"
        },
        "id": "UuJfgSVFzn9D",
        "outputId": "0c7900d7-c25c-412a-88be-4621b9d3f836"
      },
      "source": [
        "#criando uma query para contar a quantidade de registros\n",
        "spark.sql(\"select count(*) from temp\").show()"
      ],
      "execution_count": null,
      "outputs": [
        {
          "output_type": "stream",
          "name": "stdout",
          "text": [
            "+--------+\n",
            "|count(1)|\n",
            "+--------+\n",
            "|     667|\n",
            "+--------+\n",
            "\n"
          ]
        }
      ]
    },
    {
      "cell_type": "code",
      "metadata": {
        "colab": {
          "base_uri": "https://localhost:8080/"
        },
        "id": "ehZK8XoQArnd",
        "outputId": "7f48919d-c45b-45af-e2c0-1b2cfd093bbe"
      },
      "source": [
        "#visualizando o plano de execução do Spark SQL\n",
        "spark.sql(\"explain select count(*) from temp\").show(truncate=False)"
      ],
      "execution_count": null,
      "outputs": [
        {
          "output_type": "stream",
          "name": "stdout",
          "text": [
            "+----------------------------------------------------------------------------------------------------------------------------------------------------------------------------------------------------------------------------------------------------------------------------------------------------------------------------------------------------------------------------------------------------------------------------------------------------------------------------------------------------------------------------------------------------------------------------------------------------------------------------------------------------------------------------------------------------------------------------------------------------------------------------------------------------------------------------------------------------------------------------------------------------------------------------------------------------------------------------------------------------------------------------------------------------------------------------------------------------------------------------------------------------------------------------------------------------------------------------------------------------------------------------------------------------------------------------------------------------------------------------------------------------------------------------------------------------------------------------------------------------------------------------------------------------------------------------------------------------------------------------------------------------------------------------------------------------------------------------------------------------------------------------------------------------------------------------------------------------------------------------------------------------------------------------------------------------------------------------------------------------------------------------------------------------------------------------------------------------------------------------------------------------------------------------------------------------------------------------------------------------------------------------------------------------+\n",
            "|plan                                                                                                                                                                                                                                                                                                                                                                                                                                                                                                                                                                                                                                                                                                                                                                                                                                                                                                                                                                                                                                                                                                                                                                                                                                                                                                                                                                                                                                                                                                                                                                                                                                                                                                                                                                                                                                                                                                                                                                                                                                                                                                                                                                                                                                                                                                |\n",
            "+----------------------------------------------------------------------------------------------------------------------------------------------------------------------------------------------------------------------------------------------------------------------------------------------------------------------------------------------------------------------------------------------------------------------------------------------------------------------------------------------------------------------------------------------------------------------------------------------------------------------------------------------------------------------------------------------------------------------------------------------------------------------------------------------------------------------------------------------------------------------------------------------------------------------------------------------------------------------------------------------------------------------------------------------------------------------------------------------------------------------------------------------------------------------------------------------------------------------------------------------------------------------------------------------------------------------------------------------------------------------------------------------------------------------------------------------------------------------------------------------------------------------------------------------------------------------------------------------------------------------------------------------------------------------------------------------------------------------------------------------------------------------------------------------------------------------------------------------------------------------------------------------------------------------------------------------------------------------------------------------------------------------------------------------------------------------------------------------------------------------------------------------------------------------------------------------------------------------------------------------------------------------------------------------------+\n",
            "|== Physical Plan ==\n",
            "*(3) HashAggregate(keys=[], functions=[count(1)])\n",
            "+- Exchange SinglePartition\n",
            "   +- *(2) HashAggregate(keys=[], functions=[partial_count(1)])\n",
            "      +- *(2) HashAggregate(keys=[Account length#11, Total day calls#17, Total day minutes#16, Area code#12, Voice mail plan#14, Total intl minutes#25, Total night minutes#22, Total eve charge#21, Number vmail messages#15, Total eve minutes#19, Total eve calls#20, Churn#29, Total night charge#24, International plan#13, Customer service calls#28, Total day charge#18, State#10, Total intl calls#26, Total intl charge#27, Total night calls#23], functions=[])\n",
            "         +- Exchange hashpartitioning(Account length#11, Total day calls#17, Total day minutes#16, Area code#12, Voice mail plan#14, Total intl minutes#25, Total night minutes#22, Total eve charge#21, Number vmail messages#15, Total eve minutes#19, Total eve calls#20, Churn#29, Total night charge#24, International plan#13, Customer service calls#28, Total day charge#18, State#10, Total intl calls#26, Total intl charge#27, Total night calls#23, 200)\n",
            "            +- *(1) HashAggregate(keys=[Account length#11, Total day calls#17, Total day minutes#16, Area code#12, Voice mail plan#14, Total intl minutes#25, Total night minutes#22, Total eve charge#21, Number vmail messages#15, Total eve minutes#19, Total eve calls#20, Churn#29, Total night charge#24, International plan#13, Customer service calls#28, Total day charge#18, State#10, Total intl calls#26, Total intl charge#27, Total night calls#23], functions=[])\n",
            "               +- *(1) FileScan csv [State#10,Account length#11,Area code#12,International plan#13,Voice mail plan#14,Number vmail messages#15,Total day minutes#16,Total day calls#17,Total day charge#18,Total eve minutes#19,Total eve calls#20,Total eve charge#21,Total night minutes#22,Total night calls#23,Total night charge#24,Total intl minutes#25,Total intl calls#26,Total intl charge#27,Customer service calls#28,Churn#29] Batched: false, Format: CSV, Location: InMemoryFileIndex[file:/content/churn-bigml-20.csv], PartitionFilters: [], PushedFilters: [], ReadSchema: struct<State:string,Account length:int,Area code:int,International plan:string,Voice mail plan:st...|\n",
            "+----------------------------------------------------------------------------------------------------------------------------------------------------------------------------------------------------------------------------------------------------------------------------------------------------------------------------------------------------------------------------------------------------------------------------------------------------------------------------------------------------------------------------------------------------------------------------------------------------------------------------------------------------------------------------------------------------------------------------------------------------------------------------------------------------------------------------------------------------------------------------------------------------------------------------------------------------------------------------------------------------------------------------------------------------------------------------------------------------------------------------------------------------------------------------------------------------------------------------------------------------------------------------------------------------------------------------------------------------------------------------------------------------------------------------------------------------------------------------------------------------------------------------------------------------------------------------------------------------------------------------------------------------------------------------------------------------------------------------------------------------------------------------------------------------------------------------------------------------------------------------------------------------------------------------------------------------------------------------------------------------------------------------------------------------------------------------------------------------------------------------------------------------------------------------------------------------------------------------------------------------------------------------------------------------+\n",
            "\n"
          ]
        }
      ]
    },
    {
      "cell_type": "markdown",
      "metadata": {
        "id": "X-3D_9z00KCw"
      },
      "source": [
        "Por fim, caso queira, você pode forçar a exclusão da tabela temporária."
      ]
    },
    {
      "cell_type": "code",
      "metadata": {
        "id": "jH_oJDggCdvV"
      },
      "source": [
        "#excluindo a tabela temporária\n",
        "sqlContext.dropTempTable(\"temp\")"
      ],
      "execution_count": null,
      "outputs": []
    },
    {
      "cell_type": "markdown",
      "metadata": {
        "id": "Ss_3MuACDCvX"
      },
      "source": [
        "Parabéns!!! Ao finalizar a execução desse notebook, você pode identificar como o Apache Spark pode ser utilizado a partir da linguagem Python. \n",
        "\n",
        "É importante lembrar que, embora a execução tenha sido realizada em modo local, o código não se altera ao realizar o processamento em modo distribuído (em um ambiente de cluster)."
      ]
    },
    {
      "cell_type": "markdown",
      "metadata": {
        "id": "rzI6qm5YGVdg"
      },
      "source": [
        "## Atividade prática"
      ]
    },
    {
      "cell_type": "markdown",
      "metadata": {
        "id": "K_Zp2VwKGbnG"
      },
      "source": [
        "A partir dos comandos apresentados, utilize o conhecimento adquirido e gere consultas para responder as seguintes questões:\n",
        "\n",
        "- Qual a média de chamadas por código de área? (Considere a variável total day calls)\n",
        "- Qual a média de minutos por código de área? (Considere a variável total day minutes)\n",
        "- Retorne todos os registros no qual o número de chamadas noturnas sejam menores que 55\n",
        "\n",
        "Tire um print dos comandos realizados e de suas respectivas saídas e envie o print na atividade criada no moodle."
      ]
    },
    {
      "cell_type": "code",
      "source": [
        "#Qual a média de chamadas por código de área? (Considere a variável total day calls)\n",
        "df.groupby('Area code').agg({'Total day calls': 'mean'}).show()"
      ],
      "metadata": {
        "colab": {
          "base_uri": "https://localhost:8080/"
        },
        "id": "N9ktSAWVXdCm",
        "outputId": "e820b09b-a66b-4b5b-cd42-59067c463206"
      },
      "execution_count": null,
      "outputs": [
        {
          "output_type": "stream",
          "name": "stdout",
          "text": [
            "+---------+--------------------+\n",
            "|Area code|avg(Total day calls)|\n",
            "+---------+--------------------+\n",
            "|      415|  101.92878338278932|\n",
            "|      510|  100.48447204968944|\n",
            "|      408|    99.3905325443787|\n",
            "+---------+--------------------+\n",
            "\n"
          ]
        }
      ]
    },
    {
      "cell_type": "code",
      "source": [
        "#Qual a média de minutos por código de área? (Considere a variável total day minutes)\n",
        "df.groupby('Area code').agg({'total day minutes': 'mean'}).show()"
      ],
      "metadata": {
        "colab": {
          "base_uri": "https://localhost:8080/"
        },
        "id": "RrLxzjWoXhCk",
        "outputId": "0a7a39a1-f0a3-441f-8ed9-afbf7a8d191c"
      },
      "execution_count": null,
      "outputs": [
        {
          "output_type": "stream",
          "name": "stdout",
          "text": [
            "+---------+----------------------+\n",
            "|Area code|avg(total day minutes)|\n",
            "+---------+----------------------+\n",
            "|      415|    181.42225519287825|\n",
            "|      510|    185.72484472049686|\n",
            "|      408|    175.45207100591716|\n",
            "+---------+----------------------+\n",
            "\n"
          ]
        }
      ]
    },
    {
      "cell_type": "code",
      "source": [
        "#Retorne todos os registros no qual o número de chamadas noturnas sejam menores que 55\n",
        "df.filter(df[\"Total night minutes\"] < 55).show()"
      ],
      "metadata": {
        "colab": {
          "base_uri": "https://localhost:8080/"
        },
        "id": "QE9B5rJsXhHE",
        "outputId": "78e7408f-58ef-4433-bbcd-dd1c1cf6cb5f"
      },
      "execution_count": null,
      "outputs": [
        {
          "output_type": "stream",
          "name": "stdout",
          "text": [
            "+-----+-------+---------+------------------+---------------+-----------------+---------------+----------------+-----------------+---------------+----------------+-------------------+-----------------+------------------+------------------+----------------+-----------------+----------------------+-----+\n",
            "|State|Account|Area code|International plan|Voice mail plan|Total day minutes|Total day calls|Total day charge|Total eve minutes|Total eve calls|Total eve charge|Total night minutes|Total night calls|Total night charge|Total intl minutes|Total intl calls|Total intl charge|Customer service calls|Churn|\n",
            "+-----+-------+---------+------------------+---------------+-----------------+---------------+----------------+-----------------+---------------+----------------+-------------------+-----------------+------------------+------------------+----------------+-----------------+----------------------+-----+\n",
            "|   AK|     76|      415|                No|            Yes|            160.1|            107|           27.22|            168.7|            136|           14.34|               23.2|              102|              1.04|               9.5|               4|             2.57|                     3|false|\n",
            "+-----+-------+---------+------------------+---------------+-----------------+---------------+----------------+-----------------+---------------+----------------+-------------------+-----------------+------------------+------------------+----------------+-----------------+----------------------+-----+\n",
            "\n"
          ]
        }
      ]
    }
  ]
}